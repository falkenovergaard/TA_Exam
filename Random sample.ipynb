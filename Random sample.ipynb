{
 "cells": [
  {
   "cell_type": "code",
   "execution_count": 8,
   "metadata": {},
   "outputs": [],
   "source": [
    "import pandas as pd\n",
    "import re\n",
    "import random"
   ]
  },
  {
   "cell_type": "code",
   "execution_count": 9,
   "metadata": {},
   "outputs": [],
   "source": [
    "df_bc = pd.read_excel('data/output/bitcoin.xlsx')\n",
    "df_dj = pd.read_excel('data/output/dowjones.xlsx')\n",
    "df_ts = pd.read_excel('data/output/tesla.xlsx')"
   ]
  },
  {
   "cell_type": "code",
   "execution_count": 10,
   "metadata": {},
   "outputs": [],
   "source": [
    "def random_sample (sample_size, df_1, df_2, df_3):\n",
    "\n",
    "    random_comments = []\n",
    "\n",
    "    x = 1\n",
    "    for i in range(sample_size):\n",
    "        if x == 1:\n",
    "            df = df_bc\n",
    "            x = 2\n",
    "        elif x == 2:\n",
    "            df = df_dj\n",
    "            x = 3\n",
    "        else:\n",
    "            df = df_ts\n",
    "            x = 1\n",
    "        comment = random.choice(df[\"updated_comment\"])\n",
    "        while comment in random_comments:\n",
    "            comment = random.choice(df[\"updated_comment\"])\n",
    "        random_comments.append(comment)\n",
    "\n",
    "        df = pd.DataFrame(random_comments)\n",
    "        export_xlsx = df.to_excel ('data/labeled_data/all sample comments.xlsx', index = None, header=True)"
   ]
  },
  {
   "cell_type": "code",
   "execution_count": 11,
   "metadata": {},
   "outputs": [],
   "source": [
    "random_sample(1000, df_bc, df_dj, df_ts)"
   ]
  },
  {
   "cell_type": "code",
   "execution_count": null,
   "metadata": {},
   "outputs": [],
   "source": []
  }
 ],
 "metadata": {
  "kernelspec": {
   "display_name": "Python 3",
   "language": "python",
   "name": "python3"
  },
  "language_info": {
   "codemirror_mode": {
    "name": "ipython",
    "version": 3
   },
   "file_extension": ".py",
   "mimetype": "text/x-python",
   "name": "python",
   "nbconvert_exporter": "python",
   "pygments_lexer": "ipython3",
   "version": "3.6.5"
  }
 },
 "nbformat": 4,
 "nbformat_minor": 2
}
