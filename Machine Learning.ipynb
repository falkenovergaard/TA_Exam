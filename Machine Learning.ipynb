{
 "cells": [
  {
   "cell_type": "code",
   "execution_count": 42,
   "metadata": {},
   "outputs": [],
   "source": [
    "import pandas as pd\n",
    "df = pd.read_csv('aske-test.csv')\n",
    "df.columns = ['comment']"
   ]
  },
  {
   "cell_type": "code",
   "execution_count": 43,
   "metadata": {},
   "outputs": [],
   "source": [
    "import re\n",
    "\n",
    "def clean_data(df):\n",
    "    df['comment'] = df['comment'].apply(lambda x: re.sub('http://\\S+|https://\\S+', '', x))\n",
    "    df['comment'] = df['comment'].apply(lambda x: re.sub(\"\\d+\", \" \", x))\n",
    "    df['comment'] = df['comment'].apply(lambda x: re.sub(\"\\d+\", \" \", x))\n",
    "    return df\n",
    "    \n",
    "df = clean_data(df)"
   ]
  },
  {
   "cell_type": "code",
   "execution_count": 44,
   "metadata": {},
   "outputs": [
    {
     "data": {
      "text/html": [
       "<div>\n",
       "<style scoped>\n",
       "    .dataframe tbody tr th:only-of-type {\n",
       "        vertical-align: middle;\n",
       "    }\n",
       "\n",
       "    .dataframe tbody tr th {\n",
       "        vertical-align: top;\n",
       "    }\n",
       "\n",
       "    .dataframe thead th {\n",
       "        text-align: right;\n",
       "    }\n",
       "</style>\n",
       "<table border=\"1\" class=\"dataframe\">\n",
       "  <thead>\n",
       "    <tr style=\"text-align: right;\">\n",
       "      <th></th>\n",
       "      <th>comment</th>\n",
       "    </tr>\n",
       "  </thead>\n",
       "  <tbody>\n",
       "    <tr>\n",
       "      <th>0</th>\n",
       "      <td>thats what bulls have been saying since  [PESS...</td>\n",
       "    </tr>\n",
       "    <tr>\n",
       "      <th>1</th>\n",
       "      <td>Hello guys, does anyone here use IG markets? H...</td>\n",
       "    </tr>\n",
       "    <tr>\n",
       "      <th>2</th>\n",
       "      <td>7 Year Olds Hand pinned by Falcon Wing Door Su...</td>\n",
       "    </tr>\n",
       "    <tr>\n",
       "      <th>3</th>\n",
       "      <td>Its the time to breka . Now or never, really g...</td>\n",
       "    </tr>\n",
       "    <tr>\n",
       "      <th>4</th>\n",
       "      <td>the world economy will be the th and final one...</td>\n",
       "    </tr>\n",
       "    <tr>\n",
       "      <th>5</th>\n",
       "      <td>coming Q will be extremely strong for Ford. ex...</td>\n",
       "    </tr>\n",
       "    <tr>\n",
       "      <th>6</th>\n",
       "      <td>It's worst than in  [PESSIMISTICVALUE] \\r\\n;;;;</td>\n",
       "    </tr>\n",
       "    <tr>\n",
       "      <th>7</th>\n",
       "      <td>You can see this is a joke right? I can smell ...</td>\n",
       "    </tr>\n",
       "    <tr>\n",
       "      <th>8</th>\n",
       "      <td>my bear case was that it touches  and falls, a...</td>\n",
       "    </tr>\n",
       "    <tr>\n",
       "      <th>9</th>\n",
       "      <td>-1% distance to re-entering downward channel. ...</td>\n",
       "    </tr>\n",
       "    <tr>\n",
       "      <th>10</th>\n",
       "      <td>\\n\\n;;;;</td>\n",
       "    </tr>\n",
       "    <tr>\n",
       "      <th>11</th>\n",
       "      <td>$50 stock at best.\\r\\n;;;;</td>\n",
       "    </tr>\n",
       "    <tr>\n",
       "      <th>12</th>\n",
       "      <td>Opened position @ [OPTIMISTICVALUE] . Target K...</td>\n",
       "    </tr>\n",
       "    <tr>\n",
       "      <th>13</th>\n",
       "      <td>Yes, hope and prayer.\\r\\n;;;;</td>\n",
       "    </tr>\n",
       "    <tr>\n",
       "      <th>14</th>\n",
       "      <td>Where is the fiat money going to be reflected ...</td>\n",
       "    </tr>\n",
       "  </tbody>\n",
       "</table>\n",
       "</div>"
      ],
      "text/plain": [
       "                                              comment\n",
       "0   thats what bulls have been saying since  [PESS...\n",
       "1   Hello guys, does anyone here use IG markets? H...\n",
       "2   7 Year Olds Hand pinned by Falcon Wing Door Su...\n",
       "3   Its the time to breka . Now or never, really g...\n",
       "4   the world economy will be the th and final one...\n",
       "5   coming Q will be extremely strong for Ford. ex...\n",
       "6     It's worst than in  [PESSIMISTICVALUE] \\r\\n;;;;\n",
       "7   You can see this is a joke right? I can smell ...\n",
       "8   my bear case was that it touches  and falls, a...\n",
       "9   -1% distance to re-entering downward channel. ...\n",
       "10                                           \\n\\n;;;;\n",
       "11                         $50 stock at best.\\r\\n;;;;\n",
       "12  Opened position @ [OPTIMISTICVALUE] . Target K...\n",
       "13                      Yes, hope and prayer.\\r\\n;;;;\n",
       "14  Where is the fiat money going to be reflected ..."
      ]
     },
     "execution_count": 44,
     "metadata": {},
     "output_type": "execute_result"
    }
   ],
   "source": [
    "df.head(15)"
   ]
  },
  {
   "cell_type": "code",
   "execution_count": null,
   "metadata": {},
   "outputs": [],
   "source": []
  }
 ],
 "metadata": {
  "kernelspec": {
   "display_name": "Python 3",
   "language": "python",
   "name": "python3"
  },
  "language_info": {
   "codemirror_mode": {
    "name": "ipython",
    "version": 3
   },
   "file_extension": ".py",
   "mimetype": "text/x-python",
   "name": "python",
   "nbconvert_exporter": "python",
   "pygments_lexer": "ipython3",
   "version": "3.6.5"
  }
 },
 "nbformat": 4,
 "nbformat_minor": 2
}
