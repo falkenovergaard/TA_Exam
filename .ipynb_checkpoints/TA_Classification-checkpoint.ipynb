{
 "cells": [
  {
   "cell_type": "code",
   "execution_count": 35,
   "metadata": {},
   "outputs": [],
   "source": [
    "import pandas as pd\n",
    "from sklearn.feature_extraction.text import CountVectorizer\n",
    "from sklearn.feature_extraction.text import TfidfVectorizer\n",
    "from sklearn.feature_extraction.text import TfidfTransformer\n",
    "from sklearn.model_selection import train_test_split\n",
    "from sklearn.naive_bayes import MultinomialNB\n",
    "from sklearn.metrics import accuracy_score, f1_score\n",
    "from sklearn.linear_model import LogisticRegression\n",
    "from sklearn import svm"
   ]
  },
  {
   "cell_type": "code",
   "execution_count": 36,
   "metadata": {},
   "outputs": [],
   "source": [
    "df_pos = pd.read_excel('data/output/clean_handlabeled_data.xlsx')\n",
    "df_neg = pd.read_excel('data/output/clean_handlabeled_data.xlsx')"
   ]
  },
  {
   "cell_type": "markdown",
   "metadata": {},
   "source": [
    "Raghava"
   ]
  },
  {
   "cell_type": "code",
   "execution_count": 37,
   "metadata": {},
   "outputs": [],
   "source": [
    "df_bit = pd.read_excel(\"data/output/clean_bit_data.xlsx\") \n",
    "df_ts = pd.read_excel(\"data/output/clean_tesla_data.xlsx\") \n",
    "df_dj = pd.read_excel(\"data/output/clean_dowjones_data.xlsx\") "
   ]
  },
  {
   "cell_type": "code",
   "execution_count": 38,
   "metadata": {},
   "outputs": [],
   "source": [
    "df_bit = df_bit[pd.notnull(df_bit['COMMENT'])]\n",
    "df_ts = df_ts[pd.notnull(df_ts['COMMENT'])]\n",
    "df_dj = df_dj[pd.notnull(df_dj['COMMENT'])]\n",
    "\n",
    "df_pos = df_pos[pd.notnull(df_pos['LABEL'])]\n",
    "df_neg = df_neg[pd.notnull(df_neg['LABEL'])]"
   ]
  },
  {
   "cell_type": "code",
   "execution_count": 39,
   "metadata": {},
   "outputs": [
    {
     "data": {
      "text/html": [
       "<div>\n",
       "<style scoped>\n",
       "    .dataframe tbody tr th:only-of-type {\n",
       "        vertical-align: middle;\n",
       "    }\n",
       "\n",
       "    .dataframe tbody tr th {\n",
       "        vertical-align: top;\n",
       "    }\n",
       "\n",
       "    .dataframe thead th {\n",
       "        text-align: right;\n",
       "    }\n",
       "</style>\n",
       "<table border=\"1\" class=\"dataframe\">\n",
       "  <thead>\n",
       "    <tr style=\"text-align: right;\">\n",
       "      <th></th>\n",
       "      <th>date</th>\n",
       "      <th>COMMENT</th>\n",
       "      <th>LABEL</th>\n",
       "    </tr>\n",
       "  </thead>\n",
       "  <tbody>\n",
       "    <tr>\n",
       "      <th>0</th>\n",
       "      <td>04-05-19</td>\n",
       "      <td>hold, optimisticvalue, becomes, distinct, poss...</td>\n",
       "      <td>NaN</td>\n",
       "    </tr>\n",
       "    <tr>\n",
       "      <th>1</th>\n",
       "      <td>04-05-19</td>\n",
       "      <td>thumb, nasty, bear, love, get, spank, cryptoland</td>\n",
       "      <td>NaN</td>\n",
       "    </tr>\n",
       "    <tr>\n",
       "      <th>2</th>\n",
       "      <td>04-05-19</td>\n",
       "      <td>mysterious, crypto, whale, unveils, meteoric, ...</td>\n",
       "      <td>NaN</td>\n",
       "    </tr>\n",
       "    <tr>\n",
       "      <th>3</th>\n",
       "      <td>04-05-19</td>\n",
       "      <td>probably, pessimisticvalue, monday</td>\n",
       "      <td>NaN</td>\n",
       "    </tr>\n",
       "    <tr>\n",
       "      <th>4</th>\n",
       "      <td>04-05-19</td>\n",
       "      <td>short, btc, maßsive, profit</td>\n",
       "      <td>NaN</td>\n",
       "    </tr>\n",
       "  </tbody>\n",
       "</table>\n",
       "</div>"
      ],
      "text/plain": [
       "       date                                            COMMENT  LABEL\n",
       "0  04-05-19  hold, optimisticvalue, becomes, distinct, poss...    NaN\n",
       "1  04-05-19   thumb, nasty, bear, love, get, spank, cryptoland    NaN\n",
       "2  04-05-19  mysterious, crypto, whale, unveils, meteoric, ...    NaN\n",
       "3  04-05-19                 probably, pessimisticvalue, monday    NaN\n",
       "4  04-05-19                        short, btc, maßsive, profit    NaN"
      ]
     },
     "execution_count": 39,
     "metadata": {},
     "output_type": "execute_result"
    }
   ],
   "source": [
    "df_bit.head()"
   ]
  },
  {
   "cell_type": "markdown",
   "metadata": {},
   "source": [
    "## Classifier"
   ]
  },
  {
   "cell_type": "code",
   "execution_count": 40,
   "metadata": {},
   "outputs": [],
   "source": [
    "df_pos['LABEL'] = df_pos['LABEL'].map({'NEU':'POS','POS':'POS','NEG':'NEG'})"
   ]
  },
  {
   "cell_type": "code",
   "execution_count": 41,
   "metadata": {},
   "outputs": [
    {
     "data": {
      "text/html": [
       "<div>\n",
       "<style scoped>\n",
       "    .dataframe tbody tr th:only-of-type {\n",
       "        vertical-align: middle;\n",
       "    }\n",
       "\n",
       "    .dataframe tbody tr th {\n",
       "        vertical-align: top;\n",
       "    }\n",
       "\n",
       "    .dataframe thead th {\n",
       "        text-align: right;\n",
       "    }\n",
       "</style>\n",
       "<table border=\"1\" class=\"dataframe\">\n",
       "  <thead>\n",
       "    <tr style=\"text-align: right;\">\n",
       "      <th></th>\n",
       "      <th>COMMENT</th>\n",
       "      <th>LABEL</th>\n",
       "    </tr>\n",
       "  </thead>\n",
       "  <tbody>\n",
       "    <tr>\n",
       "      <th>0</th>\n",
       "      <td>thats, bull, say, since, pessimisticvalue, k, ...</td>\n",
       "      <td>NEG</td>\n",
       "    </tr>\n",
       "    <tr>\n",
       "      <th>1</th>\n",
       "      <td>hello, guy, anyone, use, ig, market, issue, pl...</td>\n",
       "      <td>POS</td>\n",
       "    </tr>\n",
       "    <tr>\n",
       "      <th>2</th>\n",
       "      <td>year, old, hand, pin, falcon, wing, door, subm...</td>\n",
       "      <td>POS</td>\n",
       "    </tr>\n",
       "    <tr>\n",
       "      <th>3</th>\n",
       "      <td>time, breka, never, really, guys</td>\n",
       "      <td>NEG</td>\n",
       "    </tr>\n",
       "    <tr>\n",
       "      <th>4</th>\n",
       "      <td>world, economy, th, final, one, trump, bankruptcy</td>\n",
       "      <td>NEG</td>\n",
       "    </tr>\n",
       "  </tbody>\n",
       "</table>\n",
       "</div>"
      ],
      "text/plain": [
       "                                             COMMENT LABEL\n",
       "0  thats, bull, say, since, pessimisticvalue, k, ...   NEG\n",
       "1  hello, guy, anyone, use, ig, market, issue, pl...   POS\n",
       "2  year, old, hand, pin, falcon, wing, door, subm...   POS\n",
       "3                   time, breka, never, really, guys   NEG\n",
       "4  world, economy, th, final, one, trump, bankruptcy   NEG"
      ]
     },
     "execution_count": 41,
     "metadata": {},
     "output_type": "execute_result"
    }
   ],
   "source": [
    "df_pos.head()"
   ]
  },
  {
   "cell_type": "code",
   "execution_count": 42,
   "metadata": {},
   "outputs": [],
   "source": [
    "df_neg['LABEL'] = df_neg['LABEL'].map({'NEU':'NEG','POS':'POS','NEG':'NEG'})"
   ]
  },
  {
   "cell_type": "code",
   "execution_count": 43,
   "metadata": {},
   "outputs": [
    {
     "data": {
      "text/html": [
       "<div>\n",
       "<style scoped>\n",
       "    .dataframe tbody tr th:only-of-type {\n",
       "        vertical-align: middle;\n",
       "    }\n",
       "\n",
       "    .dataframe tbody tr th {\n",
       "        vertical-align: top;\n",
       "    }\n",
       "\n",
       "    .dataframe thead th {\n",
       "        text-align: right;\n",
       "    }\n",
       "</style>\n",
       "<table border=\"1\" class=\"dataframe\">\n",
       "  <thead>\n",
       "    <tr style=\"text-align: right;\">\n",
       "      <th></th>\n",
       "      <th>COMMENT</th>\n",
       "      <th>LABEL</th>\n",
       "    </tr>\n",
       "  </thead>\n",
       "  <tbody>\n",
       "    <tr>\n",
       "      <th>0</th>\n",
       "      <td>thats, bull, say, since, pessimisticvalue, k, ...</td>\n",
       "      <td>NEG</td>\n",
       "    </tr>\n",
       "    <tr>\n",
       "      <th>1</th>\n",
       "      <td>hello, guy, anyone, use, ig, market, issue, pl...</td>\n",
       "      <td>NEG</td>\n",
       "    </tr>\n",
       "    <tr>\n",
       "      <th>2</th>\n",
       "      <td>year, old, hand, pin, falcon, wing, door, subm...</td>\n",
       "      <td>NEG</td>\n",
       "    </tr>\n",
       "    <tr>\n",
       "      <th>3</th>\n",
       "      <td>time, breka, never, really, guys</td>\n",
       "      <td>NEG</td>\n",
       "    </tr>\n",
       "    <tr>\n",
       "      <th>4</th>\n",
       "      <td>world, economy, th, final, one, trump, bankruptcy</td>\n",
       "      <td>NEG</td>\n",
       "    </tr>\n",
       "  </tbody>\n",
       "</table>\n",
       "</div>"
      ],
      "text/plain": [
       "                                             COMMENT LABEL\n",
       "0  thats, bull, say, since, pessimisticvalue, k, ...   NEG\n",
       "1  hello, guy, anyone, use, ig, market, issue, pl...   NEG\n",
       "2  year, old, hand, pin, falcon, wing, door, subm...   NEG\n",
       "3                   time, breka, never, really, guys   NEG\n",
       "4  world, economy, th, final, one, trump, bankruptcy   NEG"
      ]
     },
     "execution_count": 43,
     "metadata": {},
     "output_type": "execute_result"
    }
   ],
   "source": [
    "df_neg.head()"
   ]
  },
  {
   "cell_type": "code",
   "execution_count": 44,
   "metadata": {},
   "outputs": [],
   "source": [
    "def classifier(clf,strat,vec,df):\n",
    "    \n",
    "    y = df['LABEL'].astype(str)\n",
    "    X = df.COMMENT.astype(str)\n",
    "    #y = pd.get_dummies(y)\n",
    "    \n",
    "    if vec == \"cv\":\n",
    "        count = CountVectorizer()\n",
    "    elif vec == \"tdidf\":\n",
    "        count = TfidfVectorizer(binary=True, ngram_range=(1,1), use_idf=False)\n",
    "    \n",
    "    if strat == \"y\":\n",
    "        X_train, X_test, y_train, y_test = train_test_split(X, y, test_size=0.2,random_state=42)\n",
    "        X_train_counts = count.fit_transform(X_train)\n",
    "\n",
    "        X_test_counts = count.transform(X_test)\n",
    "\n",
    "        \n",
    "    elif strat == \"n\":\n",
    "        X_train, X_test, y_train, y_test = train_test_split(X, y, test_size=0.2) \n",
    "        X_train_counts = count.fit_transform(X_train)\n",
    "        X_test_counts = count.transform(X_test)\n",
    "\n",
    "    \n",
    "    if clf == \"lr\":\n",
    "        clf = LogisticRegression(solver=\"newton-cg\",C=1).fit(X_train_counts, y_train)\n",
    "        #clf = LogisticRegression(C=0.4).fit(X_train_counts, y_train)\n",
    "        \n",
    "    elif clf == \"mnb\":\n",
    "        clf = MultinomialNB().fit(X_train_counts, y_train)\n",
    "        \n",
    "    \n",
    "    elif clf == \"svm\":\n",
    "        clf = svm.SVC(kernel='linear').fit(X_train_counts, y_train)\n",
    "\n",
    "    yPred = clf.predict(X_test_counts)\n",
    "    yPred_log = clf.predict_proba(X_test_counts)\n",
    "    \n",
    "    list_ = list(zip(yPred, X_test))\n",
    "    \n",
    "    acc=accuracy_score(y_test,yPred)\n",
    "    f1=f1_score(y_test,yPred, average='weighted')\n",
    "\n",
    "    return clf, count,\"Accuracy: %s\" % acc, \"F1 %s\" % f1, list_, yPred_log"
   ]
  },
  {
   "cell_type": "code",
   "execution_count": 45,
   "metadata": {},
   "outputs": [],
   "source": [
    "result_hl_neg=classifier(\"lr\",\"y\",\"cv\",df_neg)\n",
    "result_hl_pos=classifier(\"lr\",\"y\",\"cv\",df_pos)\n",
    "\n",
    "#df_result_hl = pd.DataFrame(result_hl[4], columns = ['Predicted_label', 'Comment'])"
   ]
  },
  {
   "cell_type": "markdown",
   "metadata": {},
   "source": [
    "## Results for neutral mapped to negative"
   ]
  },
  {
   "cell_type": "code",
   "execution_count": 46,
   "metadata": {},
   "outputs": [
    {
     "data": {
      "text/plain": [
       "array(['NEG', 'POS'], dtype=object)"
      ]
     },
     "execution_count": 46,
     "metadata": {},
     "output_type": "execute_result"
    }
   ],
   "source": [
    "result_hl_neg[0].classes_"
   ]
  },
  {
   "cell_type": "code",
   "execution_count": 47,
   "metadata": {},
   "outputs": [],
   "source": [
    "feature_to_coef_hl_neg = {\n",
    "    word: coef for word, coef in zip(\n",
    "        result_hl_neg[1].get_feature_names(), result_hl_neg[0].coef_[0]\n",
    "    )    \n",
    "}"
   ]
  },
  {
   "cell_type": "code",
   "execution_count": 48,
   "metadata": {},
   "outputs": [
    {
     "name": "stdout",
     "output_type": "stream",
     "text": [
      "('optimisticvalue', 2.7145083657692686)\n",
      "('come', 1.0961292733510961)\n",
      "('hold', 1.0679674196517166)\n",
      "('buy', 1.020816268033973)\n",
      "('buying', 1.0034098955937554)\n",
      "('good', 0.9735780649735009)\n",
      "('firework', 0.9372279254387231)\n",
      "('beautiful', 0.8973338073038175)\n",
      "('cover', 0.8602513609399144)\n",
      "('dip', 0.8460447827944467)\n"
     ]
    }
   ],
   "source": [
    "for best_positive in sorted(\n",
    "    feature_to_coef_hl_neg.items(), \n",
    "    key=lambda x: x[1], reverse=True, \n",
    "    )[:10]:\n",
    "    print (best_positive)"
   ]
  },
  {
   "cell_type": "code",
   "execution_count": 49,
   "metadata": {},
   "outputs": [
    {
     "name": "stdout",
     "output_type": "stream",
     "text": [
      "('know', -1.2924863501103778)\n",
      "('sell', -1.1280357824214031)\n",
      "('need', -1.0824113562979611)\n",
      "('yet', -0.9119875769924252)\n",
      "('one', -0.8789857629010837)\n",
      "('many', -0.8503359114696245)\n",
      "('take', -0.8414034901100296)\n",
      "('last', -0.7755707766791274)\n",
      "('low', -0.7696253755937699)\n",
      "('try', -0.7666984086650084)\n"
     ]
    }
   ],
   "source": [
    "for best_negative in sorted(\n",
    "    feature_to_coef_hl_neg.items(), \n",
    "    key=lambda x: x[1] \n",
    "    )[:10]:\n",
    "    print (best_negative)"
   ]
  },
  {
   "cell_type": "markdown",
   "metadata": {},
   "source": [
    "## Results for neutral mapped to positive"
   ]
  },
  {
   "cell_type": "code",
   "execution_count": 50,
   "metadata": {},
   "outputs": [],
   "source": [
    "feature_to_coef_hl_pos = {\n",
    "    word: coef for word, coef in zip(\n",
    "        result_hl_pos[1].get_feature_names(), result_hl_pos[0].coef_[0]\n",
    "    )    \n",
    "}"
   ]
  },
  {
   "cell_type": "code",
   "execution_count": 51,
   "metadata": {},
   "outputs": [
    {
     "name": "stdout",
     "output_type": "stream",
     "text": [
      "('optimisticvalue', 1.1752182609415582)\n",
      "('nan', 1.144959760135993)\n",
      "('kumar', 1.0153703684787325)\n",
      "('lol', 0.9835062943025485)\n",
      "('hold', 0.9523235134991022)\n",
      "('long', 0.925757224616499)\n",
      "('guy', 0.9128486155419003)\n",
      "('put', 0.9093551587611052)\n",
      "('buy', 0.8233909258223885)\n",
      "('eth', 0.8156784356697819)\n"
     ]
    }
   ],
   "source": [
    "for best_positive in sorted(\n",
    "    feature_to_coef_hl_pos.items(), \n",
    "    key=lambda x: x[1], reverse=True, \n",
    "    )[:10]:\n",
    "    print (best_positive)"
   ]
  },
  {
   "cell_type": "code",
   "execution_count": 52,
   "metadata": {},
   "outputs": [
    {
     "name": "stdout",
     "output_type": "stream",
     "text": [
      "('pessimisticvalue', -1.4407768537093855)\n",
      "('level', -1.4056787681052145)\n",
      "('fall', -1.096170520728939)\n",
      "('bankruptcy', -1.0550437533775)\n",
      "('sell', -1.0222387335352676)\n",
      "('low', -1.0218587162027533)\n",
      "('warn', -1.0120960520803493)\n",
      "('without', -0.8520663845938539)\n",
      "('investor', -0.8412913566162127)\n",
      "('way', -0.8289507796724974)\n"
     ]
    }
   ],
   "source": [
    "for best_negative in sorted(\n",
    "    feature_to_coef_hl_pos.items(), \n",
    "    key=lambda x: x[1] \n",
    "    )[:10]:\n",
    "    print (best_negative)"
   ]
  },
  {
   "cell_type": "code",
   "execution_count": null,
   "metadata": {},
   "outputs": [],
   "source": []
  },
  {
   "cell_type": "markdown",
   "metadata": {},
   "source": [
    "## Labeling new comments\n"
   ]
  },
  {
   "cell_type": "code",
   "execution_count": 53,
   "metadata": {},
   "outputs": [],
   "source": [
    "def assign_coef(comment, feature):\n",
    "        comment = comment.split(', ')\n",
    "        #print(comment)\n",
    "        coef = []\n",
    "        for word in comment:\n",
    "            for w,c in feature.items():\n",
    "                if w == word:\n",
    "                    coef.append(c)\n",
    "        return sum(coef)\n",
    "\n",
    "\n",
    "def get_sentiment(compound_score):\n",
    "    if compound_score > 0:\n",
    "        return 1\n",
    "    else:\n",
    "        return 0\n",
    "\n",
    "\n",
    "def add_label(df, feature):\n",
    "    \n",
    "    df['COEF'] = df['COMMENT'].apply(lambda x: assign_coef(x,feature))\n",
    "    df['LABEL'] = df['COEF'].apply(lambda x: get_sentiment(x))\n",
    "    \n",
    "    return df"
   ]
  },
  {
   "cell_type": "markdown",
   "metadata": {},
   "source": [
    "## BITCOIN"
   ]
  },
  {
   "cell_type": "code",
   "execution_count": 61,
   "metadata": {},
   "outputs": [],
   "source": [
    "df_bitlabeled_pos=add_label(df_bit, feature_to_coef_hl_pos)\n"
   ]
  },
  {
   "cell_type": "code",
   "execution_count": null,
   "metadata": {},
   "outputs": [],
   "source": [
    "df_bitlabeled_pos['LABEL'].value_counts()"
   ]
  },
  {
   "cell_type": "code",
   "execution_count": null,
   "metadata": {},
   "outputs": [],
   "source": []
  },
  {
   "cell_type": "code",
   "execution_count": null,
   "metadata": {},
   "outputs": [],
   "source": []
  },
  {
   "cell_type": "code",
   "execution_count": 62,
   "metadata": {},
   "outputs": [],
   "source": [
    "df_bitlabeled_pos.to_excel(\"ML_Data/bit_classified_pos.xlsx\", sheet_name='Sheet_1') \n",
    "df_bitlabeled_neg.to_excel(\"ML_Data/bit_classified_neg.xlsx\", sheet_name='Sheet_1') "
   ]
  },
  {
   "cell_type": "code",
   "execution_count": 63,
   "metadata": {},
   "outputs": [],
   "source": [
    "result_bit_pos=classifier(\"lr\",\"y\",\"cv\",df_bitlabeled_pos)"
   ]
  },
  {
   "cell_type": "code",
   "execution_count": 84,
   "metadata": {},
   "outputs": [
    {
     "data": {
      "text/plain": [
       "('Accuracy: 0.943134229667181', 'F1 0.9430249965665214')"
      ]
     },
     "execution_count": 84,
     "metadata": {},
     "output_type": "execute_result"
    }
   ],
   "source": [
    "result_bit_pos[2:4]"
   ]
  },
  {
   "cell_type": "code",
   "execution_count": 64,
   "metadata": {},
   "outputs": [],
   "source": [
    "result_bit_neg=classifier(\"lr\",\"y\",\"cv\",df_bitlabeled_pos)"
   ]
  },
  {
   "cell_type": "code",
   "execution_count": 85,
   "metadata": {},
   "outputs": [
    {
     "data": {
      "text/plain": [
       "('Accuracy: 0.9519506281683933', 'F1 0.9519027405085999')"
      ]
     },
     "execution_count": 85,
     "metadata": {},
     "output_type": "execute_result"
    }
   ],
   "source": [
    "result_bit_neg[2:4]"
   ]
  },
  {
   "cell_type": "code",
   "execution_count": null,
   "metadata": {},
   "outputs": [],
   "source": []
  },
  {
   "cell_type": "code",
   "execution_count": null,
   "metadata": {},
   "outputs": [],
   "source": []
  },
  {
   "cell_type": "code",
   "execution_count": 93,
   "metadata": {},
   "outputs": [],
   "source": [
    "df_bitlabeled_neg=add_label(df_bit, feature_to_coef_hl_neg)"
   ]
  },
  {
   "cell_type": "code",
   "execution_count": null,
   "metadata": {},
   "outputs": [],
   "source": [
    "df_bitlabeled_neg['LABEL'].value_counts()"
   ]
  },
  {
   "cell_type": "markdown",
   "metadata": {},
   "source": [
    "### Bitcoin result mapped, neutral mapped to positive"
   ]
  },
  {
   "cell_type": "code",
   "execution_count": 67,
   "metadata": {},
   "outputs": [],
   "source": [
    "feature_to_coef_bit_pos = {\n",
    "    word: coef for word, coef in zip(\n",
    "        result_bit_pos[1].get_feature_names(), result_bit_pos[0].coef_[0]\n",
    "    )    \n",
    "}"
   ]
  },
  {
   "cell_type": "code",
   "execution_count": 68,
   "metadata": {},
   "outputs": [
    {
     "name": "stdout",
     "output_type": "stream",
     "text": [
      "('optimisticvalue', 10.448498174869902)\n",
      "('come', 5.5309449643145845)\n",
      "('buy', 5.3025002942963075)\n",
      "('hold', 4.9594003005378084)\n",
      "('good', 4.946538698795578)\n",
      "('buying', 4.349338440048048)\n",
      "('bitcoin', 4.070501625769858)\n",
      "('close', 3.898465854725408)\n",
      "('cover', 3.831341516367673)\n",
      "('soon', 3.624530194450121)\n"
     ]
    }
   ],
   "source": [
    "for best_positive in sorted(\n",
    "    feature_to_coef_bit_pos.items(), \n",
    "    key=lambda x: x[1], reverse=True, \n",
    "    )[:10]:\n",
    "    print (best_positive)"
   ]
  },
  {
   "cell_type": "code",
   "execution_count": 69,
   "metadata": {},
   "outputs": [
    {
     "name": "stdout",
     "output_type": "stream",
     "text": [
      "('know', -5.64748413706954)\n",
      "('sell', -5.631504469423946)\n",
      "('need', -4.644676866110371)\n",
      "('take', -4.043689807135337)\n",
      "('try', -4.0315031929983505)\n",
      "('one', -4.024366196233891)\n",
      "('many', -3.986269912720603)\n",
      "('yet', -3.9645309734836274)\n",
      "('last', -3.75212645617468)\n",
      "('low', -3.5909646603354712)\n"
     ]
    }
   ],
   "source": [
    "for best_negative in sorted(\n",
    "    feature_to_coef_bit_pos.items(), \n",
    "    key=lambda x: x[1] \n",
    "    )[:10]:\n",
    "    print (best_negative)"
   ]
  },
  {
   "cell_type": "markdown",
   "metadata": {},
   "source": [
    "## Tesla"
   ]
  },
  {
   "cell_type": "code",
   "execution_count": 70,
   "metadata": {},
   "outputs": [],
   "source": [
    "df_teslabeled_pos=add_label(df_ts, feature_to_coef_hl_pos)\n",
    "df_teslabeled_neg=add_label(df_ts, feature_to_coef_hl_neg)"
   ]
  },
  {
   "cell_type": "code",
   "execution_count": 71,
   "metadata": {},
   "outputs": [
    {
     "data": {
      "text/html": [
       "<div>\n",
       "<style scoped>\n",
       "    .dataframe tbody tr th:only-of-type {\n",
       "        vertical-align: middle;\n",
       "    }\n",
       "\n",
       "    .dataframe tbody tr th {\n",
       "        vertical-align: top;\n",
       "    }\n",
       "\n",
       "    .dataframe thead th {\n",
       "        text-align: right;\n",
       "    }\n",
       "</style>\n",
       "<table border=\"1\" class=\"dataframe\">\n",
       "  <thead>\n",
       "    <tr style=\"text-align: right;\">\n",
       "      <th></th>\n",
       "      <th>date</th>\n",
       "      <th>COMMENT</th>\n",
       "      <th>LABEL</th>\n",
       "      <th>COEF</th>\n",
       "    </tr>\n",
       "  </thead>\n",
       "  <tbody>\n",
       "    <tr>\n",
       "      <th>0</th>\n",
       "      <td>03-05-19</td>\n",
       "      <td>tell, ratio, bull, bear, comment, section, bas...</td>\n",
       "      <td>0</td>\n",
       "      <td>-0.141945</td>\n",
       "    </tr>\n",
       "    <tr>\n",
       "      <th>1</th>\n",
       "      <td>03-05-19</td>\n",
       "      <td>right, total, debt, billion, dollar</td>\n",
       "      <td>0</td>\n",
       "      <td>-0.831411</td>\n",
       "    </tr>\n",
       "    <tr>\n",
       "      <th>2</th>\n",
       "      <td>03-05-19</td>\n",
       "      <td>dont, know, day, tesla, hasnt, make, solid, pr...</td>\n",
       "      <td>0</td>\n",
       "      <td>-2.396838</td>\n",
       "    </tr>\n",
       "    <tr>\n",
       "      <th>3</th>\n",
       "      <td>03-05-19</td>\n",
       "      <td>day, great, way, end, week, cheer, cleaner, fu...</td>\n",
       "      <td>1</td>\n",
       "      <td>0.844712</td>\n",
       "    </tr>\n",
       "    <tr>\n",
       "      <th>4</th>\n",
       "      <td>03-05-19</td>\n",
       "      <td>tesla, waymo, uber, mercedes, ge, batterelectr...</td>\n",
       "      <td>1</td>\n",
       "      <td>2.302141</td>\n",
       "    </tr>\n",
       "    <tr>\n",
       "      <th>5</th>\n",
       "      <td>03-05-19</td>\n",
       "      <td>pessimisticvalue, perfect, buy, aint, fall</td>\n",
       "      <td>1</td>\n",
       "      <td>0.111533</td>\n",
       "    </tr>\n",
       "    <tr>\n",
       "      <th>6</th>\n",
       "      <td>03-05-19</td>\n",
       "      <td>dont, vaccine, kid, sell, “, alternative, medi...</td>\n",
       "      <td>0</td>\n",
       "      <td>-2.027204</td>\n",
       "    </tr>\n",
       "    <tr>\n",
       "      <th>7</th>\n",
       "      <td>03-05-19</td>\n",
       "      <td>happy, buying, optimisticvalue</td>\n",
       "      <td>1</td>\n",
       "      <td>4.539481</td>\n",
       "    </tr>\n",
       "    <tr>\n",
       "      <th>8</th>\n",
       "      <td>03-05-19</td>\n",
       "      <td>hater, gon, na, hate</td>\n",
       "      <td>1</td>\n",
       "      <td>0.552389</td>\n",
       "    </tr>\n",
       "    <tr>\n",
       "      <th>9</th>\n",
       "      <td>03-05-19</td>\n",
       "      <td>us, delivery, k, mar, stay, k, also, apr, mean...</td>\n",
       "      <td>0</td>\n",
       "      <td>-1.025835</td>\n",
       "    </tr>\n",
       "    <tr>\n",
       "      <th>10</th>\n",
       "      <td>03-05-19</td>\n",
       "      <td>fact, elon, suddenly, start, new, capital, rai...</td>\n",
       "      <td>1</td>\n",
       "      <td>2.104585</td>\n",
       "    </tr>\n",
       "    <tr>\n",
       "      <th>11</th>\n",
       "      <td>03-05-19</td>\n",
       "      <td>doesnt, change, fact, company, financials, ter...</td>\n",
       "      <td>1</td>\n",
       "      <td>0.648739</td>\n",
       "    </tr>\n",
       "    <tr>\n",
       "      <th>12</th>\n",
       "      <td>03-05-19</td>\n",
       "      <td>bye, bye, short, seller, next, stop, optimisti...</td>\n",
       "      <td>1</td>\n",
       "      <td>3.454438</td>\n",
       "    </tr>\n",
       "    <tr>\n",
       "      <th>13</th>\n",
       "      <td>03-05-19</td>\n",
       "      <td>time, buckle, guy, f, short</td>\n",
       "      <td>1</td>\n",
       "      <td>0.143099</td>\n",
       "    </tr>\n",
       "    <tr>\n",
       "      <th>14</th>\n",
       "      <td>03-05-19</td>\n",
       "      <td>volume, impressive, see, longs, increase, posi...</td>\n",
       "      <td>1</td>\n",
       "      <td>2.948382</td>\n",
       "    </tr>\n",
       "    <tr>\n",
       "      <th>15</th>\n",
       "      <td>03-05-19</td>\n",
       "      <td>still, believe</td>\n",
       "      <td>0</td>\n",
       "      <td>-0.500105</td>\n",
       "    </tr>\n",
       "    <tr>\n",
       "      <th>16</th>\n",
       "      <td>03-05-19</td>\n",
       "      <td>might, tesla, share, buyback, protect, elon, m...</td>\n",
       "      <td>1</td>\n",
       "      <td>1.384734</td>\n",
       "    </tr>\n",
       "    <tr>\n",
       "      <th>17</th>\n",
       "      <td>03-05-19</td>\n",
       "      <td>bull, run, optimisticvalue, may, st</td>\n",
       "      <td>1</td>\n",
       "      <td>2.026661</td>\n",
       "    </tr>\n",
       "    <tr>\n",
       "      <th>18</th>\n",
       "      <td>03-05-19</td>\n",
       "      <td>unbelievable, go</td>\n",
       "      <td>1</td>\n",
       "      <td>0.648185</td>\n",
       "    </tr>\n",
       "    <tr>\n",
       "      <th>19</th>\n",
       "      <td>03-05-19</td>\n",
       "      <td>optimisticvalue, summer</td>\n",
       "      <td>1</td>\n",
       "      <td>2.714508</td>\n",
       "    </tr>\n",
       "    <tr>\n",
       "      <th>20</th>\n",
       "      <td>03-05-19</td>\n",
       "      <td>block, spam, stream, fidel, wti, feel, really,...</td>\n",
       "      <td>0</td>\n",
       "      <td>-0.029433</td>\n",
       "    </tr>\n",
       "    <tr>\n",
       "      <th>21</th>\n",
       "      <td>03-05-19</td>\n",
       "      <td>need, break, bear, make, panic</td>\n",
       "      <td>0</td>\n",
       "      <td>-1.269777</td>\n",
       "    </tr>\n",
       "    <tr>\n",
       "      <th>22</th>\n",
       "      <td>03-05-19</td>\n",
       "      <td>big, smile, facethanks, god</td>\n",
       "      <td>1</td>\n",
       "      <td>0.354582</td>\n",
       "    </tr>\n",
       "    <tr>\n",
       "      <th>23</th>\n",
       "      <td>03-05-19</td>\n",
       "      <td>see, pay, bear, get, panicked, funny</td>\n",
       "      <td>0</td>\n",
       "      <td>-1.014833</td>\n",
       "    </tr>\n",
       "    <tr>\n",
       "      <th>24</th>\n",
       "      <td>03-05-19</td>\n",
       "      <td>colin, rusch, oppenheimer, assign, buy, rating...</td>\n",
       "      <td>1</td>\n",
       "      <td>4.689573</td>\n",
       "    </tr>\n",
       "    <tr>\n",
       "      <th>26</th>\n",
       "      <td>03-05-19</td>\n",
       "      <td>tesla, norway, sale, still, horribly, model, s...</td>\n",
       "      <td>0</td>\n",
       "      <td>-3.443455</td>\n",
       "    </tr>\n",
       "    <tr>\n",
       "      <th>27</th>\n",
       "      <td>03-05-19</td>\n",
       "      <td>market, understand, money, raise, less, stock,...</td>\n",
       "      <td>0</td>\n",
       "      <td>-0.678215</td>\n",
       "    </tr>\n",
       "    <tr>\n",
       "      <th>28</th>\n",
       "      <td>03-05-19</td>\n",
       "      <td>think, seconde, wave, come, pessimisticvalue</td>\n",
       "      <td>1</td>\n",
       "      <td>0.596514</td>\n",
       "    </tr>\n",
       "    <tr>\n",
       "      <th>29</th>\n",
       "      <td>03-05-19</td>\n",
       "      <td>gang, see, short, term, anomaly, company, woul...</td>\n",
       "      <td>0</td>\n",
       "      <td>-0.053903</td>\n",
       "    </tr>\n",
       "    <tr>\n",
       "      <th>30</th>\n",
       "      <td>03-05-19</td>\n",
       "      <td>fidelity, dump, stock, bad, signal</td>\n",
       "      <td>0</td>\n",
       "      <td>-1.483046</td>\n",
       "    </tr>\n",
       "    <tr>\n",
       "      <th>...</th>\n",
       "      <td>...</td>\n",
       "      <td>...</td>\n",
       "      <td>...</td>\n",
       "      <td>...</td>\n",
       "    </tr>\n",
       "    <tr>\n",
       "      <th>4252</th>\n",
       "      <td>11-01-18</td>\n",
       "      <td>real, news, bloomberg, tesla, ’, model, slowes...</td>\n",
       "      <td>0</td>\n",
       "      <td>-0.877911</td>\n",
       "    </tr>\n",
       "    <tr>\n",
       "      <th>4253</th>\n",
       "      <td>10-01-18</td>\n",
       "      <td>im, europe, san, francisco, moment, travel, sa...</td>\n",
       "      <td>0</td>\n",
       "      <td>-1.038556</td>\n",
       "    </tr>\n",
       "    <tr>\n",
       "      <th>4254</th>\n",
       "      <td>09-01-18</td>\n",
       "      <td>see, stock, go, specific, reason, cross, pessi...</td>\n",
       "      <td>0</td>\n",
       "      <td>-0.628633</td>\n",
       "    </tr>\n",
       "    <tr>\n",
       "      <th>4255</th>\n",
       "      <td>09-01-18</td>\n",
       "      <td>buy</td>\n",
       "      <td>1</td>\n",
       "      <td>1.020816</td>\n",
       "    </tr>\n",
       "    <tr>\n",
       "      <th>4256</th>\n",
       "      <td>08-01-18</td>\n",
       "      <td>idea, trigger, rally, today</td>\n",
       "      <td>1</td>\n",
       "      <td>0.243682</td>\n",
       "    </tr>\n",
       "    <tr>\n",
       "      <th>4257</th>\n",
       "      <td>08-01-18</td>\n",
       "      <td>wait, cash, inside, bar, make, trade, break, b...</td>\n",
       "      <td>0</td>\n",
       "      <td>-3.612260</td>\n",
       "    </tr>\n",
       "    <tr>\n",
       "      <th>4258</th>\n",
       "      <td>08-01-18</td>\n",
       "      <td>yes</td>\n",
       "      <td>1</td>\n",
       "      <td>0.508955</td>\n",
       "    </tr>\n",
       "    <tr>\n",
       "      <th>4259</th>\n",
       "      <td>08-01-18</td>\n",
       "      <td>lot, hater, else, make, million, one, train, t...</td>\n",
       "      <td>0</td>\n",
       "      <td>-0.370514</td>\n",
       "    </tr>\n",
       "    <tr>\n",
       "      <th>4260</th>\n",
       "      <td>08-01-18</td>\n",
       "      <td>anybody, know, go</td>\n",
       "      <td>0</td>\n",
       "      <td>-0.770578</td>\n",
       "    </tr>\n",
       "    <tr>\n",
       "      <th>4261</th>\n",
       "      <td>05-01-18</td>\n",
       "      <td>people, really, believe, tesla, dive, ha</td>\n",
       "      <td>0</td>\n",
       "      <td>-1.468384</td>\n",
       "    </tr>\n",
       "    <tr>\n",
       "      <th>4262</th>\n",
       "      <td>05-01-18</td>\n",
       "      <td>month, life, support</td>\n",
       "      <td>0</td>\n",
       "      <td>-0.291943</td>\n",
       "    </tr>\n",
       "    <tr>\n",
       "      <th>4263</th>\n",
       "      <td>05-01-18</td>\n",
       "      <td>long, continue, make, money, stock, trade</td>\n",
       "      <td>1</td>\n",
       "      <td>0.496699</td>\n",
       "    </tr>\n",
       "    <tr>\n",
       "      <th>4264</th>\n",
       "      <td>05-01-18</td>\n",
       "      <td>interest, tesla, bond, price, collapse, yester...</td>\n",
       "      <td>0</td>\n",
       "      <td>-0.828543</td>\n",
       "    </tr>\n",
       "    <tr>\n",
       "      <th>4265</th>\n",
       "      <td>05-01-18</td>\n",
       "      <td>remember, drove, bmw, think, tesla, doesnt, st...</td>\n",
       "      <td>0</td>\n",
       "      <td>-0.229657</td>\n",
       "    </tr>\n",
       "    <tr>\n",
       "      <th>4266</th>\n",
       "      <td>05-01-18</td>\n",
       "      <td>love, people, keep, compare, tesla, gm, realiz...</td>\n",
       "      <td>0</td>\n",
       "      <td>-1.522528</td>\n",
       "    </tr>\n",
       "    <tr>\n",
       "      <th>4267</th>\n",
       "      <td>04-01-18</td>\n",
       "      <td>let, get, autodata, report, sale, data, correc...</td>\n",
       "      <td>0</td>\n",
       "      <td>-2.095937</td>\n",
       "    </tr>\n",
       "    <tr>\n",
       "      <th>4268</th>\n",
       "      <td>04-01-18</td>\n",
       "      <td>day, make, two, three, four, percent, one, tra...</td>\n",
       "      <td>1</td>\n",
       "      <td>0.087847</td>\n",
       "    </tr>\n",
       "    <tr>\n",
       "      <th>4269</th>\n",
       "      <td>04-01-18</td>\n",
       "      <td>hey, buy, pessimisticvalue, sell, nice, profit</td>\n",
       "      <td>0</td>\n",
       "      <td>-0.452174</td>\n",
       "    </tr>\n",
       "    <tr>\n",
       "      <th>4270</th>\n",
       "      <td>04-01-18</td>\n",
       "      <td>funny</td>\n",
       "      <td>0</td>\n",
       "      <td>-0.102226</td>\n",
       "    </tr>\n",
       "    <tr>\n",
       "      <th>4271</th>\n",
       "      <td>04-01-18</td>\n",
       "      <td>wait, debt, payment, start, year, billion, rep...</td>\n",
       "      <td>0</td>\n",
       "      <td>-0.648479</td>\n",
       "    </tr>\n",
       "    <tr>\n",
       "      <th>4272</th>\n",
       "      <td>04-01-18</td>\n",
       "      <td>obviously, still, people, decide, buy, like, w...</td>\n",
       "      <td>0</td>\n",
       "      <td>-0.202852</td>\n",
       "    </tr>\n",
       "    <tr>\n",
       "      <th>4273</th>\n",
       "      <td>04-01-18</td>\n",
       "      <td>invest, tesla, bad, thing, do, ever</td>\n",
       "      <td>0</td>\n",
       "      <td>-0.661291</td>\n",
       "    </tr>\n",
       "    <tr>\n",
       "      <th>4274</th>\n",
       "      <td>04-01-18</td>\n",
       "      <td>make, wonder, analyst, cowen, one, fortitude, ...</td>\n",
       "      <td>0</td>\n",
       "      <td>-2.030565</td>\n",
       "    </tr>\n",
       "    <tr>\n",
       "      <th>4275</th>\n",
       "      <td>03-01-18</td>\n",
       "      <td>truly, shock, number, car, whole, quarter, elo...</td>\n",
       "      <td>0</td>\n",
       "      <td>-0.439666</td>\n",
       "    </tr>\n",
       "    <tr>\n",
       "      <th>4276</th>\n",
       "      <td>03-01-18</td>\n",
       "      <td>one, big, loon, run, hot, air</td>\n",
       "      <td>0</td>\n",
       "      <td>-0.931441</td>\n",
       "    </tr>\n",
       "    <tr>\n",
       "      <th>4277</th>\n",
       "      <td>03-01-18</td>\n",
       "      <td>wow, amaze, car, thats, year, year, finally, d...</td>\n",
       "      <td>1</td>\n",
       "      <td>0.708587</td>\n",
       "    </tr>\n",
       "    <tr>\n",
       "      <th>4278</th>\n",
       "      <td>03-01-18</td>\n",
       "      <td>elon, musk, big, sca, time</td>\n",
       "      <td>1</td>\n",
       "      <td>0.252254</td>\n",
       "    </tr>\n",
       "    <tr>\n",
       "      <th>4279</th>\n",
       "      <td>03-01-18</td>\n",
       "      <td>look, like, sucker, rally, run, steam, stock, ...</td>\n",
       "      <td>0</td>\n",
       "      <td>-0.764016</td>\n",
       "    </tr>\n",
       "    <tr>\n",
       "      <th>4280</th>\n",
       "      <td>02-01-18</td>\n",
       "      <td>drop, tesla, buy, apple</td>\n",
       "      <td>1</td>\n",
       "      <td>0.709221</td>\n",
       "    </tr>\n",
       "    <tr>\n",
       "      <th>4281</th>\n",
       "      <td>02-01-18</td>\n",
       "      <td>let, optimistic, tesla, production, model, eve...</td>\n",
       "      <td>1</td>\n",
       "      <td>1.623911</td>\n",
       "    </tr>\n",
       "  </tbody>\n",
       "</table>\n",
       "<p>4207 rows × 4 columns</p>\n",
       "</div>"
      ],
      "text/plain": [
       "          date                                            COMMENT  LABEL  \\\n",
       "0     03-05-19  tell, ratio, bull, bear, comment, section, bas...      0   \n",
       "1     03-05-19                right, total, debt, billion, dollar      0   \n",
       "2     03-05-19  dont, know, day, tesla, hasnt, make, solid, pr...      0   \n",
       "3     03-05-19  day, great, way, end, week, cheer, cleaner, fu...      1   \n",
       "4     03-05-19  tesla, waymo, uber, mercedes, ge, batterelectr...      1   \n",
       "5     03-05-19         pessimisticvalue, perfect, buy, aint, fall      1   \n",
       "6     03-05-19  dont, vaccine, kid, sell, “, alternative, medi...      0   \n",
       "7     03-05-19                     happy, buying, optimisticvalue      1   \n",
       "8     03-05-19                               hater, gon, na, hate      1   \n",
       "9     03-05-19  us, delivery, k, mar, stay, k, also, apr, mean...      0   \n",
       "10    03-05-19  fact, elon, suddenly, start, new, capital, rai...      1   \n",
       "11    03-05-19  doesnt, change, fact, company, financials, ter...      1   \n",
       "12    03-05-19  bye, bye, short, seller, next, stop, optimisti...      1   \n",
       "13    03-05-19                        time, buckle, guy, f, short      1   \n",
       "14    03-05-19  volume, impressive, see, longs, increase, posi...      1   \n",
       "15    03-05-19                                     still, believe      0   \n",
       "16    03-05-19  might, tesla, share, buyback, protect, elon, m...      1   \n",
       "17    03-05-19                bull, run, optimisticvalue, may, st      1   \n",
       "18    03-05-19                                   unbelievable, go      1   \n",
       "19    03-05-19                            optimisticvalue, summer      1   \n",
       "20    03-05-19  block, spam, stream, fidel, wti, feel, really,...      0   \n",
       "21    03-05-19                     need, break, bear, make, panic      0   \n",
       "22    03-05-19                        big, smile, facethanks, god      1   \n",
       "23    03-05-19               see, pay, bear, get, panicked, funny      0   \n",
       "24    03-05-19  colin, rusch, oppenheimer, assign, buy, rating...      1   \n",
       "26    03-05-19  tesla, norway, sale, still, horribly, model, s...      0   \n",
       "27    03-05-19  market, understand, money, raise, less, stock,...      0   \n",
       "28    03-05-19       think, seconde, wave, come, pessimisticvalue      1   \n",
       "29    03-05-19  gang, see, short, term, anomaly, company, woul...      0   \n",
       "30    03-05-19                 fidelity, dump, stock, bad, signal      0   \n",
       "...        ...                                                ...    ...   \n",
       "4252  11-01-18  real, news, bloomberg, tesla, ’, model, slowes...      0   \n",
       "4253  10-01-18  im, europe, san, francisco, moment, travel, sa...      0   \n",
       "4254  09-01-18  see, stock, go, specific, reason, cross, pessi...      0   \n",
       "4255  09-01-18                                                buy      1   \n",
       "4256  08-01-18                        idea, trigger, rally, today      1   \n",
       "4257  08-01-18  wait, cash, inside, bar, make, trade, break, b...      0   \n",
       "4258  08-01-18                                                yes      1   \n",
       "4259  08-01-18  lot, hater, else, make, million, one, train, t...      0   \n",
       "4260  08-01-18                                  anybody, know, go      0   \n",
       "4261  05-01-18           people, really, believe, tesla, dive, ha      0   \n",
       "4262  05-01-18                               month, life, support      0   \n",
       "4263  05-01-18          long, continue, make, money, stock, trade      1   \n",
       "4264  05-01-18  interest, tesla, bond, price, collapse, yester...      0   \n",
       "4265  05-01-18  remember, drove, bmw, think, tesla, doesnt, st...      0   \n",
       "4266  05-01-18  love, people, keep, compare, tesla, gm, realiz...      0   \n",
       "4267  04-01-18  let, get, autodata, report, sale, data, correc...      0   \n",
       "4268  04-01-18  day, make, two, three, four, percent, one, tra...      1   \n",
       "4269  04-01-18     hey, buy, pessimisticvalue, sell, nice, profit      0   \n",
       "4270  04-01-18                                              funny      0   \n",
       "4271  04-01-18  wait, debt, payment, start, year, billion, rep...      0   \n",
       "4272  04-01-18  obviously, still, people, decide, buy, like, w...      0   \n",
       "4273  04-01-18                invest, tesla, bad, thing, do, ever      0   \n",
       "4274  04-01-18  make, wonder, analyst, cowen, one, fortitude, ...      0   \n",
       "4275  03-01-18  truly, shock, number, car, whole, quarter, elo...      0   \n",
       "4276  03-01-18                      one, big, loon, run, hot, air      0   \n",
       "4277  03-01-18  wow, amaze, car, thats, year, year, finally, d...      1   \n",
       "4278  03-01-18                         elon, musk, big, sca, time      1   \n",
       "4279  03-01-18  look, like, sucker, rally, run, steam, stock, ...      0   \n",
       "4280  02-01-18                            drop, tesla, buy, apple      1   \n",
       "4281  02-01-18  let, optimistic, tesla, production, model, eve...      1   \n",
       "\n",
       "          COEF  \n",
       "0    -0.141945  \n",
       "1    -0.831411  \n",
       "2    -2.396838  \n",
       "3     0.844712  \n",
       "4     2.302141  \n",
       "5     0.111533  \n",
       "6    -2.027204  \n",
       "7     4.539481  \n",
       "8     0.552389  \n",
       "9    -1.025835  \n",
       "10    2.104585  \n",
       "11    0.648739  \n",
       "12    3.454438  \n",
       "13    0.143099  \n",
       "14    2.948382  \n",
       "15   -0.500105  \n",
       "16    1.384734  \n",
       "17    2.026661  \n",
       "18    0.648185  \n",
       "19    2.714508  \n",
       "20   -0.029433  \n",
       "21   -1.269777  \n",
       "22    0.354582  \n",
       "23   -1.014833  \n",
       "24    4.689573  \n",
       "26   -3.443455  \n",
       "27   -0.678215  \n",
       "28    0.596514  \n",
       "29   -0.053903  \n",
       "30   -1.483046  \n",
       "...        ...  \n",
       "4252 -0.877911  \n",
       "4253 -1.038556  \n",
       "4254 -0.628633  \n",
       "4255  1.020816  \n",
       "4256  0.243682  \n",
       "4257 -3.612260  \n",
       "4258  0.508955  \n",
       "4259 -0.370514  \n",
       "4260 -0.770578  \n",
       "4261 -1.468384  \n",
       "4262 -0.291943  \n",
       "4263  0.496699  \n",
       "4264 -0.828543  \n",
       "4265 -0.229657  \n",
       "4266 -1.522528  \n",
       "4267 -2.095937  \n",
       "4268  0.087847  \n",
       "4269 -0.452174  \n",
       "4270 -0.102226  \n",
       "4271 -0.648479  \n",
       "4272 -0.202852  \n",
       "4273 -0.661291  \n",
       "4274 -2.030565  \n",
       "4275 -0.439666  \n",
       "4276 -0.931441  \n",
       "4277  0.708587  \n",
       "4278  0.252254  \n",
       "4279 -0.764016  \n",
       "4280  0.709221  \n",
       "4281  1.623911  \n",
       "\n",
       "[4207 rows x 4 columns]"
      ]
     },
     "execution_count": 71,
     "metadata": {},
     "output_type": "execute_result"
    }
   ],
   "source": [
    "df_teslabeled_pos"
   ]
  },
  {
   "cell_type": "code",
   "execution_count": 72,
   "metadata": {},
   "outputs": [],
   "source": [
    "df_teslabeled_pos.to_excel(\"ML_Data/tes_classified_pos.xlsx\", sheet_name='Sheet_1') \n",
    "df_teslabeled_neg.to_excel(\"ML_Data/tes_classified_neg.xlsx\", sheet_name='Sheet_1') "
   ]
  },
  {
   "cell_type": "code",
   "execution_count": 73,
   "metadata": {},
   "outputs": [],
   "source": [
    "result_tes_pos=classifier(\"lr\",\"y\",\"cv\",df_teslabeled_pos)"
   ]
  },
  {
   "cell_type": "code",
   "execution_count": 74,
   "metadata": {},
   "outputs": [],
   "source": [
    "result_tes_neg=classifier(\"lr\",\"y\",\"cv\",df_teslabeled_neg)"
   ]
  },
  {
   "cell_type": "code",
   "execution_count": 86,
   "metadata": {},
   "outputs": [
    {
     "data": {
      "text/plain": [
       "('Accuracy: 0.8919239904988123', 'F1 0.8914246003167761')"
      ]
     },
     "execution_count": 86,
     "metadata": {},
     "output_type": "execute_result"
    }
   ],
   "source": [
    "result_tes_pos[2:4]"
   ]
  },
  {
   "cell_type": "code",
   "execution_count": 88,
   "metadata": {},
   "outputs": [
    {
     "data": {
      "text/plain": [
       "('Accuracy: 0.9121140142517815', 'F1 0.911857361407464')"
      ]
     },
     "execution_count": 88,
     "metadata": {},
     "output_type": "execute_result"
    }
   ],
   "source": [
    "result_tes_neg[2:4]"
   ]
  },
  {
   "cell_type": "markdown",
   "metadata": {},
   "source": [
    "### Tesla result mapped, neutral mapped to positive"
   ]
  },
  {
   "cell_type": "code",
   "execution_count": 75,
   "metadata": {},
   "outputs": [],
   "source": [
    "feature_to_coef_tes_pos = {\n",
    "    word: coef for word, coef in zip(\n",
    "        result_tes_pos[1].get_feature_names(), result_tes_pos[0].coef_[0]\n",
    "    )    \n",
    "}"
   ]
  },
  {
   "cell_type": "code",
   "execution_count": 76,
   "metadata": {},
   "outputs": [
    {
     "name": "stdout",
     "output_type": "stream",
     "text": [
      "('optimisticvalue', 5.237980426137993)\n",
      "('buy', 3.254523656833232)\n",
      "('hold', 3.2134451255218317)\n",
      "('come', 3.15356919295822)\n",
      "('good', 3.0031003014560467)\n",
      "('go', 2.4898691895762557)\n",
      "('hour', 2.3925249651576097)\n",
      "('buying', 2.1704773616104394)\n",
      "('close', 1.99301537007207)\n",
      "('ok', 1.968232448930962)\n"
     ]
    }
   ],
   "source": [
    "for best_positive in sorted(\n",
    "    feature_to_coef_tes_pos.items(), \n",
    "    key=lambda x: x[1], reverse=True, \n",
    "    )[:10]:\n",
    "    print (best_positive)"
   ]
  },
  {
   "cell_type": "code",
   "execution_count": 77,
   "metadata": {},
   "outputs": [
    {
     "name": "stdout",
     "output_type": "stream",
     "text": [
      "('sell', -3.113630611835505)\n",
      "('know', -2.558442440560808)\n",
      "('one', -2.5009558992494454)\n",
      "('yet', -2.1690605027328735)\n",
      "('need', -2.165512188969157)\n",
      "('bad', -2.0168996742788914)\n",
      "('try', -1.8843146907282229)\n",
      "('fall', -1.8818429346322458)\n",
      "('pessimisticvalue', -1.8032735692601785)\n",
      "('car', -1.7742209455915134)\n"
     ]
    }
   ],
   "source": [
    "for best_negative in sorted(\n",
    "    feature_to_coef_tes_pos.items(), \n",
    "    key=lambda x: x[1] \n",
    "    )[:10]:\n",
    "    print (best_negative)"
   ]
  },
  {
   "cell_type": "markdown",
   "metadata": {},
   "source": [
    "## Dow Jones"
   ]
  },
  {
   "cell_type": "code",
   "execution_count": 78,
   "metadata": {},
   "outputs": [],
   "source": [
    "df_djlabeled_pos=add_label(df_dj, feature_to_coef_hl_pos)\n",
    "df_djlabeled_neg=add_label(df_dj, feature_to_coef_hl_neg)"
   ]
  },
  {
   "cell_type": "code",
   "execution_count": 79,
   "metadata": {},
   "outputs": [],
   "source": [
    "df_djlabeled_pos.to_excel(\"ML_Data/dj_classified_pos.xlsx\", sheet_name='Sheet_1') \n",
    "df_djlabeled_neg.to_excel(\"ML_Data/dj_classified_neg.xlsx\", sheet_name='Sheet_1') "
   ]
  },
  {
   "cell_type": "code",
   "execution_count": 80,
   "metadata": {},
   "outputs": [],
   "source": [
    "result_dj_pos=classifier(\"lr\",\"y\",\"cv\",df_djlabeled_pos)"
   ]
  },
  {
   "cell_type": "code",
   "execution_count": 81,
   "metadata": {},
   "outputs": [],
   "source": [
    "result_dj_neg=classifier(\"lr\",\"y\",\"cv\",df_djlabeled_neg)"
   ]
  },
  {
   "cell_type": "code",
   "execution_count": 91,
   "metadata": {},
   "outputs": [
    {
     "data": {
      "text/plain": [
       "('Accuracy: 0.9405218726016884', 'F1 0.9403874234070891')"
      ]
     },
     "execution_count": 91,
     "metadata": {},
     "output_type": "execute_result"
    }
   ],
   "source": [
    "result_dj_pos[2:4]"
   ]
  },
  {
   "cell_type": "code",
   "execution_count": 92,
   "metadata": {},
   "outputs": [
    {
     "data": {
      "text/plain": [
       "('Accuracy: 0.9282425172678435', 'F1 0.927937611947455')"
      ]
     },
     "execution_count": 92,
     "metadata": {},
     "output_type": "execute_result"
    }
   ],
   "source": [
    "result_dj_neg[2:4]"
   ]
  },
  {
   "cell_type": "markdown",
   "metadata": {},
   "source": [
    "### Dow jones result mapped, neutral mapped to positive"
   ]
  },
  {
   "cell_type": "code",
   "execution_count": 82,
   "metadata": {},
   "outputs": [],
   "source": [
    "feature_to_coef_dj_pos = {\n",
    "    word: coef for word, coef in zip(\n",
    "        result_dj_pos[1].get_feature_names(), result_dj_pos[0].coef_[0]\n",
    "    )    \n",
    "}"
   ]
  },
  {
   "cell_type": "code",
   "execution_count": 89,
   "metadata": {},
   "outputs": [
    {
     "name": "stdout",
     "output_type": "stream",
     "text": [
      "('optimisticvalue', 8.540239418553975)\n",
      "('come', 4.943839737513353)\n",
      "('buy', 4.5748817121086605)\n",
      "('good', 4.57241670714433)\n",
      "('hold', 4.331025666951921)\n",
      "('close', 3.8068796384917283)\n",
      "('go', 3.3586561581872085)\n",
      "('cover', 3.1961506969535924)\n",
      "('soon', 2.9161872489876695)\n",
      "('buying', 2.8956733451183583)\n"
     ]
    }
   ],
   "source": [
    "for best_positive in sorted(\n",
    "    feature_to_coef_dj_pos.items(), \n",
    "    key=lambda x: x[1], reverse=True, \n",
    "    )[:10]:\n",
    "    print (best_positive)"
   ]
  },
  {
   "cell_type": "code",
   "execution_count": 90,
   "metadata": {},
   "outputs": [
    {
     "name": "stdout",
     "output_type": "stream",
     "text": [
      "('sell', -3.113630611835505)\n",
      "('know', -2.558442440560808)\n",
      "('one', -2.5009558992494454)\n",
      "('yet', -2.1690605027328735)\n",
      "('need', -2.165512188969157)\n",
      "('bad', -2.0168996742788914)\n",
      "('try', -1.8843146907282229)\n",
      "('fall', -1.8818429346322458)\n",
      "('pessimisticvalue', -1.8032735692601785)\n",
      "('car', -1.7742209455915134)\n"
     ]
    }
   ],
   "source": [
    "for best_negative in sorted(\n",
    "    feature_to_coef_tes_pos.items(), \n",
    "    key=lambda x: x[1] \n",
    "    )[:10]:\n",
    "    print (best_negative)"
   ]
  },
  {
   "cell_type": "code",
   "execution_count": null,
   "metadata": {},
   "outputs": [],
   "source": []
  },
  {
   "cell_type": "code",
   "execution_count": null,
   "metadata": {},
   "outputs": [],
   "source": []
  },
  {
   "cell_type": "code",
   "execution_count": null,
   "metadata": {},
   "outputs": [],
   "source": []
  }
 ],
 "metadata": {
  "kernelspec": {
   "display_name": "Python 3",
   "language": "python",
   "name": "python3"
  },
  "language_info": {
   "codemirror_mode": {
    "name": "ipython",
    "version": 3
   },
   "file_extension": ".py",
   "mimetype": "text/x-python",
   "name": "python",
   "nbconvert_exporter": "python",
   "pygments_lexer": "ipython3",
   "version": "3.6.5"
  }
 },
 "nbformat": 4,
 "nbformat_minor": 2
}
