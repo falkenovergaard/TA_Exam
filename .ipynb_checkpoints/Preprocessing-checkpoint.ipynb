{
 "cells": [
  {
   "cell_type": "code",
   "execution_count": 1,
   "metadata": {},
   "outputs": [],
   "source": [
    "import pandas as pd\n",
    "import re\n",
    "import numpy as np"
   ]
  },
  {
   "cell_type": "code",
   "execution_count": 2,
   "metadata": {},
   "outputs": [],
   "source": [
    "df_bc = pd.read_csv('data/comments/bitcoin.csv')\n",
    "df_dj = pd.read_csv('data/comments/dj.csv')\n",
    "df_ts = pd.read_csv('data/comments/tesla.csv')"
   ]
  },
  {
   "cell_type": "code",
   "execution_count": 3,
   "metadata": {},
   "outputs": [],
   "source": [
    "from dateutil import parser\n",
    "from datetime import date\n",
    "import re\n",
    "\n",
    "def convert_date(date_string):\n",
    "    \n",
    "    if 'ago' in str(date_string):\n",
    "        today = date.today()\n",
    "        return today.strftime(\"%Y-%m-%d\")\n",
    "    \n",
    "    if 'nan' in str(date_string):\n",
    "        return\n",
    "    \n",
    "    dt = parser.parse(date_string)  \n",
    "    return dt.strftime(\"%Y-%m-%d\")\n",
    "\n",
    "def convert(df):\n",
    "    df.drop(['Unnamed: 0'], axis=1, inplace=True)\n",
    "    df['date'] = df['date'].apply(lambda x: convert_date(x))\n",
    "    \n",
    "    return df\n",
    "    "
   ]
  },
  {
   "cell_type": "code",
   "execution_count": 4,
   "metadata": {},
   "outputs": [
    {
     "name": "stderr",
     "output_type": "stream",
     "text": [
      "/Users/morten/anaconda3/lib/python3.7/site-packages/dateutil/parser/_parser.py:1204: UnknownTimezoneWarning: tzname ET identified but not understood.  Pass `tzinfos` argument in order to correctly return a timezone-aware datetime.  In a future version, this will raise an exception.\n",
      "  category=UnknownTimezoneWarning)\n"
     ]
    }
   ],
   "source": [
    "df_bc = convert(df_bc)\n",
    "df_dj = convert(df_dj)\n",
    "df_ts = convert(df_ts)"
   ]
  },
  {
   "cell_type": "code",
   "execution_count": 5,
   "metadata": {},
   "outputs": [
    {
     "name": "stdout",
     "output_type": "stream",
     "text": [
      "<class 'pandas.core.frame.DataFrame'>\n",
      "RangeIndex: 36150 entries, 0 to 36149\n",
      "Data columns (total 2 columns):\n",
      "comment    23093 non-null object\n",
      "date       23226 non-null object\n",
      "dtypes: object(2)\n",
      "memory usage: 564.9+ KB\n"
     ]
    }
   ],
   "source": [
    "df_bc.info()"
   ]
  },
  {
   "cell_type": "code",
   "execution_count": 6,
   "metadata": {},
   "outputs": [],
   "source": [
    "df_bc = df_bc.dropna(subset=['comment'])\n",
    "df_dj = df_dj.dropna(subset=['comment'])\n",
    "df_ts = df_ts.dropna(subset=['comment'])"
   ]
  },
  {
   "cell_type": "code",
   "execution_count": 7,
   "metadata": {},
   "outputs": [],
   "source": [
    "df_bcp = pd.read_excel('data/price/BTC.xlsx')\n",
    "df_djp = pd.read_excel('data/price/DJI.xlsx')\n",
    "df_tsp = pd.read_excel('data/price/TSLA.xlsx')"
   ]
  },
  {
   "cell_type": "code",
   "execution_count": 8,
   "metadata": {},
   "outputs": [
    {
     "data": {
      "text/html": [
       "<div>\n",
       "<style scoped>\n",
       "    .dataframe tbody tr th:only-of-type {\n",
       "        vertical-align: middle;\n",
       "    }\n",
       "\n",
       "    .dataframe tbody tr th {\n",
       "        vertical-align: top;\n",
       "    }\n",
       "\n",
       "    .dataframe thead th {\n",
       "        text-align: right;\n",
       "    }\n",
       "</style>\n",
       "<table border=\"1\" class=\"dataframe\">\n",
       "  <thead>\n",
       "    <tr style=\"text-align: right;\">\n",
       "      <th></th>\n",
       "      <th>High</th>\n",
       "      <th>Low</th>\n",
       "      <th>Upper bound</th>\n",
       "      <th>Lower Bound</th>\n",
       "      <th>Date</th>\n",
       "    </tr>\n",
       "  </thead>\n",
       "  <tbody>\n",
       "    <tr>\n",
       "      <th>0</th>\n",
       "      <td>5849.500000</td>\n",
       "      <td>5709.740234</td>\n",
       "      <td>7311.875000</td>\n",
       "      <td>4282.305175</td>\n",
       "      <td>04-05-19</td>\n",
       "    </tr>\n",
       "    <tr>\n",
       "      <th>1</th>\n",
       "      <td>5901.359863</td>\n",
       "      <td>5596.149902</td>\n",
       "      <td>7376.699829</td>\n",
       "      <td>4197.112426</td>\n",
       "      <td>03-05-19</td>\n",
       "    </tr>\n",
       "    <tr>\n",
       "      <th>2</th>\n",
       "      <td>5891.899902</td>\n",
       "      <td>5484.779785</td>\n",
       "      <td>7364.874878</td>\n",
       "      <td>4113.584839</td>\n",
       "      <td>02-05-19</td>\n",
       "    </tr>\n",
       "    <tr>\n",
       "      <th>3</th>\n",
       "      <td>5531.149902</td>\n",
       "      <td>5387.290039</td>\n",
       "      <td>6913.937378</td>\n",
       "      <td>4040.467529</td>\n",
       "      <td>01-05-19</td>\n",
       "    </tr>\n",
       "    <tr>\n",
       "      <th>4</th>\n",
       "      <td>5417.169922</td>\n",
       "      <td>5346.700195</td>\n",
       "      <td>6771.462403</td>\n",
       "      <td>4010.025146</td>\n",
       "      <td>30-04-19</td>\n",
       "    </tr>\n",
       "  </tbody>\n",
       "</table>\n",
       "</div>"
      ],
      "text/plain": [
       "          High          Low  Upper bound  Lower Bound      Date\n",
       "0  5849.500000  5709.740234  7311.875000  4282.305175  04-05-19\n",
       "1  5901.359863  5596.149902  7376.699829  4197.112426  03-05-19\n",
       "2  5891.899902  5484.779785  7364.874878  4113.584839  02-05-19\n",
       "3  5531.149902  5387.290039  6913.937378  4040.467529  01-05-19\n",
       "4  5417.169922  5346.700195  6771.462403  4010.025146  30-04-19"
      ]
     },
     "execution_count": 8,
     "metadata": {},
     "output_type": "execute_result"
    }
   ],
   "source": [
    "df_bcp.head()"
   ]
  },
  {
   "cell_type": "code",
   "execution_count": 9,
   "metadata": {},
   "outputs": [
    {
     "data": {
      "text/html": [
       "<div>\n",
       "<style scoped>\n",
       "    .dataframe tbody tr th:only-of-type {\n",
       "        vertical-align: middle;\n",
       "    }\n",
       "\n",
       "    .dataframe tbody tr th {\n",
       "        vertical-align: top;\n",
       "    }\n",
       "\n",
       "    .dataframe thead th {\n",
       "        text-align: right;\n",
       "    }\n",
       "</style>\n",
       "<table border=\"1\" class=\"dataframe\">\n",
       "  <thead>\n",
       "    <tr style=\"text-align: right;\">\n",
       "      <th></th>\n",
       "      <th>comment</th>\n",
       "      <th>date</th>\n",
       "    </tr>\n",
       "  </thead>\n",
       "  <tbody>\n",
       "    <tr>\n",
       "      <th>0</th>\n",
       "      <td>Soon all the talking heads decide we are in an...</td>\n",
       "      <td>2019-05-08</td>\n",
       "    </tr>\n",
       "    <tr>\n",
       "      <th>1</th>\n",
       "      <td>i hear the A-Team theme song ... sip sip lol\\r\\n</td>\n",
       "      <td>2019-05-08</td>\n",
       "    </tr>\n",
       "    <tr>\n",
       "      <th>2</th>\n",
       "      <td>We have been working really hard to provide an...</td>\n",
       "      <td>2019-05-08</td>\n",
       "    </tr>\n",
       "    <tr>\n",
       "      <th>3</th>\n",
       "      <td>ETH already jumped up\\r\\n</td>\n",
       "      <td>2019-05-08</td>\n",
       "    </tr>\n",
       "    <tr>\n",
       "      <th>4</th>\n",
       "      <td>Up the blue sky and waving off!!\\r\\n</td>\n",
       "      <td>2019-05-08</td>\n",
       "    </tr>\n",
       "  </tbody>\n",
       "</table>\n",
       "</div>"
      ],
      "text/plain": [
       "                                             comment        date\n",
       "0  Soon all the talking heads decide we are in an...  2019-05-08\n",
       "1   i hear the A-Team theme song ... sip sip lol\\r\\n  2019-05-08\n",
       "2  We have been working really hard to provide an...  2019-05-08\n",
       "3                          ETH already jumped up\\r\\n  2019-05-08\n",
       "4               Up the blue sky and waving off!!\\r\\n  2019-05-08"
      ]
     },
     "execution_count": 9,
     "metadata": {},
     "output_type": "execute_result"
    }
   ],
   "source": [
    "df_bc.head()"
   ]
  },
  {
   "cell_type": "code",
   "execution_count": 67,
   "metadata": {},
   "outputs": [],
   "source": [
    "df_bc.set_index('date', inplace=True)\n",
    "df_bcp.set_index('Date', inplace=True)\n",
    "\n",
    "df_dj.set_index('date', inplace=True)\n",
    "df_djp.set_index('Date', inplace=True)\n",
    "\n",
    "df_ts.set_index('date', inplace=True)\n",
    "df_tsp.set_index('Date', inplace=True)"
   ]
  },
  {
   "cell_type": "code",
   "execution_count": 68,
   "metadata": {},
   "outputs": [
    {
     "data": {
      "text/html": [
       "<div>\n",
       "<style scoped>\n",
       "    .dataframe tbody tr th:only-of-type {\n",
       "        vertical-align: middle;\n",
       "    }\n",
       "\n",
       "    .dataframe tbody tr th {\n",
       "        vertical-align: top;\n",
       "    }\n",
       "\n",
       "    .dataframe thead th {\n",
       "        text-align: right;\n",
       "    }\n",
       "</style>\n",
       "<table border=\"1\" class=\"dataframe\">\n",
       "  <thead>\n",
       "    <tr style=\"text-align: right;\">\n",
       "      <th></th>\n",
       "      <th>comment</th>\n",
       "    </tr>\n",
       "    <tr>\n",
       "      <th>date</th>\n",
       "      <th></th>\n",
       "    </tr>\n",
       "  </thead>\n",
       "  <tbody>\n",
       "    <tr>\n",
       "      <th>2019-05-08</th>\n",
       "      <td>Soon all the talking heads decide we are in an...</td>\n",
       "    </tr>\n",
       "    <tr>\n",
       "      <th>2019-05-08</th>\n",
       "      <td>i hear the A-Team theme song ... sip sip lol\\r\\n</td>\n",
       "    </tr>\n",
       "    <tr>\n",
       "      <th>2019-05-08</th>\n",
       "      <td>We have been working really hard to provide an...</td>\n",
       "    </tr>\n",
       "    <tr>\n",
       "      <th>2019-05-08</th>\n",
       "      <td>ETH already jumped up\\r\\n</td>\n",
       "    </tr>\n",
       "    <tr>\n",
       "      <th>2019-05-08</th>\n",
       "      <td>Up the blue sky and waving off!!\\r\\n</td>\n",
       "    </tr>\n",
       "  </tbody>\n",
       "</table>\n",
       "</div>"
      ],
      "text/plain": [
       "                                                      comment\n",
       "date                                                         \n",
       "2019-05-08  Soon all the talking heads decide we are in an...\n",
       "2019-05-08   i hear the A-Team theme song ... sip sip lol\\r\\n\n",
       "2019-05-08  We have been working really hard to provide an...\n",
       "2019-05-08                          ETH already jumped up\\r\\n\n",
       "2019-05-08               Up the blue sky and waving off!!\\r\\n"
      ]
     },
     "execution_count": 68,
     "metadata": {},
     "output_type": "execute_result"
    }
   ],
   "source": [
    "df_bc.head()"
   ]
  },
  {
   "cell_type": "code",
   "execution_count": 69,
   "metadata": {},
   "outputs": [
    {
     "data": {
      "text/html": [
       "<div>\n",
       "<style scoped>\n",
       "    .dataframe tbody tr th:only-of-type {\n",
       "        vertical-align: middle;\n",
       "    }\n",
       "\n",
       "    .dataframe tbody tr th {\n",
       "        vertical-align: top;\n",
       "    }\n",
       "\n",
       "    .dataframe thead th {\n",
       "        text-align: right;\n",
       "    }\n",
       "</style>\n",
       "<table border=\"1\" class=\"dataframe\">\n",
       "  <thead>\n",
       "    <tr style=\"text-align: right;\">\n",
       "      <th></th>\n",
       "      <th>High</th>\n",
       "      <th>Low</th>\n",
       "      <th>Upper bound</th>\n",
       "      <th>Lower Bound</th>\n",
       "    </tr>\n",
       "    <tr>\n",
       "      <th>Date</th>\n",
       "      <th></th>\n",
       "      <th></th>\n",
       "      <th></th>\n",
       "      <th></th>\n",
       "    </tr>\n",
       "  </thead>\n",
       "  <tbody>\n",
       "    <tr>\n",
       "      <th>2016-12-31</th>\n",
       "      <td>965.469971</td>\n",
       "      <td>942.400024</td>\n",
       "      <td>1206.837464</td>\n",
       "      <td>706.800018</td>\n",
       "    </tr>\n",
       "    <tr>\n",
       "      <th>2017-01-01</th>\n",
       "      <td>1001.609985</td>\n",
       "      <td>956.099976</td>\n",
       "      <td>1252.012481</td>\n",
       "      <td>717.074982</td>\n",
       "    </tr>\n",
       "    <tr>\n",
       "      <th>2017-01-02</th>\n",
       "      <td>1031.680054</td>\n",
       "      <td>990.200012</td>\n",
       "      <td>1289.600068</td>\n",
       "      <td>742.650009</td>\n",
       "    </tr>\n",
       "    <tr>\n",
       "      <th>2017-01-03</th>\n",
       "      <td>1035.469971</td>\n",
       "      <td>1006.530029</td>\n",
       "      <td>1294.337464</td>\n",
       "      <td>754.897522</td>\n",
       "    </tr>\n",
       "    <tr>\n",
       "      <th>2017-01-04</th>\n",
       "      <td>1148.540039</td>\n",
       "      <td>1022.320007</td>\n",
       "      <td>1435.675049</td>\n",
       "      <td>766.740005</td>\n",
       "    </tr>\n",
       "  </tbody>\n",
       "</table>\n",
       "</div>"
      ],
      "text/plain": [
       "                   High          Low  Upper bound  Lower Bound\n",
       "Date                                                          \n",
       "2016-12-31   965.469971   942.400024  1206.837464   706.800018\n",
       "2017-01-01  1001.609985   956.099976  1252.012481   717.074982\n",
       "2017-01-02  1031.680054   990.200012  1289.600068   742.650009\n",
       "2017-01-03  1035.469971  1006.530029  1294.337464   754.897522\n",
       "2017-01-04  1148.540039  1022.320007  1435.675049   766.740005"
      ]
     },
     "execution_count": 69,
     "metadata": {},
     "output_type": "execute_result"
    }
   ],
   "source": [
    "df_bcp.head()"
   ]
  },
  {
   "cell_type": "code",
   "execution_count": 70,
   "metadata": {},
   "outputs": [],
   "source": [
    "df_bc_merge = pd.merge(df_bc,df_bcp, how='inner', left_index=True, right_index=True)\n",
    "df_dj_merge = pd.merge(df_dj,df_djp, how='inner', left_index=True, right_index=True)\n",
    "df_ts_merge = pd.merge(df_ts,df_tsp, how='inner', left_index=True, right_index=True)"
   ]
  },
  {
   "cell_type": "code",
   "execution_count": 71,
   "metadata": {},
   "outputs": [
    {
     "data": {
      "text/html": [
       "<div>\n",
       "<style scoped>\n",
       "    .dataframe tbody tr th:only-of-type {\n",
       "        vertical-align: middle;\n",
       "    }\n",
       "\n",
       "    .dataframe tbody tr th {\n",
       "        vertical-align: top;\n",
       "    }\n",
       "\n",
       "    .dataframe thead th {\n",
       "        text-align: right;\n",
       "    }\n",
       "</style>\n",
       "<table border=\"1\" class=\"dataframe\">\n",
       "  <thead>\n",
       "    <tr style=\"text-align: right;\">\n",
       "      <th></th>\n",
       "      <th>comment</th>\n",
       "      <th>High</th>\n",
       "      <th>Low</th>\n",
       "      <th>Upper bound</th>\n",
       "      <th>Lower Bound</th>\n",
       "    </tr>\n",
       "  </thead>\n",
       "  <tbody>\n",
       "    <tr>\n",
       "      <th>2019-05-04</th>\n",
       "      <td>This should keep going up to ~6k ... Daily clo...</td>\n",
       "      <td>5849.5</td>\n",
       "      <td>5709.740234</td>\n",
       "      <td>7311.875</td>\n",
       "      <td>4282.305175</td>\n",
       "    </tr>\n",
       "    <tr>\n",
       "      <th>2019-05-04</th>\n",
       "      <td>2of 2 Meanwhile we have golden cross on daily ...</td>\n",
       "      <td>5849.5</td>\n",
       "      <td>5709.740234</td>\n",
       "      <td>7311.875</td>\n",
       "      <td>4282.305175</td>\n",
       "    </tr>\n",
       "    <tr>\n",
       "      <th>2019-05-04</th>\n",
       "      <td>In my opinion some whales saved bitcoin from d...</td>\n",
       "      <td>5849.5</td>\n",
       "      <td>5709.740234</td>\n",
       "      <td>7311.875</td>\n",
       "      <td>4282.305175</td>\n",
       "    </tr>\n",
       "    <tr>\n",
       "      <th>2019-05-04</th>\n",
       "      <td>Longs ask yourselves after the A -wh ipp ing  ...</td>\n",
       "      <td>5849.5</td>\n",
       "      <td>5709.740234</td>\n",
       "      <td>7311.875</td>\n",
       "      <td>4282.305175</td>\n",
       "    </tr>\n",
       "    <tr>\n",
       "      <th>2019-05-04</th>\n",
       "      <td>Global markets could not of closed much more p...</td>\n",
       "      <td>5849.5</td>\n",
       "      <td>5709.740234</td>\n",
       "      <td>7311.875</td>\n",
       "      <td>4282.305175</td>\n",
       "    </tr>\n",
       "  </tbody>\n",
       "</table>\n",
       "</div>"
      ],
      "text/plain": [
       "                                                      comment    High  \\\n",
       "2019-05-04  This should keep going up to ~6k ... Daily clo...  5849.5   \n",
       "2019-05-04  2of 2 Meanwhile we have golden cross on daily ...  5849.5   \n",
       "2019-05-04  In my opinion some whales saved bitcoin from d...  5849.5   \n",
       "2019-05-04  Longs ask yourselves after the A -wh ipp ing  ...  5849.5   \n",
       "2019-05-04  Global markets could not of closed much more p...  5849.5   \n",
       "\n",
       "                    Low  Upper bound  Lower Bound  \n",
       "2019-05-04  5709.740234     7311.875  4282.305175  \n",
       "2019-05-04  5709.740234     7311.875  4282.305175  \n",
       "2019-05-04  5709.740234     7311.875  4282.305175  \n",
       "2019-05-04  5709.740234     7311.875  4282.305175  \n",
       "2019-05-04  5709.740234     7311.875  4282.305175  "
      ]
     },
     "execution_count": 71,
     "metadata": {},
     "output_type": "execute_result"
    }
   ],
   "source": [
    "df_bc_merge.tail()"
   ]
  },
  {
   "cell_type": "code",
   "execution_count": 93,
   "metadata": {},
   "outputs": [],
   "source": [
    "\n",
    "def add_placeholder(row):\n",
    "    regex = r\"\\b[0-9]{3,}\\b\"\n",
    "    if re.findall(regex,row['comment']):\n",
    "        predictions_list = re.findall(regex,row['comment'])\n",
    "        \n",
    "        for prediction in predictions_list:    \n",
    "            predictionVal = float(prediction.replace('$', ''))\n",
    "    \n",
    "            if predictionVal < row['Upper bound'] and predictionVal > row['High']:\n",
    "                return row['comment'].replace(prediction,'[OPTIMISTIC VALUE]')\n",
    "            elif predictionVal > row['Lower bound'] and predictionVal < row['Low']:\n",
    "                return row['comment'].replace(prediction,'[PESSIMISTIC VALUE]')\n",
    "            \n",
    "    return row['comment']\n"
   ]
  },
  {
   "cell_type": "code",
   "execution_count": 94,
   "metadata": {},
   "outputs": [],
   "source": [
    "df_ts_merge['updated_comment'] = df_ts_merge.apply(lambda x: add_placeholder(x), axis=1)"
   ]
  },
  {
   "cell_type": "code",
   "execution_count": 96,
   "metadata": {},
   "outputs": [
    {
     "data": {
      "text/html": [
       "<div>\n",
       "<style scoped>\n",
       "    .dataframe tbody tr th:only-of-type {\n",
       "        vertical-align: middle;\n",
       "    }\n",
       "\n",
       "    .dataframe tbody tr th {\n",
       "        vertical-align: top;\n",
       "    }\n",
       "\n",
       "    .dataframe thead th {\n",
       "        text-align: right;\n",
       "    }\n",
       "</style>\n",
       "<table border=\"1\" class=\"dataframe\">\n",
       "  <thead>\n",
       "    <tr style=\"text-align: right;\">\n",
       "      <th></th>\n",
       "      <th>comment</th>\n",
       "      <th>+/-</th>\n",
       "      <th>High</th>\n",
       "      <th>Low</th>\n",
       "      <th>Upper bound</th>\n",
       "      <th>Lower bound</th>\n",
       "      <th>updated_comment</th>\n",
       "    </tr>\n",
       "  </thead>\n",
       "  <tbody>\n",
       "    <tr>\n",
       "      <th>2017-01-19</th>\n",
       "      <td>So here is a question. Has Tesla been issuing ...</td>\n",
       "      <td>NaN</td>\n",
       "      <td>248.679993</td>\n",
       "      <td>240.750000</td>\n",
       "      <td>310.849991</td>\n",
       "      <td>180.562500</td>\n",
       "      <td>So here is a question. Has Tesla been issuing ...</td>\n",
       "    </tr>\n",
       "    <tr>\n",
       "      <th>2017-01-20</th>\n",
       "      <td>Tsla has a strong fundamental behind the story...</td>\n",
       "      <td>NaN</td>\n",
       "      <td>246.000000</td>\n",
       "      <td>243.009995</td>\n",
       "      <td>307.500000</td>\n",
       "      <td>182.257496</td>\n",
       "      <td>Tsla has a strong fundamental behind the story...</td>\n",
       "    </tr>\n",
       "    <tr>\n",
       "      <th>2017-01-25</th>\n",
       "      <td>Climbing a higher diving board. Get ready for ...</td>\n",
       "      <td>NaN</td>\n",
       "      <td>258.459991</td>\n",
       "      <td>251.800003</td>\n",
       "      <td>323.074989</td>\n",
       "      <td>188.850002</td>\n",
       "      <td>Climbing a higher diving board. Get ready for ...</td>\n",
       "    </tr>\n",
       "    <tr>\n",
       "      <th>2017-01-25</th>\n",
       "      <td>Overvalued ******\\r\\n</td>\n",
       "      <td>NaN</td>\n",
       "      <td>258.459991</td>\n",
       "      <td>251.800003</td>\n",
       "      <td>323.074989</td>\n",
       "      <td>188.850002</td>\n",
       "      <td>Overvalued ******\\r\\n</td>\n",
       "    </tr>\n",
       "    <tr>\n",
       "      <th>2017-01-30</th>\n",
       "      <td>#boycotttesla is trending along with #deleteub...</td>\n",
       "      <td>NaN</td>\n",
       "      <td>255.289993</td>\n",
       "      <td>247.100006</td>\n",
       "      <td>319.112491</td>\n",
       "      <td>185.325005</td>\n",
       "      <td>#boycotttesla is trending along with #deleteub...</td>\n",
       "    </tr>\n",
       "  </tbody>\n",
       "</table>\n",
       "</div>"
      ],
      "text/plain": [
       "                                                      comment  +/-  \\\n",
       "2017-01-19  So here is a question. Has Tesla been issuing ...  NaN   \n",
       "2017-01-20  Tsla has a strong fundamental behind the story...  NaN   \n",
       "2017-01-25  Climbing a higher diving board. Get ready for ...  NaN   \n",
       "2017-01-25                              Overvalued ******\\r\\n  NaN   \n",
       "2017-01-30  #boycotttesla is trending along with #deleteub...  NaN   \n",
       "\n",
       "                  High         Low  Upper bound  Lower bound  \\\n",
       "2017-01-19  248.679993  240.750000   310.849991   180.562500   \n",
       "2017-01-20  246.000000  243.009995   307.500000   182.257496   \n",
       "2017-01-25  258.459991  251.800003   323.074989   188.850002   \n",
       "2017-01-25  258.459991  251.800003   323.074989   188.850002   \n",
       "2017-01-30  255.289993  247.100006   319.112491   185.325005   \n",
       "\n",
       "                                              updated_comment  \n",
       "2017-01-19  So here is a question. Has Tesla been issuing ...  \n",
       "2017-01-20  Tsla has a strong fundamental behind the story...  \n",
       "2017-01-25  Climbing a higher diving board. Get ready for ...  \n",
       "2017-01-25                              Overvalued ******\\r\\n  \n",
       "2017-01-30  #boycotttesla is trending along with #deleteub...  "
      ]
     },
     "execution_count": 96,
     "metadata": {},
     "output_type": "execute_result"
    }
   ],
   "source": [
    "df_ts_merge.head(5)"
   ]
  },
  {
   "cell_type": "code",
   "execution_count": 95,
   "metadata": {},
   "outputs": [
    {
     "name": "stderr",
     "output_type": "stream",
     "text": [
      "/Users/morten/anaconda3/lib/python3.7/site-packages/xlsxwriter/worksheet.py:912: UserWarning: Ignoring URL 'https://www.bloomberg.com/news/articles/2018-05-16/tesla-strikes-lithium-supply-deal-with-australian-mine-developer%20Kidman%20Resources%20Ltd.%20will%20supply%20Tesla%20from%20a%20planned%20refinery%20in%20Western%20Australia%20for%20an%20initial%20term%20of%20three%20years,%20the%20Melbourne-based...Show%20more\r\n",
      "' with link or location/anchor > 255 characters since it exceeds Excel's limit for URLS\n",
      "  force_unicode(url))\n"
     ]
    }
   ],
   "source": [
    "df_ts_merge.to_excel(\"output.xlsx\", sheet_name='Sheet_name_1')"
   ]
  },
  {
   "cell_type": "code",
   "execution_count": null,
   "metadata": {},
   "outputs": [],
   "source": []
  }
 ],
 "metadata": {
  "kernelspec": {
   "display_name": "Python 3",
   "language": "python",
   "name": "python3"
  },
  "language_info": {
   "codemirror_mode": {
    "name": "ipython",
    "version": 3
   },
   "file_extension": ".py",
   "mimetype": "text/x-python",
   "name": "python",
   "nbconvert_exporter": "python",
   "pygments_lexer": "ipython3",
   "version": "3.7.1"
  }
 },
 "nbformat": 4,
 "nbformat_minor": 2
}
