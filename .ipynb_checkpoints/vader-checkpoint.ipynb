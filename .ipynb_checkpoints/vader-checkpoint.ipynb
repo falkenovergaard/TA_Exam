{
 "cells": [
  {
   "cell_type": "code",
   "execution_count": 61,
   "metadata": {},
   "outputs": [],
   "source": [
    "import nltk\n",
    "import pandas as pd\n",
    "import numpy as np\n",
    "#nltk.download('vader_lexicon') *remember to download*\n",
    "from nltk.sentiment.vader import SentimentIntensityAnalyzer"
   ]
  },
  {
   "cell_type": "code",
   "execution_count": 62,
   "metadata": {},
   "outputs": [],
   "source": [
    "df_bc = pd.read_excel('data/output/clean_bit_data.xlsx')\n",
    "df_dj = pd.read_excel('data/output/clean_dowjones_data.xlsx')\n",
    "df_ts = pd.read_excel('data/output/clean_tesla_data.xlsx')"
   ]
  },
  {
   "cell_type": "code",
   "execution_count": 63,
   "metadata": {},
   "outputs": [],
   "source": [
    "df_bc = df_bc[pd.notnull(df_bc['COMMENT'])]\n",
    "df_dj = df_dj[pd.notnull(df_dj['COMMENT'])]\n",
    "df_ts = df_ts[pd.notnull(df_ts['COMMENT'])]\n"
   ]
  },
  {
   "cell_type": "code",
   "execution_count": 64,
   "metadata": {},
   "outputs": [],
   "source": [
    "sid = SentimentIntensityAnalyzer()"
   ]
  },
  {
   "cell_type": "code",
   "execution_count": 65,
   "metadata": {},
   "outputs": [],
   "source": [
    "def get_compound_score(comment):\n",
    "    ss = sid.polarity_scores(str(comment))\n",
    "    return ss['compound']\n",
    "\n",
    "def get_sentiment(compound_score):\n",
    "    if compound_score > 0:\n",
    "        return 1\n",
    "    else:\n",
    "        return 0\n",
    "\n",
    "\n",
    "def vader(df):\n",
    "    for comment in df.COMMENT:\n",
    "        ss = sid.polarity_scores(comment)\n",
    "    \n",
    "    df['compound_score'] = df['COMMENT'].apply(lambda x: get_compound_score(x))\n",
    "    df['LABEL'] = df['compound_score'].apply(lambda x: get_sentiment(x))\n",
    "    \n",
    "    return df"
   ]
  },
  {
   "cell_type": "code",
   "execution_count": 66,
   "metadata": {},
   "outputs": [],
   "source": [
    "df_bc = vader(df_bc)\n",
    "df_dj = vader(df_dj)\n",
    "df_ts = vader(df_ts)"
   ]
  },
  {
   "cell_type": "code",
   "execution_count": 67,
   "metadata": {},
   "outputs": [
    {
     "data": {
      "text/html": [
       "<div>\n",
       "<style scoped>\n",
       "    .dataframe tbody tr th:only-of-type {\n",
       "        vertical-align: middle;\n",
       "    }\n",
       "\n",
       "    .dataframe tbody tr th {\n",
       "        vertical-align: top;\n",
       "    }\n",
       "\n",
       "    .dataframe thead th {\n",
       "        text-align: right;\n",
       "    }\n",
       "</style>\n",
       "<table border=\"1\" class=\"dataframe\">\n",
       "  <thead>\n",
       "    <tr style=\"text-align: right;\">\n",
       "      <th></th>\n",
       "      <th>date</th>\n",
       "      <th>COMMENT</th>\n",
       "      <th>LABEL</th>\n",
       "      <th>compound_score</th>\n",
       "    </tr>\n",
       "  </thead>\n",
       "  <tbody>\n",
       "    <tr>\n",
       "      <th>0</th>\n",
       "      <td>04-05-19</td>\n",
       "      <td>hold, optimisticvalue, becomes, distinct, poss...</td>\n",
       "      <td>neg</td>\n",
       "      <td>0.0000</td>\n",
       "    </tr>\n",
       "    <tr>\n",
       "      <th>1</th>\n",
       "      <td>04-05-19</td>\n",
       "      <td>thumb, nasty, bear, love, get, spank, cryptoland</td>\n",
       "      <td>pos</td>\n",
       "      <td>0.1531</td>\n",
       "    </tr>\n",
       "    <tr>\n",
       "      <th>2</th>\n",
       "      <td>04-05-19</td>\n",
       "      <td>mysterious, crypto, whale, unveils, meteoric, ...</td>\n",
       "      <td>neg</td>\n",
       "      <td>0.0000</td>\n",
       "    </tr>\n",
       "    <tr>\n",
       "      <th>3</th>\n",
       "      <td>04-05-19</td>\n",
       "      <td>probably, pessimisticvalue, monday</td>\n",
       "      <td>neg</td>\n",
       "      <td>0.0000</td>\n",
       "    </tr>\n",
       "    <tr>\n",
       "      <th>4</th>\n",
       "      <td>04-05-19</td>\n",
       "      <td>short, btc, maßsive, profit</td>\n",
       "      <td>pos</td>\n",
       "      <td>0.4404</td>\n",
       "    </tr>\n",
       "  </tbody>\n",
       "</table>\n",
       "</div>"
      ],
      "text/plain": [
       "       date                                            COMMENT LABEL  \\\n",
       "0  04-05-19  hold, optimisticvalue, becomes, distinct, poss...   neg   \n",
       "1  04-05-19   thumb, nasty, bear, love, get, spank, cryptoland   pos   \n",
       "2  04-05-19  mysterious, crypto, whale, unveils, meteoric, ...   neg   \n",
       "3  04-05-19                 probably, pessimisticvalue, monday   neg   \n",
       "4  04-05-19                        short, btc, maßsive, profit   pos   \n",
       "\n",
       "   compound_score  \n",
       "0          0.0000  \n",
       "1          0.1531  \n",
       "2          0.0000  \n",
       "3          0.0000  \n",
       "4          0.4404  "
      ]
     },
     "execution_count": 67,
     "metadata": {},
     "output_type": "execute_result"
    }
   ],
   "source": [
    "df_bc.head()"
   ]
  },
  {
   "cell_type": "code",
   "execution_count": 68,
   "metadata": {},
   "outputs": [
    {
     "data": {
      "text/html": [
       "<div>\n",
       "<style scoped>\n",
       "    .dataframe tbody tr th:only-of-type {\n",
       "        vertical-align: middle;\n",
       "    }\n",
       "\n",
       "    .dataframe tbody tr th {\n",
       "        vertical-align: top;\n",
       "    }\n",
       "\n",
       "    .dataframe thead th {\n",
       "        text-align: right;\n",
       "    }\n",
       "</style>\n",
       "<table border=\"1\" class=\"dataframe\">\n",
       "  <thead>\n",
       "    <tr style=\"text-align: right;\">\n",
       "      <th></th>\n",
       "      <th>date</th>\n",
       "      <th>COMMENT</th>\n",
       "      <th>LABEL</th>\n",
       "      <th>compound_score</th>\n",
       "    </tr>\n",
       "  </thead>\n",
       "  <tbody>\n",
       "    <tr>\n",
       "      <th>0</th>\n",
       "      <td>03-05-19</td>\n",
       "      <td>stock, market, gold, silver, one, lie, answer,...</td>\n",
       "      <td>neg</td>\n",
       "      <td>0.0000</td>\n",
       "    </tr>\n",
       "    <tr>\n",
       "      <th>1</th>\n",
       "      <td>03-05-19</td>\n",
       "      <td>company, pay, income, tax, amazon, delta, air,...</td>\n",
       "      <td>pos</td>\n",
       "      <td>0.5423</td>\n",
       "    </tr>\n",
       "    <tr>\n",
       "      <th>2</th>\n",
       "      <td>03-05-19</td>\n",
       "      <td>gold, silver, interesting</td>\n",
       "      <td>pos</td>\n",
       "      <td>0.4019</td>\n",
       "    </tr>\n",
       "    <tr>\n",
       "      <th>3</th>\n",
       "      <td>03-05-19</td>\n",
       "      <td>melt, up？crazy</td>\n",
       "      <td>neg</td>\n",
       "      <td>0.0000</td>\n",
       "    </tr>\n",
       "    <tr>\n",
       "      <th>4</th>\n",
       "      <td>03-05-19</td>\n",
       "      <td>crazy, money, flow, daily, show, get, yet, mar...</td>\n",
       "      <td>pos</td>\n",
       "      <td>0.1027</td>\n",
       "    </tr>\n",
       "  </tbody>\n",
       "</table>\n",
       "</div>"
      ],
      "text/plain": [
       "       date                                            COMMENT LABEL  \\\n",
       "0  03-05-19  stock, market, gold, silver, one, lie, answer,...   neg   \n",
       "1  03-05-19  company, pay, income, tax, amazon, delta, air,...   pos   \n",
       "2  03-05-19                          gold, silver, interesting   pos   \n",
       "3  03-05-19                                     melt, up？crazy   neg   \n",
       "4  03-05-19  crazy, money, flow, daily, show, get, yet, mar...   pos   \n",
       "\n",
       "   compound_score  \n",
       "0          0.0000  \n",
       "1          0.5423  \n",
       "2          0.4019  \n",
       "3          0.0000  \n",
       "4          0.1027  "
      ]
     },
     "execution_count": 68,
     "metadata": {},
     "output_type": "execute_result"
    }
   ],
   "source": [
    "df_dj.head()"
   ]
  },
  {
   "cell_type": "code",
   "execution_count": 69,
   "metadata": {},
   "outputs": [
    {
     "data": {
      "text/html": [
       "<div>\n",
       "<style scoped>\n",
       "    .dataframe tbody tr th:only-of-type {\n",
       "        vertical-align: middle;\n",
       "    }\n",
       "\n",
       "    .dataframe tbody tr th {\n",
       "        vertical-align: top;\n",
       "    }\n",
       "\n",
       "    .dataframe thead th {\n",
       "        text-align: right;\n",
       "    }\n",
       "</style>\n",
       "<table border=\"1\" class=\"dataframe\">\n",
       "  <thead>\n",
       "    <tr style=\"text-align: right;\">\n",
       "      <th></th>\n",
       "      <th>date</th>\n",
       "      <th>COMMENT</th>\n",
       "      <th>LABEL</th>\n",
       "      <th>compound_score</th>\n",
       "    </tr>\n",
       "  </thead>\n",
       "  <tbody>\n",
       "    <tr>\n",
       "      <th>0</th>\n",
       "      <td>03-05-19</td>\n",
       "      <td>tell, ratio, bull, bear, comment, section, bas...</td>\n",
       "      <td>pos</td>\n",
       "      <td>0.4215</td>\n",
       "    </tr>\n",
       "    <tr>\n",
       "      <th>1</th>\n",
       "      <td>03-05-19</td>\n",
       "      <td>right, total, debt, billion, dollar</td>\n",
       "      <td>neg</td>\n",
       "      <td>-0.3612</td>\n",
       "    </tr>\n",
       "    <tr>\n",
       "      <th>2</th>\n",
       "      <td>03-05-19</td>\n",
       "      <td>dont, know, day, tesla, hasnt, make, solid, pr...</td>\n",
       "      <td>neg</td>\n",
       "      <td>-0.6542</td>\n",
       "    </tr>\n",
       "    <tr>\n",
       "      <th>3</th>\n",
       "      <td>03-05-19</td>\n",
       "      <td>day, great, way, end, week, cheer, cleaner, fu...</td>\n",
       "      <td>pos</td>\n",
       "      <td>0.8442</td>\n",
       "    </tr>\n",
       "    <tr>\n",
       "      <th>4</th>\n",
       "      <td>03-05-19</td>\n",
       "      <td>tesla, waymo, uber, mercedes, ge, batterelectr...</td>\n",
       "      <td>pos</td>\n",
       "      <td>0.4404</td>\n",
       "    </tr>\n",
       "  </tbody>\n",
       "</table>\n",
       "</div>"
      ],
      "text/plain": [
       "       date                                            COMMENT LABEL  \\\n",
       "0  03-05-19  tell, ratio, bull, bear, comment, section, bas...   pos   \n",
       "1  03-05-19                right, total, debt, billion, dollar   neg   \n",
       "2  03-05-19  dont, know, day, tesla, hasnt, make, solid, pr...   neg   \n",
       "3  03-05-19  day, great, way, end, week, cheer, cleaner, fu...   pos   \n",
       "4  03-05-19  tesla, waymo, uber, mercedes, ge, batterelectr...   pos   \n",
       "\n",
       "   compound_score  \n",
       "0          0.4215  \n",
       "1         -0.3612  \n",
       "2         -0.6542  \n",
       "3          0.8442  \n",
       "4          0.4404  "
      ]
     },
     "execution_count": 69,
     "metadata": {},
     "output_type": "execute_result"
    }
   ],
   "source": [
    "df_ts.head()"
   ]
  },
  {
   "cell_type": "code",
   "execution_count": 70,
   "metadata": {},
   "outputs": [],
   "source": [
    "df_bc.to_excel(\"data/output/vader/vader_bitcoin.xlsx\", sheet_name='Sheet_1') \n",
    "df_dj.to_excel(\"data/output/vader/vader_dowjones.xlsx\", sheet_name='Sheet_1') \n",
    "df_ts.to_excel(\"data/output//vader/vader_tesla.xlsx\", sheet_name='Sheet_1') "
   ]
  },
  {
   "cell_type": "code",
   "execution_count": null,
   "metadata": {},
   "outputs": [],
   "source": []
  }
 ],
 "metadata": {
  "kernelspec": {
   "display_name": "Python 3",
   "language": "python",
   "name": "python3"
  },
  "language_info": {
   "codemirror_mode": {
    "name": "ipython",
    "version": 3
   },
   "file_extension": ".py",
   "mimetype": "text/x-python",
   "name": "python",
   "nbconvert_exporter": "python",
   "pygments_lexer": "ipython3",
   "version": "3.7.2"
  }
 },
 "nbformat": 4,
 "nbformat_minor": 2
}
