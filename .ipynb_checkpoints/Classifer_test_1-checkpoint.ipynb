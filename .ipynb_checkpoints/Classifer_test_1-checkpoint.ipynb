{
 "cells": [
  {
   "cell_type": "code",
   "execution_count": 18,
   "metadata": {},
   "outputs": [],
   "source": [
    "import pandas as pd\n",
    "from sklearn.feature_extraction.text import CountVectorizer\n",
    "from sklearn.feature_extraction.text import TfidfVectorizer\n",
    "from sklearn.feature_extraction.text import TfidfTransformer\n",
    "from sklearn.model_selection import train_test_split\n",
    "from sklearn.naive_bayes import MultinomialNB\n",
    "from sklearn.metrics import accuracy_score, f1_score\n",
    "from sklearn.linear_model import LogisticRegression\n",
    "from sklearn import svm"
   ]
  },
  {
   "cell_type": "code",
   "execution_count": 19,
   "metadata": {},
   "outputs": [],
   "source": [
    "df_pos = pd.read_excel('data/output/clean_handlabeled_data.xlsx')\n",
    "df_neg = pd.read_excel('data/output/clean_handlabeled_data.xlsx')"
   ]
  },
  {
   "cell_type": "markdown",
   "metadata": {},
   "source": [
    "Raghava"
   ]
  },
  {
   "cell_type": "code",
   "execution_count": 20,
   "metadata": {},
   "outputs": [],
   "source": [
    "df_bit = pd.read_excel(\"data/output/clean_bit_data.xlsx\") \n",
    "df_ts = pd.read_excel(\"data/output/clean_tesla_data.xlsx\") \n",
    "df_dj = pd.read_excel(\"data/output/clean_dowjones_data.xlsx\") "
   ]
  },
  {
   "cell_type": "code",
   "execution_count": 21,
   "metadata": {},
   "outputs": [],
   "source": [
    "df_bit = df_bit[pd.notnull(df_bit['COMMENT'])]\n"
   ]
  },
  {
   "cell_type": "code",
   "execution_count": 22,
   "metadata": {},
   "outputs": [
    {
     "data": {
      "text/html": [
       "<div>\n",
       "<style scoped>\n",
       "    .dataframe tbody tr th:only-of-type {\n",
       "        vertical-align: middle;\n",
       "    }\n",
       "\n",
       "    .dataframe tbody tr th {\n",
       "        vertical-align: top;\n",
       "    }\n",
       "\n",
       "    .dataframe thead th {\n",
       "        text-align: right;\n",
       "    }\n",
       "</style>\n",
       "<table border=\"1\" class=\"dataframe\">\n",
       "  <thead>\n",
       "    <tr style=\"text-align: right;\">\n",
       "      <th></th>\n",
       "      <th>date</th>\n",
       "      <th>COMMENT</th>\n",
       "      <th>LABEL</th>\n",
       "    </tr>\n",
       "  </thead>\n",
       "  <tbody>\n",
       "    <tr>\n",
       "      <th>0</th>\n",
       "      <td>04-05-19</td>\n",
       "      <td>hold, optimisticvalue, becomes, distinct, poss...</td>\n",
       "      <td>NaN</td>\n",
       "    </tr>\n",
       "    <tr>\n",
       "      <th>1</th>\n",
       "      <td>04-05-19</td>\n",
       "      <td>thumb, nasty, bear, love, get, spank, cryptoland</td>\n",
       "      <td>NaN</td>\n",
       "    </tr>\n",
       "    <tr>\n",
       "      <th>2</th>\n",
       "      <td>04-05-19</td>\n",
       "      <td>mysterious, crypto, whale, unveils, meteoric, ...</td>\n",
       "      <td>NaN</td>\n",
       "    </tr>\n",
       "    <tr>\n",
       "      <th>3</th>\n",
       "      <td>04-05-19</td>\n",
       "      <td>probably, pessimisticvalue, monday</td>\n",
       "      <td>NaN</td>\n",
       "    </tr>\n",
       "    <tr>\n",
       "      <th>4</th>\n",
       "      <td>04-05-19</td>\n",
       "      <td>short, btc, maßsive, profit</td>\n",
       "      <td>NaN</td>\n",
       "    </tr>\n",
       "  </tbody>\n",
       "</table>\n",
       "</div>"
      ],
      "text/plain": [
       "       date                                            COMMENT  LABEL\n",
       "0  04-05-19  hold, optimisticvalue, becomes, distinct, poss...    NaN\n",
       "1  04-05-19   thumb, nasty, bear, love, get, spank, cryptoland    NaN\n",
       "2  04-05-19  mysterious, crypto, whale, unveils, meteoric, ...    NaN\n",
       "3  04-05-19                 probably, pessimisticvalue, monday    NaN\n",
       "4  04-05-19                        short, btc, maßsive, profit    NaN"
      ]
     },
     "execution_count": 22,
     "metadata": {},
     "output_type": "execute_result"
    }
   ],
   "source": [
    "df_bit.head()"
   ]
  },
  {
   "cell_type": "markdown",
   "metadata": {},
   "source": [
    "## Classifier"
   ]
  },
  {
   "cell_type": "code",
   "execution_count": 23,
   "metadata": {},
   "outputs": [],
   "source": [
    "df_pos['LABEL'] = df_pos['LABEL'].map({'NEU':'POS','POS':'POS','NEG':'NEG'})"
   ]
  },
  {
   "cell_type": "code",
   "execution_count": 24,
   "metadata": {},
   "outputs": [],
   "source": [
    "df_neg['LABEL'] = df_neg['LABEL'].map({'NEU':'NEG','POS':'POS','NEG':'NEG'})"
   ]
  },
  {
   "cell_type": "code",
   "execution_count": 25,
   "metadata": {},
   "outputs": [],
   "source": [
    "def classifier(clf,strat,vec,df):\n",
    "    \n",
    "    y = df['LABEL'].astype(str)\n",
    "    X = df.COMMENT.astype(str)\n",
    "    #y = pd.get_dummies(y)\n",
    "    \n",
    "    if vec == \"cv\":\n",
    "        count = CountVectorizer()\n",
    "    elif vec == \"tdidf\":\n",
    "        count = TfidfVectorizer(binary=True, ngram_range=(1,1), use_idf=False)\n",
    "    \n",
    "    if strat == \"y\":\n",
    "        X_train, X_test, y_train, y_test = train_test_split(X, y, test_size=0.2, stratify=y)\n",
    "        X_train_counts = count.fit_transform(X_train)\n",
    "\n",
    "        X_test_counts = count.transform(X_test)\n",
    "\n",
    "        \n",
    "    elif strat == \"n\":\n",
    "        X_train, X_test, y_train, y_test = train_test_split(X, y, test_size=0.2, random_state=42) \n",
    "        X_train_counts = count.fit_transform(X_train)\n",
    "        X_test_counts = count.transform(X_test)\n",
    "\n",
    "    \n",
    "    if clf == \"lr\":\n",
    "        clf = LogisticRegression(solver=\"newton-cg\",C=1).fit(X_train_counts, y_train)\n",
    "        #clf = LogisticRegression(C=0.4).fit(X_train_counts, y_train)\n",
    "        \n",
    "    elif clf == \"mnb\":\n",
    "        clf = MultinomialNB().fit(X_train_counts, y_train)\n",
    "        \n",
    "    \n",
    "    elif clf == \"svm\":\n",
    "        clf = svm.SVC(kernel='linear').fit(X_train_counts, y_train)\n",
    "\n",
    "    yPred = clf.predict(X_test_counts)\n",
    "    yPred_log = clf.predict_proba(X_test_counts)\n",
    "    \n",
    "    list_ = list(zip(yPred, X_test))\n",
    "    \n",
    "    acc=accuracy_score(y_test,yPred)\n",
    "    f1=f1_score(y_test,yPred, average='weighted')\n",
    "\n",
    "    return clf, count,\"Accuracy: %s\" % acc, \"F1 %s\" % f1, list_, yPred_log"
   ]
  },
  {
   "cell_type": "code",
   "execution_count": 26,
   "metadata": {},
   "outputs": [
    {
     "name": "stderr",
     "output_type": "stream",
     "text": [
      "C:\\Users\\cfo19\\Anaconda3\\lib\\site-packages\\sklearn\\linear_model\\logistic.py:460: FutureWarning: Default multi_class will be changed to 'auto' in 0.22. Specify the multi_class option to silence this warning.\n",
      "  \"this warning.\", FutureWarning)\n",
      "C:\\Users\\cfo19\\Anaconda3\\lib\\site-packages\\sklearn\\linear_model\\logistic.py:460: FutureWarning: Default multi_class will be changed to 'auto' in 0.22. Specify the multi_class option to silence this warning.\n",
      "  \"this warning.\", FutureWarning)\n"
     ]
    }
   ],
   "source": [
    "result_hl_neg=classifier(\"lr\",\"y\",\"cv\",df_neg)\n",
    "result_hl_pos=classifier(\"lr\",\"y\",\"cv\",df_pos)\n",
    "\n",
    "#df_result_hl = pd.DataFrame(result_hl[4], columns = ['Predicted_label', 'Comment'])"
   ]
  },
  {
   "cell_type": "markdown",
   "metadata": {},
   "source": [
    "## Results for neutral mapped to negative"
   ]
  },
  {
   "cell_type": "code",
   "execution_count": 27,
   "metadata": {},
   "outputs": [],
   "source": [
    "feature_to_coef_hl_neg = {\n",
    "    word: coef for word, coef in zip(\n",
    "        result_hl_neg[1].get_feature_names(), result_hl_neg[0].coef_[0]\n",
    "    )    \n",
    "}"
   ]
  },
  {
   "cell_type": "code",
   "execution_count": 28,
   "metadata": {},
   "outputs": [
    {
     "name": "stdout",
     "output_type": "stream",
     "text": [
      "('sell', 1.3469036233955975)\n",
      "('know', 1.1025283992193007)\n",
      "('yet', 1.0113021384029357)\n",
      "('fall', 0.8980452007292674)\n",
      "('need', 0.7589709486020646)\n",
      "('low', 0.7543595307308957)\n",
      "('intraday', 0.7529236191003188)\n",
      "('anyone', 0.7349947801898926)\n",
      "('many', 0.7172859012506345)\n",
      "('work', 0.7159181282621839)\n"
     ]
    }
   ],
   "source": [
    "for best_positive in sorted(\n",
    "    feature_to_coef_hl_neg.items(), \n",
    "    key=lambda x: x[1], reverse=True, \n",
    "    )[:10]:\n",
    "    print (best_positive)"
   ]
  },
  {
   "cell_type": "code",
   "execution_count": 29,
   "metadata": {},
   "outputs": [
    {
     "name": "stdout",
     "output_type": "stream",
     "text": [
      "('optimisticvalue', -2.6418419543467526)\n",
      "('buy', -1.3912036445863203)\n",
      "('rise', -1.222858022520405)\n",
      "('good', -1.1070113479794592)\n",
      "('jump', -1.0197063011953424)\n",
      "('growth', -0.9503048688353173)\n",
      "('hold', -0.9448394020480498)\n",
      "('train', -0.9254667206579154)\n",
      "('dip', -0.8771018261063488)\n",
      "('happy', -0.8760628688854692)\n"
     ]
    }
   ],
   "source": [
    "for best_negative in sorted(\n",
    "    feature_to_coef_hl_neg.items(), \n",
    "    key=lambda x: x[1] \n",
    "    )[:10]:\n",
    "    print (best_negative)"
   ]
  },
  {
   "cell_type": "markdown",
   "metadata": {},
   "source": [
    "## Results for neutral mapped to positive"
   ]
  },
  {
   "cell_type": "code",
   "execution_count": 30,
   "metadata": {},
   "outputs": [],
   "source": [
    "feature_to_coef_hl_pos = {\n",
    "    word: coef for word, coef in zip(\n",
    "        result_hl_pos[1].get_feature_names(), result_hl_pos[0].coef_[0]\n",
    "    )    \n",
    "}"
   ]
  },
  {
   "cell_type": "code",
   "execution_count": 31,
   "metadata": {},
   "outputs": [
    {
     "name": "stdout",
     "output_type": "stream",
     "text": [
      "('low', 1.475503089696932)\n",
      "('pessimisticvalue', 1.454003745256364)\n",
      "('sell', 1.206198028648288)\n",
      "('way', 1.1610869243105986)\n",
      "('level', 1.0764770229389657)\n",
      "('warn', 0.9488375911127448)\n",
      "('short', 0.9311341723107671)\n",
      "('lose', 0.8935537382758374)\n",
      "('really', 0.8823657723915983)\n",
      "('investor', 0.8766818539130368)\n"
     ]
    }
   ],
   "source": [
    "for best_positive in sorted(\n",
    "    feature_to_coef_hl_pos.items(), \n",
    "    key=lambda x: x[1], reverse=True, \n",
    "    )[:10]:\n",
    "    print (best_positive)"
   ]
  },
  {
   "cell_type": "code",
   "execution_count": 32,
   "metadata": {},
   "outputs": [
    {
     "name": "stdout",
     "output_type": "stream",
     "text": [
      "('nan', -1.2310570375681982)\n",
      "('optimisticvalue', -1.1032100802889768)\n",
      "('hold', -1.0100532974484633)\n",
      "('think', -0.9999745223686365)\n",
      "('kumar', -0.9347827880920723)\n",
      "('long', -0.8823410025633482)\n",
      "('chart', -0.8731210453053964)\n",
      "('put', -0.8087267836059421)\n",
      "('talk', -0.7977309466373406)\n",
      "('bore', -0.7937919054565385)\n"
     ]
    }
   ],
   "source": [
    "for best_negative in sorted(\n",
    "    feature_to_coef_hl_pos.items(), \n",
    "    key=lambda x: x[1] \n",
    "    )[:10]:\n",
    "    print (best_negative)"
   ]
  },
  {
   "cell_type": "code",
   "execution_count": null,
   "metadata": {},
   "outputs": [],
   "source": []
  },
  {
   "cell_type": "markdown",
   "metadata": {},
   "source": [
    "## Labeling new comments\n"
   ]
  },
  {
   "cell_type": "code",
   "execution_count": 36,
   "metadata": {},
   "outputs": [],
   "source": [
    "def assign_coef(comment, feature):\n",
    "        comment = comment.split(', ')\n",
    "        #print(comment)\n",
    "        coef = []\n",
    "        for word in comment:\n",
    "            for w,c in feature.items():\n",
    "                if w == word:\n",
    "                    coef.append(c)\n",
    "        return sum(coef)\n",
    "\n",
    "\n",
    "def get_sentiment(compound_score):\n",
    "    if compound_score > 0:\n",
    "        return 1\n",
    "    else:\n",
    "        return 0\n",
    "\n",
    "\n",
    "def add_label(df, feature):\n",
    "    \n",
    "    df['COEF'] = df['COMMENT'].apply(lambda x: assign_coef(x,feature))\n",
    "    df['LABEL'] = df['COEF'].apply(lambda x: get_sentiment(x))\n",
    "    \n",
    "    return df"
   ]
  },
  {
   "cell_type": "markdown",
   "metadata": {},
   "source": [
    "## BITCOIN"
   ]
  },
  {
   "cell_type": "code",
   "execution_count": 37,
   "metadata": {},
   "outputs": [],
   "source": [
    "df_bitlabeled_pos=add_label(df_bit, feature_to_coef_hl_pos)\n",
    "df_bitlabeled_neg=add_label(df_bit, feature_to_coef_hl_neg)"
   ]
  },
  {
   "cell_type": "code",
   "execution_count": null,
   "metadata": {},
   "outputs": [],
   "source": [
    "to_excel(\"data/output/clean_bit_data.xlsx\", sheet_name='Sheet_1') "
   ]
  },
  {
   "cell_type": "code",
   "execution_count": null,
   "metadata": {},
   "outputs": [],
   "source": [
    "result_bit_pos=classifier(\"lr\",\"y\",\"cv\",df_bitlabeled_pos)"
   ]
  },
  {
   "cell_type": "code",
   "execution_count": null,
   "metadata": {},
   "outputs": [],
   "source": [
    "result_bit_neg=classifier(\"lr\",\"y\",\"cv\",df_bitlabeled_pos)"
   ]
  },
  {
   "cell_type": "code",
   "execution_count": null,
   "metadata": {},
   "outputs": [],
   "source": []
  },
  {
   "cell_type": "markdown",
   "metadata": {},
   "source": [
    "### Bitcoin result mapped, neutral mapped to positive"
   ]
  },
  {
   "cell_type": "code",
   "execution_count": 214,
   "metadata": {},
   "outputs": [],
   "source": [
    "feature_to_coef_bit_pos = {\n",
    "    word: coef for word, coef in zip(\n",
    "        result_bit_pos[1].get_feature_names(), result_bit_pos[0].coef_[0]\n",
    "    )    \n",
    "}"
   ]
  },
  {
   "cell_type": "code",
   "execution_count": 215,
   "metadata": {},
   "outputs": [
    {
     "name": "stdout",
     "output_type": "stream",
     "text": [
      "('optimisticvalue', 8.536060901941065)\n",
      "('buy', 6.545442530590317)\n",
      "('rise', 4.929929974434978)\n",
      "('trend', 4.7463539619898905)\n",
      "('close', 3.939052002639244)\n",
      "('hold', 3.778934382839763)\n",
      "('come', 3.7090573824294406)\n",
      "('add', 3.7058638227861023)\n",
      "('bitcoin', 3.6607861476085)\n",
      "('bounce', 3.6147214375855645)\n"
     ]
    }
   ],
   "source": [
    "for best_positive in sorted(\n",
    "    feature_to_coef_bit_pos.items(), \n",
    "    key=lambda x: x[1], reverse=True, \n",
    "    )[:10]:\n",
    "    print (best_positive)"
   ]
  },
  {
   "cell_type": "code",
   "execution_count": 216,
   "metadata": {},
   "outputs": [
    {
     "name": "stdout",
     "output_type": "stream",
     "text": [
      "('know', -5.660962660305671)\n",
      "('sell', -5.650913691475601)\n",
      "('low', -4.7566105833886825)\n",
      "('fall', -4.46418508102759)\n",
      "('try', -4.065880573385342)\n",
      "('wait', -3.8393292629173286)\n",
      "('yet', -3.798312579064531)\n",
      "('anyone', -3.6786722575200357)\n",
      "('head', -3.6588563004284738)\n",
      "('look', -3.59304445754055)\n"
     ]
    }
   ],
   "source": [
    "for best_negative in sorted(\n",
    "    feature_to_coef_bit_pos.items(), \n",
    "    key=lambda x: x[1] \n",
    "    )[:10]:\n",
    "    print (best_negative)"
   ]
  },
  {
   "cell_type": "code",
   "execution_count": null,
   "metadata": {},
   "outputs": [],
   "source": []
  }
 ],
 "metadata": {
  "kernelspec": {
   "display_name": "Python 3",
   "language": "python",
   "name": "python3"
  }
 },
 "nbformat": 4,
 "nbformat_minor": 2
}
