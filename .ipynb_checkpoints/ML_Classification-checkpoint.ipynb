{
 "cells": [
  {
   "cell_type": "code",
   "execution_count": 103,
   "metadata": {},
   "outputs": [
    {
     "name": "stderr",
     "output_type": "stream",
     "text": [
      "/Users/mathiaslund/anaconda3/lib/python3.7/site-packages/ipykernel_launcher.py:14: FutureWarning: Method .as_matrix will be removed in a future version. Use .values instead.\n",
      "  \n"
     ]
    }
   ],
   "source": [
    "import pandas as pd\n",
    "import numpy as np\n",
    "\n",
    "df = pd.read_csv('dm_ready.csv')\n",
    "df = df.drop(['Lower Bound_x', 'Lower Bound_y', 'Low_y', 'Low_x', 'Upper Bound_y', 'Lower Bound_y', 'Lower Bound_x', 'Upper Bound_x', 'Lower Bound_y', 'Upper Bound_y', 'High', 'Low', 'Upper Bound', 'Lower Bound', 'High_x', 'High_y', 'Unnamed: 0'], axis=1)\n",
    "\n",
    "# get test data for Aske\n",
    "test_df = df.head(10)\n",
    "df = df.tail(-10)\n",
    "# end getting test data\n",
    "\n",
    "y = df['label']\n",
    "X = df.drop(['label','date'], axis=1)\n",
    "X_mat = X.as_matrix()\n",
    "\n",
    "# Splitting the dataset into training and test set\n",
    "from sklearn.model_selection import train_test_split\n",
    "X_train, X_test, y_train, y_test = train_test_split(X_mat, y, test_size = 0.2)"
   ]
  },
  {
   "cell_type": "code",
   "execution_count": 104,
   "metadata": {},
   "outputs": [
    {
     "data": {
      "text/html": [
       "<div>\n",
       "<style scoped>\n",
       "    .dataframe tbody tr th:only-of-type {\n",
       "        vertical-align: middle;\n",
       "    }\n",
       "\n",
       "    .dataframe tbody tr th {\n",
       "        vertical-align: top;\n",
       "    }\n",
       "\n",
       "    .dataframe thead th {\n",
       "        text-align: right;\n",
       "    }\n",
       "</style>\n",
       "<table border=\"1\" class=\"dataframe\">\n",
       "  <thead>\n",
       "    <tr style=\"text-align: right;\">\n",
       "      <th></th>\n",
       "      <th>date</th>\n",
       "      <th>negatives</th>\n",
       "      <th>positives</th>\n",
       "      <th>ratio</th>\n",
       "      <th>negatives (t-1)</th>\n",
       "      <th>positives (t-1)</th>\n",
       "      <th>ratio (t-1)</th>\n",
       "      <th>negatives (t-2)</th>\n",
       "      <th>positives (t-2)</th>\n",
       "      <th>ratio (t-2)</th>\n",
       "      <th>label</th>\n",
       "    </tr>\n",
       "  </thead>\n",
       "  <tbody>\n",
       "    <tr>\n",
       "      <th>10</th>\n",
       "      <td>2019-04-24</td>\n",
       "      <td>24</td>\n",
       "      <td>23</td>\n",
       "      <td>0.489362</td>\n",
       "      <td>29.0</td>\n",
       "      <td>27.0</td>\n",
       "      <td>0.482143</td>\n",
       "      <td>32.0</td>\n",
       "      <td>23.0</td>\n",
       "      <td>0.418182</td>\n",
       "      <td>0</td>\n",
       "    </tr>\n",
       "    <tr>\n",
       "      <th>11</th>\n",
       "      <td>2019-04-23</td>\n",
       "      <td>23</td>\n",
       "      <td>22</td>\n",
       "      <td>0.488889</td>\n",
       "      <td>24.0</td>\n",
       "      <td>23.0</td>\n",
       "      <td>0.489362</td>\n",
       "      <td>29.0</td>\n",
       "      <td>27.0</td>\n",
       "      <td>0.482143</td>\n",
       "      <td>0</td>\n",
       "    </tr>\n",
       "    <tr>\n",
       "      <th>12</th>\n",
       "      <td>2019-04-22</td>\n",
       "      <td>25</td>\n",
       "      <td>17</td>\n",
       "      <td>0.404762</td>\n",
       "      <td>23.0</td>\n",
       "      <td>22.0</td>\n",
       "      <td>0.488889</td>\n",
       "      <td>24.0</td>\n",
       "      <td>23.0</td>\n",
       "      <td>0.489362</td>\n",
       "      <td>1</td>\n",
       "    </tr>\n",
       "    <tr>\n",
       "      <th>13</th>\n",
       "      <td>2019-04-21</td>\n",
       "      <td>16</td>\n",
       "      <td>10</td>\n",
       "      <td>0.384615</td>\n",
       "      <td>25.0</td>\n",
       "      <td>17.0</td>\n",
       "      <td>0.404762</td>\n",
       "      <td>23.0</td>\n",
       "      <td>22.0</td>\n",
       "      <td>0.488889</td>\n",
       "      <td>1</td>\n",
       "    </tr>\n",
       "    <tr>\n",
       "      <th>14</th>\n",
       "      <td>2019-04-20</td>\n",
       "      <td>19</td>\n",
       "      <td>7</td>\n",
       "      <td>0.269231</td>\n",
       "      <td>16.0</td>\n",
       "      <td>10.0</td>\n",
       "      <td>0.384615</td>\n",
       "      <td>25.0</td>\n",
       "      <td>17.0</td>\n",
       "      <td>0.404762</td>\n",
       "      <td>1</td>\n",
       "    </tr>\n",
       "  </tbody>\n",
       "</table>\n",
       "</div>"
      ],
      "text/plain": [
       "          date  negatives  positives     ratio  negatives (t-1)  \\\n",
       "10  2019-04-24         24         23  0.489362             29.0   \n",
       "11  2019-04-23         23         22  0.488889             24.0   \n",
       "12  2019-04-22         25         17  0.404762             23.0   \n",
       "13  2019-04-21         16         10  0.384615             25.0   \n",
       "14  2019-04-20         19          7  0.269231             16.0   \n",
       "\n",
       "    positives (t-1)  ratio (t-1)  negatives (t-2)  positives (t-2)  \\\n",
       "10             27.0     0.482143             32.0             23.0   \n",
       "11             23.0     0.489362             29.0             27.0   \n",
       "12             22.0     0.488889             24.0             23.0   \n",
       "13             17.0     0.404762             23.0             22.0   \n",
       "14             10.0     0.384615             25.0             17.0   \n",
       "\n",
       "    ratio (t-2)  label  \n",
       "10     0.418182      0  \n",
       "11     0.482143      0  \n",
       "12     0.489362      1  \n",
       "13     0.488889      1  \n",
       "14     0.404762      1  "
      ]
     },
     "execution_count": 104,
     "metadata": {},
     "output_type": "execute_result"
    }
   ],
   "source": [
    "df.head()"
   ]
  },
  {
   "cell_type": "markdown",
   "metadata": {},
   "source": [
    "# Logistic Regression"
   ]
  },
  {
   "cell_type": "code",
   "execution_count": 105,
   "metadata": {},
   "outputs": [
    {
     "name": "stdout",
     "output_type": "stream",
     "text": [
      "0.42045454545454547\n"
     ]
    }
   ],
   "source": [
    "from sklearn.linear_model import LogisticRegression\n",
    "clf = LogisticRegression()\n",
    "\n",
    "clf.fit(X_train, y_train)\n",
    "score = clf.score(X_test, y_test)\n",
    "print(score)"
   ]
  },
  {
   "cell_type": "code",
   "execution_count": 106,
   "metadata": {},
   "outputs": [
    {
     "name": "stdout",
     "output_type": "stream",
     "text": [
      "[[ 0.01277767 -0.02493052  0.48969233 -0.01468292  0.01098244  0.73917278\n",
      "  -0.00435978  0.01387957 -0.51597588]]\n"
     ]
    }
   ],
   "source": [
    "print(clf.coef_)"
   ]
  },
  {
   "cell_type": "markdown",
   "metadata": {},
   "source": [
    "# Support Vector Machine"
   ]
  },
  {
   "cell_type": "code",
   "execution_count": 107,
   "metadata": {},
   "outputs": [],
   "source": [
    "from sklearn import svm"
   ]
  },
  {
   "cell_type": "code",
   "execution_count": 108,
   "metadata": {},
   "outputs": [
    {
     "name": "stdout",
     "output_type": "stream",
     "text": [
      "0.48863636363636365\n"
     ]
    }
   ],
   "source": [
    "svm = svm.SVC(gamma=0.001, C=1.0)\n",
    "svm.fit(X_train, y_train)  \n",
    "score = svm.score(X_test, y_test)\n",
    "print(score)"
   ]
  },
  {
   "cell_type": "markdown",
   "metadata": {},
   "source": [
    "# Test Logistic Regression"
   ]
  },
  {
   "cell_type": "code",
   "execution_count": 130,
   "metadata": {},
   "outputs": [
    {
     "name": "stderr",
     "output_type": "stream",
     "text": [
      "/Users/mathiaslund/anaconda3/lib/python3.7/site-packages/ipykernel_launcher.py:3: FutureWarning: Method .as_matrix will be removed in a future version. Use .values instead.\n",
      "  This is separate from the ipykernel package so we can avoid doing imports until\n"
     ]
    }
   ],
   "source": [
    "y = test_df['label']\n",
    "X = test_df.drop(['label','date'], axis=1)\n",
    "X_mat = X.as_matrix()\n",
    "\n",
    "pred = clf.predict(X_mat)"
   ]
  },
  {
   "cell_type": "code",
   "execution_count": 138,
   "metadata": {},
   "outputs": [],
   "source": [
    "new_test_df = pd.DataFrame({'date':test_df['date'].values, 'label':pred})"
   ]
  },
  {
   "cell_type": "code",
   "execution_count": 142,
   "metadata": {},
   "outputs": [],
   "source": [
    "new_test_df.to_csv('new_test_df.csv')"
   ]
  },
  {
   "cell_type": "code",
   "execution_count": null,
   "metadata": {},
   "outputs": [],
   "source": []
  }
 ],
 "metadata": {
  "kernelspec": {
   "display_name": "Python 3",
   "language": "python",
   "name": "python3"
  },
  "language_info": {
   "codemirror_mode": {
    "name": "ipython",
    "version": 3
   },
   "file_extension": ".py",
   "mimetype": "text/x-python",
   "name": "python",
   "nbconvert_exporter": "python",
   "pygments_lexer": "ipython3",
   "version": "3.7.2"
  }
 },
 "nbformat": 4,
 "nbformat_minor": 2
}
