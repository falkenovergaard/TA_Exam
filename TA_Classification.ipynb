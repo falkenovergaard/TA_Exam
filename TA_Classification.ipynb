{
 "cells": [
  {
   "cell_type": "code",
   "execution_count": 35,
   "metadata": {},
   "outputs": [],
   "source": [
    "import pandas as pd\n",
    "from sklearn.feature_extraction.text import CountVectorizer\n",
    "from sklearn.feature_extraction.text import TfidfVectorizer\n",
    "from sklearn.feature_extraction.text import TfidfTransformer\n",
    "from sklearn.model_selection import train_test_split\n",
    "from sklearn.naive_bayes import MultinomialNB\n",
    "from sklearn.metrics import accuracy_score, f1_score\n",
    "from sklearn.linear_model import LogisticRegression\n",
    "from sklearn import svm"
   ]
  },
  {
   "cell_type": "code",
   "execution_count": 36,
   "metadata": {},
   "outputs": [],
   "source": [
    "df_pos = pd.read_excel('data/output/clean_handlabeled_data.xlsx')\n",
    "df_neg = pd.read_excel('data/output/clean_handlabeled_data.xlsx')"
   ]
  },
  {
   "cell_type": "markdown",
   "metadata": {},
   "source": [
    "Raghava"
   ]
  },
  {
   "cell_type": "code",
   "execution_count": 37,
   "metadata": {},
   "outputs": [],
   "source": [
    "df_bit = pd.read_excel(\"data/output/clean_bit_data.xlsx\") \n",
    "df_ts = pd.read_excel(\"data/output/clean_tesla_data.xlsx\") \n",
    "df_dj = pd.read_excel(\"data/output/clean_dowjones_data.xlsx\") "
   ]
  },
  {
   "cell_type": "code",
   "execution_count": 38,
   "metadata": {},
   "outputs": [],
   "source": [
    "df_bit = df_bit[pd.notnull(df_bit['COMMENT'])]\n",
    "df_ts = df_ts[pd.notnull(df_ts['COMMENT'])]\n",
    "df_dj = df_dj[pd.notnull(df_dj['COMMENT'])]\n",
    "\n",
    "df_pos = df_pos[pd.notnull(df_pos['LABEL'])]\n",
    "df_neg = df_neg[pd.notnull(df_neg['LABEL'])]"
   ]
  },
  {
   "cell_type": "code",
   "execution_count": 39,
   "metadata": {},
   "outputs": [
    {
     "data": {
      "text/html": [
       "<div>\n",
       "<style scoped>\n",
       "    .dataframe tbody tr th:only-of-type {\n",
       "        vertical-align: middle;\n",
       "    }\n",
       "\n",
       "    .dataframe tbody tr th {\n",
       "        vertical-align: top;\n",
       "    }\n",
       "\n",
       "    .dataframe thead th {\n",
       "        text-align: right;\n",
       "    }\n",
       "</style>\n",
       "<table border=\"1\" class=\"dataframe\">\n",
       "  <thead>\n",
       "    <tr style=\"text-align: right;\">\n",
       "      <th></th>\n",
       "      <th>date</th>\n",
       "      <th>COMMENT</th>\n",
       "      <th>LABEL</th>\n",
       "    </tr>\n",
       "  </thead>\n",
       "  <tbody>\n",
       "    <tr>\n",
       "      <th>0</th>\n",
       "      <td>04-05-19</td>\n",
       "      <td>hold, optimisticvalue, becomes, distinct, poss...</td>\n",
       "      <td>NaN</td>\n",
       "    </tr>\n",
       "    <tr>\n",
       "      <th>1</th>\n",
       "      <td>04-05-19</td>\n",
       "      <td>thumb, nasty, bear, love, get, spank, cryptoland</td>\n",
       "      <td>NaN</td>\n",
       "    </tr>\n",
       "    <tr>\n",
       "      <th>2</th>\n",
       "      <td>04-05-19</td>\n",
       "      <td>mysterious, crypto, whale, unveils, meteoric, ...</td>\n",
       "      <td>NaN</td>\n",
       "    </tr>\n",
       "    <tr>\n",
       "      <th>3</th>\n",
       "      <td>04-05-19</td>\n",
       "      <td>probably, pessimisticvalue, monday</td>\n",
       "      <td>NaN</td>\n",
       "    </tr>\n",
       "    <tr>\n",
       "      <th>4</th>\n",
       "      <td>04-05-19</td>\n",
       "      <td>short, btc, maßsive, profit</td>\n",
       "      <td>NaN</td>\n",
       "    </tr>\n",
       "  </tbody>\n",
       "</table>\n",
       "</div>"
      ],
      "text/plain": [
       "       date                                            COMMENT  LABEL\n",
       "0  04-05-19  hold, optimisticvalue, becomes, distinct, poss...    NaN\n",
       "1  04-05-19   thumb, nasty, bear, love, get, spank, cryptoland    NaN\n",
       "2  04-05-19  mysterious, crypto, whale, unveils, meteoric, ...    NaN\n",
       "3  04-05-19                 probably, pessimisticvalue, monday    NaN\n",
       "4  04-05-19                        short, btc, maßsive, profit    NaN"
      ]
     },
     "execution_count": 39,
     "metadata": {},
     "output_type": "execute_result"
    }
   ],
   "source": [
    "df_bit.head()"
   ]
  },
  {
   "cell_type": "markdown",
   "metadata": {},
   "source": [
    "## Classifier"
   ]
  },
  {
   "cell_type": "code",
   "execution_count": 40,
   "metadata": {},
   "outputs": [],
   "source": [
    "df_pos['LABEL'] = df_pos['LABEL'].map({'NEU':'POS','POS':'POS','NEG':'NEG'})"
   ]
  },
  {
   "cell_type": "code",
   "execution_count": 41,
   "metadata": {},
   "outputs": [
    {
     "data": {
      "text/html": [
       "<div>\n",
       "<style scoped>\n",
       "    .dataframe tbody tr th:only-of-type {\n",
       "        vertical-align: middle;\n",
       "    }\n",
       "\n",
       "    .dataframe tbody tr th {\n",
       "        vertical-align: top;\n",
       "    }\n",
       "\n",
       "    .dataframe thead th {\n",
       "        text-align: right;\n",
       "    }\n",
       "</style>\n",
       "<table border=\"1\" class=\"dataframe\">\n",
       "  <thead>\n",
       "    <tr style=\"text-align: right;\">\n",
       "      <th></th>\n",
       "      <th>COMMENT</th>\n",
       "      <th>LABEL</th>\n",
       "    </tr>\n",
       "  </thead>\n",
       "  <tbody>\n",
       "    <tr>\n",
       "      <th>0</th>\n",
       "      <td>thats, bull, say, since, pessimisticvalue, k, ...</td>\n",
       "      <td>NEG</td>\n",
       "    </tr>\n",
       "    <tr>\n",
       "      <th>1</th>\n",
       "      <td>hello, guy, anyone, use, ig, market, issue, pl...</td>\n",
       "      <td>POS</td>\n",
       "    </tr>\n",
       "    <tr>\n",
       "      <th>2</th>\n",
       "      <td>year, old, hand, pin, falcon, wing, door, subm...</td>\n",
       "      <td>POS</td>\n",
       "    </tr>\n",
       "    <tr>\n",
       "      <th>3</th>\n",
       "      <td>time, breka, never, really, guys</td>\n",
       "      <td>NEG</td>\n",
       "    </tr>\n",
       "    <tr>\n",
       "      <th>4</th>\n",
       "      <td>world, economy, th, final, one, trump, bankruptcy</td>\n",
       "      <td>NEG</td>\n",
       "    </tr>\n",
       "  </tbody>\n",
       "</table>\n",
       "</div>"
      ],
      "text/plain": [
       "                                             COMMENT LABEL\n",
       "0  thats, bull, say, since, pessimisticvalue, k, ...   NEG\n",
       "1  hello, guy, anyone, use, ig, market, issue, pl...   POS\n",
       "2  year, old, hand, pin, falcon, wing, door, subm...   POS\n",
       "3                   time, breka, never, really, guys   NEG\n",
       "4  world, economy, th, final, one, trump, bankruptcy   NEG"
      ]
     },
     "execution_count": 41,
     "metadata": {},
     "output_type": "execute_result"
    }
   ],
   "source": [
    "df_pos.head()"
   ]
  },
  {
   "cell_type": "code",
   "execution_count": 42,
   "metadata": {},
   "outputs": [],
   "source": [
    "df_neg['LABEL'] = df_neg['LABEL'].map({'NEU':'NEG','POS':'POS','NEG':'NEG'})"
   ]
  },
  {
   "cell_type": "code",
   "execution_count": 43,
   "metadata": {},
   "outputs": [
    {
     "data": {
      "text/html": [
       "<div>\n",
       "<style scoped>\n",
       "    .dataframe tbody tr th:only-of-type {\n",
       "        vertical-align: middle;\n",
       "    }\n",
       "\n",
       "    .dataframe tbody tr th {\n",
       "        vertical-align: top;\n",
       "    }\n",
       "\n",
       "    .dataframe thead th {\n",
       "        text-align: right;\n",
       "    }\n",
       "</style>\n",
       "<table border=\"1\" class=\"dataframe\">\n",
       "  <thead>\n",
       "    <tr style=\"text-align: right;\">\n",
       "      <th></th>\n",
       "      <th>COMMENT</th>\n",
       "      <th>LABEL</th>\n",
       "    </tr>\n",
       "  </thead>\n",
       "  <tbody>\n",
       "    <tr>\n",
       "      <th>0</th>\n",
       "      <td>thats, bull, say, since, pessimisticvalue, k, ...</td>\n",
       "      <td>NEG</td>\n",
       "    </tr>\n",
       "    <tr>\n",
       "      <th>1</th>\n",
       "      <td>hello, guy, anyone, use, ig, market, issue, pl...</td>\n",
       "      <td>NEG</td>\n",
       "    </tr>\n",
       "    <tr>\n",
       "      <th>2</th>\n",
       "      <td>year, old, hand, pin, falcon, wing, door, subm...</td>\n",
       "      <td>NEG</td>\n",
       "    </tr>\n",
       "    <tr>\n",
       "      <th>3</th>\n",
       "      <td>time, breka, never, really, guys</td>\n",
       "      <td>NEG</td>\n",
       "    </tr>\n",
       "    <tr>\n",
       "      <th>4</th>\n",
       "      <td>world, economy, th, final, one, trump, bankruptcy</td>\n",
       "      <td>NEG</td>\n",
       "    </tr>\n",
       "  </tbody>\n",
       "</table>\n",
       "</div>"
      ],
      "text/plain": [
       "                                             COMMENT LABEL\n",
       "0  thats, bull, say, since, pessimisticvalue, k, ...   NEG\n",
       "1  hello, guy, anyone, use, ig, market, issue, pl...   NEG\n",
       "2  year, old, hand, pin, falcon, wing, door, subm...   NEG\n",
       "3                   time, breka, never, really, guys   NEG\n",
       "4  world, economy, th, final, one, trump, bankruptcy   NEG"
      ]
     },
     "execution_count": 43,
     "metadata": {},
     "output_type": "execute_result"
    }
   ],
   "source": [
    "df_neg.head()"
   ]
  },
  {
   "cell_type": "code",
   "execution_count": 44,
   "metadata": {},
   "outputs": [],
   "source": [
    "def classifier(clf,strat,vec,df):\n",
    "    \n",
    "    y = df['LABEL'].astype(str)\n",
    "    X = df.COMMENT.astype(str)\n",
    "    #y = pd.get_dummies(y)\n",
    "    \n",
    "    if vec == \"cv\":\n",
    "        count = CountVectorizer()\n",
    "    elif vec == \"tdidf\":\n",
    "        count = TfidfVectorizer(binary=True, ngram_range=(1,1), use_idf=False)\n",
    "    \n",
    "    if strat == \"y\":\n",
    "        X_train, X_test, y_train, y_test = train_test_split(X, y, test_size=0.2,random_state=42)\n",
    "        X_train_counts = count.fit_transform(X_train)\n",
    "\n",
    "        X_test_counts = count.transform(X_test)\n",
    "\n",
    "        \n",
    "    elif strat == \"n\":\n",
    "        X_train, X_test, y_train, y_test = train_test_split(X, y, test_size=0.2) \n",
    "        X_train_counts = count.fit_transform(X_train)\n",
    "        X_test_counts = count.transform(X_test)\n",
    "\n",
    "    \n",
    "    if clf == \"lr\":\n",
    "        clf = LogisticRegression(solver=\"newton-cg\",C=1).fit(X_train_counts, y_train)\n",
    "        #clf = LogisticRegression(C=0.4).fit(X_train_counts, y_train)\n",
    "        \n",
    "    elif clf == \"mnb\":\n",
    "        clf = MultinomialNB().fit(X_train_counts, y_train)\n",
    "        \n",
    "    \n",
    "    elif clf == \"svm\":\n",
    "        clf = svm.SVC(kernel='linear').fit(X_train_counts, y_train)\n",
    "\n",
    "    yPred = clf.predict(X_test_counts)\n",
    "    yPred_log = clf.predict_proba(X_test_counts)\n",
    "    \n",
    "    list_ = list(zip(yPred, X_test))\n",
    "    \n",
    "    acc=accuracy_score(y_test,yPred)\n",
    "    f1=f1_score(y_test,yPred, average='weighted')\n",
    "\n",
    "    return clf, count,\"Accuracy: %s\" % acc, \"F1 %s\" % f1, list_, yPred_log"
   ]
  },
  {
   "cell_type": "code",
   "execution_count": 45,
   "metadata": {},
   "outputs": [],
   "source": [
    "result_hl_neg=classifier(\"lr\",\"y\",\"cv\",df_neg)\n",
    "result_hl_pos=classifier(\"lr\",\"y\",\"cv\",df_pos)\n",
    "\n",
    "#df_result_hl = pd.DataFrame(result_hl[4], columns = ['Predicted_label', 'Comment'])"
   ]
  },
  {
   "cell_type": "markdown",
   "metadata": {},
   "source": [
    "## Results for neutral mapped to negative"
   ]
  },
  {
   "cell_type": "code",
   "execution_count": 46,
   "metadata": {},
   "outputs": [
    {
     "data": {
      "text/plain": [
       "array(['NEG', 'POS'], dtype=object)"
      ]
     },
     "execution_count": 46,
     "metadata": {},
     "output_type": "execute_result"
    }
   ],
   "source": [
    "result_hl_neg[0].classes_"
   ]
  },
  {
   "cell_type": "code",
   "execution_count": 47,
   "metadata": {},
   "outputs": [],
   "source": [
    "feature_to_coef_hl_neg = {\n",
    "    word: coef for word, coef in zip(\n",
    "        result_hl_neg[1].get_feature_names(), result_hl_neg[0].coef_[0]\n",
    "    )    \n",
    "}"
   ]
  },
  {
   "cell_type": "code",
   "execution_count": 48,
   "metadata": {},
   "outputs": [
    {
     "name": "stdout",
     "output_type": "stream",
     "text": [
      "('optimisticvalue', 2.7145083657692686)\n",
      "('come', 1.0961292733510961)\n",
      "('hold', 1.0679674196517166)\n",
      "('buy', 1.020816268033973)\n",
      "('buying', 1.0034098955937554)\n",
      "('good', 0.9735780649735009)\n",
      "('firework', 0.9372279254387231)\n",
      "('beautiful', 0.8973338073038175)\n",
      "('cover', 0.8602513609399144)\n",
      "('dip', 0.8460447827944467)\n"
     ]
    }
   ],
   "source": [
    "for best_positive in sorted(\n",
    "    feature_to_coef_hl_neg.items(), \n",
    "    key=lambda x: x[1], reverse=True, \n",
    "    )[:10]:\n",
    "    print (best_positive)"
   ]
  },
  {
   "cell_type": "code",
   "execution_count": 49,
   "metadata": {},
   "outputs": [
    {
     "name": "stdout",
     "output_type": "stream",
     "text": [
      "('know', -1.2924863501103778)\n",
      "('sell', -1.1280357824214031)\n",
      "('need', -1.0824113562979611)\n",
      "('yet', -0.9119875769924252)\n",
      "('one', -0.8789857629010837)\n",
      "('many', -0.8503359114696245)\n",
      "('take', -0.8414034901100296)\n",
      "('last', -0.7755707766791274)\n",
      "('low', -0.7696253755937699)\n",
      "('try', -0.7666984086650084)\n"
     ]
    }
   ],
   "source": [
    "for best_negative in sorted(\n",
    "    feature_to_coef_hl_neg.items(), \n",
    "    key=lambda x: x[1] \n",
    "    )[:10]:\n",
    "    print (best_negative)"
   ]
  },
  {
   "cell_type": "markdown",
   "metadata": {},
   "source": [
    "## Results for neutral mapped to positive"
   ]
  },
  {
   "cell_type": "code",
   "execution_count": 50,
   "metadata": {},
   "outputs": [],
   "source": [
    "feature_to_coef_hl_pos = {\n",
    "    word: coef for word, coef in zip(\n",
    "        result_hl_pos[1].get_feature_names(), result_hl_pos[0].coef_[0]\n",
    "    )    \n",
    "}"
   ]
  },
  {
   "cell_type": "code",
   "execution_count": 51,
   "metadata": {},
   "outputs": [
    {
     "name": "stdout",
     "output_type": "stream",
     "text": [
      "('optimisticvalue', 1.1752182609415582)\n",
      "('nan', 1.144959760135993)\n",
      "('kumar', 1.0153703684787325)\n",
      "('lol', 0.9835062943025485)\n",
      "('hold', 0.9523235134991022)\n",
      "('long', 0.925757224616499)\n",
      "('guy', 0.9128486155419003)\n",
      "('put', 0.9093551587611052)\n",
      "('buy', 0.8233909258223885)\n",
      "('eth', 0.8156784356697819)\n"
     ]
    }
   ],
   "source": [
    "for best_positive in sorted(\n",
    "    feature_to_coef_hl_pos.items(), \n",
    "    key=lambda x: x[1], reverse=True, \n",
    "    )[:10]:\n",
    "    print (best_positive)"
   ]
  },
  {
   "cell_type": "code",
   "execution_count": 52,
   "metadata": {},
   "outputs": [
    {
     "name": "stdout",
     "output_type": "stream",
     "text": [
      "('pessimisticvalue', -1.4407768537093855)\n",
      "('level', -1.4056787681052145)\n",
      "('fall', -1.096170520728939)\n",
      "('bankruptcy', -1.0550437533775)\n",
      "('sell', -1.0222387335352676)\n",
      "('low', -1.0218587162027533)\n",
      "('warn', -1.0120960520803493)\n",
      "('without', -0.8520663845938539)\n",
      "('investor', -0.8412913566162127)\n",
      "('way', -0.8289507796724974)\n"
     ]
    }
   ],
   "source": [
    "for best_negative in sorted(\n",
    "    feature_to_coef_hl_pos.items(), \n",
    "    key=lambda x: x[1] \n",
    "    )[:10]:\n",
    "    print (best_negative)"
   ]
  },
  {
   "cell_type": "code",
   "execution_count": null,
   "metadata": {},
   "outputs": [],
   "source": []
  },
  {
   "cell_type": "markdown",
   "metadata": {},
   "source": [
    "## Labeling new comments\n"
   ]
  },
  {
   "cell_type": "code",
   "execution_count": 118,
   "metadata": {},
   "outputs": [],
   "source": [
    "def assign_coef(comment, feature):\n",
    "        comment = comment.split(', ')\n",
    "        #print(comment)\n",
    "        coef = []\n",
    "        for word in comment:\n",
    "            for w,c in feature.items():\n",
    "                if w == word:\n",
    "                    coef.append(c)\n",
    "        #print(comment,sum(coef))\n",
    "        return sum(coef)\n",
    "\n",
    "\n",
    "def get_sentiment(compound_score):\n",
    "    if compound_score > 0:\n",
    "        return 1\n",
    "    else:\n",
    "        return 0\n",
    "\n",
    "\n",
    "def add_label(df, feature):\n",
    "    \n",
    "    df['COEF'] = df['COMMENT'].apply(lambda x: assign_coef(x,feature))\n",
    "    \n",
    "    df['LABEL'] = df['COEF'].apply(lambda x: get_sentiment(x))\n",
    "    \n",
    "    return df"
   ]
  },
  {
   "cell_type": "markdown",
   "metadata": {},
   "source": [
    "## BITCOIN"
   ]
  },
  {
   "cell_type": "markdown",
   "metadata": {},
   "source": [
    "Labeled to pos"
   ]
  },
  {
   "cell_type": "code",
   "execution_count": 128,
   "metadata": {},
   "outputs": [],
   "source": [
    "df_bitlabeled_pos=add_label(df_bit, feature_to_coef_hl_pos)\n"
   ]
  },
  {
   "cell_type": "code",
   "execution_count": 129,
   "metadata": {},
   "outputs": [
    {
     "data": {
      "text/html": [
       "<div>\n",
       "<style scoped>\n",
       "    .dataframe tbody tr th:only-of-type {\n",
       "        vertical-align: middle;\n",
       "    }\n",
       "\n",
       "    .dataframe tbody tr th {\n",
       "        vertical-align: top;\n",
       "    }\n",
       "\n",
       "    .dataframe thead th {\n",
       "        text-align: right;\n",
       "    }\n",
       "</style>\n",
       "<table border=\"1\" class=\"dataframe\">\n",
       "  <thead>\n",
       "    <tr style=\"text-align: right;\">\n",
       "      <th></th>\n",
       "      <th>date</th>\n",
       "      <th>COMMENT</th>\n",
       "      <th>LABEL</th>\n",
       "      <th>COEF</th>\n",
       "    </tr>\n",
       "  </thead>\n",
       "  <tbody>\n",
       "    <tr>\n",
       "      <th>0</th>\n",
       "      <td>04-05-19</td>\n",
       "      <td>hold, optimisticvalue, becomes, distinct, poss...</td>\n",
       "      <td>1</td>\n",
       "      <td>2.623776</td>\n",
       "    </tr>\n",
       "    <tr>\n",
       "      <th>1</th>\n",
       "      <td>04-05-19</td>\n",
       "      <td>thumb, nasty, bear, love, get, spank, cryptoland</td>\n",
       "      <td>0</td>\n",
       "      <td>-0.601800</td>\n",
       "    </tr>\n",
       "    <tr>\n",
       "      <th>2</th>\n",
       "      <td>04-05-19</td>\n",
       "      <td>mysterious, crypto, whale, unveils, meteoric, ...</td>\n",
       "      <td>1</td>\n",
       "      <td>0.446580</td>\n",
       "    </tr>\n",
       "    <tr>\n",
       "      <th>3</th>\n",
       "      <td>04-05-19</td>\n",
       "      <td>probably, pessimisticvalue, monday</td>\n",
       "      <td>0</td>\n",
       "      <td>-1.374982</td>\n",
       "    </tr>\n",
       "    <tr>\n",
       "      <th>4</th>\n",
       "      <td>04-05-19</td>\n",
       "      <td>short, btc, maßsive, profit</td>\n",
       "      <td>0</td>\n",
       "      <td>-0.609115</td>\n",
       "    </tr>\n",
       "  </tbody>\n",
       "</table>\n",
       "</div>"
      ],
      "text/plain": [
       "       date                                            COMMENT  LABEL  \\\n",
       "0  04-05-19  hold, optimisticvalue, becomes, distinct, poss...      1   \n",
       "1  04-05-19   thumb, nasty, bear, love, get, spank, cryptoland      0   \n",
       "2  04-05-19  mysterious, crypto, whale, unveils, meteoric, ...      1   \n",
       "3  04-05-19                 probably, pessimisticvalue, monday      0   \n",
       "4  04-05-19                        short, btc, maßsive, profit      0   \n",
       "\n",
       "       COEF  \n",
       "0  2.623776  \n",
       "1 -0.601800  \n",
       "2  0.446580  \n",
       "3 -1.374982  \n",
       "4 -0.609115  "
      ]
     },
     "execution_count": 129,
     "metadata": {},
     "output_type": "execute_result"
    }
   ],
   "source": [
    "df_bitlabeled_pos.head()"
   ]
  },
  {
   "cell_type": "code",
   "execution_count": 130,
   "metadata": {},
   "outputs": [
    {
     "data": {
      "text/plain": [
       "0    12120\n",
       "1    10562\n",
       "Name: LABEL, dtype: int64"
      ]
     },
     "execution_count": 130,
     "metadata": {},
     "output_type": "execute_result"
    }
   ],
   "source": [
    "df_bitlabeled_pos['LABEL'].value_counts()"
   ]
  },
  {
   "cell_type": "code",
   "execution_count": null,
   "metadata": {},
   "outputs": [],
   "source": [
    "df_bitlabeled_pos.to_excel(\"ML_Data/bit_classified_pos.xlsx\", sheet_name='Sheet_1') "
   ]
  },
  {
   "cell_type": "markdown",
   "metadata": {},
   "source": [
    "Labeled to neg"
   ]
  },
  {
   "cell_type": "code",
   "execution_count": 121,
   "metadata": {},
   "outputs": [],
   "source": [
    "df_bitlabeled_neg=add_label(df_bit, feature_to_coef_hl_neg)"
   ]
  },
  {
   "cell_type": "code",
   "execution_count": 122,
   "metadata": {},
   "outputs": [
    {
     "data": {
      "text/html": [
       "<div>\n",
       "<style scoped>\n",
       "    .dataframe tbody tr th:only-of-type {\n",
       "        vertical-align: middle;\n",
       "    }\n",
       "\n",
       "    .dataframe tbody tr th {\n",
       "        vertical-align: top;\n",
       "    }\n",
       "\n",
       "    .dataframe thead th {\n",
       "        text-align: right;\n",
       "    }\n",
       "</style>\n",
       "<table border=\"1\" class=\"dataframe\">\n",
       "  <thead>\n",
       "    <tr style=\"text-align: right;\">\n",
       "      <th></th>\n",
       "      <th>date</th>\n",
       "      <th>COMMENT</th>\n",
       "      <th>LABEL</th>\n",
       "      <th>COEF</th>\n",
       "    </tr>\n",
       "  </thead>\n",
       "  <tbody>\n",
       "    <tr>\n",
       "      <th>0</th>\n",
       "      <td>04-05-19</td>\n",
       "      <td>hold, optimisticvalue, becomes, distinct, poss...</td>\n",
       "      <td>1</td>\n",
       "      <td>3.024616</td>\n",
       "    </tr>\n",
       "    <tr>\n",
       "      <th>1</th>\n",
       "      <td>04-05-19</td>\n",
       "      <td>thumb, nasty, bear, love, get, spank, cryptoland</td>\n",
       "      <td>0</td>\n",
       "      <td>-0.798447</td>\n",
       "    </tr>\n",
       "    <tr>\n",
       "      <th>2</th>\n",
       "      <td>04-05-19</td>\n",
       "      <td>mysterious, crypto, whale, unveils, meteoric, ...</td>\n",
       "      <td>1</td>\n",
       "      <td>0.840196</td>\n",
       "    </tr>\n",
       "    <tr>\n",
       "      <th>3</th>\n",
       "      <td>04-05-19</td>\n",
       "      <td>probably, pessimisticvalue, monday</td>\n",
       "      <td>0</td>\n",
       "      <td>-1.026745</td>\n",
       "    </tr>\n",
       "    <tr>\n",
       "      <th>4</th>\n",
       "      <td>04-05-19</td>\n",
       "      <td>short, btc, maßsive, profit</td>\n",
       "      <td>1</td>\n",
       "      <td>0.130944</td>\n",
       "    </tr>\n",
       "  </tbody>\n",
       "</table>\n",
       "</div>"
      ],
      "text/plain": [
       "       date                                            COMMENT  LABEL  \\\n",
       "0  04-05-19  hold, optimisticvalue, becomes, distinct, poss...      1   \n",
       "1  04-05-19   thumb, nasty, bear, love, get, spank, cryptoland      0   \n",
       "2  04-05-19  mysterious, crypto, whale, unveils, meteoric, ...      1   \n",
       "3  04-05-19                 probably, pessimisticvalue, monday      0   \n",
       "4  04-05-19                        short, btc, maßsive, profit      1   \n",
       "\n",
       "       COEF  \n",
       "0  3.024616  \n",
       "1 -0.798447  \n",
       "2  0.840196  \n",
       "3 -1.026745  \n",
       "4  0.130944  "
      ]
     },
     "execution_count": 122,
     "metadata": {},
     "output_type": "execute_result"
    }
   ],
   "source": [
    "df_bitlabeled_neg.head()"
   ]
  },
  {
   "cell_type": "code",
   "execution_count": null,
   "metadata": {},
   "outputs": [],
   "source": [
    "df_bitlabeled_neg['LABEL'].value_counts()"
   ]
  },
  {
   "cell_type": "code",
   "execution_count": 123,
   "metadata": {},
   "outputs": [],
   "source": [
    "df_bitlabeled_neg.to_excel(\"ML_Data/bit_classified_neg.xlsx\", sheet_name='Sheet_1') "
   ]
  },
  {
   "cell_type": "markdown",
   "metadata": {},
   "source": [
    "Results for classifier "
   ]
  },
  {
   "cell_type": "code",
   "execution_count": 63,
   "metadata": {},
   "outputs": [],
   "source": [
    "result_bit_pos=classifier(\"lr\",\"y\",\"cv\",df_bitlabeled_pos)"
   ]
  },
  {
   "cell_type": "code",
   "execution_count": 84,
   "metadata": {},
   "outputs": [
    {
     "data": {
      "text/plain": [
       "('Accuracy: 0.943134229667181', 'F1 0.9430249965665214')"
      ]
     },
     "execution_count": 84,
     "metadata": {},
     "output_type": "execute_result"
    }
   ],
   "source": [
    "result_bit_pos[2:4]"
   ]
  },
  {
   "cell_type": "code",
   "execution_count": 64,
   "metadata": {},
   "outputs": [],
   "source": [
    "result_bit_neg=classifier(\"lr\",\"y\",\"cv\",df_bitlabeled_pos)"
   ]
  },
  {
   "cell_type": "code",
   "execution_count": 85,
   "metadata": {},
   "outputs": [
    {
     "data": {
      "text/plain": [
       "('Accuracy: 0.9519506281683933', 'F1 0.9519027405085999')"
      ]
     },
     "execution_count": 85,
     "metadata": {},
     "output_type": "execute_result"
    }
   ],
   "source": [
    "result_bit_neg[2:4]"
   ]
  },
  {
   "cell_type": "code",
   "execution_count": null,
   "metadata": {},
   "outputs": [],
   "source": []
  },
  {
   "cell_type": "code",
   "execution_count": null,
   "metadata": {},
   "outputs": [],
   "source": []
  },
  {
   "cell_type": "markdown",
   "metadata": {},
   "source": [
    "### Bitcoin result mapped, neutral mapped to positive"
   ]
  },
  {
   "cell_type": "code",
   "execution_count": 67,
   "metadata": {},
   "outputs": [],
   "source": [
    "feature_to_coef_bit_pos = {\n",
    "    word: coef for word, coef in zip(\n",
    "        result_bit_pos[1].get_feature_names(), result_bit_pos[0].coef_[0]\n",
    "    )    \n",
    "}"
   ]
  },
  {
   "cell_type": "code",
   "execution_count": 68,
   "metadata": {},
   "outputs": [
    {
     "name": "stdout",
     "output_type": "stream",
     "text": [
      "('optimisticvalue', 10.448498174869902)\n",
      "('come', 5.5309449643145845)\n",
      "('buy', 5.3025002942963075)\n",
      "('hold', 4.9594003005378084)\n",
      "('good', 4.946538698795578)\n",
      "('buying', 4.349338440048048)\n",
      "('bitcoin', 4.070501625769858)\n",
      "('close', 3.898465854725408)\n",
      "('cover', 3.831341516367673)\n",
      "('soon', 3.624530194450121)\n"
     ]
    }
   ],
   "source": [
    "for best_positive in sorted(\n",
    "    feature_to_coef_bit_pos.items(), \n",
    "    key=lambda x: x[1], reverse=True, \n",
    "    )[:10]:\n",
    "    print (best_positive)"
   ]
  },
  {
   "cell_type": "code",
   "execution_count": 69,
   "metadata": {},
   "outputs": [
    {
     "name": "stdout",
     "output_type": "stream",
     "text": [
      "('know', -5.64748413706954)\n",
      "('sell', -5.631504469423946)\n",
      "('need', -4.644676866110371)\n",
      "('take', -4.043689807135337)\n",
      "('try', -4.0315031929983505)\n",
      "('one', -4.024366196233891)\n",
      "('many', -3.986269912720603)\n",
      "('yet', -3.9645309734836274)\n",
      "('last', -3.75212645617468)\n",
      "('low', -3.5909646603354712)\n"
     ]
    }
   ],
   "source": [
    "for best_negative in sorted(\n",
    "    feature_to_coef_bit_pos.items(), \n",
    "    key=lambda x: x[1] \n",
    "    )[:10]:\n",
    "    print (best_negative)"
   ]
  },
  {
   "cell_type": "markdown",
   "metadata": {},
   "source": [
    "## Tesla"
   ]
  },
  {
   "cell_type": "code",
   "execution_count": 131,
   "metadata": {},
   "outputs": [],
   "source": [
    "df_teslabeled_pos=add_label(df_ts, feature_to_coef_hl_pos)\n"
   ]
  },
  {
   "cell_type": "markdown",
   "metadata": {},
   "source": [
    "Labeled to pos"
   ]
  },
  {
   "cell_type": "code",
   "execution_count": 132,
   "metadata": {},
   "outputs": [],
   "source": [
    "df_teslabeled_pos=add_label(df_ts, feature_to_coef_hl_pos)\n"
   ]
  },
  {
   "cell_type": "code",
   "execution_count": 133,
   "metadata": {},
   "outputs": [
    {
     "data": {
      "text/html": [
       "<div>\n",
       "<style scoped>\n",
       "    .dataframe tbody tr th:only-of-type {\n",
       "        vertical-align: middle;\n",
       "    }\n",
       "\n",
       "    .dataframe tbody tr th {\n",
       "        vertical-align: top;\n",
       "    }\n",
       "\n",
       "    .dataframe thead th {\n",
       "        text-align: right;\n",
       "    }\n",
       "</style>\n",
       "<table border=\"1\" class=\"dataframe\">\n",
       "  <thead>\n",
       "    <tr style=\"text-align: right;\">\n",
       "      <th></th>\n",
       "      <th>date</th>\n",
       "      <th>COMMENT</th>\n",
       "      <th>LABEL</th>\n",
       "      <th>COEF</th>\n",
       "    </tr>\n",
       "  </thead>\n",
       "  <tbody>\n",
       "    <tr>\n",
       "      <th>0</th>\n",
       "      <td>03-05-19</td>\n",
       "      <td>tell, ratio, bull, bear, comment, section, bas...</td>\n",
       "      <td>1</td>\n",
       "      <td>0.704567</td>\n",
       "    </tr>\n",
       "    <tr>\n",
       "      <th>1</th>\n",
       "      <td>03-05-19</td>\n",
       "      <td>right, total, debt, billion, dollar</td>\n",
       "      <td>0</td>\n",
       "      <td>-0.799932</td>\n",
       "    </tr>\n",
       "    <tr>\n",
       "      <th>2</th>\n",
       "      <td>03-05-19</td>\n",
       "      <td>dont, know, day, tesla, hasnt, make, solid, pr...</td>\n",
       "      <td>0</td>\n",
       "      <td>-2.799863</td>\n",
       "    </tr>\n",
       "    <tr>\n",
       "      <th>3</th>\n",
       "      <td>03-05-19</td>\n",
       "      <td>day, great, way, end, week, cheer, cleaner, fu...</td>\n",
       "      <td>0</td>\n",
       "      <td>-1.239853</td>\n",
       "    </tr>\n",
       "    <tr>\n",
       "      <th>4</th>\n",
       "      <td>03-05-19</td>\n",
       "      <td>tesla, waymo, uber, mercedes, ge, batterelectr...</td>\n",
       "      <td>1</td>\n",
       "      <td>1.261437</td>\n",
       "    </tr>\n",
       "  </tbody>\n",
       "</table>\n",
       "</div>"
      ],
      "text/plain": [
       "       date                                            COMMENT  LABEL  \\\n",
       "0  03-05-19  tell, ratio, bull, bear, comment, section, bas...      1   \n",
       "1  03-05-19                right, total, debt, billion, dollar      0   \n",
       "2  03-05-19  dont, know, day, tesla, hasnt, make, solid, pr...      0   \n",
       "3  03-05-19  day, great, way, end, week, cheer, cleaner, fu...      0   \n",
       "4  03-05-19  tesla, waymo, uber, mercedes, ge, batterelectr...      1   \n",
       "\n",
       "       COEF  \n",
       "0  0.704567  \n",
       "1 -0.799932  \n",
       "2 -2.799863  \n",
       "3 -1.239853  \n",
       "4  1.261437  "
      ]
     },
     "execution_count": 133,
     "metadata": {},
     "output_type": "execute_result"
    }
   ],
   "source": [
    "df_teslabeled_pos.head()"
   ]
  },
  {
   "cell_type": "code",
   "execution_count": 134,
   "metadata": {},
   "outputs": [
    {
     "data": {
      "text/plain": [
       "0    2464\n",
       "1    1743\n",
       "Name: LABEL, dtype: int64"
      ]
     },
     "execution_count": 134,
     "metadata": {},
     "output_type": "execute_result"
    }
   ],
   "source": [
    "df_teslabeled_pos['LABEL'].value_counts()"
   ]
  },
  {
   "cell_type": "code",
   "execution_count": 135,
   "metadata": {},
   "outputs": [],
   "source": [
    "df_teslabeled_pos.to_excel(\"ML_Data/bit_classified_pos.xlsx\", sheet_name='Sheet_1') "
   ]
  },
  {
   "cell_type": "markdown",
   "metadata": {},
   "source": [
    "Labeled to neg"
   ]
  },
  {
   "cell_type": "code",
   "execution_count": 136,
   "metadata": {},
   "outputs": [],
   "source": [
    "df_teslabeled_neg=add_label(df_ts, feature_to_coef_hl_neg)"
   ]
  },
  {
   "cell_type": "code",
   "execution_count": 137,
   "metadata": {},
   "outputs": [
    {
     "data": {
      "text/html": [
       "<div>\n",
       "<style scoped>\n",
       "    .dataframe tbody tr th:only-of-type {\n",
       "        vertical-align: middle;\n",
       "    }\n",
       "\n",
       "    .dataframe tbody tr th {\n",
       "        vertical-align: top;\n",
       "    }\n",
       "\n",
       "    .dataframe thead th {\n",
       "        text-align: right;\n",
       "    }\n",
       "</style>\n",
       "<table border=\"1\" class=\"dataframe\">\n",
       "  <thead>\n",
       "    <tr style=\"text-align: right;\">\n",
       "      <th></th>\n",
       "      <th>date</th>\n",
       "      <th>COMMENT</th>\n",
       "      <th>LABEL</th>\n",
       "      <th>COEF</th>\n",
       "    </tr>\n",
       "  </thead>\n",
       "  <tbody>\n",
       "    <tr>\n",
       "      <th>0</th>\n",
       "      <td>03-05-19</td>\n",
       "      <td>tell, ratio, bull, bear, comment, section, bas...</td>\n",
       "      <td>0</td>\n",
       "      <td>-0.141945</td>\n",
       "    </tr>\n",
       "    <tr>\n",
       "      <th>1</th>\n",
       "      <td>03-05-19</td>\n",
       "      <td>right, total, debt, billion, dollar</td>\n",
       "      <td>0</td>\n",
       "      <td>-0.831411</td>\n",
       "    </tr>\n",
       "    <tr>\n",
       "      <th>2</th>\n",
       "      <td>03-05-19</td>\n",
       "      <td>dont, know, day, tesla, hasnt, make, solid, pr...</td>\n",
       "      <td>0</td>\n",
       "      <td>-2.396838</td>\n",
       "    </tr>\n",
       "    <tr>\n",
       "      <th>3</th>\n",
       "      <td>03-05-19</td>\n",
       "      <td>day, great, way, end, week, cheer, cleaner, fu...</td>\n",
       "      <td>1</td>\n",
       "      <td>0.844712</td>\n",
       "    </tr>\n",
       "    <tr>\n",
       "      <th>4</th>\n",
       "      <td>03-05-19</td>\n",
       "      <td>tesla, waymo, uber, mercedes, ge, batterelectr...</td>\n",
       "      <td>1</td>\n",
       "      <td>2.302141</td>\n",
       "    </tr>\n",
       "  </tbody>\n",
       "</table>\n",
       "</div>"
      ],
      "text/plain": [
       "       date                                            COMMENT  LABEL  \\\n",
       "0  03-05-19  tell, ratio, bull, bear, comment, section, bas...      0   \n",
       "1  03-05-19                right, total, debt, billion, dollar      0   \n",
       "2  03-05-19  dont, know, day, tesla, hasnt, make, solid, pr...      0   \n",
       "3  03-05-19  day, great, way, end, week, cheer, cleaner, fu...      1   \n",
       "4  03-05-19  tesla, waymo, uber, mercedes, ge, batterelectr...      1   \n",
       "\n",
       "       COEF  \n",
       "0 -0.141945  \n",
       "1 -0.831411  \n",
       "2 -2.396838  \n",
       "3  0.844712  \n",
       "4  2.302141  "
      ]
     },
     "execution_count": 137,
     "metadata": {},
     "output_type": "execute_result"
    }
   ],
   "source": [
    "df_teslabeled_neg.head()"
   ]
  },
  {
   "cell_type": "code",
   "execution_count": 138,
   "metadata": {},
   "outputs": [],
   "source": [
    "df_teslabeled_neg.to_excel(\"ML_Data/bit_classified_neg.xlsx\", sheet_name='Sheet_1') "
   ]
  },
  {
   "cell_type": "code",
   "execution_count": null,
   "metadata": {},
   "outputs": [],
   "source": []
  },
  {
   "cell_type": "code",
   "execution_count": 73,
   "metadata": {},
   "outputs": [],
   "source": [
    "result_tes_pos=classifier(\"lr\",\"y\",\"cv\",df_teslabeled_pos)"
   ]
  },
  {
   "cell_type": "code",
   "execution_count": 74,
   "metadata": {},
   "outputs": [],
   "source": [
    "result_tes_neg=classifier(\"lr\",\"y\",\"cv\",df_teslabeled_neg)"
   ]
  },
  {
   "cell_type": "code",
   "execution_count": 86,
   "metadata": {},
   "outputs": [
    {
     "data": {
      "text/plain": [
       "('Accuracy: 0.8919239904988123', 'F1 0.8914246003167761')"
      ]
     },
     "execution_count": 86,
     "metadata": {},
     "output_type": "execute_result"
    }
   ],
   "source": [
    "result_tes_pos[2:4]"
   ]
  },
  {
   "cell_type": "code",
   "execution_count": 88,
   "metadata": {},
   "outputs": [
    {
     "data": {
      "text/plain": [
       "('Accuracy: 0.9121140142517815', 'F1 0.911857361407464')"
      ]
     },
     "execution_count": 88,
     "metadata": {},
     "output_type": "execute_result"
    }
   ],
   "source": [
    "result_tes_neg[2:4]"
   ]
  },
  {
   "cell_type": "markdown",
   "metadata": {},
   "source": [
    "### Tesla result mapped, neutral mapped to positive"
   ]
  },
  {
   "cell_type": "code",
   "execution_count": 75,
   "metadata": {},
   "outputs": [],
   "source": [
    "feature_to_coef_tes_pos = {\n",
    "    word: coef for word, coef in zip(\n",
    "        result_tes_pos[1].get_feature_names(), result_tes_pos[0].coef_[0]\n",
    "    )    \n",
    "}"
   ]
  },
  {
   "cell_type": "code",
   "execution_count": 76,
   "metadata": {},
   "outputs": [
    {
     "name": "stdout",
     "output_type": "stream",
     "text": [
      "('optimisticvalue', 5.237980426137993)\n",
      "('buy', 3.254523656833232)\n",
      "('hold', 3.2134451255218317)\n",
      "('come', 3.15356919295822)\n",
      "('good', 3.0031003014560467)\n",
      "('go', 2.4898691895762557)\n",
      "('hour', 2.3925249651576097)\n",
      "('buying', 2.1704773616104394)\n",
      "('close', 1.99301537007207)\n",
      "('ok', 1.968232448930962)\n"
     ]
    }
   ],
   "source": [
    "for best_positive in sorted(\n",
    "    feature_to_coef_tes_pos.items(), \n",
    "    key=lambda x: x[1], reverse=True, \n",
    "    )[:10]:\n",
    "    print (best_positive)"
   ]
  },
  {
   "cell_type": "code",
   "execution_count": 77,
   "metadata": {},
   "outputs": [
    {
     "name": "stdout",
     "output_type": "stream",
     "text": [
      "('sell', -3.113630611835505)\n",
      "('know', -2.558442440560808)\n",
      "('one', -2.5009558992494454)\n",
      "('yet', -2.1690605027328735)\n",
      "('need', -2.165512188969157)\n",
      "('bad', -2.0168996742788914)\n",
      "('try', -1.8843146907282229)\n",
      "('fall', -1.8818429346322458)\n",
      "('pessimisticvalue', -1.8032735692601785)\n",
      "('car', -1.7742209455915134)\n"
     ]
    }
   ],
   "source": [
    "for best_negative in sorted(\n",
    "    feature_to_coef_tes_pos.items(), \n",
    "    key=lambda x: x[1] \n",
    "    )[:10]:\n",
    "    print (best_negative)"
   ]
  },
  {
   "cell_type": "markdown",
   "metadata": {},
   "source": [
    "## Dow Jones"
   ]
  },
  {
   "cell_type": "markdown",
   "metadata": {},
   "source": [
    "Labeled to pos"
   ]
  },
  {
   "cell_type": "code",
   "execution_count": 139,
   "metadata": {},
   "outputs": [],
   "source": [
    "df_djlabeled_pos=add_label(df_dj, feature_to_coef_hl_pos)"
   ]
  },
  {
   "cell_type": "code",
   "execution_count": 140,
   "metadata": {},
   "outputs": [
    {
     "data": {
      "text/html": [
       "<div>\n",
       "<style scoped>\n",
       "    .dataframe tbody tr th:only-of-type {\n",
       "        vertical-align: middle;\n",
       "    }\n",
       "\n",
       "    .dataframe tbody tr th {\n",
       "        vertical-align: top;\n",
       "    }\n",
       "\n",
       "    .dataframe thead th {\n",
       "        text-align: right;\n",
       "    }\n",
       "</style>\n",
       "<table border=\"1\" class=\"dataframe\">\n",
       "  <thead>\n",
       "    <tr style=\"text-align: right;\">\n",
       "      <th></th>\n",
       "      <th>date</th>\n",
       "      <th>COMMENT</th>\n",
       "      <th>LABEL</th>\n",
       "      <th>COEF</th>\n",
       "    </tr>\n",
       "  </thead>\n",
       "  <tbody>\n",
       "    <tr>\n",
       "      <th>0</th>\n",
       "      <td>03-05-19</td>\n",
       "      <td>stock, market, gold, silver, one, lie, answer,...</td>\n",
       "      <td>0</td>\n",
       "      <td>-2.464765</td>\n",
       "    </tr>\n",
       "    <tr>\n",
       "      <th>1</th>\n",
       "      <td>03-05-19</td>\n",
       "      <td>company, pay, income, tax, amazon, delta, air,...</td>\n",
       "      <td>1</td>\n",
       "      <td>1.072745</td>\n",
       "    </tr>\n",
       "    <tr>\n",
       "      <th>2</th>\n",
       "      <td>03-05-19</td>\n",
       "      <td>gold, silver, interesting</td>\n",
       "      <td>0</td>\n",
       "      <td>-0.206652</td>\n",
       "    </tr>\n",
       "    <tr>\n",
       "      <th>3</th>\n",
       "      <td>03-05-19</td>\n",
       "      <td>melt, up？crazy</td>\n",
       "      <td>0</td>\n",
       "      <td>0.000000</td>\n",
       "    </tr>\n",
       "    <tr>\n",
       "      <th>4</th>\n",
       "      <td>03-05-19</td>\n",
       "      <td>crazy, money, flow, daily, show, get, yet, mar...</td>\n",
       "      <td>0</td>\n",
       "      <td>-0.467521</td>\n",
       "    </tr>\n",
       "  </tbody>\n",
       "</table>\n",
       "</div>"
      ],
      "text/plain": [
       "       date                                            COMMENT  LABEL  \\\n",
       "0  03-05-19  stock, market, gold, silver, one, lie, answer,...      0   \n",
       "1  03-05-19  company, pay, income, tax, amazon, delta, air,...      1   \n",
       "2  03-05-19                          gold, silver, interesting      0   \n",
       "3  03-05-19                                     melt, up？crazy      0   \n",
       "4  03-05-19  crazy, money, flow, daily, show, get, yet, mar...      0   \n",
       "\n",
       "       COEF  \n",
       "0 -2.464765  \n",
       "1  1.072745  \n",
       "2 -0.206652  \n",
       "3  0.000000  \n",
       "4 -0.467521  "
      ]
     },
     "execution_count": 140,
     "metadata": {},
     "output_type": "execute_result"
    }
   ],
   "source": [
    "df_djlabeled_pos.head()"
   ]
  },
  {
   "cell_type": "code",
   "execution_count": 141,
   "metadata": {},
   "outputs": [
    {
     "data": {
      "text/plain": [
       "0    7553\n",
       "1    5476\n",
       "Name: LABEL, dtype: int64"
      ]
     },
     "execution_count": 141,
     "metadata": {},
     "output_type": "execute_result"
    }
   ],
   "source": [
    "df_djlabeled_pos['LABEL'].value_counts()"
   ]
  },
  {
   "cell_type": "code",
   "execution_count": 142,
   "metadata": {},
   "outputs": [],
   "source": [
    "df_djlabeled_pos.to_excel(\"ML_Data/bit_classified_pos.xlsx\", sheet_name='Sheet_1') "
   ]
  },
  {
   "cell_type": "markdown",
   "metadata": {},
   "source": [
    "Labeled to neg"
   ]
  },
  {
   "cell_type": "code",
   "execution_count": 143,
   "metadata": {},
   "outputs": [],
   "source": [
    "df_djlabeled_neg=add_label(df_dj, feature_to_coef_hl_neg)"
   ]
  },
  {
   "cell_type": "code",
   "execution_count": 144,
   "metadata": {},
   "outputs": [
    {
     "data": {
      "text/html": [
       "<div>\n",
       "<style scoped>\n",
       "    .dataframe tbody tr th:only-of-type {\n",
       "        vertical-align: middle;\n",
       "    }\n",
       "\n",
       "    .dataframe tbody tr th {\n",
       "        vertical-align: top;\n",
       "    }\n",
       "\n",
       "    .dataframe thead th {\n",
       "        text-align: right;\n",
       "    }\n",
       "</style>\n",
       "<table border=\"1\" class=\"dataframe\">\n",
       "  <thead>\n",
       "    <tr style=\"text-align: right;\">\n",
       "      <th></th>\n",
       "      <th>date</th>\n",
       "      <th>COMMENT</th>\n",
       "      <th>LABEL</th>\n",
       "      <th>COEF</th>\n",
       "    </tr>\n",
       "  </thead>\n",
       "  <tbody>\n",
       "    <tr>\n",
       "      <th>0</th>\n",
       "      <td>04-05-19</td>\n",
       "      <td>hold, optimisticvalue, becomes, distinct, poss...</td>\n",
       "      <td>1</td>\n",
       "      <td>3.024616</td>\n",
       "    </tr>\n",
       "    <tr>\n",
       "      <th>1</th>\n",
       "      <td>04-05-19</td>\n",
       "      <td>thumb, nasty, bear, love, get, spank, cryptoland</td>\n",
       "      <td>0</td>\n",
       "      <td>-0.798447</td>\n",
       "    </tr>\n",
       "    <tr>\n",
       "      <th>2</th>\n",
       "      <td>04-05-19</td>\n",
       "      <td>mysterious, crypto, whale, unveils, meteoric, ...</td>\n",
       "      <td>1</td>\n",
       "      <td>0.840196</td>\n",
       "    </tr>\n",
       "    <tr>\n",
       "      <th>3</th>\n",
       "      <td>04-05-19</td>\n",
       "      <td>probably, pessimisticvalue, monday</td>\n",
       "      <td>0</td>\n",
       "      <td>-1.026745</td>\n",
       "    </tr>\n",
       "    <tr>\n",
       "      <th>4</th>\n",
       "      <td>04-05-19</td>\n",
       "      <td>short, btc, maßsive, profit</td>\n",
       "      <td>1</td>\n",
       "      <td>0.130944</td>\n",
       "    </tr>\n",
       "  </tbody>\n",
       "</table>\n",
       "</div>"
      ],
      "text/plain": [
       "       date                                            COMMENT  LABEL  \\\n",
       "0  04-05-19  hold, optimisticvalue, becomes, distinct, poss...      1   \n",
       "1  04-05-19   thumb, nasty, bear, love, get, spank, cryptoland      0   \n",
       "2  04-05-19  mysterious, crypto, whale, unveils, meteoric, ...      1   \n",
       "3  04-05-19                 probably, pessimisticvalue, monday      0   \n",
       "4  04-05-19                        short, btc, maßsive, profit      1   \n",
       "\n",
       "       COEF  \n",
       "0  3.024616  \n",
       "1 -0.798447  \n",
       "2  0.840196  \n",
       "3 -1.026745  \n",
       "4  0.130944  "
      ]
     },
     "execution_count": 144,
     "metadata": {},
     "output_type": "execute_result"
    }
   ],
   "source": [
    "df_djlabeled_neg.head()"
   ]
  },
  {
   "cell_type": "code",
   "execution_count": 145,
   "metadata": {},
   "outputs": [
    {
     "data": {
      "text/plain": [
       "0    12233\n",
       "1    10449\n",
       "Name: LABEL, dtype: int64"
      ]
     },
     "execution_count": 145,
     "metadata": {},
     "output_type": "execute_result"
    }
   ],
   "source": [
    "df_djlabeled_neg['LABEL'].value_counts()"
   ]
  },
  {
   "cell_type": "code",
   "execution_count": 146,
   "metadata": {},
   "outputs": [],
   "source": [
    "df_djlabeled_neg.to_excel(\"ML_Data/bit_classified_neg.xlsx\", sheet_name='Sheet_1') "
   ]
  },
  {
   "cell_type": "markdown",
   "metadata": {},
   "source": [
    "Results for classifier "
   ]
  },
  {
   "cell_type": "code",
   "execution_count": null,
   "metadata": {},
   "outputs": [],
   "source": []
  },
  {
   "cell_type": "code",
   "execution_count": 80,
   "metadata": {},
   "outputs": [],
   "source": [
    "result_dj_pos=classifier(\"lr\",\"y\",\"cv\",df_djlabeled_pos)"
   ]
  },
  {
   "cell_type": "code",
   "execution_count": 81,
   "metadata": {},
   "outputs": [],
   "source": [
    "result_dj_neg=classifier(\"lr\",\"y\",\"cv\",df_djlabeled_neg)"
   ]
  },
  {
   "cell_type": "code",
   "execution_count": 91,
   "metadata": {},
   "outputs": [
    {
     "data": {
      "text/plain": [
       "('Accuracy: 0.9405218726016884', 'F1 0.9403874234070891')"
      ]
     },
     "execution_count": 91,
     "metadata": {},
     "output_type": "execute_result"
    }
   ],
   "source": [
    "result_dj_pos[2:4]"
   ]
  },
  {
   "cell_type": "code",
   "execution_count": 92,
   "metadata": {},
   "outputs": [
    {
     "data": {
      "text/plain": [
       "('Accuracy: 0.9282425172678435', 'F1 0.927937611947455')"
      ]
     },
     "execution_count": 92,
     "metadata": {},
     "output_type": "execute_result"
    }
   ],
   "source": [
    "result_dj_neg[2:4]"
   ]
  },
  {
   "cell_type": "markdown",
   "metadata": {},
   "source": [
    "### Dow jones result mapped, neutral mapped to positive"
   ]
  },
  {
   "cell_type": "code",
   "execution_count": 82,
   "metadata": {},
   "outputs": [],
   "source": [
    "feature_to_coef_dj_pos = {\n",
    "    word: coef for word, coef in zip(\n",
    "        result_dj_pos[1].get_feature_names(), result_dj_pos[0].coef_[0]\n",
    "    )    \n",
    "}"
   ]
  },
  {
   "cell_type": "code",
   "execution_count": 89,
   "metadata": {},
   "outputs": [
    {
     "name": "stdout",
     "output_type": "stream",
     "text": [
      "('optimisticvalue', 8.540239418553975)\n",
      "('come', 4.943839737513353)\n",
      "('buy', 4.5748817121086605)\n",
      "('good', 4.57241670714433)\n",
      "('hold', 4.331025666951921)\n",
      "('close', 3.8068796384917283)\n",
      "('go', 3.3586561581872085)\n",
      "('cover', 3.1961506969535924)\n",
      "('soon', 2.9161872489876695)\n",
      "('buying', 2.8956733451183583)\n"
     ]
    }
   ],
   "source": [
    "for best_positive in sorted(\n",
    "    feature_to_coef_dj_pos.items(), \n",
    "    key=lambda x: x[1], reverse=True, \n",
    "    )[:10]:\n",
    "    print (best_positive)"
   ]
  },
  {
   "cell_type": "code",
   "execution_count": 90,
   "metadata": {},
   "outputs": [
    {
     "name": "stdout",
     "output_type": "stream",
     "text": [
      "('sell', -3.113630611835505)\n",
      "('know', -2.558442440560808)\n",
      "('one', -2.5009558992494454)\n",
      "('yet', -2.1690605027328735)\n",
      "('need', -2.165512188969157)\n",
      "('bad', -2.0168996742788914)\n",
      "('try', -1.8843146907282229)\n",
      "('fall', -1.8818429346322458)\n",
      "('pessimisticvalue', -1.8032735692601785)\n",
      "('car', -1.7742209455915134)\n"
     ]
    }
   ],
   "source": [
    "for best_negative in sorted(\n",
    "    feature_to_coef_tes_pos.items(), \n",
    "    key=lambda x: x[1] \n",
    "    )[:10]:\n",
    "    print (best_negative)"
   ]
  },
  {
   "cell_type": "code",
   "execution_count": null,
   "metadata": {},
   "outputs": [],
   "source": []
  },
  {
   "cell_type": "code",
   "execution_count": null,
   "metadata": {},
   "outputs": [],
   "source": []
  },
  {
   "cell_type": "code",
   "execution_count": null,
   "metadata": {},
   "outputs": [],
   "source": []
  }
 ],
 "metadata": {
  "kernelspec": {
   "display_name": "Python 3",
   "language": "python",
   "name": "python3"
  },
  "language_info": {
   "codemirror_mode": {
    "name": "ipython",
    "version": 3
   },
   "file_extension": ".py",
   "mimetype": "text/x-python",
   "name": "python",
   "nbconvert_exporter": "python",
   "pygments_lexer": "ipython3",
   "version": "3.6.5"
  }
 },
 "nbformat": 4,
 "nbformat_minor": 2
}
