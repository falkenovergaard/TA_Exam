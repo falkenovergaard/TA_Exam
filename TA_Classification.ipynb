{
 "cells": [
  {
   "cell_type": "code",
   "execution_count": 1,
   "metadata": {},
   "outputs": [],
   "source": [
    "import pandas as pd\n",
    "from sklearn.feature_extraction.text import CountVectorizer\n",
    "from sklearn.feature_extraction.text import TfidfVectorizer\n",
    "from sklearn.feature_extraction.text import TfidfTransformer\n",
    "from sklearn.model_selection import train_test_split\n",
    "from sklearn.naive_bayes import MultinomialNB\n",
    "from sklearn.naive_bayes import GaussianNB\n",
    "from sklearn.metrics import accuracy_score, f1_score\n",
    "from sklearn.linear_model import LogisticRegression\n",
    "from sklearn import svm"
   ]
  },
  {
   "cell_type": "code",
   "execution_count": 2,
   "metadata": {},
   "outputs": [],
   "source": [
    "df_pos = pd.read_excel('data/output/clean_handlabeled_data.xlsx')\n",
    "df_neg = pd.read_excel('data/output/clean_handlabeled_data.xlsx')"
   ]
  },
  {
   "cell_type": "markdown",
   "metadata": {},
   "source": [
    "Raghava"
   ]
  },
  {
   "cell_type": "code",
   "execution_count": 3,
   "metadata": {},
   "outputs": [],
   "source": [
    "df_bit = pd.read_excel(\"data/output/clean_bit_data.xlsx\") \n",
    "df_ts = pd.read_excel(\"data/output/clean_tesla_data.xlsx\") \n",
    "df_dj = pd.read_excel(\"data/output/clean_dowjones_data.xlsx\") "
   ]
  },
  {
   "cell_type": "code",
   "execution_count": 122,
   "metadata": {},
   "outputs": [],
   "source": [
    "df_bit = df_bit[pd.notnull(df_bit['COMMENT'])]\n",
    "df_ts = df_ts[pd.notnull(df_ts['COMMENT'])]\n",
    "df_dj = df_dj[pd.notnull(df_dj['COMMENT'])]\n",
    "\n",
    "df_pos = df_pos[pd.notnull(df_pos['LABEL'])]\n",
    "df_neg = df_neg[pd.notnull(df_neg['LABEL'])]\n",
    "df_pos = df_pos[pd.notnull(df_pos['COMMENT'])]\n",
    "df_neg = df_neg[pd.notnull(df_neg['COMMENT'])]\n"
   ]
  },
  {
   "cell_type": "code",
   "execution_count": 123,
   "metadata": {},
   "outputs": [],
   "source": [
    "#df_bit.info()"
   ]
  },
  {
   "cell_type": "markdown",
   "metadata": {},
   "source": [
    "## Classifier"
   ]
  },
  {
   "cell_type": "code",
   "execution_count": 124,
   "metadata": {},
   "outputs": [],
   "source": [
    "df_pos['LABEL'] = df_pos['LABEL'].map({'NEU':'POS','POS':'POS','NEG':'NEG'})"
   ]
  },
  {
   "cell_type": "code",
   "execution_count": 125,
   "metadata": {},
   "outputs": [],
   "source": [
    "#df_pos.info()"
   ]
  },
  {
   "cell_type": "code",
   "execution_count": 126,
   "metadata": {},
   "outputs": [],
   "source": [
    "df_neg['LABEL'] = df_neg['LABEL'].map({'NEU':'NEG','POS':'POS','NEG':'NEG'})"
   ]
  },
  {
   "cell_type": "code",
   "execution_count": null,
   "metadata": {},
   "outputs": [],
   "source": []
  },
  {
   "cell_type": "code",
   "execution_count": 167,
   "metadata": {},
   "outputs": [],
   "source": [
    "def classifier(clf,strat,vec,df):\n",
    "    \n",
    "    y = df['LABEL'].astype(str)\n",
    "    X = df.COMMENT.astype(str)\n",
    "    #y = pd.get_dummies(y)\n",
    "    \n",
    "    if vec == \"cv\":\n",
    "        count = CountVectorizer()\n",
    "    elif vec == \"tdidf\":\n",
    "        count = TfidfVectorizer(binary=True, ngram_range=(1,1), use_idf=False)\n",
    "    \n",
    "    if strat == \"y\":\n",
    "        print(X)\n",
    "        X_train, X_test, y_train, y_test = train_test_split(X, y, test_size=0.2,random_state=42)\n",
    "        X_train_counts = count.fit_transform(X_train)\n",
    "        #print(X_train_counts)\n",
    "        X_test_counts = count.transform(X_test)\n",
    "\n",
    "        \n",
    "    elif strat == \"n\":\n",
    "        X_train, X_test, y_train, y_test = train_test_split(X, y, test_size=0.2) \n",
    "        X_train_counts = count.fit_transform(X_train)\n",
    "        #print(X_train_counts)\n",
    "        X_test_counts = count.transform(X_test)\n",
    "\n",
    "    \n",
    "    if clf == \"lr\":\n",
    "        clf = LogisticRegression(solver=\"lbfgs\",C=0.5).fit(X_train_counts, y_train)\n",
    "        #clf = LogisticRegression(C=0.4).fit(X_train_counts, y_train)\n",
    "        \n",
    "    elif clf == \"mnb\":\n",
    "        clf = MultinomialNB().fit(X_train_counts, y_train)\n",
    "        #clf = GaussianNB().fit(X_train_counts, y_train)\n",
    "        \n",
    "    \n",
    "    elif clf == \"svm\":\n",
    "        clf = svm.SVC(kernel='linear').fit(X_train_counts, y_train)\n",
    "\n",
    "    yPred = clf.predict(X_test_counts)\n",
    "    yPred_log = clf.predict_proba(X_test_counts)\n",
    "    \n",
    "    list_P = list(zip(yPred, X_test))\n",
    "    list_T = list(zip(yPred, y_test, X_test)) \n",
    "    \n",
    "    \n",
    "    acc=accuracy_score(y_test,yPred)\n",
    "    f1=f1_score(y_test,yPred, average='weighted')\n",
    "\n",
    "    return clf, count,\"Accuracy: %s\" % acc, \"F1 %s\" % f1, list_P, list_T,X_test"
   ]
  },
  {
   "cell_type": "code",
   "execution_count": 168,
   "metadata": {},
   "outputs": [
    {
     "name": "stdout",
     "output_type": "stream",
     "text": [
      "0      thats, bull, say, since, pessimisticvalue, k, ...\n",
      "1      hello, guy, anyone, use, ig, market, issue, pl...\n",
      "2      year, old, hand, pin, falcon, wing, door, subm...\n",
      "3                       time, breka, never, really, guys\n",
      "4      world, economy, th, final, one, trump, bankruptcy\n",
      "5      come, q, extremely, strong, ford, expect, bill...\n",
      "6                                  bad, pessimisticvalue\n",
      "7      see, joke, right, smell, ponzihistory, doesnt,...\n",
      "8      bear, case, touch, fall, bull, case, retest, take\n",
      "9      distance, reentering, downward, channel, pullb...\n",
      "11                                           stock, best\n",
      "12     open, position, optimisticvalue, target, k, be...\n",
      "13                                     yes, hope, prayer\n",
      "14                        fiat, money, go, reflect, q, q\n",
      "15     h, mbb, bb, toughly, narrow, stil, mkc, ema, p...\n",
      "16     time, climb, weightless, room, keep, hal, comp...\n",
      "17     good, news, least, month, might, provide, cash...\n",
      "18                                           anemic, red\n",
      "19     pessimisticvalue, supportive, accommodative, f...\n",
      "20                         short, squeeze, elon, promise\n",
      "21                                               k, come\n",
      "22                                           tg, achieve\n",
      "23                    rule, dont, listen, lol, laughable\n",
      "24                                     riss, see, volume\n",
      "25                                             buy, sell\n",
      "26     lol, spell, movement, last, week, almost, verb...\n",
      "27                      jesus, coin, prayer, appropriate\n",
      "28                                    buy, call, roaring\n",
      "29     guy, musk, make, million, dollar, past, hour, ...\n",
      "30     indian, substantial, amount, bitcoin, prob, le...\n",
      "                             ...                        \n",
      "968                   every, hope, reversal, sell, watch\n",
      "969         told, ya, bond, market, right, equity, wrong\n",
      "970    tesla, waymo, uber, mercedes, ge, batterelectr...\n",
      "972                                        expect, close\n",
      "973    tsla, short, interest, bn, mm, share, short, f...\n",
      "974                      think, end, mystery, soon, soer\n",
      "975    stock, market, immune, economic, indicator, sh...\n",
      "976    tesla, would, well, go, private, company, read...\n",
      "977                im, happy, right, really, go, hahahah\n",
      "978                                 buy, dow, every, dip\n",
      "979    mark, word, hit, approtunity, buy, warren, buf...\n",
      "980                      xem, btc, chart, cup, formation\n",
      "981                               fake, news, time, burn\n",
      "982                     dream, tesla, gon, na, hopefully\n",
      "983                       told, go, k, send, see, doctor\n",
      "984                                        bull, exhaust\n",
      "985    loli, guess, would, wish, id, dont, kid, yours...\n",
      "986    unless, confirms, hand, method, would, wait, b...\n",
      "987                      come, beautiful, red, christmas\n",
      "988                    please, dont, panic, tesla, space\n",
      "989    south, korean, card, company, block, transacti...\n",
      "990       china, stock, rally, policy, ease, speculation\n",
      "991    news, last, month, start, sell, eu, china, bec...\n",
      "992                                       sip, breakfast\n",
      "993                  try, tell, earlier, k, capitulation\n",
      "994                                      tesla, even, go\n",
      "995                                   im, hop, eth, take\n",
      "996    gon, na, come, back, cus, walmart, oversold, g...\n",
      "997    news, tesla, chief, elon, musk, change, twitte...\n",
      "998    anyone, else, hear, jaw, theme, play, backgrou...\n",
      "Name: COMMENT, Length: 974, dtype: object\n",
      "0      thats, bull, say, since, pessimisticvalue, k, ...\n",
      "1      hello, guy, anyone, use, ig, market, issue, pl...\n",
      "2      year, old, hand, pin, falcon, wing, door, subm...\n",
      "3                       time, breka, never, really, guys\n",
      "4      world, economy, th, final, one, trump, bankruptcy\n",
      "5      come, q, extremely, strong, ford, expect, bill...\n",
      "6                                  bad, pessimisticvalue\n",
      "7      see, joke, right, smell, ponzihistory, doesnt,...\n",
      "8      bear, case, touch, fall, bull, case, retest, take\n",
      "9      distance, reentering, downward, channel, pullb...\n",
      "11                                           stock, best\n",
      "12     open, position, optimisticvalue, target, k, be...\n",
      "13                                     yes, hope, prayer\n",
      "14                        fiat, money, go, reflect, q, q\n",
      "15     h, mbb, bb, toughly, narrow, stil, mkc, ema, p...\n",
      "16     time, climb, weightless, room, keep, hal, comp...\n",
      "17     good, news, least, month, might, provide, cash...\n",
      "18                                           anemic, red\n",
      "19     pessimisticvalue, supportive, accommodative, f...\n",
      "20                         short, squeeze, elon, promise\n",
      "21                                               k, come\n",
      "22                                           tg, achieve\n",
      "23                    rule, dont, listen, lol, laughable\n",
      "24                                     riss, see, volume\n",
      "25                                             buy, sell\n",
      "26     lol, spell, movement, last, week, almost, verb...\n",
      "27                      jesus, coin, prayer, appropriate\n",
      "28                                    buy, call, roaring\n",
      "29     guy, musk, make, million, dollar, past, hour, ...\n",
      "30     indian, substantial, amount, bitcoin, prob, le...\n",
      "                             ...                        \n",
      "968                   every, hope, reversal, sell, watch\n",
      "969         told, ya, bond, market, right, equity, wrong\n",
      "970    tesla, waymo, uber, mercedes, ge, batterelectr...\n",
      "972                                        expect, close\n",
      "973    tsla, short, interest, bn, mm, share, short, f...\n",
      "974                      think, end, mystery, soon, soer\n",
      "975    stock, market, immune, economic, indicator, sh...\n",
      "976    tesla, would, well, go, private, company, read...\n",
      "977                im, happy, right, really, go, hahahah\n",
      "978                                 buy, dow, every, dip\n",
      "979    mark, word, hit, approtunity, buy, warren, buf...\n",
      "980                      xem, btc, chart, cup, formation\n",
      "981                               fake, news, time, burn\n",
      "982                     dream, tesla, gon, na, hopefully\n",
      "983                       told, go, k, send, see, doctor\n",
      "984                                        bull, exhaust\n",
      "985    loli, guess, would, wish, id, dont, kid, yours...\n",
      "986    unless, confirms, hand, method, would, wait, b...\n",
      "987                      come, beautiful, red, christmas\n",
      "988                    please, dont, panic, tesla, space\n",
      "989    south, korean, card, company, block, transacti...\n",
      "990       china, stock, rally, policy, ease, speculation\n",
      "991    news, last, month, start, sell, eu, china, bec...\n",
      "992                                       sip, breakfast\n",
      "993                  try, tell, earlier, k, capitulation\n",
      "994                                      tesla, even, go\n",
      "995                                   im, hop, eth, take\n",
      "996    gon, na, come, back, cus, walmart, oversold, g...\n",
      "997    news, tesla, chief, elon, musk, change, twitte...\n",
      "998    anyone, else, hear, jaw, theme, play, backgrou...\n",
      "Name: COMMENT, Length: 974, dtype: object\n"
     ]
    }
   ],
   "source": [
    "result_hl_neg=classifier(\"lr\",\"y\",\"tdidf\",df_neg)\n",
    "result_hl_pos=classifier(\"lr\",\"y\",\"tdidf\",df_pos)\n",
    "\n",
    "df_result_hl_neg = pd.DataFrame(result_hl_neg[5], columns = ['Predicted_label', 'True_Label', 'Comment'])"
   ]
  },
  {
   "cell_type": "code",
   "execution_count": null,
   "metadata": {},
   "outputs": [],
   "source": []
  },
  {
   "cell_type": "code",
   "execution_count": 129,
   "metadata": {},
   "outputs": [
    {
     "data": {
      "text/plain": [
       "('Accuracy: 0.7743589743589744', 'F1 0.718974358974359')"
      ]
     },
     "execution_count": 129,
     "metadata": {},
     "output_type": "execute_result"
    }
   ],
   "source": [
    "result_hl_neg[2:4]"
   ]
  },
  {
   "cell_type": "code",
   "execution_count": 130,
   "metadata": {},
   "outputs": [],
   "source": [
    "df_result_hl_pos = pd.DataFrame(result_hl_pos[5], columns = ['Predicted_label', 'True_Label', 'Comment'])\n",
    "#df_result_hl_pos"
   ]
  },
  {
   "cell_type": "code",
   "execution_count": 131,
   "metadata": {},
   "outputs": [
    {
     "data": {
      "text/plain": [
       "('Accuracy: 0.6205128205128205', 'F1 0.57146508160855')"
      ]
     },
     "execution_count": 131,
     "metadata": {},
     "output_type": "execute_result"
    }
   ],
   "source": [
    "result_hl_pos[2:4]"
   ]
  },
  {
   "cell_type": "markdown",
   "metadata": {},
   "source": [
    "## Results for neutral mapped to negative"
   ]
  },
  {
   "cell_type": "code",
   "execution_count": 132,
   "metadata": {},
   "outputs": [
    {
     "data": {
      "text/plain": [
       "array(['NEG', 'POS'], dtype=object)"
      ]
     },
     "execution_count": 132,
     "metadata": {},
     "output_type": "execute_result"
    }
   ],
   "source": [
    "result_hl_neg[0].classes_"
   ]
  },
  {
   "cell_type": "code",
   "execution_count": 133,
   "metadata": {},
   "outputs": [],
   "source": [
    "feature_to_coef_hl_neg = {\n",
    "    word: coef for word, coef in zip(\n",
    "        result_hl_neg[1].get_feature_names(), result_hl_neg[0].coef_[0]\n",
    "    )    \n",
    "}"
   ]
  },
  {
   "cell_type": "code",
   "execution_count": 134,
   "metadata": {},
   "outputs": [
    {
     "name": "stdout",
     "output_type": "stream",
     "text": [
      "('optimisticvalue', 2.4097882086192306)\n",
      "('buy', 1.5822971102986005)\n",
      "('good', 0.8619182236521304)\n",
      "('go', 0.8297885143955898)\n",
      "('come', 0.6506125724726105)\n",
      "('btc', 0.6025329421384258)\n",
      "('bitcoin', 0.569957153364027)\n",
      "('jump', 0.516513848929728)\n",
      "('high', 0.5030699238396112)\n",
      "('another', 0.4740305146201597)\n"
     ]
    }
   ],
   "source": [
    "for best_positive in sorted(\n",
    "    feature_to_coef_hl_neg.items(), \n",
    "    key=lambda x: x[1], reverse=True, \n",
    "    )[:10]:\n",
    "    print (best_positive)"
   ]
  },
  {
   "cell_type": "code",
   "execution_count": 135,
   "metadata": {},
   "outputs": [
    {
     "name": "stdout",
     "output_type": "stream",
     "text": [
      "('sell', -0.9758401498823681)\n",
      "('pessimisticvalue', -0.8472630048147503)\n",
      "('know', -0.7173570561483845)\n",
      "('need', -0.6082466867165532)\n",
      "('fall', -0.5505033051204261)\n",
      "('one', -0.495538920491945)\n",
      "('look', -0.49303929569553484)\n",
      "('elon', -0.36687487065059243)\n",
      "('get', -0.36024986121589614)\n",
      "('anyone', -0.35987348809422237)\n"
     ]
    }
   ],
   "source": [
    "for best_negative in sorted(\n",
    "    feature_to_coef_hl_neg.items(), \n",
    "    key=lambda x: x[1] \n",
    "    )[:10]:\n",
    "    print (best_negative)"
   ]
  },
  {
   "cell_type": "markdown",
   "metadata": {},
   "source": [
    "## Results for neutral mapped to positive"
   ]
  },
  {
   "cell_type": "code",
   "execution_count": 136,
   "metadata": {},
   "outputs": [],
   "source": [
    "feature_to_coef_hl_pos = {\n",
    "    word: coef for word, coef in zip(\n",
    "        result_hl_pos[1].get_feature_names(), result_hl_pos[0].coef_[0]\n",
    "    )    \n",
    "}"
   ]
  },
  {
   "cell_type": "code",
   "execution_count": null,
   "metadata": {},
   "outputs": [],
   "source": []
  },
  {
   "cell_type": "code",
   "execution_count": 137,
   "metadata": {},
   "outputs": [
    {
     "name": "stdout",
     "output_type": "stream",
     "text": [
      "('optimisticvalue', 1.4589758966202293)\n",
      "('buy', 1.1275573710940452)\n",
      "('think', 0.8164197682772658)\n",
      "('lol', 0.5842015692846457)\n",
      "('guy', 0.4563547086851499)\n",
      "('chart', 0.4144618620030125)\n",
      "('btc', 0.39846125583912567)\n",
      "('good', 0.38691587465974514)\n",
      "('bitcoin', 0.38520239790563343)\n",
      "('happen', 0.380900371314018)\n"
     ]
    }
   ],
   "source": [
    "for best_positive in sorted(\n",
    "    feature_to_coef_hl_pos.items(), \n",
    "    key=lambda x: x[1], reverse=True, \n",
    "    )[:10]:\n",
    "    print (best_positive)"
   ]
  },
  {
   "cell_type": "code",
   "execution_count": 138,
   "metadata": {},
   "outputs": [
    {
     "name": "stdout",
     "output_type": "stream",
     "text": [
      "('pessimisticvalue', -1.9418926197210729)\n",
      "('sell', -0.9692079520996288)\n",
      "('stock', -0.7911191270956598)\n",
      "('tesla', -0.769144777040988)\n",
      "('low', -0.7645769361437051)\n",
      "('one', -0.7521738950411462)\n",
      "('bull', -0.7466501890081951)\n",
      "('really', -0.6081994767213099)\n",
      "('fall', -0.5679461707671722)\n",
      "('crash', -0.5574878602254962)\n"
     ]
    }
   ],
   "source": [
    "for best_negative in sorted(\n",
    "    feature_to_coef_hl_pos.items(), \n",
    "    key=lambda x: x[1] \n",
    "    )[:10]:\n",
    "    print (best_negative)"
   ]
  },
  {
   "cell_type": "code",
   "execution_count": null,
   "metadata": {},
   "outputs": [],
   "source": []
  },
  {
   "cell_type": "markdown",
   "metadata": {},
   "source": [
    "## Perplexity\n",
    "\n",
    "In information theory, perplexity is a measurement of how well a probability distribution or probability model predicts a sample. It may be used to compare probability models. A low perplexity indicates the probability distribution is good at predicting the sample."
   ]
  },
  {
   "cell_type": "code",
   "execution_count": null,
   "metadata": {},
   "outputs": [],
   "source": [
    "perplexity = 1\n",
    "N = 0\n",
    "\n",
    "for word in testset:\n",
    "    if word in unigram:\n",
    "        N += 1\n",
    "        perplexity = perplexity * (1/unigram[word])\n",
    "perplexity = pow(perplexity, 1/float(N))"
   ]
  },
  {
   "cell_type": "markdown",
   "metadata": {},
   "source": [
    "## Labeling new comments\n"
   ]
  },
  {
   "cell_type": "code",
   "execution_count": 139,
   "metadata": {},
   "outputs": [],
   "source": [
    "def assign_coef(comment, feature):\n",
    "        comment = comment.split(', ')\n",
    "        #print(comment)\n",
    "        coef = []\n",
    "        for word in comment:\n",
    "            for w,c in feature.items():\n",
    "                if w == word:    \n",
    "                    coef.append(c)\n",
    "        #print(comment,sum(coef))\n",
    "        if len(coef) == 0:\n",
    "            return sum(coef)\n",
    "        else:\n",
    "            return sum(coef) / len(coef)\n",
    "\n",
    "\n",
    "def get_sentiment(compound_score):\n",
    "    if compound_score > 0:\n",
    "        return 1\n",
    "    else:\n",
    "        return 0\n",
    "\n",
    "\n",
    "def add_label(df, feature):\n",
    "    \n",
    "    df['COEF'] = df['COMMENT'].apply(lambda x: assign_coef(x,feature))\n",
    "    df['LABEL'] = df['COEF'].apply(lambda x: get_sentiment(x))\n",
    "    \n",
    "    return df"
   ]
  },
  {
   "cell_type": "markdown",
   "metadata": {},
   "source": [
    "## BITCOIN"
   ]
  },
  {
   "cell_type": "markdown",
   "metadata": {},
   "source": [
    "Labeled to pos"
   ]
  },
  {
   "cell_type": "code",
   "execution_count": 158,
   "metadata": {},
   "outputs": [],
   "source": [
    "df_bitlabeled_pos=add_label(df_bit, feature_to_coef_hl_pos)\n"
   ]
  },
  {
   "cell_type": "code",
   "execution_count": 141,
   "metadata": {},
   "outputs": [
    {
     "data": {
      "text/html": [
       "<div>\n",
       "<style scoped>\n",
       "    .dataframe tbody tr th:only-of-type {\n",
       "        vertical-align: middle;\n",
       "    }\n",
       "\n",
       "    .dataframe tbody tr th {\n",
       "        vertical-align: top;\n",
       "    }\n",
       "\n",
       "    .dataframe thead th {\n",
       "        text-align: right;\n",
       "    }\n",
       "</style>\n",
       "<table border=\"1\" class=\"dataframe\">\n",
       "  <thead>\n",
       "    <tr style=\"text-align: right;\">\n",
       "      <th></th>\n",
       "      <th>date</th>\n",
       "      <th>COMMENT</th>\n",
       "      <th>LABEL</th>\n",
       "      <th>COEF</th>\n",
       "    </tr>\n",
       "  </thead>\n",
       "  <tbody>\n",
       "    <tr>\n",
       "      <th>0</th>\n",
       "      <td>04-05-19</td>\n",
       "      <td>hold, optimisticvalue, becomes, distinct, poss...</td>\n",
       "      <td>1</td>\n",
       "      <td>0.462215</td>\n",
       "    </tr>\n",
       "    <tr>\n",
       "      <th>1</th>\n",
       "      <td>04-05-19</td>\n",
       "      <td>thumb, nasty, bear, love, get, spank, cryptoland</td>\n",
       "      <td>0</td>\n",
       "      <td>-0.136459</td>\n",
       "    </tr>\n",
       "    <tr>\n",
       "      <th>2</th>\n",
       "      <td>04-05-19</td>\n",
       "      <td>mysterious, crypto, whale, unveils, meteoric, ...</td>\n",
       "      <td>1</td>\n",
       "      <td>0.084699</td>\n",
       "    </tr>\n",
       "    <tr>\n",
       "      <th>3</th>\n",
       "      <td>04-05-19</td>\n",
       "      <td>probably, pessimisticvalue, monday</td>\n",
       "      <td>0</td>\n",
       "      <td>-0.681563</td>\n",
       "    </tr>\n",
       "    <tr>\n",
       "      <th>4</th>\n",
       "      <td>04-05-19</td>\n",
       "      <td>short, btc, maßsive, profit</td>\n",
       "      <td>0</td>\n",
       "      <td>-0.053845</td>\n",
       "    </tr>\n",
       "  </tbody>\n",
       "</table>\n",
       "</div>"
      ],
      "text/plain": [
       "       date                                            COMMENT  LABEL  \\\n",
       "0  04-05-19  hold, optimisticvalue, becomes, distinct, poss...      1   \n",
       "1  04-05-19   thumb, nasty, bear, love, get, spank, cryptoland      0   \n",
       "2  04-05-19  mysterious, crypto, whale, unveils, meteoric, ...      1   \n",
       "3  04-05-19                 probably, pessimisticvalue, monday      0   \n",
       "4  04-05-19                        short, btc, maßsive, profit      0   \n",
       "\n",
       "       COEF  \n",
       "0  0.462215  \n",
       "1 -0.136459  \n",
       "2  0.084699  \n",
       "3 -0.681563  \n",
       "4 -0.053845  "
      ]
     },
     "execution_count": 141,
     "metadata": {},
     "output_type": "execute_result"
    }
   ],
   "source": [
    "df_bitlabeled_pos.head()"
   ]
  },
  {
   "cell_type": "code",
   "execution_count": 142,
   "metadata": {},
   "outputs": [
    {
     "data": {
      "text/plain": [
       "0    14221\n",
       "1     8461\n",
       "Name: LABEL, dtype: int64"
      ]
     },
     "execution_count": 142,
     "metadata": {},
     "output_type": "execute_result"
    }
   ],
   "source": [
    "df_bitlabeled_pos['LABEL'].value_counts()"
   ]
  },
  {
   "cell_type": "code",
   "execution_count": null,
   "metadata": {},
   "outputs": [],
   "source": []
  },
  {
   "cell_type": "code",
   "execution_count": 143,
   "metadata": {},
   "outputs": [],
   "source": [
    "df_bitlabeled_pos.to_excel(\"ML_Data/bit_classified_pos.xlsx\", sheet_name='Sheet_1') "
   ]
  },
  {
   "cell_type": "markdown",
   "metadata": {},
   "source": [
    "Labeled to neg"
   ]
  },
  {
   "cell_type": "code",
   "execution_count": 161,
   "metadata": {},
   "outputs": [],
   "source": [
    "df_bitlabeled_neg=add_label(df_bit, feature_to_coef_hl_neg)"
   ]
  },
  {
   "cell_type": "code",
   "execution_count": 162,
   "metadata": {},
   "outputs": [
    {
     "data": {
      "text/html": [
       "<div>\n",
       "<style scoped>\n",
       "    .dataframe tbody tr th:only-of-type {\n",
       "        vertical-align: middle;\n",
       "    }\n",
       "\n",
       "    .dataframe tbody tr th {\n",
       "        vertical-align: top;\n",
       "    }\n",
       "\n",
       "    .dataframe thead th {\n",
       "        text-align: right;\n",
       "    }\n",
       "</style>\n",
       "<table border=\"1\" class=\"dataframe\">\n",
       "  <thead>\n",
       "    <tr style=\"text-align: right;\">\n",
       "      <th></th>\n",
       "      <th>date</th>\n",
       "      <th>COMMENT</th>\n",
       "      <th>LABEL</th>\n",
       "      <th>COEF</th>\n",
       "    </tr>\n",
       "  </thead>\n",
       "  <tbody>\n",
       "    <tr>\n",
       "      <th>0</th>\n",
       "      <td>04-05-19</td>\n",
       "      <td>hold, optimisticvalue, becomes, distinct, poss...</td>\n",
       "      <td>1</td>\n",
       "      <td>0.569773</td>\n",
       "    </tr>\n",
       "    <tr>\n",
       "      <th>1</th>\n",
       "      <td>04-05-19</td>\n",
       "      <td>thumb, nasty, bear, love, get, spank, cryptoland</td>\n",
       "      <td>0</td>\n",
       "      <td>-0.216854</td>\n",
       "    </tr>\n",
       "    <tr>\n",
       "      <th>2</th>\n",
       "      <td>04-05-19</td>\n",
       "      <td>mysterious, crypto, whale, unveils, meteoric, ...</td>\n",
       "      <td>1</td>\n",
       "      <td>0.174035</td>\n",
       "    </tr>\n",
       "    <tr>\n",
       "      <th>3</th>\n",
       "      <td>04-05-19</td>\n",
       "      <td>probably, pessimisticvalue, monday</td>\n",
       "      <td>0</td>\n",
       "      <td>-0.317232</td>\n",
       "    </tr>\n",
       "    <tr>\n",
       "      <th>4</th>\n",
       "      <td>04-05-19</td>\n",
       "      <td>short, btc, maßsive, profit</td>\n",
       "      <td>1</td>\n",
       "      <td>0.274137</td>\n",
       "    </tr>\n",
       "  </tbody>\n",
       "</table>\n",
       "</div>"
      ],
      "text/plain": [
       "       date                                            COMMENT  LABEL  \\\n",
       "0  04-05-19  hold, optimisticvalue, becomes, distinct, poss...      1   \n",
       "1  04-05-19   thumb, nasty, bear, love, get, spank, cryptoland      0   \n",
       "2  04-05-19  mysterious, crypto, whale, unveils, meteoric, ...      1   \n",
       "3  04-05-19                 probably, pessimisticvalue, monday      0   \n",
       "4  04-05-19                        short, btc, maßsive, profit      1   \n",
       "\n",
       "       COEF  \n",
       "0  0.569773  \n",
       "1 -0.216854  \n",
       "2  0.174035  \n",
       "3 -0.317232  \n",
       "4  0.274137  "
      ]
     },
     "execution_count": 162,
     "metadata": {},
     "output_type": "execute_result"
    }
   ],
   "source": [
    "df_bitlabeled_neg.head()"
   ]
  },
  {
   "cell_type": "code",
   "execution_count": 146,
   "metadata": {},
   "outputs": [
    {
     "data": {
      "text/plain": [
       "1    12025\n",
       "0    10657\n",
       "Name: LABEL, dtype: int64"
      ]
     },
     "execution_count": 146,
     "metadata": {},
     "output_type": "execute_result"
    }
   ],
   "source": [
    "df_bitlabeled_neg['LABEL'].value_counts()"
   ]
  },
  {
   "cell_type": "code",
   "execution_count": 147,
   "metadata": {},
   "outputs": [
    {
     "data": {
      "text/plain": [
       "1    12025\n",
       "0    10657\n",
       "Name: LABEL, dtype: int64"
      ]
     },
     "execution_count": 147,
     "metadata": {},
     "output_type": "execute_result"
    }
   ],
   "source": [
    "df_bitlabeled_neg['LABEL'].value_counts()"
   ]
  },
  {
   "cell_type": "code",
   "execution_count": 148,
   "metadata": {},
   "outputs": [],
   "source": [
    "df_bitlabeled_neg.to_excel(\"ML_Data/bit_classified_neg.xlsx\", sheet_name='Sheet_1') "
   ]
  },
  {
   "cell_type": "markdown",
   "metadata": {},
   "source": [
    "Results for classifier "
   ]
  },
  {
   "cell_type": "code",
   "execution_count": 159,
   "metadata": {},
   "outputs": [],
   "source": [
    "result_bit_pos=classifier(\"lr\",\"y\",\"cv\",df_bitlabeled_pos)"
   ]
  },
  {
   "cell_type": "code",
   "execution_count": 160,
   "metadata": {},
   "outputs": [
    {
     "data": {
      "text/plain": [
       "('Accuracy: 0.9488648886929689', 'F1 0.948686297437527')"
      ]
     },
     "execution_count": 160,
     "metadata": {},
     "output_type": "execute_result"
    }
   ],
   "source": [
    "result_bit_pos[2:4]"
   ]
  },
  {
   "cell_type": "code",
   "execution_count": 163,
   "metadata": {},
   "outputs": [],
   "source": [
    "result_bit_neg=classifier(\"lr\",\"y\",\"cv\",df_bitlabeled_neg)"
   ]
  },
  {
   "cell_type": "code",
   "execution_count": 164,
   "metadata": {},
   "outputs": [
    {
     "data": {
      "text/plain": [
       "('Accuracy: 0.9537139078686356', 'F1 0.9537647728359469')"
      ]
     },
     "execution_count": 164,
     "metadata": {},
     "output_type": "execute_result"
    }
   ],
   "source": [
    "result_bit_neg[2:4]"
   ]
  },
  {
   "cell_type": "code",
   "execution_count": 153,
   "metadata": {},
   "outputs": [],
   "source": [
    "df=pd.DataFrame(result_bit_neg[4])"
   ]
  },
  {
   "cell_type": "code",
   "execution_count": null,
   "metadata": {},
   "outputs": [],
   "source": []
  },
  {
   "cell_type": "markdown",
   "metadata": {},
   "source": [
    "### Bitcoin result mapped, neutral mapped to positive"
   ]
  },
  {
   "cell_type": "code",
   "execution_count": 36,
   "metadata": {},
   "outputs": [],
   "source": [
    "feature_to_coef_bit_pos = {\n",
    "    word: coef for word, coef in zip(\n",
    "        result_bit_pos[1].get_feature_names(), result_bit_pos[0].coef_[0]\n",
    "    )    \n",
    "}"
   ]
  },
  {
   "cell_type": "code",
   "execution_count": 37,
   "metadata": {},
   "outputs": [
    {
     "name": "stdout",
     "output_type": "stream",
     "text": [
      "('optimisticvalue', 7.408290596728253)\n",
      "('buy', 6.067280663352652)\n",
      "('good', 5.5454051676754865)\n",
      "('come', 3.9313699312826964)\n",
      "('close', 3.909843098542778)\n",
      "('end', 3.478791512914319)\n",
      "('rise', 3.148596539385836)\n",
      "('another', 2.8695622733308754)\n",
      "('go', 2.82430299774397)\n",
      "('start', 2.6937403322046736)\n"
     ]
    }
   ],
   "source": [
    "for best_positive in sorted(\n",
    "    feature_to_coef_bit_pos.items(), \n",
    "    key=lambda x: x[1], reverse=True, \n",
    "    )[:10]:\n",
    "    print (best_positive)"
   ]
  },
  {
   "cell_type": "code",
   "execution_count": 38,
   "metadata": {
    "scrolled": false
   },
   "outputs": [
    {
     "name": "stdout",
     "output_type": "stream",
     "text": [
      "('sell', -4.301259411376448)\n",
      "('know', -4.2668084054694555)\n",
      "('fall', -3.8223914413455478)\n",
      "('need', -3.7289688123295748)\n",
      "('wait', -3.5289874804490493)\n",
      "('pessimisticvalue', -3.317281739806295)\n",
      "('well', -3.1797570196138243)\n",
      "('look', -3.0832998035555583)\n",
      "('low', -3.0732314507127168)\n",
      "('many', -2.899791405696808)\n"
     ]
    }
   ],
   "source": [
    "for best_negative in sorted(\n",
    "    feature_to_coef_bit_pos.items(), \n",
    "    key=lambda x: x[1] \n",
    "    )[:10]:\n",
    "    print (best_negative)"
   ]
  },
  {
   "cell_type": "markdown",
   "metadata": {},
   "source": [
    "### Bitcoin result mapped, neutral mapped to negative"
   ]
  },
  {
   "cell_type": "code",
   "execution_count": 39,
   "metadata": {},
   "outputs": [],
   "source": [
    "feature_to_coef_bit_neg = {\n",
    "    word: coef for word, coef in zip(\n",
    "        result_bit_neg[1].get_feature_names(), result_bit_neg[0].coef_[0]\n",
    "    )    \n",
    "}"
   ]
  },
  {
   "cell_type": "code",
   "execution_count": 40,
   "metadata": {},
   "outputs": [
    {
     "name": "stdout",
     "output_type": "stream",
     "text": [
      "('optimisticvalue', 7.408290596728253)\n",
      "('buy', 6.067280663352652)\n",
      "('good', 5.5454051676754865)\n",
      "('come', 3.9313699312826964)\n",
      "('close', 3.909843098542778)\n",
      "('end', 3.478791512914319)\n",
      "('rise', 3.148596539385836)\n",
      "('another', 2.8695622733308754)\n",
      "('go', 2.82430299774397)\n",
      "('start', 2.6937403322046736)\n"
     ]
    }
   ],
   "source": [
    "for best_positive in sorted(\n",
    "    feature_to_coef_bit_neg.items(), \n",
    "    key=lambda x: x[1], reverse=True, \n",
    "    )[:10]:\n",
    "    print (best_positive)"
   ]
  },
  {
   "cell_type": "code",
   "execution_count": 41,
   "metadata": {},
   "outputs": [
    {
     "name": "stdout",
     "output_type": "stream",
     "text": [
      "('sell', -4.301259411376448)\n",
      "('know', -4.2668084054694555)\n",
      "('fall', -3.8223914413455478)\n",
      "('need', -3.7289688123295748)\n",
      "('wait', -3.5289874804490493)\n",
      "('pessimisticvalue', -3.317281739806295)\n",
      "('well', -3.1797570196138243)\n",
      "('look', -3.0832998035555583)\n",
      "('low', -3.0732314507127168)\n",
      "('many', -2.899791405696808)\n"
     ]
    }
   ],
   "source": [
    "for best_negative in sorted(\n",
    "    feature_to_coef_bit_neg.items(), \n",
    "    key=lambda x: x[1] \n",
    "    )[:10]:\n",
    "    print (best_negative)"
   ]
  },
  {
   "cell_type": "markdown",
   "metadata": {},
   "source": [
    "## Tesla"
   ]
  },
  {
   "cell_type": "code",
   "execution_count": 42,
   "metadata": {},
   "outputs": [],
   "source": [
    "df_teslabeled_pos=add_label(df_ts, feature_to_coef_hl_pos)\n"
   ]
  },
  {
   "cell_type": "markdown",
   "metadata": {},
   "source": [
    "Labeled to pos"
   ]
  },
  {
   "cell_type": "code",
   "execution_count": 43,
   "metadata": {},
   "outputs": [],
   "source": [
    "df_teslabeled_pos=add_label(df_ts, feature_to_coef_hl_pos)\n"
   ]
  },
  {
   "cell_type": "code",
   "execution_count": 44,
   "metadata": {},
   "outputs": [
    {
     "data": {
      "text/html": [
       "<div>\n",
       "<style scoped>\n",
       "    .dataframe tbody tr th:only-of-type {\n",
       "        vertical-align: middle;\n",
       "    }\n",
       "\n",
       "    .dataframe tbody tr th {\n",
       "        vertical-align: top;\n",
       "    }\n",
       "\n",
       "    .dataframe thead th {\n",
       "        text-align: right;\n",
       "    }\n",
       "</style>\n",
       "<table border=\"1\" class=\"dataframe\">\n",
       "  <thead>\n",
       "    <tr style=\"text-align: right;\">\n",
       "      <th></th>\n",
       "      <th>date</th>\n",
       "      <th>COMMENT</th>\n",
       "      <th>LABEL</th>\n",
       "      <th>COEF</th>\n",
       "    </tr>\n",
       "  </thead>\n",
       "  <tbody>\n",
       "    <tr>\n",
       "      <th>0</th>\n",
       "      <td>03-05-19</td>\n",
       "      <td>tell, ratio, bull, bear, comment, section, bas...</td>\n",
       "      <td>1</td>\n",
       "      <td>0.028203</td>\n",
       "    </tr>\n",
       "    <tr>\n",
       "      <th>1</th>\n",
       "      <td>03-05-19</td>\n",
       "      <td>right, total, debt, billion, dollar</td>\n",
       "      <td>0</td>\n",
       "      <td>-0.162984</td>\n",
       "    </tr>\n",
       "    <tr>\n",
       "      <th>2</th>\n",
       "      <td>03-05-19</td>\n",
       "      <td>dont, know, day, tesla, hasnt, make, solid, pr...</td>\n",
       "      <td>0</td>\n",
       "      <td>-0.203656</td>\n",
       "    </tr>\n",
       "    <tr>\n",
       "      <th>3</th>\n",
       "      <td>03-05-19</td>\n",
       "      <td>day, great, way, end, week, cheer, cleaner, fu...</td>\n",
       "      <td>0</td>\n",
       "      <td>-0.060399</td>\n",
       "    </tr>\n",
       "    <tr>\n",
       "      <th>4</th>\n",
       "      <td>03-05-19</td>\n",
       "      <td>tesla, waymo, uber, mercedes, ge, batterelectr...</td>\n",
       "      <td>1</td>\n",
       "      <td>0.044957</td>\n",
       "    </tr>\n",
       "  </tbody>\n",
       "</table>\n",
       "</div>"
      ],
      "text/plain": [
       "       date                                            COMMENT  LABEL  \\\n",
       "0  03-05-19  tell, ratio, bull, bear, comment, section, bas...      1   \n",
       "1  03-05-19                right, total, debt, billion, dollar      0   \n",
       "2  03-05-19  dont, know, day, tesla, hasnt, make, solid, pr...      0   \n",
       "3  03-05-19  day, great, way, end, week, cheer, cleaner, fu...      0   \n",
       "4  03-05-19  tesla, waymo, uber, mercedes, ge, batterelectr...      1   \n",
       "\n",
       "       COEF  \n",
       "0  0.028203  \n",
       "1 -0.162984  \n",
       "2 -0.203656  \n",
       "3 -0.060399  \n",
       "4  0.044957  "
      ]
     },
     "execution_count": 44,
     "metadata": {},
     "output_type": "execute_result"
    }
   ],
   "source": [
    "df_teslabeled_pos.head()"
   ]
  },
  {
   "cell_type": "code",
   "execution_count": 45,
   "metadata": {},
   "outputs": [
    {
     "data": {
      "text/plain": [
       "0    2791\n",
       "1    1416\n",
       "Name: LABEL, dtype: int64"
      ]
     },
     "execution_count": 45,
     "metadata": {},
     "output_type": "execute_result"
    }
   ],
   "source": [
    "df_teslabeled_pos['LABEL'].value_counts()"
   ]
  },
  {
   "cell_type": "code",
   "execution_count": 46,
   "metadata": {},
   "outputs": [
    {
     "data": {
      "text/plain": [
       "0    2791\n",
       "1    1416\n",
       "Name: LABEL, dtype: int64"
      ]
     },
     "execution_count": 46,
     "metadata": {},
     "output_type": "execute_result"
    }
   ],
   "source": [
    "df_teslabeled_pos['LABEL'].value_counts()"
   ]
  },
  {
   "cell_type": "code",
   "execution_count": 47,
   "metadata": {},
   "outputs": [],
   "source": [
    "df_teslabeled_pos.to_excel(\"ML_Data/tes_classified_pos.xlsx\", sheet_name='Sheet_1') "
   ]
  },
  {
   "cell_type": "markdown",
   "metadata": {},
   "source": [
    "Labeled to neg"
   ]
  },
  {
   "cell_type": "code",
   "execution_count": 48,
   "metadata": {},
   "outputs": [],
   "source": [
    "df_teslabeled_neg=add_label(df_ts, feature_to_coef_hl_neg)"
   ]
  },
  {
   "cell_type": "code",
   "execution_count": 49,
   "metadata": {},
   "outputs": [
    {
     "data": {
      "text/html": [
       "<div>\n",
       "<style scoped>\n",
       "    .dataframe tbody tr th:only-of-type {\n",
       "        vertical-align: middle;\n",
       "    }\n",
       "\n",
       "    .dataframe tbody tr th {\n",
       "        vertical-align: top;\n",
       "    }\n",
       "\n",
       "    .dataframe thead th {\n",
       "        text-align: right;\n",
       "    }\n",
       "</style>\n",
       "<table border=\"1\" class=\"dataframe\">\n",
       "  <thead>\n",
       "    <tr style=\"text-align: right;\">\n",
       "      <th></th>\n",
       "      <th>date</th>\n",
       "      <th>COMMENT</th>\n",
       "      <th>LABEL</th>\n",
       "      <th>COEF</th>\n",
       "    </tr>\n",
       "  </thead>\n",
       "  <tbody>\n",
       "    <tr>\n",
       "      <th>0</th>\n",
       "      <td>03-05-19</td>\n",
       "      <td>tell, ratio, bull, bear, comment, section, bas...</td>\n",
       "      <td>0</td>\n",
       "      <td>-0.048429</td>\n",
       "    </tr>\n",
       "    <tr>\n",
       "      <th>1</th>\n",
       "      <td>03-05-19</td>\n",
       "      <td>right, total, debt, billion, dollar</td>\n",
       "      <td>0</td>\n",
       "      <td>-0.103440</td>\n",
       "    </tr>\n",
       "    <tr>\n",
       "      <th>2</th>\n",
       "      <td>03-05-19</td>\n",
       "      <td>dont, know, day, tesla, hasnt, make, solid, pr...</td>\n",
       "      <td>0</td>\n",
       "      <td>-0.169488</td>\n",
       "    </tr>\n",
       "    <tr>\n",
       "      <th>3</th>\n",
       "      <td>03-05-19</td>\n",
       "      <td>day, great, way, end, week, cheer, cleaner, fu...</td>\n",
       "      <td>1</td>\n",
       "      <td>0.138365</td>\n",
       "    </tr>\n",
       "    <tr>\n",
       "      <th>4</th>\n",
       "      <td>03-05-19</td>\n",
       "      <td>tesla, waymo, uber, mercedes, ge, batterelectr...</td>\n",
       "      <td>1</td>\n",
       "      <td>0.138239</td>\n",
       "    </tr>\n",
       "  </tbody>\n",
       "</table>\n",
       "</div>"
      ],
      "text/plain": [
       "       date                                            COMMENT  LABEL  \\\n",
       "0  03-05-19  tell, ratio, bull, bear, comment, section, bas...      0   \n",
       "1  03-05-19                right, total, debt, billion, dollar      0   \n",
       "2  03-05-19  dont, know, day, tesla, hasnt, make, solid, pr...      0   \n",
       "3  03-05-19  day, great, way, end, week, cheer, cleaner, fu...      1   \n",
       "4  03-05-19  tesla, waymo, uber, mercedes, ge, batterelectr...      1   \n",
       "\n",
       "       COEF  \n",
       "0 -0.048429  \n",
       "1 -0.103440  \n",
       "2 -0.169488  \n",
       "3  0.138365  \n",
       "4  0.138239  "
      ]
     },
     "execution_count": 49,
     "metadata": {},
     "output_type": "execute_result"
    }
   ],
   "source": [
    "df_teslabeled_neg.head()"
   ]
  },
  {
   "cell_type": "code",
   "execution_count": 50,
   "metadata": {},
   "outputs": [],
   "source": [
    "df_teslabeled_neg.to_excel(\"ML_Data/tes_classified_neg.xlsx\", sheet_name='Sheet_1') "
   ]
  },
  {
   "cell_type": "code",
   "execution_count": 51,
   "metadata": {},
   "outputs": [],
   "source": [
    "result_tes_pos=classifier(\"lr\",\"y\",\"cv\",df_teslabeled_pos)"
   ]
  },
  {
   "cell_type": "code",
   "execution_count": 52,
   "metadata": {},
   "outputs": [],
   "source": [
    "result_tes_neg=classifier(\"lr\",\"y\",\"cv\",df_teslabeled_neg)"
   ]
  },
  {
   "cell_type": "code",
   "execution_count": 53,
   "metadata": {},
   "outputs": [
    {
     "data": {
      "text/plain": [
       "('Accuracy: 0.8942992874109263', 'F1 0.8936117728477377')"
      ]
     },
     "execution_count": 53,
     "metadata": {},
     "output_type": "execute_result"
    }
   ],
   "source": [
    "result_tes_pos[2:4]"
   ]
  },
  {
   "cell_type": "code",
   "execution_count": 54,
   "metadata": {},
   "outputs": [
    {
     "data": {
      "text/plain": [
       "('Accuracy: 0.8942992874109263', 'F1 0.8936117728477377')"
      ]
     },
     "execution_count": 54,
     "metadata": {},
     "output_type": "execute_result"
    }
   ],
   "source": [
    "result_tes_neg[2:4]"
   ]
  },
  {
   "cell_type": "markdown",
   "metadata": {},
   "source": [
    "### Tesla result mapped, neutral mapped to positive"
   ]
  },
  {
   "cell_type": "code",
   "execution_count": 55,
   "metadata": {},
   "outputs": [],
   "source": [
    "feature_to_coef_tes_pos = {\n",
    "    word: coef for word, coef in zip(\n",
    "        result_tes_pos[1].get_feature_names(), result_tes_pos[0].coef_[0]\n",
    "    )    \n",
    "}"
   ]
  },
  {
   "cell_type": "code",
   "execution_count": 56,
   "metadata": {},
   "outputs": [
    {
     "name": "stdout",
     "output_type": "stream",
     "text": [
      "('optimisticvalue', 4.015446103627258)\n",
      "('buy', 3.774252722315349)\n",
      "('good', 3.0209445209269763)\n",
      "('close', 2.2740004618778342)\n",
      "('come', 2.236379411728284)\n",
      "('go', 1.9335739972290893)\n",
      "('new', 1.5587963826163014)\n",
      "('dont', 1.5208699415206761)\n",
      "('end', 1.5006772912590813)\n",
      "('next', 1.4996110667617244)\n"
     ]
    }
   ],
   "source": [
    "for best_positive in sorted(\n",
    "    feature_to_coef_tes_pos.items(), \n",
    "    key=lambda x: x[1], reverse=True, \n",
    "    )[:10]:\n",
    "    print (best_positive)"
   ]
  },
  {
   "cell_type": "code",
   "execution_count": 57,
   "metadata": {},
   "outputs": [
    {
     "name": "stdout",
     "output_type": "stream",
     "text": [
      "('sell', -2.4359389791943546)\n",
      "('know', -2.3266012890416086)\n",
      "('pessimisticvalue', -2.0993034875865324)\n",
      "('fall', -1.793485208308045)\n",
      "('look', -1.6995932609675102)\n",
      "('wait', -1.4975881706282363)\n",
      "('one', -1.497144918218633)\n",
      "('well', -1.4889288985539648)\n",
      "('need', -1.4344692067400397)\n",
      "('level', -1.3899459030605943)\n"
     ]
    }
   ],
   "source": [
    "for best_negative in sorted(\n",
    "    feature_to_coef_tes_pos.items(), \n",
    "    key=lambda x: x[1] \n",
    "    )[:10]:\n",
    "    print (best_negative)"
   ]
  },
  {
   "cell_type": "markdown",
   "metadata": {},
   "source": [
    "## Dow Jones"
   ]
  },
  {
   "cell_type": "markdown",
   "metadata": {},
   "source": [
    "Labeled to pos"
   ]
  },
  {
   "cell_type": "code",
   "execution_count": 58,
   "metadata": {},
   "outputs": [],
   "source": [
    "df_djlabeled_pos=add_label(df_dj, feature_to_coef_hl_pos)"
   ]
  },
  {
   "cell_type": "code",
   "execution_count": 59,
   "metadata": {},
   "outputs": [
    {
     "data": {
      "text/html": [
       "<div>\n",
       "<style scoped>\n",
       "    .dataframe tbody tr th:only-of-type {\n",
       "        vertical-align: middle;\n",
       "    }\n",
       "\n",
       "    .dataframe tbody tr th {\n",
       "        vertical-align: top;\n",
       "    }\n",
       "\n",
       "    .dataframe thead th {\n",
       "        text-align: right;\n",
       "    }\n",
       "</style>\n",
       "<table border=\"1\" class=\"dataframe\">\n",
       "  <thead>\n",
       "    <tr style=\"text-align: right;\">\n",
       "      <th></th>\n",
       "      <th>date</th>\n",
       "      <th>COMMENT</th>\n",
       "      <th>LABEL</th>\n",
       "      <th>COEF</th>\n",
       "    </tr>\n",
       "  </thead>\n",
       "  <tbody>\n",
       "    <tr>\n",
       "      <th>0</th>\n",
       "      <td>03-05-19</td>\n",
       "      <td>stock, market, gold, silver, one, lie, answer,...</td>\n",
       "      <td>0</td>\n",
       "      <td>-0.313185</td>\n",
       "    </tr>\n",
       "    <tr>\n",
       "      <th>1</th>\n",
       "      <td>03-05-19</td>\n",
       "      <td>company, pay, income, tax, amazon, delta, air,...</td>\n",
       "      <td>0</td>\n",
       "      <td>-0.024678</td>\n",
       "    </tr>\n",
       "    <tr>\n",
       "      <th>2</th>\n",
       "      <td>03-05-19</td>\n",
       "      <td>gold, silver, interesting</td>\n",
       "      <td>0</td>\n",
       "      <td>-0.110888</td>\n",
       "    </tr>\n",
       "    <tr>\n",
       "      <th>3</th>\n",
       "      <td>03-05-19</td>\n",
       "      <td>melt, up？crazy</td>\n",
       "      <td>0</td>\n",
       "      <td>0.000000</td>\n",
       "    </tr>\n",
       "    <tr>\n",
       "      <th>4</th>\n",
       "      <td>03-05-19</td>\n",
       "      <td>crazy, money, flow, daily, show, get, yet, mar...</td>\n",
       "      <td>0</td>\n",
       "      <td>-0.002134</td>\n",
       "    </tr>\n",
       "  </tbody>\n",
       "</table>\n",
       "</div>"
      ],
      "text/plain": [
       "       date                                            COMMENT  LABEL  \\\n",
       "0  03-05-19  stock, market, gold, silver, one, lie, answer,...      0   \n",
       "1  03-05-19  company, pay, income, tax, amazon, delta, air,...      0   \n",
       "2  03-05-19                          gold, silver, interesting      0   \n",
       "3  03-05-19                                     melt, up？crazy      0   \n",
       "4  03-05-19  crazy, money, flow, daily, show, get, yet, mar...      0   \n",
       "\n",
       "       COEF  \n",
       "0 -0.313185  \n",
       "1 -0.024678  \n",
       "2 -0.110888  \n",
       "3  0.000000  \n",
       "4 -0.002134  "
      ]
     },
     "execution_count": 59,
     "metadata": {},
     "output_type": "execute_result"
    }
   ],
   "source": [
    "df_djlabeled_pos.head()"
   ]
  },
  {
   "cell_type": "code",
   "execution_count": 60,
   "metadata": {},
   "outputs": [
    {
     "data": {
      "text/plain": [
       "0    7741\n",
       "1    5288\n",
       "Name: LABEL, dtype: int64"
      ]
     },
     "execution_count": 60,
     "metadata": {},
     "output_type": "execute_result"
    }
   ],
   "source": [
    "df_djlabeled_pos['LABEL'].value_counts()"
   ]
  },
  {
   "cell_type": "code",
   "execution_count": 61,
   "metadata": {},
   "outputs": [],
   "source": [
    "df_djlabeled_pos.to_excel(\"ML_Data/dj_classified_pos.xlsx\", sheet_name='Sheet_1') "
   ]
  },
  {
   "cell_type": "markdown",
   "metadata": {},
   "source": [
    "Labeled to neg"
   ]
  },
  {
   "cell_type": "code",
   "execution_count": 62,
   "metadata": {},
   "outputs": [],
   "source": [
    "df_djlabeled_neg=add_label(df_dj, feature_to_coef_hl_neg)"
   ]
  },
  {
   "cell_type": "code",
   "execution_count": 63,
   "metadata": {},
   "outputs": [
    {
     "data": {
      "text/html": [
       "<div>\n",
       "<style scoped>\n",
       "    .dataframe tbody tr th:only-of-type {\n",
       "        vertical-align: middle;\n",
       "    }\n",
       "\n",
       "    .dataframe tbody tr th {\n",
       "        vertical-align: top;\n",
       "    }\n",
       "\n",
       "    .dataframe thead th {\n",
       "        text-align: right;\n",
       "    }\n",
       "</style>\n",
       "<table border=\"1\" class=\"dataframe\">\n",
       "  <thead>\n",
       "    <tr style=\"text-align: right;\">\n",
       "      <th></th>\n",
       "      <th>date</th>\n",
       "      <th>COMMENT</th>\n",
       "      <th>LABEL</th>\n",
       "      <th>COEF</th>\n",
       "    </tr>\n",
       "  </thead>\n",
       "  <tbody>\n",
       "    <tr>\n",
       "      <th>0</th>\n",
       "      <td>03-05-19</td>\n",
       "      <td>stock, market, gold, silver, one, lie, answer,...</td>\n",
       "      <td>0</td>\n",
       "      <td>-0.209115</td>\n",
       "    </tr>\n",
       "    <tr>\n",
       "      <th>1</th>\n",
       "      <td>03-05-19</td>\n",
       "      <td>company, pay, income, tax, amazon, delta, air,...</td>\n",
       "      <td>0</td>\n",
       "      <td>-0.110253</td>\n",
       "    </tr>\n",
       "    <tr>\n",
       "      <th>2</th>\n",
       "      <td>03-05-19</td>\n",
       "      <td>gold, silver, interesting</td>\n",
       "      <td>1</td>\n",
       "      <td>0.269100</td>\n",
       "    </tr>\n",
       "    <tr>\n",
       "      <th>3</th>\n",
       "      <td>03-05-19</td>\n",
       "      <td>melt, up？crazy</td>\n",
       "      <td>0</td>\n",
       "      <td>0.000000</td>\n",
       "    </tr>\n",
       "    <tr>\n",
       "      <th>4</th>\n",
       "      <td>03-05-19</td>\n",
       "      <td>crazy, money, flow, daily, show, get, yet, mar...</td>\n",
       "      <td>0</td>\n",
       "      <td>-0.057322</td>\n",
       "    </tr>\n",
       "  </tbody>\n",
       "</table>\n",
       "</div>"
      ],
      "text/plain": [
       "       date                                            COMMENT  LABEL  \\\n",
       "0  03-05-19  stock, market, gold, silver, one, lie, answer,...      0   \n",
       "1  03-05-19  company, pay, income, tax, amazon, delta, air,...      0   \n",
       "2  03-05-19                          gold, silver, interesting      1   \n",
       "3  03-05-19                                     melt, up？crazy      0   \n",
       "4  03-05-19  crazy, money, flow, daily, show, get, yet, mar...      0   \n",
       "\n",
       "       COEF  \n",
       "0 -0.209115  \n",
       "1 -0.110253  \n",
       "2  0.269100  \n",
       "3  0.000000  \n",
       "4 -0.057322  "
      ]
     },
     "execution_count": 63,
     "metadata": {},
     "output_type": "execute_result"
    }
   ],
   "source": [
    "df_djlabeled_neg.head()"
   ]
  },
  {
   "cell_type": "code",
   "execution_count": 64,
   "metadata": {},
   "outputs": [
    {
     "data": {
      "text/plain": [
       "0    6743\n",
       "1    6286\n",
       "Name: LABEL, dtype: int64"
      ]
     },
     "execution_count": 64,
     "metadata": {},
     "output_type": "execute_result"
    }
   ],
   "source": [
    "df_djlabeled_neg['LABEL'].value_counts()"
   ]
  },
  {
   "cell_type": "code",
   "execution_count": 65,
   "metadata": {},
   "outputs": [],
   "source": [
    "df_djlabeled_neg.to_excel(\"ML_Data/dj_classified_neg.xlsx\", sheet_name='Sheet_1') "
   ]
  },
  {
   "cell_type": "markdown",
   "metadata": {},
   "source": [
    "Results for classifier "
   ]
  },
  {
   "cell_type": "code",
   "execution_count": 66,
   "metadata": {},
   "outputs": [],
   "source": [
    "result_dj_pos=classifier(\"lr\",\"y\",\"cv\",df_djlabeled_pos)"
   ]
  },
  {
   "cell_type": "code",
   "execution_count": 67,
   "metadata": {},
   "outputs": [],
   "source": [
    "result_dj_neg=classifier(\"lr\",\"y\",\"cv\",df_djlabeled_neg)"
   ]
  },
  {
   "cell_type": "code",
   "execution_count": 68,
   "metadata": {},
   "outputs": [
    {
     "data": {
      "text/plain": [
       "('Accuracy: 0.9259401381427476', 'F1 0.9258730910409005')"
      ]
     },
     "execution_count": 68,
     "metadata": {},
     "output_type": "execute_result"
    }
   ],
   "source": [
    "result_dj_pos[2:4]"
   ]
  },
  {
   "cell_type": "code",
   "execution_count": 69,
   "metadata": {},
   "outputs": [
    {
     "data": {
      "text/plain": [
       "('Accuracy: 0.9259401381427476', 'F1 0.9258730910409005')"
      ]
     },
     "execution_count": 69,
     "metadata": {},
     "output_type": "execute_result"
    }
   ],
   "source": [
    "result_dj_neg[2:4]"
   ]
  },
  {
   "cell_type": "markdown",
   "metadata": {},
   "source": [
    "### Dow jones result mapped, neutral mapped to positive"
   ]
  },
  {
   "cell_type": "code",
   "execution_count": 70,
   "metadata": {},
   "outputs": [],
   "source": [
    "feature_to_coef_dj_pos = {\n",
    "    word: coef for word, coef in zip(\n",
    "        result_dj_pos[1].get_feature_names(), result_dj_pos[0].coef_[0]\n",
    "    )    \n",
    "}"
   ]
  },
  {
   "cell_type": "code",
   "execution_count": 71,
   "metadata": {},
   "outputs": [
    {
     "name": "stdout",
     "output_type": "stream",
     "text": [
      "('optimisticvalue', 5.93832225898062)\n",
      "('buy', 5.333313636539722)\n",
      "('good', 4.215020711320868)\n",
      "('close', 4.071599447684046)\n",
      "('come', 3.4543755542415067)\n",
      "('end', 3.0778413480829996)\n",
      "('go', 2.659352667602555)\n",
      "('another', 2.5796694033035186)\n",
      "('rise', 2.4785946914601396)\n",
      "('start', 2.3918274891581968)\n"
     ]
    }
   ],
   "source": [
    "for best_positive in sorted(\n",
    "    feature_to_coef_dj_pos.items(), \n",
    "    key=lambda x: x[1], reverse=True, \n",
    "    )[:10]:\n",
    "    print (best_positive)"
   ]
  },
  {
   "cell_type": "code",
   "execution_count": 72,
   "metadata": {},
   "outputs": [
    {
     "name": "stdout",
     "output_type": "stream",
     "text": [
      "('sell', -2.4359389791943546)\n",
      "('know', -2.3266012890416086)\n",
      "('pessimisticvalue', -2.0993034875865324)\n",
      "('fall', -1.793485208308045)\n",
      "('look', -1.6995932609675102)\n",
      "('wait', -1.4975881706282363)\n",
      "('one', -1.497144918218633)\n",
      "('well', -1.4889288985539648)\n",
      "('need', -1.4344692067400397)\n",
      "('level', -1.3899459030605943)\n"
     ]
    }
   ],
   "source": [
    "for best_negative in sorted(\n",
    "    feature_to_coef_tes_pos.items(), \n",
    "    key=lambda x: x[1] \n",
    "    )[:10]:\n",
    "    print (best_negative)"
   ]
  }
 ],
 "metadata": {
  "kernelspec": {
   "display_name": "Python 3",
   "language": "python",
   "name": "python3"
  },
  "language_info": {
   "codemirror_mode": {
    "name": "ipython",
    "version": 3
   },
   "file_extension": ".py",
   "mimetype": "text/x-python",
   "name": "python",
   "nbconvert_exporter": "python",
   "pygments_lexer": "ipython3",
   "version": "3.6.5"
  }
 },
 "nbformat": 4,
 "nbformat_minor": 2
}
