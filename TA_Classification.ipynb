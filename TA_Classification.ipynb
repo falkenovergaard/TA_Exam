{
 "cells": [
  {
   "cell_type": "code",
   "execution_count": 196,
   "metadata": {},
   "outputs": [],
   "source": [
    "import pandas as pd\n",
    "from sklearn.feature_extraction.text import CountVectorizer\n",
    "from sklearn.feature_extraction.text import TfidfVectorizer\n",
    "from sklearn.feature_extraction.text import TfidfTransformer\n",
    "from sklearn.model_selection import train_test_split\n",
    "from sklearn.naive_bayes import MultinomialNB\n",
    "from sklearn.naive_bayes import GaussianNB\n",
    "from sklearn.metrics import accuracy_score, f1_score\n",
    "from sklearn.linear_model import LogisticRegression\n",
    "from sklearn import svm"
   ]
  },
  {
   "cell_type": "code",
   "execution_count": 197,
   "metadata": {},
   "outputs": [],
   "source": [
    "df_pos = pd.read_excel('data/output/clean_handlabeled_data.xlsx')\n",
    "df_neg = pd.read_excel('data/output/clean_handlabeled_data.xlsx')"
   ]
  },
  {
   "cell_type": "markdown",
   "metadata": {},
   "source": [
    "Raghava"
   ]
  },
  {
   "cell_type": "code",
   "execution_count": 198,
   "metadata": {},
   "outputs": [],
   "source": [
    "df_bit = pd.read_excel(\"data/output/clean_bit_data.xlsx\") \n",
    "df_ts = pd.read_excel(\"data/output/clean_tesla_data.xlsx\") \n",
    "df_dj = pd.read_excel(\"data/output/clean_dowjones_data.xlsx\") "
   ]
  },
  {
   "cell_type": "code",
   "execution_count": 199,
   "metadata": {},
   "outputs": [],
   "source": [
    "df_bit = df_bit[pd.notnull(df_bit['COMMENT'])]\n",
    "df_ts = df_ts[pd.notnull(df_ts['COMMENT'])]\n",
    "df_dj = df_dj[pd.notnull(df_dj['COMMENT'])]\n",
    "\n",
    "df_pos = df_pos[pd.notnull(df_pos['LABEL'])]\n",
    "df_neg = df_neg[pd.notnull(df_neg['LABEL'])]\n"
   ]
  },
  {
   "cell_type": "code",
   "execution_count": 200,
   "metadata": {},
   "outputs": [
    {
     "name": "stdout",
     "output_type": "stream",
     "text": [
      "<class 'pandas.core.frame.DataFrame'>\n",
      "Int64Index: 22682 entries, 0 to 22681\n",
      "Data columns (total 3 columns):\n",
      "date       22682 non-null object\n",
      "COMMENT    22682 non-null object\n",
      "LABEL      0 non-null float64\n",
      "dtypes: float64(1), object(2)\n",
      "memory usage: 708.8+ KB\n"
     ]
    }
   ],
   "source": [
    "df_bit.info()"
   ]
  },
  {
   "cell_type": "markdown",
   "metadata": {},
   "source": [
    "## Classifier"
   ]
  },
  {
   "cell_type": "code",
   "execution_count": 201,
   "metadata": {},
   "outputs": [],
   "source": [
    "df_pos['LABEL'] = df_pos['LABEL'].map({'NEU':'POS','POS':'POS','NEG':'NEG'})"
   ]
  },
  {
   "cell_type": "code",
   "execution_count": 202,
   "metadata": {},
   "outputs": [
    {
     "name": "stdout",
     "output_type": "stream",
     "text": [
      "<class 'pandas.core.frame.DataFrame'>\n",
      "Int64Index: 997 entries, 0 to 998\n",
      "Data columns (total 2 columns):\n",
      "COMMENT    974 non-null object\n",
      "LABEL      997 non-null object\n",
      "dtypes: object(2)\n",
      "memory usage: 23.4+ KB\n"
     ]
    }
   ],
   "source": [
    "df_pos.info()"
   ]
  },
  {
   "cell_type": "code",
   "execution_count": 203,
   "metadata": {},
   "outputs": [],
   "source": [
    "df_neg['LABEL'] = df_neg['LABEL'].map({'NEU':'NEG','POS':'POS','NEG':'NEG'})"
   ]
  },
  {
   "cell_type": "code",
   "execution_count": 204,
   "metadata": {},
   "outputs": [
    {
     "data": {
      "text/html": [
       "<div>\n",
       "<style scoped>\n",
       "    .dataframe tbody tr th:only-of-type {\n",
       "        vertical-align: middle;\n",
       "    }\n",
       "\n",
       "    .dataframe tbody tr th {\n",
       "        vertical-align: top;\n",
       "    }\n",
       "\n",
       "    .dataframe thead th {\n",
       "        text-align: right;\n",
       "    }\n",
       "</style>\n",
       "<table border=\"1\" class=\"dataframe\">\n",
       "  <thead>\n",
       "    <tr style=\"text-align: right;\">\n",
       "      <th></th>\n",
       "      <th>COMMENT</th>\n",
       "      <th>LABEL</th>\n",
       "    </tr>\n",
       "  </thead>\n",
       "  <tbody>\n",
       "    <tr>\n",
       "      <th>0</th>\n",
       "      <td>thats, bull, say, since, pessimisticvalue, k, ...</td>\n",
       "      <td>NEG</td>\n",
       "    </tr>\n",
       "    <tr>\n",
       "      <th>1</th>\n",
       "      <td>hello, guy, anyone, use, ig, market, issue, pl...</td>\n",
       "      <td>NEG</td>\n",
       "    </tr>\n",
       "    <tr>\n",
       "      <th>2</th>\n",
       "      <td>year, old, hand, pin, falcon, wing, door, subm...</td>\n",
       "      <td>NEG</td>\n",
       "    </tr>\n",
       "    <tr>\n",
       "      <th>3</th>\n",
       "      <td>time, breka, never, really, guys</td>\n",
       "      <td>NEG</td>\n",
       "    </tr>\n",
       "    <tr>\n",
       "      <th>4</th>\n",
       "      <td>world, economy, th, final, one, trump, bankruptcy</td>\n",
       "      <td>NEG</td>\n",
       "    </tr>\n",
       "    <tr>\n",
       "      <th>5</th>\n",
       "      <td>come, q, extremely, strong, ford, expect, bill...</td>\n",
       "      <td>NEG</td>\n",
       "    </tr>\n",
       "    <tr>\n",
       "      <th>6</th>\n",
       "      <td>bad, pessimisticvalue</td>\n",
       "      <td>NEG</td>\n",
       "    </tr>\n",
       "    <tr>\n",
       "      <th>7</th>\n",
       "      <td>see, joke, right, smell, ponzihistory, doesnt,...</td>\n",
       "      <td>NEG</td>\n",
       "    </tr>\n",
       "    <tr>\n",
       "      <th>8</th>\n",
       "      <td>bear, case, touch, fall, bull, case, retest, take</td>\n",
       "      <td>NEG</td>\n",
       "    </tr>\n",
       "    <tr>\n",
       "      <th>9</th>\n",
       "      <td>distance, reentering, downward, channel, pullb...</td>\n",
       "      <td>NEG</td>\n",
       "    </tr>\n",
       "    <tr>\n",
       "      <th>10</th>\n",
       "      <td>NaN</td>\n",
       "      <td>NEG</td>\n",
       "    </tr>\n",
       "    <tr>\n",
       "      <th>11</th>\n",
       "      <td>stock, best</td>\n",
       "      <td>NEG</td>\n",
       "    </tr>\n",
       "    <tr>\n",
       "      <th>12</th>\n",
       "      <td>open, position, optimisticvalue, target, k, be...</td>\n",
       "      <td>NEG</td>\n",
       "    </tr>\n",
       "    <tr>\n",
       "      <th>13</th>\n",
       "      <td>yes, hope, prayer</td>\n",
       "      <td>POS</td>\n",
       "    </tr>\n",
       "    <tr>\n",
       "      <th>14</th>\n",
       "      <td>fiat, money, go, reflect, q, q</td>\n",
       "      <td>NEG</td>\n",
       "    </tr>\n",
       "    <tr>\n",
       "      <th>15</th>\n",
       "      <td>h, mbb, bb, toughly, narrow, stil, mkc, ema, p...</td>\n",
       "      <td>NEG</td>\n",
       "    </tr>\n",
       "    <tr>\n",
       "      <th>16</th>\n",
       "      <td>time, climb, weightless, room, keep, hal, comp...</td>\n",
       "      <td>NEG</td>\n",
       "    </tr>\n",
       "    <tr>\n",
       "      <th>17</th>\n",
       "      <td>good, news, least, month, might, provide, cash...</td>\n",
       "      <td>POS</td>\n",
       "    </tr>\n",
       "    <tr>\n",
       "      <th>18</th>\n",
       "      <td>anemic, red</td>\n",
       "      <td>NEG</td>\n",
       "    </tr>\n",
       "    <tr>\n",
       "      <th>19</th>\n",
       "      <td>pessimisticvalue, supportive, accommodative, f...</td>\n",
       "      <td>POS</td>\n",
       "    </tr>\n",
       "    <tr>\n",
       "      <th>20</th>\n",
       "      <td>short, squeeze, elon, promise</td>\n",
       "      <td>NEG</td>\n",
       "    </tr>\n",
       "    <tr>\n",
       "      <th>21</th>\n",
       "      <td>k, come</td>\n",
       "      <td>POS</td>\n",
       "    </tr>\n",
       "    <tr>\n",
       "      <th>22</th>\n",
       "      <td>tg, achieve</td>\n",
       "      <td>POS</td>\n",
       "    </tr>\n",
       "    <tr>\n",
       "      <th>23</th>\n",
       "      <td>rule, dont, listen, lol, laughable</td>\n",
       "      <td>NEG</td>\n",
       "    </tr>\n",
       "    <tr>\n",
       "      <th>24</th>\n",
       "      <td>riss, see, volume</td>\n",
       "      <td>POS</td>\n",
       "    </tr>\n",
       "    <tr>\n",
       "      <th>25</th>\n",
       "      <td>buy, sell</td>\n",
       "      <td>NEG</td>\n",
       "    </tr>\n",
       "    <tr>\n",
       "      <th>26</th>\n",
       "      <td>lol, spell, movement, last, week, almost, verb...</td>\n",
       "      <td>POS</td>\n",
       "    </tr>\n",
       "    <tr>\n",
       "      <th>27</th>\n",
       "      <td>jesus, coin, prayer, appropriate</td>\n",
       "      <td>NEG</td>\n",
       "    </tr>\n",
       "    <tr>\n",
       "      <th>28</th>\n",
       "      <td>buy, call, roaring</td>\n",
       "      <td>POS</td>\n",
       "    </tr>\n",
       "    <tr>\n",
       "      <th>29</th>\n",
       "      <td>guy, musk, make, million, dollar, past, hour, ...</td>\n",
       "      <td>POS</td>\n",
       "    </tr>\n",
       "    <tr>\n",
       "      <th>...</th>\n",
       "      <td>...</td>\n",
       "      <td>...</td>\n",
       "    </tr>\n",
       "    <tr>\n",
       "      <th>969</th>\n",
       "      <td>told, ya, bond, market, right, equity, wrong</td>\n",
       "      <td>NEG</td>\n",
       "    </tr>\n",
       "    <tr>\n",
       "      <th>970</th>\n",
       "      <td>tesla, waymo, uber, mercedes, ge, batterelectr...</td>\n",
       "      <td>POS</td>\n",
       "    </tr>\n",
       "    <tr>\n",
       "      <th>971</th>\n",
       "      <td>NaN</td>\n",
       "      <td>NEG</td>\n",
       "    </tr>\n",
       "    <tr>\n",
       "      <th>972</th>\n",
       "      <td>expect, close</td>\n",
       "      <td>POS</td>\n",
       "    </tr>\n",
       "    <tr>\n",
       "      <th>973</th>\n",
       "      <td>tsla, short, interest, bn, mm, share, short, f...</td>\n",
       "      <td>NEG</td>\n",
       "    </tr>\n",
       "    <tr>\n",
       "      <th>974</th>\n",
       "      <td>think, end, mystery, soon, soer</td>\n",
       "      <td>NEG</td>\n",
       "    </tr>\n",
       "    <tr>\n",
       "      <th>975</th>\n",
       "      <td>stock, market, immune, economic, indicator, sh...</td>\n",
       "      <td>NEG</td>\n",
       "    </tr>\n",
       "    <tr>\n",
       "      <th>976</th>\n",
       "      <td>tesla, would, well, go, private, company, read...</td>\n",
       "      <td>NEG</td>\n",
       "    </tr>\n",
       "    <tr>\n",
       "      <th>977</th>\n",
       "      <td>im, happy, right, really, go, hahahah</td>\n",
       "      <td>POS</td>\n",
       "    </tr>\n",
       "    <tr>\n",
       "      <th>978</th>\n",
       "      <td>buy, dow, every, dip</td>\n",
       "      <td>POS</td>\n",
       "    </tr>\n",
       "    <tr>\n",
       "      <th>979</th>\n",
       "      <td>mark, word, hit, approtunity, buy, warren, buf...</td>\n",
       "      <td>POS</td>\n",
       "    </tr>\n",
       "    <tr>\n",
       "      <th>980</th>\n",
       "      <td>xem, btc, chart, cup, formation</td>\n",
       "      <td>NEG</td>\n",
       "    </tr>\n",
       "    <tr>\n",
       "      <th>981</th>\n",
       "      <td>fake, news, time, burn</td>\n",
       "      <td>NEG</td>\n",
       "    </tr>\n",
       "    <tr>\n",
       "      <th>982</th>\n",
       "      <td>dream, tesla, gon, na, hopefully</td>\n",
       "      <td>POS</td>\n",
       "    </tr>\n",
       "    <tr>\n",
       "      <th>983</th>\n",
       "      <td>told, go, k, send, see, doctor</td>\n",
       "      <td>POS</td>\n",
       "    </tr>\n",
       "    <tr>\n",
       "      <th>984</th>\n",
       "      <td>bull, exhaust</td>\n",
       "      <td>NEG</td>\n",
       "    </tr>\n",
       "    <tr>\n",
       "      <th>985</th>\n",
       "      <td>loli, guess, would, wish, id, dont, kid, yours...</td>\n",
       "      <td>NEG</td>\n",
       "    </tr>\n",
       "    <tr>\n",
       "      <th>986</th>\n",
       "      <td>unless, confirms, hand, method, would, wait, b...</td>\n",
       "      <td>POS</td>\n",
       "    </tr>\n",
       "    <tr>\n",
       "      <th>987</th>\n",
       "      <td>come, beautiful, red, christmas</td>\n",
       "      <td>NEG</td>\n",
       "    </tr>\n",
       "    <tr>\n",
       "      <th>988</th>\n",
       "      <td>please, dont, panic, tesla, space</td>\n",
       "      <td>POS</td>\n",
       "    </tr>\n",
       "    <tr>\n",
       "      <th>989</th>\n",
       "      <td>south, korean, card, company, block, transacti...</td>\n",
       "      <td>NEG</td>\n",
       "    </tr>\n",
       "    <tr>\n",
       "      <th>990</th>\n",
       "      <td>china, stock, rally, policy, ease, speculation</td>\n",
       "      <td>POS</td>\n",
       "    </tr>\n",
       "    <tr>\n",
       "      <th>991</th>\n",
       "      <td>news, last, month, start, sell, eu, china, bec...</td>\n",
       "      <td>POS</td>\n",
       "    </tr>\n",
       "    <tr>\n",
       "      <th>992</th>\n",
       "      <td>sip, breakfast</td>\n",
       "      <td>NEG</td>\n",
       "    </tr>\n",
       "    <tr>\n",
       "      <th>993</th>\n",
       "      <td>try, tell, earlier, k, capitulation</td>\n",
       "      <td>NEG</td>\n",
       "    </tr>\n",
       "    <tr>\n",
       "      <th>994</th>\n",
       "      <td>tesla, even, go</td>\n",
       "      <td>POS</td>\n",
       "    </tr>\n",
       "    <tr>\n",
       "      <th>995</th>\n",
       "      <td>im, hop, eth, take</td>\n",
       "      <td>NEG</td>\n",
       "    </tr>\n",
       "    <tr>\n",
       "      <th>996</th>\n",
       "      <td>gon, na, come, back, cus, walmart, oversold, g...</td>\n",
       "      <td>POS</td>\n",
       "    </tr>\n",
       "    <tr>\n",
       "      <th>997</th>\n",
       "      <td>news, tesla, chief, elon, musk, change, twitte...</td>\n",
       "      <td>POS</td>\n",
       "    </tr>\n",
       "    <tr>\n",
       "      <th>998</th>\n",
       "      <td>anyone, else, hear, jaw, theme, play, backgrou...</td>\n",
       "      <td>NEG</td>\n",
       "    </tr>\n",
       "  </tbody>\n",
       "</table>\n",
       "<p>997 rows × 2 columns</p>\n",
       "</div>"
      ],
      "text/plain": [
       "                                               COMMENT LABEL\n",
       "0    thats, bull, say, since, pessimisticvalue, k, ...   NEG\n",
       "1    hello, guy, anyone, use, ig, market, issue, pl...   NEG\n",
       "2    year, old, hand, pin, falcon, wing, door, subm...   NEG\n",
       "3                     time, breka, never, really, guys   NEG\n",
       "4    world, economy, th, final, one, trump, bankruptcy   NEG\n",
       "5    come, q, extremely, strong, ford, expect, bill...   NEG\n",
       "6                                bad, pessimisticvalue   NEG\n",
       "7    see, joke, right, smell, ponzihistory, doesnt,...   NEG\n",
       "8    bear, case, touch, fall, bull, case, retest, take   NEG\n",
       "9    distance, reentering, downward, channel, pullb...   NEG\n",
       "10                                                 NaN   NEG\n",
       "11                                         stock, best   NEG\n",
       "12   open, position, optimisticvalue, target, k, be...   NEG\n",
       "13                                   yes, hope, prayer   POS\n",
       "14                      fiat, money, go, reflect, q, q   NEG\n",
       "15   h, mbb, bb, toughly, narrow, stil, mkc, ema, p...   NEG\n",
       "16   time, climb, weightless, room, keep, hal, comp...   NEG\n",
       "17   good, news, least, month, might, provide, cash...   POS\n",
       "18                                         anemic, red   NEG\n",
       "19   pessimisticvalue, supportive, accommodative, f...   POS\n",
       "20                       short, squeeze, elon, promise   NEG\n",
       "21                                             k, come   POS\n",
       "22                                         tg, achieve   POS\n",
       "23                  rule, dont, listen, lol, laughable   NEG\n",
       "24                                   riss, see, volume   POS\n",
       "25                                           buy, sell   NEG\n",
       "26   lol, spell, movement, last, week, almost, verb...   POS\n",
       "27                    jesus, coin, prayer, appropriate   NEG\n",
       "28                                  buy, call, roaring   POS\n",
       "29   guy, musk, make, million, dollar, past, hour, ...   POS\n",
       "..                                                 ...   ...\n",
       "969       told, ya, bond, market, right, equity, wrong   NEG\n",
       "970  tesla, waymo, uber, mercedes, ge, batterelectr...   POS\n",
       "971                                                NaN   NEG\n",
       "972                                      expect, close   POS\n",
       "973  tsla, short, interest, bn, mm, share, short, f...   NEG\n",
       "974                    think, end, mystery, soon, soer   NEG\n",
       "975  stock, market, immune, economic, indicator, sh...   NEG\n",
       "976  tesla, would, well, go, private, company, read...   NEG\n",
       "977              im, happy, right, really, go, hahahah   POS\n",
       "978                               buy, dow, every, dip   POS\n",
       "979  mark, word, hit, approtunity, buy, warren, buf...   POS\n",
       "980                    xem, btc, chart, cup, formation   NEG\n",
       "981                             fake, news, time, burn   NEG\n",
       "982                   dream, tesla, gon, na, hopefully   POS\n",
       "983                     told, go, k, send, see, doctor   POS\n",
       "984                                      bull, exhaust   NEG\n",
       "985  loli, guess, would, wish, id, dont, kid, yours...   NEG\n",
       "986  unless, confirms, hand, method, would, wait, b...   POS\n",
       "987                    come, beautiful, red, christmas   NEG\n",
       "988                  please, dont, panic, tesla, space   POS\n",
       "989  south, korean, card, company, block, transacti...   NEG\n",
       "990     china, stock, rally, policy, ease, speculation   POS\n",
       "991  news, last, month, start, sell, eu, china, bec...   POS\n",
       "992                                     sip, breakfast   NEG\n",
       "993                try, tell, earlier, k, capitulation   NEG\n",
       "994                                    tesla, even, go   POS\n",
       "995                                 im, hop, eth, take   NEG\n",
       "996  gon, na, come, back, cus, walmart, oversold, g...   POS\n",
       "997  news, tesla, chief, elon, musk, change, twitte...   POS\n",
       "998  anyone, else, hear, jaw, theme, play, backgrou...   NEG\n",
       "\n",
       "[997 rows x 2 columns]"
      ]
     },
     "execution_count": 204,
     "metadata": {},
     "output_type": "execute_result"
    }
   ],
   "source": [
    "df_neg"
   ]
  },
  {
   "cell_type": "code",
   "execution_count": 205,
   "metadata": {},
   "outputs": [],
   "source": [
    "def classifier(clf,strat,vec,df):\n",
    "    \n",
    "    y = df['LABEL'].astype(str)\n",
    "    X = df.COMMENT.astype(str)\n",
    "    #y = pd.get_dummies(y)\n",
    "    \n",
    "    if vec == \"cv\":\n",
    "        count = CountVectorizer()\n",
    "    elif vec == \"tdidf\":\n",
    "        count = TfidfVectorizer(binary=True, ngram_range=(1,1), use_idf=False)\n",
    "    \n",
    "    if strat == \"y\":\n",
    "        X_train, X_test, y_train, y_test = train_test_split(X, y, test_size=0.2,random_state=42)\n",
    "        X_train_counts = count.fit_transform(X_train)\n",
    "        #print(X_train_counts)\n",
    "        X_test_counts = count.transform(X_test)\n",
    "\n",
    "        \n",
    "    elif strat == \"n\":\n",
    "        X_train, X_test, y_train, y_test = train_test_split(X, y, test_size=0.2) \n",
    "        X_train_counts = count.fit_transform(X_train)\n",
    "        X_test_counts = count.transform(X_test)\n",
    "\n",
    "    \n",
    "    if clf == \"lr\":\n",
    "        clf = LogisticRegression(solver=\"lbfgs\",C=0.5).fit(X_train_counts, y_train)\n",
    "        #clf = LogisticRegression(C=0.4).fit(X_train_counts, y_train)\n",
    "        \n",
    "    elif clf == \"mnb\":\n",
    "        clf = MultinomialNB().fit(X_train_counts, y_train)\n",
    "        #clf = GaussianNB().fit(X_train_counts, y_train)\n",
    "        \n",
    "    \n",
    "    elif clf == \"svm\":\n",
    "        clf = svm.SVC(kernel='linear').fit(X_train_counts, y_train)\n",
    "\n",
    "    yPred = clf.predict(X_test_counts)\n",
    "    yPred_log = clf.predict_proba(X_test_counts)\n",
    "    \n",
    "    list_P = list(zip(yPred, X_test))\n",
    "    list_T = list(zip(yPred, y_test, X_test)) \n",
    "    \n",
    "    \n",
    "    acc=accuracy_score(y_test,yPred)\n",
    "    f1=f1_score(y_test,yPred, average='weighted')\n",
    "\n",
    "    return clf, count,\"Accuracy: %s\" % acc, \"F1 %s\" % f1, list_P, list_T"
   ]
  },
  {
   "cell_type": "code",
   "execution_count": 206,
   "metadata": {},
   "outputs": [],
   "source": [
    "result_hl_neg=classifier(\"lr\",\"y\",\"cv\",df_neg)\n",
    "result_hl_pos=classifier(\"lr\",\"y\",\"cv\",df_pos)\n",
    "\n",
    "df_result_hl_neg = pd.DataFrame(result_hl_neg[5], columns = ['Predicted_label', 'True_Label', 'Comment'])"
   ]
  },
  {
   "cell_type": "code",
   "execution_count": 207,
   "metadata": {},
   "outputs": [
    {
     "data": {
      "text/html": [
       "<div>\n",
       "<style scoped>\n",
       "    .dataframe tbody tr th:only-of-type {\n",
       "        vertical-align: middle;\n",
       "    }\n",
       "\n",
       "    .dataframe tbody tr th {\n",
       "        vertical-align: top;\n",
       "    }\n",
       "\n",
       "    .dataframe thead th {\n",
       "        text-align: right;\n",
       "    }\n",
       "</style>\n",
       "<table border=\"1\" class=\"dataframe\">\n",
       "  <thead>\n",
       "    <tr style=\"text-align: right;\">\n",
       "      <th></th>\n",
       "      <th>Predicted_label</th>\n",
       "      <th>True_Label</th>\n",
       "      <th>Comment</th>\n",
       "    </tr>\n",
       "  </thead>\n",
       "  <tbody>\n",
       "    <tr>\n",
       "      <th>0</th>\n",
       "      <td>NEG</td>\n",
       "      <td>NEG</td>\n",
       "      <td>go, say, break, pessimisticvalue, wti, beat, l...</td>\n",
       "    </tr>\n",
       "    <tr>\n",
       "      <th>1</th>\n",
       "      <td>NEG</td>\n",
       "      <td>POS</td>\n",
       "      <td>winampwin, bull</td>\n",
       "    </tr>\n",
       "    <tr>\n",
       "      <th>2</th>\n",
       "      <td>NEG</td>\n",
       "      <td>POS</td>\n",
       "      <td>short, play, think, well, hit, pessimisticvalu...</td>\n",
       "    </tr>\n",
       "    <tr>\n",
       "      <th>3</th>\n",
       "      <td>NEG</td>\n",
       "      <td>NEG</td>\n",
       "      <td>chaos, come, first, situatio, wait, us</td>\n",
       "    </tr>\n",
       "    <tr>\n",
       "      <th>4</th>\n",
       "      <td>NEG</td>\n",
       "      <td>NEG</td>\n",
       "      <td>st, support, pessimisticvalue</td>\n",
       "    </tr>\n",
       "    <tr>\n",
       "      <th>5</th>\n",
       "      <td>POS</td>\n",
       "      <td>POS</td>\n",
       "      <td>tesla, go, test, resistance, optimisticvalue, ...</td>\n",
       "    </tr>\n",
       "    <tr>\n",
       "      <th>6</th>\n",
       "      <td>NEG</td>\n",
       "      <td>NEG</td>\n",
       "      <td>elon, musk, develop, secret, sauce, tesla, lon...</td>\n",
       "    </tr>\n",
       "    <tr>\n",
       "      <th>7</th>\n",
       "      <td>NEG</td>\n",
       "      <td>NEG</td>\n",
       "      <td>ok, bull, ypu, know, ’, temporary, right</td>\n",
       "    </tr>\n",
       "    <tr>\n",
       "      <th>8</th>\n",
       "      <td>NEG</td>\n",
       "      <td>NEG</td>\n",
       "      <td>reason, christmas, rally, every, year, shorter...</td>\n",
       "    </tr>\n",
       "    <tr>\n",
       "      <th>9</th>\n",
       "      <td>NEG</td>\n",
       "      <td>NEG</td>\n",
       "      <td>pessimisticvalue, still, seem, inevitable</td>\n",
       "    </tr>\n",
       "    <tr>\n",
       "      <th>10</th>\n",
       "      <td>NEG</td>\n",
       "      <td>NEG</td>\n",
       "      <td>sure, future, use, crypto, bitcoin, crypto, li...</td>\n",
       "    </tr>\n",
       "    <tr>\n",
       "      <th>11</th>\n",
       "      <td>NEG</td>\n",
       "      <td>NEG</td>\n",
       "      <td>one, really, crash</td>\n",
       "    </tr>\n",
       "    <tr>\n",
       "      <th>12</th>\n",
       "      <td>NEG</td>\n",
       "      <td>NEG</td>\n",
       "      <td>john, nicol, post, pessimisticvalue, trade, pu...</td>\n",
       "    </tr>\n",
       "    <tr>\n",
       "      <th>13</th>\n",
       "      <td>NEG</td>\n",
       "      <td>NEG</td>\n",
       "      <td>able, buy, much, low, pessimisticvalue, month,...</td>\n",
       "    </tr>\n",
       "    <tr>\n",
       "      <th>14</th>\n",
       "      <td>NEG</td>\n",
       "      <td>NEG</td>\n",
       "      <td>run, look, like</td>\n",
       "    </tr>\n",
       "    <tr>\n",
       "      <th>15</th>\n",
       "      <td>NEG</td>\n",
       "      <td>NEG</td>\n",
       "      <td>look, good</td>\n",
       "    </tr>\n",
       "    <tr>\n",
       "      <th>16</th>\n",
       "      <td>NEG</td>\n",
       "      <td>NEG</td>\n",
       "      <td>bear, start, take, control, edge</td>\n",
       "    </tr>\n",
       "    <tr>\n",
       "      <th>17</th>\n",
       "      <td>NEG</td>\n",
       "      <td>NEG</td>\n",
       "      <td>watch, sell</td>\n",
       "    </tr>\n",
       "    <tr>\n",
       "      <th>18</th>\n",
       "      <td>NEG</td>\n",
       "      <td>POS</td>\n",
       "      <td>week, delivery, price, go, look</td>\n",
       "    </tr>\n",
       "    <tr>\n",
       "      <th>19</th>\n",
       "      <td>NEG</td>\n",
       "      <td>NEG</td>\n",
       "      <td>dont, understand, dummy, keep, investing, moment</td>\n",
       "    </tr>\n",
       "    <tr>\n",
       "      <th>20</th>\n",
       "      <td>NEG</td>\n",
       "      <td>NEG</td>\n",
       "      <td>pessimisticvalue, jan, feb, mar, apr, may, jun...</td>\n",
       "    </tr>\n",
       "    <tr>\n",
       "      <th>21</th>\n",
       "      <td>NEG</td>\n",
       "      <td>NEG</td>\n",
       "      <td>panic, sell</td>\n",
       "    </tr>\n",
       "    <tr>\n",
       "      <th>22</th>\n",
       "      <td>NEG</td>\n",
       "      <td>NEG</td>\n",
       "      <td>thats, happen, dont, bribe, government, worker...</td>\n",
       "    </tr>\n",
       "    <tr>\n",
       "      <th>23</th>\n",
       "      <td>NEG</td>\n",
       "      <td>NEG</td>\n",
       "      <td>xrp, pump</td>\n",
       "    </tr>\n",
       "    <tr>\n",
       "      <th>24</th>\n",
       "      <td>NEG</td>\n",
       "      <td>POS</td>\n",
       "      <td>enter, yesterday, wish, could, add, today, well</td>\n",
       "    </tr>\n",
       "    <tr>\n",
       "      <th>25</th>\n",
       "      <td>NEG</td>\n",
       "      <td>NEG</td>\n",
       "      <td>next, support, pessimisticvalue</td>\n",
       "    </tr>\n",
       "    <tr>\n",
       "      <th>26</th>\n",
       "      <td>NEG</td>\n",
       "      <td>NEG</td>\n",
       "      <td>find, best, app, calculate, gt, crypto, invest...</td>\n",
       "    </tr>\n",
       "    <tr>\n",
       "      <th>27</th>\n",
       "      <td>NEG</td>\n",
       "      <td>NEG</td>\n",
       "      <td>people, know, whos, best</td>\n",
       "    </tr>\n",
       "    <tr>\n",
       "      <th>28</th>\n",
       "      <td>NEG</td>\n",
       "      <td>NEG</td>\n",
       "      <td>short, folk, agree, overvalue, market, however...</td>\n",
       "    </tr>\n",
       "    <tr>\n",
       "      <th>29</th>\n",
       "      <td>NEG</td>\n",
       "      <td>NEG</td>\n",
       "      <td>dead, market, always, bore, yawn</td>\n",
       "    </tr>\n",
       "    <tr>\n",
       "      <th>...</th>\n",
       "      <td>...</td>\n",
       "      <td>...</td>\n",
       "      <td>...</td>\n",
       "    </tr>\n",
       "    <tr>\n",
       "      <th>170</th>\n",
       "      <td>NEG</td>\n",
       "      <td>NEG</td>\n",
       "      <td>gang, accord, calculation, free, cash, flow, t...</td>\n",
       "    </tr>\n",
       "    <tr>\n",
       "      <th>171</th>\n",
       "      <td>NEG</td>\n",
       "      <td>NEG</td>\n",
       "      <td>hope, btc, sink, without, touch, pessimisticva...</td>\n",
       "    </tr>\n",
       "    <tr>\n",
       "      <th>172</th>\n",
       "      <td>NEG</td>\n",
       "      <td>NEG</td>\n",
       "      <td>leave, body, short, leave, body</td>\n",
       "    </tr>\n",
       "    <tr>\n",
       "      <th>173</th>\n",
       "      <td>NEG</td>\n",
       "      <td>NEG</td>\n",
       "      <td>moon, crytpo, kitten, gravity, pull, back, k, ...</td>\n",
       "    </tr>\n",
       "    <tr>\n",
       "      <th>174</th>\n",
       "      <td>NEG</td>\n",
       "      <td>NEG</td>\n",
       "      <td>mention, day, creator, early, investor, cash, ...</td>\n",
       "    </tr>\n",
       "    <tr>\n",
       "      <th>175</th>\n",
       "      <td>POS</td>\n",
       "      <td>POS</td>\n",
       "      <td>great, opportunity, buy, model, taking</td>\n",
       "    </tr>\n",
       "    <tr>\n",
       "      <th>176</th>\n",
       "      <td>NEG</td>\n",
       "      <td>NEG</td>\n",
       "      <td>emotion, lead, current, trend</td>\n",
       "    </tr>\n",
       "    <tr>\n",
       "      <th>177</th>\n",
       "      <td>NEG</td>\n",
       "      <td>POS</td>\n",
       "      <td>dont, deceive, smoke, mirror, announcement, pr...</td>\n",
       "    </tr>\n",
       "    <tr>\n",
       "      <th>178</th>\n",
       "      <td>NEG</td>\n",
       "      <td>NEG</td>\n",
       "      <td>also, consider, would, buy, car, thats, double...</td>\n",
       "    </tr>\n",
       "    <tr>\n",
       "      <th>179</th>\n",
       "      <td>NEG</td>\n",
       "      <td>NEG</td>\n",
       "      <td>car, week, woah</td>\n",
       "    </tr>\n",
       "    <tr>\n",
       "      <th>180</th>\n",
       "      <td>NEG</td>\n",
       "      <td>POS</td>\n",
       "      <td>bitcoin, go</td>\n",
       "    </tr>\n",
       "    <tr>\n",
       "      <th>181</th>\n",
       "      <td>NEG</td>\n",
       "      <td>NEG</td>\n",
       "      <td>nan</td>\n",
       "    </tr>\n",
       "    <tr>\n",
       "      <th>182</th>\n",
       "      <td>NEG</td>\n",
       "      <td>NEG</td>\n",
       "      <td>bear, trap, carefull</td>\n",
       "    </tr>\n",
       "    <tr>\n",
       "      <th>183</th>\n",
       "      <td>NEG</td>\n",
       "      <td>POS</td>\n",
       "      <td>ppt, obviously, day, chart, rise, straight, line</td>\n",
       "    </tr>\n",
       "    <tr>\n",
       "      <th>184</th>\n",
       "      <td>NEG</td>\n",
       "      <td>NEG</td>\n",
       "      <td>auto, tariff, obviously, affect, international...</td>\n",
       "    </tr>\n",
       "    <tr>\n",
       "      <th>185</th>\n",
       "      <td>NEG</td>\n",
       "      <td>NEG</td>\n",
       "      <td>zoom, min, chart, look, similar, last, bear, w...</td>\n",
       "    </tr>\n",
       "    <tr>\n",
       "      <th>186</th>\n",
       "      <td>POS</td>\n",
       "      <td>POS</td>\n",
       "      <td>kgn, btc, optimisticvalue, week</td>\n",
       "    </tr>\n",
       "    <tr>\n",
       "      <th>187</th>\n",
       "      <td>NEG</td>\n",
       "      <td>NEG</td>\n",
       "      <td>last, week, model, production, day, production...</td>\n",
       "    </tr>\n",
       "    <tr>\n",
       "      <th>188</th>\n",
       "      <td>NEG</td>\n",
       "      <td>NEG</td>\n",
       "      <td>next, long, pessimisticvalue</td>\n",
       "    </tr>\n",
       "    <tr>\n",
       "      <th>189</th>\n",
       "      <td>NEG</td>\n",
       "      <td>NEG</td>\n",
       "      <td>cant, find, kumars, ip, address, ban, indefini...</td>\n",
       "    </tr>\n",
       "    <tr>\n",
       "      <th>190</th>\n",
       "      <td>NEG</td>\n",
       "      <td>NEG</td>\n",
       "      <td>pessimisticvalue</td>\n",
       "    </tr>\n",
       "    <tr>\n",
       "      <th>191</th>\n",
       "      <td>NEG</td>\n",
       "      <td>NEG</td>\n",
       "      <td>thing, money, eater, wall, street, always, win...</td>\n",
       "    </tr>\n",
       "    <tr>\n",
       "      <th>192</th>\n",
       "      <td>NEG</td>\n",
       "      <td>NEG</td>\n",
       "      <td>tesla, usd</td>\n",
       "    </tr>\n",
       "    <tr>\n",
       "      <th>193</th>\n",
       "      <td>NEG</td>\n",
       "      <td>NEG</td>\n",
       "      <td>luckily, portfolio, percent, bond</td>\n",
       "    </tr>\n",
       "    <tr>\n",
       "      <th>194</th>\n",
       "      <td>NEG</td>\n",
       "      <td>NEG</td>\n",
       "      <td>company, great, vision, think, theyre, rush, t...</td>\n",
       "    </tr>\n",
       "    <tr>\n",
       "      <th>195</th>\n",
       "      <td>NEG</td>\n",
       "      <td>NEG</td>\n",
       "      <td>bleed, redraw, black, line, make, draw, tom, c...</td>\n",
       "    </tr>\n",
       "    <tr>\n",
       "      <th>196</th>\n",
       "      <td>POS</td>\n",
       "      <td>POS</td>\n",
       "      <td>guy, musk, make, million, dollar, past, hour, ...</td>\n",
       "    </tr>\n",
       "    <tr>\n",
       "      <th>197</th>\n",
       "      <td>NEG</td>\n",
       "      <td>NEG</td>\n",
       "      <td>u, people, think, early, jump</td>\n",
       "    </tr>\n",
       "    <tr>\n",
       "      <th>198</th>\n",
       "      <td>NEG</td>\n",
       "      <td>NEG</td>\n",
       "      <td>dollar, fall, socalled, financial, expert, say...</td>\n",
       "    </tr>\n",
       "    <tr>\n",
       "      <th>199</th>\n",
       "      <td>NEG</td>\n",
       "      <td>NEG</td>\n",
       "      <td>strong, strong, resistance, pivot, point, today</td>\n",
       "    </tr>\n",
       "  </tbody>\n",
       "</table>\n",
       "<p>200 rows × 3 columns</p>\n",
       "</div>"
      ],
      "text/plain": [
       "    Predicted_label True_Label  \\\n",
       "0               NEG        NEG   \n",
       "1               NEG        POS   \n",
       "2               NEG        POS   \n",
       "3               NEG        NEG   \n",
       "4               NEG        NEG   \n",
       "5               POS        POS   \n",
       "6               NEG        NEG   \n",
       "7               NEG        NEG   \n",
       "8               NEG        NEG   \n",
       "9               NEG        NEG   \n",
       "10              NEG        NEG   \n",
       "11              NEG        NEG   \n",
       "12              NEG        NEG   \n",
       "13              NEG        NEG   \n",
       "14              NEG        NEG   \n",
       "15              NEG        NEG   \n",
       "16              NEG        NEG   \n",
       "17              NEG        NEG   \n",
       "18              NEG        POS   \n",
       "19              NEG        NEG   \n",
       "20              NEG        NEG   \n",
       "21              NEG        NEG   \n",
       "22              NEG        NEG   \n",
       "23              NEG        NEG   \n",
       "24              NEG        POS   \n",
       "25              NEG        NEG   \n",
       "26              NEG        NEG   \n",
       "27              NEG        NEG   \n",
       "28              NEG        NEG   \n",
       "29              NEG        NEG   \n",
       "..              ...        ...   \n",
       "170             NEG        NEG   \n",
       "171             NEG        NEG   \n",
       "172             NEG        NEG   \n",
       "173             NEG        NEG   \n",
       "174             NEG        NEG   \n",
       "175             POS        POS   \n",
       "176             NEG        NEG   \n",
       "177             NEG        POS   \n",
       "178             NEG        NEG   \n",
       "179             NEG        NEG   \n",
       "180             NEG        POS   \n",
       "181             NEG        NEG   \n",
       "182             NEG        NEG   \n",
       "183             NEG        POS   \n",
       "184             NEG        NEG   \n",
       "185             NEG        NEG   \n",
       "186             POS        POS   \n",
       "187             NEG        NEG   \n",
       "188             NEG        NEG   \n",
       "189             NEG        NEG   \n",
       "190             NEG        NEG   \n",
       "191             NEG        NEG   \n",
       "192             NEG        NEG   \n",
       "193             NEG        NEG   \n",
       "194             NEG        NEG   \n",
       "195             NEG        NEG   \n",
       "196             POS        POS   \n",
       "197             NEG        NEG   \n",
       "198             NEG        NEG   \n",
       "199             NEG        NEG   \n",
       "\n",
       "                                               Comment  \n",
       "0    go, say, break, pessimisticvalue, wti, beat, l...  \n",
       "1                                      winampwin, bull  \n",
       "2    short, play, think, well, hit, pessimisticvalu...  \n",
       "3               chaos, come, first, situatio, wait, us  \n",
       "4                        st, support, pessimisticvalue  \n",
       "5    tesla, go, test, resistance, optimisticvalue, ...  \n",
       "6    elon, musk, develop, secret, sauce, tesla, lon...  \n",
       "7             ok, bull, ypu, know, ’, temporary, right  \n",
       "8    reason, christmas, rally, every, year, shorter...  \n",
       "9            pessimisticvalue, still, seem, inevitable  \n",
       "10   sure, future, use, crypto, bitcoin, crypto, li...  \n",
       "11                                  one, really, crash  \n",
       "12   john, nicol, post, pessimisticvalue, trade, pu...  \n",
       "13   able, buy, much, low, pessimisticvalue, month,...  \n",
       "14                                     run, look, like  \n",
       "15                                          look, good  \n",
       "16                    bear, start, take, control, edge  \n",
       "17                                         watch, sell  \n",
       "18                     week, delivery, price, go, look  \n",
       "19    dont, understand, dummy, keep, investing, moment  \n",
       "20   pessimisticvalue, jan, feb, mar, apr, may, jun...  \n",
       "21                                         panic, sell  \n",
       "22   thats, happen, dont, bribe, government, worker...  \n",
       "23                                           xrp, pump  \n",
       "24     enter, yesterday, wish, could, add, today, well  \n",
       "25                     next, support, pessimisticvalue  \n",
       "26   find, best, app, calculate, gt, crypto, invest...  \n",
       "27                            people, know, whos, best  \n",
       "28   short, folk, agree, overvalue, market, however...  \n",
       "29                    dead, market, always, bore, yawn  \n",
       "..                                                 ...  \n",
       "170  gang, accord, calculation, free, cash, flow, t...  \n",
       "171  hope, btc, sink, without, touch, pessimisticva...  \n",
       "172                    leave, body, short, leave, body  \n",
       "173  moon, crytpo, kitten, gravity, pull, back, k, ...  \n",
       "174  mention, day, creator, early, investor, cash, ...  \n",
       "175             great, opportunity, buy, model, taking  \n",
       "176                      emotion, lead, current, trend  \n",
       "177  dont, deceive, smoke, mirror, announcement, pr...  \n",
       "178  also, consider, would, buy, car, thats, double...  \n",
       "179                                    car, week, woah  \n",
       "180                                        bitcoin, go  \n",
       "181                                                nan  \n",
       "182                               bear, trap, carefull  \n",
       "183   ppt, obviously, day, chart, rise, straight, line  \n",
       "184  auto, tariff, obviously, affect, international...  \n",
       "185  zoom, min, chart, look, similar, last, bear, w...  \n",
       "186                    kgn, btc, optimisticvalue, week  \n",
       "187  last, week, model, production, day, production...  \n",
       "188                       next, long, pessimisticvalue  \n",
       "189  cant, find, kumars, ip, address, ban, indefini...  \n",
       "190                                   pessimisticvalue  \n",
       "191  thing, money, eater, wall, street, always, win...  \n",
       "192                                         tesla, usd  \n",
       "193                  luckily, portfolio, percent, bond  \n",
       "194  company, great, vision, think, theyre, rush, t...  \n",
       "195  bleed, redraw, black, line, make, draw, tom, c...  \n",
       "196  guy, musk, make, million, dollar, past, hour, ...  \n",
       "197                      u, people, think, early, jump  \n",
       "198  dollar, fall, socalled, financial, expert, say...  \n",
       "199    strong, strong, resistance, pivot, point, today  \n",
       "\n",
       "[200 rows x 3 columns]"
      ]
     },
     "execution_count": 207,
     "metadata": {},
     "output_type": "execute_result"
    }
   ],
   "source": [
    "df_result_hl_neg"
   ]
  },
  {
   "cell_type": "code",
   "execution_count": 208,
   "metadata": {},
   "outputs": [
    {
     "data": {
      "text/plain": [
       "('Accuracy: 0.775', 'F1 0.7352774163019046')"
      ]
     },
     "execution_count": 208,
     "metadata": {},
     "output_type": "execute_result"
    }
   ],
   "source": [
    "result_hl_neg[2:4]"
   ]
  },
  {
   "cell_type": "code",
   "execution_count": 214,
   "metadata": {},
   "outputs": [
    {
     "data": {
      "text/html": [
       "<div>\n",
       "<style scoped>\n",
       "    .dataframe tbody tr th:only-of-type {\n",
       "        vertical-align: middle;\n",
       "    }\n",
       "\n",
       "    .dataframe tbody tr th {\n",
       "        vertical-align: top;\n",
       "    }\n",
       "\n",
       "    .dataframe thead th {\n",
       "        text-align: right;\n",
       "    }\n",
       "</style>\n",
       "<table border=\"1\" class=\"dataframe\">\n",
       "  <thead>\n",
       "    <tr style=\"text-align: right;\">\n",
       "      <th></th>\n",
       "      <th>Predicted_label</th>\n",
       "      <th>True_Label</th>\n",
       "      <th>Comment</th>\n",
       "    </tr>\n",
       "  </thead>\n",
       "  <tbody>\n",
       "    <tr>\n",
       "      <th>0</th>\n",
       "      <td>POS</td>\n",
       "      <td>NEG</td>\n",
       "      <td>go, say, break, pessimisticvalue, wti, beat, l...</td>\n",
       "    </tr>\n",
       "    <tr>\n",
       "      <th>1</th>\n",
       "      <td>POS</td>\n",
       "      <td>POS</td>\n",
       "      <td>winampwin, bull</td>\n",
       "    </tr>\n",
       "    <tr>\n",
       "      <th>2</th>\n",
       "      <td>NEG</td>\n",
       "      <td>POS</td>\n",
       "      <td>short, play, think, well, hit, pessimisticvalu...</td>\n",
       "    </tr>\n",
       "    <tr>\n",
       "      <th>3</th>\n",
       "      <td>POS</td>\n",
       "      <td>POS</td>\n",
       "      <td>chaos, come, first, situatio, wait, us</td>\n",
       "    </tr>\n",
       "    <tr>\n",
       "      <th>4</th>\n",
       "      <td>NEG</td>\n",
       "      <td>NEG</td>\n",
       "      <td>st, support, pessimisticvalue</td>\n",
       "    </tr>\n",
       "    <tr>\n",
       "      <th>5</th>\n",
       "      <td>POS</td>\n",
       "      <td>POS</td>\n",
       "      <td>tesla, go, test, resistance, optimisticvalue, ...</td>\n",
       "    </tr>\n",
       "    <tr>\n",
       "      <th>6</th>\n",
       "      <td>NEG</td>\n",
       "      <td>POS</td>\n",
       "      <td>elon, musk, develop, secret, sauce, tesla, lon...</td>\n",
       "    </tr>\n",
       "    <tr>\n",
       "      <th>7</th>\n",
       "      <td>POS</td>\n",
       "      <td>NEG</td>\n",
       "      <td>ok, bull, ypu, know, ’, temporary, right</td>\n",
       "    </tr>\n",
       "    <tr>\n",
       "      <th>8</th>\n",
       "      <td>NEG</td>\n",
       "      <td>NEG</td>\n",
       "      <td>reason, christmas, rally, every, year, shorter...</td>\n",
       "    </tr>\n",
       "    <tr>\n",
       "      <th>9</th>\n",
       "      <td>NEG</td>\n",
       "      <td>NEG</td>\n",
       "      <td>pessimisticvalue, still, seem, inevitable</td>\n",
       "    </tr>\n",
       "    <tr>\n",
       "      <th>10</th>\n",
       "      <td>POS</td>\n",
       "      <td>NEG</td>\n",
       "      <td>sure, future, use, crypto, bitcoin, crypto, li...</td>\n",
       "    </tr>\n",
       "    <tr>\n",
       "      <th>11</th>\n",
       "      <td>NEG</td>\n",
       "      <td>NEG</td>\n",
       "      <td>one, really, crash</td>\n",
       "    </tr>\n",
       "    <tr>\n",
       "      <th>12</th>\n",
       "      <td>POS</td>\n",
       "      <td>POS</td>\n",
       "      <td>john, nicol, post, pessimisticvalue, trade, pu...</td>\n",
       "    </tr>\n",
       "    <tr>\n",
       "      <th>13</th>\n",
       "      <td>NEG</td>\n",
       "      <td>NEG</td>\n",
       "      <td>able, buy, much, low, pessimisticvalue, month,...</td>\n",
       "    </tr>\n",
       "    <tr>\n",
       "      <th>14</th>\n",
       "      <td>POS</td>\n",
       "      <td>POS</td>\n",
       "      <td>run, look, like</td>\n",
       "    </tr>\n",
       "    <tr>\n",
       "      <th>15</th>\n",
       "      <td>POS</td>\n",
       "      <td>NEG</td>\n",
       "      <td>look, good</td>\n",
       "    </tr>\n",
       "    <tr>\n",
       "      <th>16</th>\n",
       "      <td>POS</td>\n",
       "      <td>NEG</td>\n",
       "      <td>bear, start, take, control, edge</td>\n",
       "    </tr>\n",
       "    <tr>\n",
       "      <th>17</th>\n",
       "      <td>NEG</td>\n",
       "      <td>NEG</td>\n",
       "      <td>watch, sell</td>\n",
       "    </tr>\n",
       "    <tr>\n",
       "      <th>18</th>\n",
       "      <td>POS</td>\n",
       "      <td>POS</td>\n",
       "      <td>week, delivery, price, go, look</td>\n",
       "    </tr>\n",
       "    <tr>\n",
       "      <th>19</th>\n",
       "      <td>POS</td>\n",
       "      <td>NEG</td>\n",
       "      <td>dont, understand, dummy, keep, investing, moment</td>\n",
       "    </tr>\n",
       "    <tr>\n",
       "      <th>20</th>\n",
       "      <td>POS</td>\n",
       "      <td>POS</td>\n",
       "      <td>pessimisticvalue, jan, feb, mar, apr, may, jun...</td>\n",
       "    </tr>\n",
       "    <tr>\n",
       "      <th>21</th>\n",
       "      <td>POS</td>\n",
       "      <td>NEG</td>\n",
       "      <td>panic, sell</td>\n",
       "    </tr>\n",
       "    <tr>\n",
       "      <th>22</th>\n",
       "      <td>POS</td>\n",
       "      <td>POS</td>\n",
       "      <td>thats, happen, dont, bribe, government, worker...</td>\n",
       "    </tr>\n",
       "    <tr>\n",
       "      <th>23</th>\n",
       "      <td>POS</td>\n",
       "      <td>POS</td>\n",
       "      <td>xrp, pump</td>\n",
       "    </tr>\n",
       "    <tr>\n",
       "      <th>24</th>\n",
       "      <td>POS</td>\n",
       "      <td>POS</td>\n",
       "      <td>enter, yesterday, wish, could, add, today, well</td>\n",
       "    </tr>\n",
       "    <tr>\n",
       "      <th>25</th>\n",
       "      <td>NEG</td>\n",
       "      <td>POS</td>\n",
       "      <td>next, support, pessimisticvalue</td>\n",
       "    </tr>\n",
       "    <tr>\n",
       "      <th>26</th>\n",
       "      <td>POS</td>\n",
       "      <td>POS</td>\n",
       "      <td>find, best, app, calculate, gt, crypto, invest...</td>\n",
       "    </tr>\n",
       "    <tr>\n",
       "      <th>27</th>\n",
       "      <td>POS</td>\n",
       "      <td>POS</td>\n",
       "      <td>people, know, whos, best</td>\n",
       "    </tr>\n",
       "    <tr>\n",
       "      <th>28</th>\n",
       "      <td>NEG</td>\n",
       "      <td>NEG</td>\n",
       "      <td>short, folk, agree, overvalue, market, however...</td>\n",
       "    </tr>\n",
       "    <tr>\n",
       "      <th>29</th>\n",
       "      <td>POS</td>\n",
       "      <td>POS</td>\n",
       "      <td>dead, market, always, bore, yawn</td>\n",
       "    </tr>\n",
       "    <tr>\n",
       "      <th>...</th>\n",
       "      <td>...</td>\n",
       "      <td>...</td>\n",
       "      <td>...</td>\n",
       "    </tr>\n",
       "    <tr>\n",
       "      <th>170</th>\n",
       "      <td>NEG</td>\n",
       "      <td>NEG</td>\n",
       "      <td>gang, accord, calculation, free, cash, flow, t...</td>\n",
       "    </tr>\n",
       "    <tr>\n",
       "      <th>171</th>\n",
       "      <td>NEG</td>\n",
       "      <td>NEG</td>\n",
       "      <td>hope, btc, sink, without, touch, pessimisticva...</td>\n",
       "    </tr>\n",
       "    <tr>\n",
       "      <th>172</th>\n",
       "      <td>NEG</td>\n",
       "      <td>NEG</td>\n",
       "      <td>leave, body, short, leave, body</td>\n",
       "    </tr>\n",
       "    <tr>\n",
       "      <th>173</th>\n",
       "      <td>POS</td>\n",
       "      <td>POS</td>\n",
       "      <td>moon, crytpo, kitten, gravity, pull, back, k, ...</td>\n",
       "    </tr>\n",
       "    <tr>\n",
       "      <th>174</th>\n",
       "      <td>POS</td>\n",
       "      <td>POS</td>\n",
       "      <td>mention, day, creator, early, investor, cash, ...</td>\n",
       "    </tr>\n",
       "    <tr>\n",
       "      <th>175</th>\n",
       "      <td>POS</td>\n",
       "      <td>POS</td>\n",
       "      <td>great, opportunity, buy, model, taking</td>\n",
       "    </tr>\n",
       "    <tr>\n",
       "      <th>176</th>\n",
       "      <td>POS</td>\n",
       "      <td>POS</td>\n",
       "      <td>emotion, lead, current, trend</td>\n",
       "    </tr>\n",
       "    <tr>\n",
       "      <th>177</th>\n",
       "      <td>POS</td>\n",
       "      <td>POS</td>\n",
       "      <td>dont, deceive, smoke, mirror, announcement, pr...</td>\n",
       "    </tr>\n",
       "    <tr>\n",
       "      <th>178</th>\n",
       "      <td>POS</td>\n",
       "      <td>POS</td>\n",
       "      <td>also, consider, would, buy, car, thats, double...</td>\n",
       "    </tr>\n",
       "    <tr>\n",
       "      <th>179</th>\n",
       "      <td>POS</td>\n",
       "      <td>NEG</td>\n",
       "      <td>car, week, woah</td>\n",
       "    </tr>\n",
       "    <tr>\n",
       "      <th>180</th>\n",
       "      <td>POS</td>\n",
       "      <td>POS</td>\n",
       "      <td>bitcoin, go</td>\n",
       "    </tr>\n",
       "    <tr>\n",
       "      <th>181</th>\n",
       "      <td>POS</td>\n",
       "      <td>POS</td>\n",
       "      <td>nan</td>\n",
       "    </tr>\n",
       "    <tr>\n",
       "      <th>182</th>\n",
       "      <td>POS</td>\n",
       "      <td>NEG</td>\n",
       "      <td>bear, trap, carefull</td>\n",
       "    </tr>\n",
       "    <tr>\n",
       "      <th>183</th>\n",
       "      <td>POS</td>\n",
       "      <td>POS</td>\n",
       "      <td>ppt, obviously, day, chart, rise, straight, line</td>\n",
       "    </tr>\n",
       "    <tr>\n",
       "      <th>184</th>\n",
       "      <td>POS</td>\n",
       "      <td>POS</td>\n",
       "      <td>auto, tariff, obviously, affect, international...</td>\n",
       "    </tr>\n",
       "    <tr>\n",
       "      <th>185</th>\n",
       "      <td>POS</td>\n",
       "      <td>POS</td>\n",
       "      <td>zoom, min, chart, look, similar, last, bear, w...</td>\n",
       "    </tr>\n",
       "    <tr>\n",
       "      <th>186</th>\n",
       "      <td>POS</td>\n",
       "      <td>POS</td>\n",
       "      <td>kgn, btc, optimisticvalue, week</td>\n",
       "    </tr>\n",
       "    <tr>\n",
       "      <th>187</th>\n",
       "      <td>NEG</td>\n",
       "      <td>NEG</td>\n",
       "      <td>last, week, model, production, day, production...</td>\n",
       "    </tr>\n",
       "    <tr>\n",
       "      <th>188</th>\n",
       "      <td>POS</td>\n",
       "      <td>NEG</td>\n",
       "      <td>next, long, pessimisticvalue</td>\n",
       "    </tr>\n",
       "    <tr>\n",
       "      <th>189</th>\n",
       "      <td>POS</td>\n",
       "      <td>POS</td>\n",
       "      <td>cant, find, kumars, ip, address, ban, indefini...</td>\n",
       "    </tr>\n",
       "    <tr>\n",
       "      <th>190</th>\n",
       "      <td>NEG</td>\n",
       "      <td>NEG</td>\n",
       "      <td>pessimisticvalue</td>\n",
       "    </tr>\n",
       "    <tr>\n",
       "      <th>191</th>\n",
       "      <td>NEG</td>\n",
       "      <td>NEG</td>\n",
       "      <td>thing, money, eater, wall, street, always, win...</td>\n",
       "    </tr>\n",
       "    <tr>\n",
       "      <th>192</th>\n",
       "      <td>POS</td>\n",
       "      <td>NEG</td>\n",
       "      <td>tesla, usd</td>\n",
       "    </tr>\n",
       "    <tr>\n",
       "      <th>193</th>\n",
       "      <td>NEG</td>\n",
       "      <td>POS</td>\n",
       "      <td>luckily, portfolio, percent, bond</td>\n",
       "    </tr>\n",
       "    <tr>\n",
       "      <th>194</th>\n",
       "      <td>POS</td>\n",
       "      <td>POS</td>\n",
       "      <td>company, great, vision, think, theyre, rush, t...</td>\n",
       "    </tr>\n",
       "    <tr>\n",
       "      <th>195</th>\n",
       "      <td>POS</td>\n",
       "      <td>NEG</td>\n",
       "      <td>bleed, redraw, black, line, make, draw, tom, c...</td>\n",
       "    </tr>\n",
       "    <tr>\n",
       "      <th>196</th>\n",
       "      <td>NEG</td>\n",
       "      <td>POS</td>\n",
       "      <td>guy, musk, make, million, dollar, past, hour, ...</td>\n",
       "    </tr>\n",
       "    <tr>\n",
       "      <th>197</th>\n",
       "      <td>POS</td>\n",
       "      <td>POS</td>\n",
       "      <td>u, people, think, early, jump</td>\n",
       "    </tr>\n",
       "    <tr>\n",
       "      <th>198</th>\n",
       "      <td>NEG</td>\n",
       "      <td>POS</td>\n",
       "      <td>dollar, fall, socalled, financial, expert, say...</td>\n",
       "    </tr>\n",
       "    <tr>\n",
       "      <th>199</th>\n",
       "      <td>POS</td>\n",
       "      <td>NEG</td>\n",
       "      <td>strong, strong, resistance, pivot, point, today</td>\n",
       "    </tr>\n",
       "  </tbody>\n",
       "</table>\n",
       "<p>200 rows × 3 columns</p>\n",
       "</div>"
      ],
      "text/plain": [
       "    Predicted_label True_Label  \\\n",
       "0               POS        NEG   \n",
       "1               POS        POS   \n",
       "2               NEG        POS   \n",
       "3               POS        POS   \n",
       "4               NEG        NEG   \n",
       "5               POS        POS   \n",
       "6               NEG        POS   \n",
       "7               POS        NEG   \n",
       "8               NEG        NEG   \n",
       "9               NEG        NEG   \n",
       "10              POS        NEG   \n",
       "11              NEG        NEG   \n",
       "12              POS        POS   \n",
       "13              NEG        NEG   \n",
       "14              POS        POS   \n",
       "15              POS        NEG   \n",
       "16              POS        NEG   \n",
       "17              NEG        NEG   \n",
       "18              POS        POS   \n",
       "19              POS        NEG   \n",
       "20              POS        POS   \n",
       "21              POS        NEG   \n",
       "22              POS        POS   \n",
       "23              POS        POS   \n",
       "24              POS        POS   \n",
       "25              NEG        POS   \n",
       "26              POS        POS   \n",
       "27              POS        POS   \n",
       "28              NEG        NEG   \n",
       "29              POS        POS   \n",
       "..              ...        ...   \n",
       "170             NEG        NEG   \n",
       "171             NEG        NEG   \n",
       "172             NEG        NEG   \n",
       "173             POS        POS   \n",
       "174             POS        POS   \n",
       "175             POS        POS   \n",
       "176             POS        POS   \n",
       "177             POS        POS   \n",
       "178             POS        POS   \n",
       "179             POS        NEG   \n",
       "180             POS        POS   \n",
       "181             POS        POS   \n",
       "182             POS        NEG   \n",
       "183             POS        POS   \n",
       "184             POS        POS   \n",
       "185             POS        POS   \n",
       "186             POS        POS   \n",
       "187             NEG        NEG   \n",
       "188             POS        NEG   \n",
       "189             POS        POS   \n",
       "190             NEG        NEG   \n",
       "191             NEG        NEG   \n",
       "192             POS        NEG   \n",
       "193             NEG        POS   \n",
       "194             POS        POS   \n",
       "195             POS        NEG   \n",
       "196             NEG        POS   \n",
       "197             POS        POS   \n",
       "198             NEG        POS   \n",
       "199             POS        NEG   \n",
       "\n",
       "                                               Comment  \n",
       "0    go, say, break, pessimisticvalue, wti, beat, l...  \n",
       "1                                      winampwin, bull  \n",
       "2    short, play, think, well, hit, pessimisticvalu...  \n",
       "3               chaos, come, first, situatio, wait, us  \n",
       "4                        st, support, pessimisticvalue  \n",
       "5    tesla, go, test, resistance, optimisticvalue, ...  \n",
       "6    elon, musk, develop, secret, sauce, tesla, lon...  \n",
       "7             ok, bull, ypu, know, ’, temporary, right  \n",
       "8    reason, christmas, rally, every, year, shorter...  \n",
       "9            pessimisticvalue, still, seem, inevitable  \n",
       "10   sure, future, use, crypto, bitcoin, crypto, li...  \n",
       "11                                  one, really, crash  \n",
       "12   john, nicol, post, pessimisticvalue, trade, pu...  \n",
       "13   able, buy, much, low, pessimisticvalue, month,...  \n",
       "14                                     run, look, like  \n",
       "15                                          look, good  \n",
       "16                    bear, start, take, control, edge  \n",
       "17                                         watch, sell  \n",
       "18                     week, delivery, price, go, look  \n",
       "19    dont, understand, dummy, keep, investing, moment  \n",
       "20   pessimisticvalue, jan, feb, mar, apr, may, jun...  \n",
       "21                                         panic, sell  \n",
       "22   thats, happen, dont, bribe, government, worker...  \n",
       "23                                           xrp, pump  \n",
       "24     enter, yesterday, wish, could, add, today, well  \n",
       "25                     next, support, pessimisticvalue  \n",
       "26   find, best, app, calculate, gt, crypto, invest...  \n",
       "27                            people, know, whos, best  \n",
       "28   short, folk, agree, overvalue, market, however...  \n",
       "29                    dead, market, always, bore, yawn  \n",
       "..                                                 ...  \n",
       "170  gang, accord, calculation, free, cash, flow, t...  \n",
       "171  hope, btc, sink, without, touch, pessimisticva...  \n",
       "172                    leave, body, short, leave, body  \n",
       "173  moon, crytpo, kitten, gravity, pull, back, k, ...  \n",
       "174  mention, day, creator, early, investor, cash, ...  \n",
       "175             great, opportunity, buy, model, taking  \n",
       "176                      emotion, lead, current, trend  \n",
       "177  dont, deceive, smoke, mirror, announcement, pr...  \n",
       "178  also, consider, would, buy, car, thats, double...  \n",
       "179                                    car, week, woah  \n",
       "180                                        bitcoin, go  \n",
       "181                                                nan  \n",
       "182                               bear, trap, carefull  \n",
       "183   ppt, obviously, day, chart, rise, straight, line  \n",
       "184  auto, tariff, obviously, affect, international...  \n",
       "185  zoom, min, chart, look, similar, last, bear, w...  \n",
       "186                    kgn, btc, optimisticvalue, week  \n",
       "187  last, week, model, production, day, production...  \n",
       "188                       next, long, pessimisticvalue  \n",
       "189  cant, find, kumars, ip, address, ban, indefini...  \n",
       "190                                   pessimisticvalue  \n",
       "191  thing, money, eater, wall, street, always, win...  \n",
       "192                                         tesla, usd  \n",
       "193                  luckily, portfolio, percent, bond  \n",
       "194  company, great, vision, think, theyre, rush, t...  \n",
       "195  bleed, redraw, black, line, make, draw, tom, c...  \n",
       "196  guy, musk, make, million, dollar, past, hour, ...  \n",
       "197                      u, people, think, early, jump  \n",
       "198  dollar, fall, socalled, financial, expert, say...  \n",
       "199    strong, strong, resistance, pivot, point, today  \n",
       "\n",
       "[200 rows x 3 columns]"
      ]
     },
     "execution_count": 214,
     "metadata": {},
     "output_type": "execute_result"
    }
   ],
   "source": [
    "df_result_hl_pos = pd.DataFrame(result_hl_pos[5], columns = ['Predicted_label', 'True_Label', 'Comment'])\n",
    "df_result_hl_pos"
   ]
  },
  {
   "cell_type": "code",
   "execution_count": 212,
   "metadata": {},
   "outputs": [
    {
     "data": {
      "text/plain": [
       "('Accuracy: 0.69', 'F1 0.6835891544117646')"
      ]
     },
     "execution_count": 212,
     "metadata": {},
     "output_type": "execute_result"
    }
   ],
   "source": [
    "result_hl_pos[2:4]"
   ]
  },
  {
   "cell_type": "markdown",
   "metadata": {},
   "source": [
    "## Results for neutral mapped to negative"
   ]
  },
  {
   "cell_type": "code",
   "execution_count": 59,
   "metadata": {},
   "outputs": [
    {
     "data": {
      "text/plain": [
       "array(['NEG', 'POS'], dtype=object)"
      ]
     },
     "execution_count": 59,
     "metadata": {},
     "output_type": "execute_result"
    }
   ],
   "source": [
    "result_hl_neg[0].classes_"
   ]
  },
  {
   "cell_type": "code",
   "execution_count": 60,
   "metadata": {},
   "outputs": [],
   "source": [
    "feature_to_coef_hl_neg = {\n",
    "    word: coef for word, coef in zip(\n",
    "        result_hl_neg[1].get_feature_names(), result_hl_neg[0].coef_[0]\n",
    "    )    \n",
    "}"
   ]
  },
  {
   "cell_type": "code",
   "execution_count": 61,
   "metadata": {},
   "outputs": [
    {
     "name": "stdout",
     "output_type": "stream",
     "text": [
      "('optimisticvalue', 2.054611455174004)\n",
      "('buy', 1.309284254694718)\n",
      "('good', 1.219017906624262)\n",
      "('close', 1.159741976205025)\n",
      "('party', 0.8992120340128902)\n",
      "('firework', 0.8896525784428868)\n",
      "('jump', 0.8849633864320349)\n",
      "('rise', 0.8667432167268505)\n",
      "('come', 0.8637719401616092)\n",
      "('another', 0.8542424216090926)\n"
     ]
    }
   ],
   "source": [
    "for best_positive in sorted(\n",
    "    feature_to_coef_hl_neg.items(), \n",
    "    key=lambda x: x[1], reverse=True, \n",
    "    )[:10]:\n",
    "    print (best_positive)"
   ]
  },
  {
   "cell_type": "code",
   "execution_count": 62,
   "metadata": {},
   "outputs": [
    {
     "name": "stdout",
     "output_type": "stream",
     "text": [
      "('sell', -1.2219976181921164)\n",
      "('know', -1.1572584436833175)\n",
      "('wait', -1.1111493883131662)\n",
      "('intraday', -1.0451686078580784)\n",
      "('fall', -1.0343017475699385)\n",
      "('need', -1.0004581426100616)\n",
      "('well', -0.964731815712976)\n",
      "('many', -0.8402754586377033)\n",
      "('yet', -0.8068871504245725)\n",
      "('look', -0.7768099569608871)\n"
     ]
    }
   ],
   "source": [
    "for best_negative in sorted(\n",
    "    feature_to_coef_hl_neg.items(), \n",
    "    key=lambda x: x[1] \n",
    "    )[:10]:\n",
    "    print (best_negative)"
   ]
  },
  {
   "cell_type": "markdown",
   "metadata": {},
   "source": [
    "## Results for neutral mapped to positive"
   ]
  },
  {
   "cell_type": "code",
   "execution_count": 63,
   "metadata": {},
   "outputs": [],
   "source": [
    "feature_to_coef_hl_pos = {\n",
    "    word: coef for word, coef in zip(\n",
    "        result_hl_pos[1].get_feature_names(), result_hl_pos[0].coef_[0]\n",
    "    )    \n",
    "}"
   ]
  },
  {
   "cell_type": "code",
   "execution_count": 64,
   "metadata": {},
   "outputs": [
    {
     "name": "stdout",
     "output_type": "stream",
     "text": [
      "('nan', 1.2197711953820918)\n",
      "('kumar', 0.994170061331511)\n",
      "('lol', 0.9730095966195736)\n",
      "('bullish', 0.9569605129483826)\n",
      "('optimisticvalue', 0.9383160947355668)\n",
      "('chart', 0.9116094187060659)\n",
      "('buy', 0.8200277432371164)\n",
      "('good', 0.8093041339654273)\n",
      "('currently', 0.7984330838667806)\n",
      "('think', 0.7918177961598891)\n"
     ]
    }
   ],
   "source": [
    "for best_positive in sorted(\n",
    "    feature_to_coef_hl_pos.items(), \n",
    "    key=lambda x: x[1], reverse=True, \n",
    "    )[:10]:\n",
    "    print (best_positive)"
   ]
  },
  {
   "cell_type": "code",
   "execution_count": 65,
   "metadata": {},
   "outputs": [
    {
     "name": "stdout",
     "output_type": "stream",
     "text": [
      "('pessimisticvalue', -1.4039932012117189)\n",
      "('level', -1.1132433714621937)\n",
      "('low', -1.0979359224760457)\n",
      "('fall', -1.0963148127269406)\n",
      "('bond', -1.0911445207100003)\n",
      "('short', -1.026077249250611)\n",
      "('lose', -1.0228452650079287)\n",
      "('sell', -1.0031698886522442)\n",
      "('warn', -0.9455212131556906)\n",
      "('investor', -0.9259313829289989)\n"
     ]
    }
   ],
   "source": [
    "for best_negative in sorted(\n",
    "    feature_to_coef_hl_pos.items(), \n",
    "    key=lambda x: x[1] \n",
    "    )[:10]:\n",
    "    print (best_negative)"
   ]
  },
  {
   "cell_type": "code",
   "execution_count": null,
   "metadata": {},
   "outputs": [],
   "source": []
  },
  {
   "cell_type": "markdown",
   "metadata": {},
   "source": [
    "## Labeling new comments\n"
   ]
  },
  {
   "cell_type": "code",
   "execution_count": 66,
   "metadata": {},
   "outputs": [],
   "source": [
    "def assign_coef(comment, feature):\n",
    "        comment = comment.split(', ')\n",
    "        #print(comment)\n",
    "        coef = []\n",
    "        for word in comment:\n",
    "            for w,c in feature.items():\n",
    "                if w == word:    \n",
    "                    coef.append(c)\n",
    "        #print(comment,sum(coef))\n",
    "        if len(coef) == 0:\n",
    "            return sum(coef)\n",
    "        else:\n",
    "            return sum(coef) / len(coef)\n",
    "\n",
    "\n",
    "def get_sentiment(compound_score):\n",
    "    if compound_score > 0:\n",
    "        return 1\n",
    "    else:\n",
    "        return 0\n",
    "\n",
    "\n",
    "def add_label(df, feature):\n",
    "    \n",
    "    df['COEF'] = df['COMMENT'].apply(lambda x: assign_coef(x,feature))\n",
    "    df['LABEL'] = df['COEF'].apply(lambda x: get_sentiment(x))\n",
    "    \n",
    "    return df"
   ]
  },
  {
   "cell_type": "markdown",
   "metadata": {},
   "source": [
    "## BITCOIN"
   ]
  },
  {
   "cell_type": "markdown",
   "metadata": {},
   "source": [
    "Labeled to pos"
   ]
  },
  {
   "cell_type": "code",
   "execution_count": 67,
   "metadata": {},
   "outputs": [],
   "source": [
    "df_bitlabeled_pos=add_label(df_bit, feature_to_coef_hl_pos)\n"
   ]
  },
  {
   "cell_type": "code",
   "execution_count": 68,
   "metadata": {},
   "outputs": [
    {
     "data": {
      "text/html": [
       "<div>\n",
       "<style scoped>\n",
       "    .dataframe tbody tr th:only-of-type {\n",
       "        vertical-align: middle;\n",
       "    }\n",
       "\n",
       "    .dataframe tbody tr th {\n",
       "        vertical-align: top;\n",
       "    }\n",
       "\n",
       "    .dataframe thead th {\n",
       "        text-align: right;\n",
       "    }\n",
       "</style>\n",
       "<table border=\"1\" class=\"dataframe\">\n",
       "  <thead>\n",
       "    <tr style=\"text-align: right;\">\n",
       "      <th></th>\n",
       "      <th>date</th>\n",
       "      <th>COMMENT</th>\n",
       "      <th>LABEL</th>\n",
       "      <th>COEF</th>\n",
       "    </tr>\n",
       "  </thead>\n",
       "  <tbody>\n",
       "    <tr>\n",
       "      <th>0</th>\n",
       "      <td>04-05-19</td>\n",
       "      <td>hold, optimisticvalue, becomes, distinct, poss...</td>\n",
       "      <td>1</td>\n",
       "      <td>0.559575</td>\n",
       "    </tr>\n",
       "    <tr>\n",
       "      <th>1</th>\n",
       "      <td>04-05-19</td>\n",
       "      <td>thumb, nasty, bear, love, get, spank, cryptoland</td>\n",
       "      <td>0</td>\n",
       "      <td>-0.187625</td>\n",
       "    </tr>\n",
       "    <tr>\n",
       "      <th>2</th>\n",
       "      <td>04-05-19</td>\n",
       "      <td>mysterious, crypto, whale, unveils, meteoric, ...</td>\n",
       "      <td>0</td>\n",
       "      <td>-0.053632</td>\n",
       "    </tr>\n",
       "    <tr>\n",
       "      <th>3</th>\n",
       "      <td>04-05-19</td>\n",
       "      <td>probably, pessimisticvalue, monday</td>\n",
       "      <td>0</td>\n",
       "      <td>-0.441968</td>\n",
       "    </tr>\n",
       "    <tr>\n",
       "      <th>4</th>\n",
       "      <td>04-05-19</td>\n",
       "      <td>short, btc, maßsive, profit</td>\n",
       "      <td>0</td>\n",
       "      <td>-0.282900</td>\n",
       "    </tr>\n",
       "  </tbody>\n",
       "</table>\n",
       "</div>"
      ],
      "text/plain": [
       "       date                                            COMMENT  LABEL  \\\n",
       "0  04-05-19  hold, optimisticvalue, becomes, distinct, poss...      1   \n",
       "1  04-05-19   thumb, nasty, bear, love, get, spank, cryptoland      0   \n",
       "2  04-05-19  mysterious, crypto, whale, unveils, meteoric, ...      0   \n",
       "3  04-05-19                 probably, pessimisticvalue, monday      0   \n",
       "4  04-05-19                        short, btc, maßsive, profit      0   \n",
       "\n",
       "       COEF  \n",
       "0  0.559575  \n",
       "1 -0.187625  \n",
       "2 -0.053632  \n",
       "3 -0.441968  \n",
       "4 -0.282900  "
      ]
     },
     "execution_count": 68,
     "metadata": {},
     "output_type": "execute_result"
    }
   ],
   "source": [
    "df_bitlabeled_pos.head()"
   ]
  },
  {
   "cell_type": "code",
   "execution_count": 69,
   "metadata": {},
   "outputs": [
    {
     "data": {
      "text/plain": [
       "0    13295\n",
       "1     9387\n",
       "Name: LABEL, dtype: int64"
      ]
     },
     "execution_count": 69,
     "metadata": {},
     "output_type": "execute_result"
    }
   ],
   "source": [
    "df_bitlabeled_pos['LABEL'].value_counts()"
   ]
  },
  {
   "cell_type": "code",
   "execution_count": null,
   "metadata": {},
   "outputs": [],
   "source": []
  },
  {
   "cell_type": "code",
   "execution_count": 71,
   "metadata": {},
   "outputs": [],
   "source": [
    "df_bitlabeled_pos.to_excel(\"ML_Data/bit_classified_pos.xlsx\", sheet_name='Sheet_1') "
   ]
  },
  {
   "cell_type": "markdown",
   "metadata": {},
   "source": [
    "Labeled to neg"
   ]
  },
  {
   "cell_type": "code",
   "execution_count": 72,
   "metadata": {},
   "outputs": [],
   "source": [
    "df_bitlabeled_neg=add_label(df_bit, feature_to_coef_hl_neg)"
   ]
  },
  {
   "cell_type": "code",
   "execution_count": 73,
   "metadata": {},
   "outputs": [
    {
     "data": {
      "text/html": [
       "<div>\n",
       "<style scoped>\n",
       "    .dataframe tbody tr th:only-of-type {\n",
       "        vertical-align: middle;\n",
       "    }\n",
       "\n",
       "    .dataframe tbody tr th {\n",
       "        vertical-align: top;\n",
       "    }\n",
       "\n",
       "    .dataframe thead th {\n",
       "        text-align: right;\n",
       "    }\n",
       "</style>\n",
       "<table border=\"1\" class=\"dataframe\">\n",
       "  <thead>\n",
       "    <tr style=\"text-align: right;\">\n",
       "      <th></th>\n",
       "      <th>date</th>\n",
       "      <th>COMMENT</th>\n",
       "      <th>LABEL</th>\n",
       "      <th>COEF</th>\n",
       "    </tr>\n",
       "  </thead>\n",
       "  <tbody>\n",
       "    <tr>\n",
       "      <th>0</th>\n",
       "      <td>04-05-19</td>\n",
       "      <td>hold, optimisticvalue, becomes, distinct, poss...</td>\n",
       "      <td>1</td>\n",
       "      <td>0.482363</td>\n",
       "    </tr>\n",
       "    <tr>\n",
       "      <th>1</th>\n",
       "      <td>04-05-19</td>\n",
       "      <td>thumb, nasty, bear, love, get, spank, cryptoland</td>\n",
       "      <td>0</td>\n",
       "      <td>-0.319930</td>\n",
       "    </tr>\n",
       "    <tr>\n",
       "      <th>2</th>\n",
       "      <td>04-05-19</td>\n",
       "      <td>mysterious, crypto, whale, unveils, meteoric, ...</td>\n",
       "      <td>0</td>\n",
       "      <td>-0.018088</td>\n",
       "    </tr>\n",
       "    <tr>\n",
       "      <th>3</th>\n",
       "      <td>04-05-19</td>\n",
       "      <td>probably, pessimisticvalue, monday</td>\n",
       "      <td>0</td>\n",
       "      <td>-0.328881</td>\n",
       "    </tr>\n",
       "    <tr>\n",
       "      <th>4</th>\n",
       "      <td>04-05-19</td>\n",
       "      <td>short, btc, maßsive, profit</td>\n",
       "      <td>0</td>\n",
       "      <td>-0.251865</td>\n",
       "    </tr>\n",
       "  </tbody>\n",
       "</table>\n",
       "</div>"
      ],
      "text/plain": [
       "       date                                            COMMENT  LABEL  \\\n",
       "0  04-05-19  hold, optimisticvalue, becomes, distinct, poss...      1   \n",
       "1  04-05-19   thumb, nasty, bear, love, get, spank, cryptoland      0   \n",
       "2  04-05-19  mysterious, crypto, whale, unveils, meteoric, ...      0   \n",
       "3  04-05-19                 probably, pessimisticvalue, monday      0   \n",
       "4  04-05-19                        short, btc, maßsive, profit      0   \n",
       "\n",
       "       COEF  \n",
       "0  0.482363  \n",
       "1 -0.319930  \n",
       "2 -0.018088  \n",
       "3 -0.328881  \n",
       "4 -0.251865  "
      ]
     },
     "execution_count": 73,
     "metadata": {},
     "output_type": "execute_result"
    }
   ],
   "source": [
    "df_bitlabeled_neg.head()"
   ]
  },
  {
   "cell_type": "code",
   "execution_count": 74,
   "metadata": {},
   "outputs": [
    {
     "data": {
      "text/plain": [
       "0    12815\n",
       "1     9867\n",
       "Name: LABEL, dtype: int64"
      ]
     },
     "execution_count": 74,
     "metadata": {},
     "output_type": "execute_result"
    }
   ],
   "source": [
    "df_bitlabeled_neg['LABEL'].value_counts()"
   ]
  },
  {
   "cell_type": "code",
   "execution_count": 174,
   "metadata": {},
   "outputs": [
    {
     "data": {
      "text/plain": [
       "0    12233\n",
       "1    10449\n",
       "Name: LABEL, dtype: int64"
      ]
     },
     "execution_count": 174,
     "metadata": {},
     "output_type": "execute_result"
    }
   ],
   "source": [
    "df_bitlabeled_neg['LABEL'].value_counts()"
   ]
  },
  {
   "cell_type": "code",
   "execution_count": 40,
   "metadata": {},
   "outputs": [],
   "source": [
    "df_bitlabeled_neg.to_excel(\"ML_Data/bit_classified_neg.xlsx\", sheet_name='Sheet_1') "
   ]
  },
  {
   "cell_type": "markdown",
   "metadata": {},
   "source": [
    "Results for classifier "
   ]
  },
  {
   "cell_type": "code",
   "execution_count": 75,
   "metadata": {},
   "outputs": [],
   "source": [
    "result_bit_pos=classifier(\"lr\",\"y\",\"cv\",df_bitlabeled_pos)"
   ]
  },
  {
   "cell_type": "code",
   "execution_count": 76,
   "metadata": {},
   "outputs": [
    {
     "data": {
      "text/plain": [
       "('Accuracy: 0.9418117698919991', 'F1 0.941623447254783')"
      ]
     },
     "execution_count": 76,
     "metadata": {},
     "output_type": "execute_result"
    }
   ],
   "source": [
    "result_bit_pos[2:4]"
   ]
  },
  {
   "cell_type": "code",
   "execution_count": 77,
   "metadata": {},
   "outputs": [],
   "source": [
    "result_bit_neg=classifier(\"lr\",\"y\",\"cv\",df_bitlabeled_pos)"
   ]
  },
  {
   "cell_type": "code",
   "execution_count": 78,
   "metadata": {},
   "outputs": [
    {
     "data": {
      "text/plain": [
       "('Accuracy: 0.9418117698919991', 'F1 0.941623447254783')"
      ]
     },
     "execution_count": 78,
     "metadata": {},
     "output_type": "execute_result"
    }
   ],
   "source": [
    "result_bit_neg[2:4]"
   ]
  },
  {
   "cell_type": "code",
   "execution_count": 113,
   "metadata": {},
   "outputs": [],
   "source": [
    "df=pd.DataFrame(result_bit_neg[4])"
   ]
  },
  {
   "cell_type": "code",
   "execution_count": null,
   "metadata": {},
   "outputs": [],
   "source": []
  },
  {
   "cell_type": "markdown",
   "metadata": {},
   "source": [
    "### Bitcoin result mapped, neutral mapped to positive"
   ]
  },
  {
   "cell_type": "code",
   "execution_count": 79,
   "metadata": {},
   "outputs": [],
   "source": [
    "feature_to_coef_bit_pos = {\n",
    "    word: coef for word, coef in zip(\n",
    "        result_bit_pos[1].get_feature_names(), result_bit_pos[0].coef_[0]\n",
    "    )    \n",
    "}"
   ]
  },
  {
   "cell_type": "code",
   "execution_count": 80,
   "metadata": {},
   "outputs": [
    {
     "name": "stdout",
     "output_type": "stream",
     "text": [
      "('optimisticvalue', 9.069971461058072)\n",
      "('buy', 6.53253854010206)\n",
      "('good', 6.091401922109993)\n",
      "('close', 5.194592694561069)\n",
      "('come', 4.638013357593434)\n",
      "('another', 4.125160711652745)\n",
      "('rise', 3.9511575092092937)\n",
      "('end', 3.7407835437519594)\n",
      "('jump', 3.739000325200053)\n",
      "('hold', 3.449158124622038)\n"
     ]
    }
   ],
   "source": [
    "for best_positive in sorted(\n",
    "    feature_to_coef_bit_pos.items(), \n",
    "    key=lambda x: x[1], reverse=True, \n",
    "    )[:10]:\n",
    "    print (best_positive)"
   ]
  },
  {
   "cell_type": "code",
   "execution_count": 81,
   "metadata": {
    "scrolled": false
   },
   "outputs": [
    {
     "name": "stdout",
     "output_type": "stream",
     "text": [
      "('sell', -5.67007255256357)\n",
      "('wait', -5.018186663038611)\n",
      "('know', -4.933466486390538)\n",
      "('fall', -4.721715832854903)\n",
      "('need', -4.6459294601970935)\n",
      "('well', -4.400763358177993)\n",
      "('look', -3.8024955434280696)\n",
      "('low', -3.759205256552319)\n",
      "('many', -3.677106380009633)\n",
      "('try', -3.5544266413262946)\n"
     ]
    }
   ],
   "source": [
    "for best_negative in sorted(\n",
    "    feature_to_coef_bit_pos.items(), \n",
    "    key=lambda x: x[1] \n",
    "    )[:10]:\n",
    "    print (best_negative)"
   ]
  },
  {
   "cell_type": "markdown",
   "metadata": {},
   "source": [
    "### Bitcoin result mapped, neutral mapped to negative"
   ]
  },
  {
   "cell_type": "code",
   "execution_count": 107,
   "metadata": {},
   "outputs": [],
   "source": [
    "feature_to_coef_bit_neg = {\n",
    "    word: coef for word, coef in zip(\n",
    "        result_bit_neg[1].get_feature_names(), result_bit_neg[0].coef_[0]\n",
    "    )    \n",
    "}"
   ]
  },
  {
   "cell_type": "code",
   "execution_count": 108,
   "metadata": {},
   "outputs": [
    {
     "name": "stdout",
     "output_type": "stream",
     "text": [
      "('optimisticvalue', 9.069971461058072)\n",
      "('buy', 6.53253854010206)\n",
      "('good', 6.091401922109993)\n",
      "('close', 5.194592694561069)\n",
      "('come', 4.638013357593434)\n",
      "('another', 4.125160711652745)\n",
      "('rise', 3.9511575092092937)\n",
      "('end', 3.7407835437519594)\n",
      "('jump', 3.739000325200053)\n",
      "('hold', 3.449158124622038)\n"
     ]
    }
   ],
   "source": [
    "for best_positive in sorted(\n",
    "    feature_to_coef_bit_neg.items(), \n",
    "    key=lambda x: x[1], reverse=True, \n",
    "    )[:10]:\n",
    "    print (best_positive)"
   ]
  },
  {
   "cell_type": "code",
   "execution_count": 109,
   "metadata": {},
   "outputs": [
    {
     "name": "stdout",
     "output_type": "stream",
     "text": [
      "('sell', -5.67007255256357)\n",
      "('wait', -5.018186663038611)\n",
      "('know', -4.933466486390538)\n",
      "('fall', -4.721715832854903)\n",
      "('need', -4.6459294601970935)\n",
      "('well', -4.400763358177993)\n",
      "('look', -3.8024955434280696)\n",
      "('low', -3.759205256552319)\n",
      "('many', -3.677106380009633)\n",
      "('try', -3.5544266413262946)\n"
     ]
    }
   ],
   "source": [
    "for best_negative in sorted(\n",
    "    feature_to_coef_bit_neg.items(), \n",
    "    key=lambda x: x[1] \n",
    "    )[:10]:\n",
    "    print (best_negative)"
   ]
  },
  {
   "cell_type": "markdown",
   "metadata": {},
   "source": [
    "## Tesla"
   ]
  },
  {
   "cell_type": "code",
   "execution_count": 176,
   "metadata": {},
   "outputs": [],
   "source": [
    "df_teslabeled_pos=add_label(df_ts, feature_to_coef_hl_pos)\n"
   ]
  },
  {
   "cell_type": "markdown",
   "metadata": {},
   "source": [
    "Labeled to pos"
   ]
  },
  {
   "cell_type": "code",
   "execution_count": 110,
   "metadata": {},
   "outputs": [],
   "source": [
    "df_teslabeled_pos=add_label(df_ts, feature_to_coef_hl_pos)\n"
   ]
  },
  {
   "cell_type": "code",
   "execution_count": 111,
   "metadata": {},
   "outputs": [
    {
     "data": {
      "text/html": [
       "<div>\n",
       "<style scoped>\n",
       "    .dataframe tbody tr th:only-of-type {\n",
       "        vertical-align: middle;\n",
       "    }\n",
       "\n",
       "    .dataframe tbody tr th {\n",
       "        vertical-align: top;\n",
       "    }\n",
       "\n",
       "    .dataframe thead th {\n",
       "        text-align: right;\n",
       "    }\n",
       "</style>\n",
       "<table border=\"1\" class=\"dataframe\">\n",
       "  <thead>\n",
       "    <tr style=\"text-align: right;\">\n",
       "      <th></th>\n",
       "      <th>date</th>\n",
       "      <th>COMMENT</th>\n",
       "      <th>LABEL</th>\n",
       "      <th>COEF</th>\n",
       "    </tr>\n",
       "  </thead>\n",
       "  <tbody>\n",
       "    <tr>\n",
       "      <th>0</th>\n",
       "      <td>03-05-19</td>\n",
       "      <td>tell, ratio, bull, bear, comment, section, bas...</td>\n",
       "      <td>1</td>\n",
       "      <td>0.042675</td>\n",
       "    </tr>\n",
       "    <tr>\n",
       "      <th>1</th>\n",
       "      <td>03-05-19</td>\n",
       "      <td>right, total, debt, billion, dollar</td>\n",
       "      <td>0</td>\n",
       "      <td>-0.255872</td>\n",
       "    </tr>\n",
       "    <tr>\n",
       "      <th>2</th>\n",
       "      <td>03-05-19</td>\n",
       "      <td>dont, know, day, tesla, hasnt, make, solid, pr...</td>\n",
       "      <td>0</td>\n",
       "      <td>-0.250183</td>\n",
       "    </tr>\n",
       "    <tr>\n",
       "      <th>3</th>\n",
       "      <td>03-05-19</td>\n",
       "      <td>day, great, way, end, week, cheer, cleaner, fu...</td>\n",
       "      <td>0</td>\n",
       "      <td>-0.082739</td>\n",
       "    </tr>\n",
       "    <tr>\n",
       "      <th>4</th>\n",
       "      <td>03-05-19</td>\n",
       "      <td>tesla, waymo, uber, mercedes, ge, batterelectr...</td>\n",
       "      <td>1</td>\n",
       "      <td>0.066279</td>\n",
       "    </tr>\n",
       "  </tbody>\n",
       "</table>\n",
       "</div>"
      ],
      "text/plain": [
       "       date                                            COMMENT  LABEL  \\\n",
       "0  03-05-19  tell, ratio, bull, bear, comment, section, bas...      1   \n",
       "1  03-05-19                right, total, debt, billion, dollar      0   \n",
       "2  03-05-19  dont, know, day, tesla, hasnt, make, solid, pr...      0   \n",
       "3  03-05-19  day, great, way, end, week, cheer, cleaner, fu...      0   \n",
       "4  03-05-19  tesla, waymo, uber, mercedes, ge, batterelectr...      1   \n",
       "\n",
       "       COEF  \n",
       "0  0.042675  \n",
       "1 -0.255872  \n",
       "2 -0.250183  \n",
       "3 -0.082739  \n",
       "4  0.066279  "
      ]
     },
     "execution_count": 111,
     "metadata": {},
     "output_type": "execute_result"
    }
   ],
   "source": [
    "df_teslabeled_pos.head()"
   ]
  },
  {
   "cell_type": "code",
   "execution_count": 112,
   "metadata": {},
   "outputs": [
    {
     "data": {
      "text/plain": [
       "0    2763\n",
       "1    1444\n",
       "Name: LABEL, dtype: int64"
      ]
     },
     "execution_count": 112,
     "metadata": {},
     "output_type": "execute_result"
    }
   ],
   "source": [
    "df_teslabeled_pos['LABEL'].value_counts()"
   ]
  },
  {
   "cell_type": "code",
   "execution_count": 179,
   "metadata": {},
   "outputs": [
    {
     "data": {
      "text/plain": [
       "0    2464\n",
       "1    1743\n",
       "Name: LABEL, dtype: int64"
      ]
     },
     "execution_count": 179,
     "metadata": {},
     "output_type": "execute_result"
    }
   ],
   "source": [
    "df_teslabeled_pos['LABEL'].value_counts()"
   ]
  },
  {
   "cell_type": "code",
   "execution_count": 180,
   "metadata": {},
   "outputs": [],
   "source": [
    "df_teslabeled_pos.to_excel(\"ML_Data/tes_classified_pos.xlsx\", sheet_name='Sheet_1') "
   ]
  },
  {
   "cell_type": "markdown",
   "metadata": {},
   "source": [
    "Labeled to neg"
   ]
  },
  {
   "cell_type": "code",
   "execution_count": 181,
   "metadata": {},
   "outputs": [],
   "source": [
    "df_teslabeled_neg=add_label(df_ts, feature_to_coef_hl_neg)"
   ]
  },
  {
   "cell_type": "code",
   "execution_count": 182,
   "metadata": {},
   "outputs": [
    {
     "data": {
      "text/html": [
       "<div>\n",
       "<style scoped>\n",
       "    .dataframe tbody tr th:only-of-type {\n",
       "        vertical-align: middle;\n",
       "    }\n",
       "\n",
       "    .dataframe tbody tr th {\n",
       "        vertical-align: top;\n",
       "    }\n",
       "\n",
       "    .dataframe thead th {\n",
       "        text-align: right;\n",
       "    }\n",
       "</style>\n",
       "<table border=\"1\" class=\"dataframe\">\n",
       "  <thead>\n",
       "    <tr style=\"text-align: right;\">\n",
       "      <th></th>\n",
       "      <th>date</th>\n",
       "      <th>COMMENT</th>\n",
       "      <th>LABEL</th>\n",
       "      <th>COEF</th>\n",
       "    </tr>\n",
       "  </thead>\n",
       "  <tbody>\n",
       "    <tr>\n",
       "      <th>0</th>\n",
       "      <td>03-05-19</td>\n",
       "      <td>tell, ratio, bull, bear, comment, section, bas...</td>\n",
       "      <td>0</td>\n",
       "      <td>-0.141945</td>\n",
       "    </tr>\n",
       "    <tr>\n",
       "      <th>1</th>\n",
       "      <td>03-05-19</td>\n",
       "      <td>right, total, debt, billion, dollar</td>\n",
       "      <td>0</td>\n",
       "      <td>-0.831411</td>\n",
       "    </tr>\n",
       "    <tr>\n",
       "      <th>2</th>\n",
       "      <td>03-05-19</td>\n",
       "      <td>dont, know, day, tesla, hasnt, make, solid, pr...</td>\n",
       "      <td>0</td>\n",
       "      <td>-2.396838</td>\n",
       "    </tr>\n",
       "    <tr>\n",
       "      <th>3</th>\n",
       "      <td>03-05-19</td>\n",
       "      <td>day, great, way, end, week, cheer, cleaner, fu...</td>\n",
       "      <td>1</td>\n",
       "      <td>0.844712</td>\n",
       "    </tr>\n",
       "    <tr>\n",
       "      <th>4</th>\n",
       "      <td>03-05-19</td>\n",
       "      <td>tesla, waymo, uber, mercedes, ge, batterelectr...</td>\n",
       "      <td>1</td>\n",
       "      <td>2.302141</td>\n",
       "    </tr>\n",
       "  </tbody>\n",
       "</table>\n",
       "</div>"
      ],
      "text/plain": [
       "       date                                            COMMENT  LABEL  \\\n",
       "0  03-05-19  tell, ratio, bull, bear, comment, section, bas...      0   \n",
       "1  03-05-19                right, total, debt, billion, dollar      0   \n",
       "2  03-05-19  dont, know, day, tesla, hasnt, make, solid, pr...      0   \n",
       "3  03-05-19  day, great, way, end, week, cheer, cleaner, fu...      1   \n",
       "4  03-05-19  tesla, waymo, uber, mercedes, ge, batterelectr...      1   \n",
       "\n",
       "       COEF  \n",
       "0 -0.141945  \n",
       "1 -0.831411  \n",
       "2 -2.396838  \n",
       "3  0.844712  \n",
       "4  2.302141  "
      ]
     },
     "execution_count": 182,
     "metadata": {},
     "output_type": "execute_result"
    }
   ],
   "source": [
    "df_teslabeled_neg.head()"
   ]
  },
  {
   "cell_type": "code",
   "execution_count": 183,
   "metadata": {},
   "outputs": [],
   "source": [
    "df_teslabeled_neg.to_excel(\"ML_Data/tes_classified_neg.xlsx\", sheet_name='Sheet_1') "
   ]
  },
  {
   "cell_type": "code",
   "execution_count": null,
   "metadata": {},
   "outputs": [],
   "source": []
  },
  {
   "cell_type": "code",
   "execution_count": 73,
   "metadata": {},
   "outputs": [],
   "source": [
    "result_tes_pos=classifier(\"lr\",\"y\",\"cv\",df_teslabeled_pos)"
   ]
  },
  {
   "cell_type": "code",
   "execution_count": 74,
   "metadata": {},
   "outputs": [],
   "source": [
    "result_tes_neg=classifier(\"lr\",\"y\",\"cv\",df_teslabeled_neg)"
   ]
  },
  {
   "cell_type": "code",
   "execution_count": 86,
   "metadata": {},
   "outputs": [
    {
     "data": {
      "text/plain": [
       "('Accuracy: 0.8919239904988123', 'F1 0.8914246003167761')"
      ]
     },
     "execution_count": 86,
     "metadata": {},
     "output_type": "execute_result"
    }
   ],
   "source": [
    "result_tes_pos[2:4]"
   ]
  },
  {
   "cell_type": "code",
   "execution_count": 88,
   "metadata": {},
   "outputs": [
    {
     "data": {
      "text/plain": [
       "('Accuracy: 0.9121140142517815', 'F1 0.911857361407464')"
      ]
     },
     "execution_count": 88,
     "metadata": {},
     "output_type": "execute_result"
    }
   ],
   "source": [
    "result_tes_neg[2:4]"
   ]
  },
  {
   "cell_type": "markdown",
   "metadata": {},
   "source": [
    "### Tesla result mapped, neutral mapped to positive"
   ]
  },
  {
   "cell_type": "code",
   "execution_count": 75,
   "metadata": {},
   "outputs": [],
   "source": [
    "feature_to_coef_tes_pos = {\n",
    "    word: coef for word, coef in zip(\n",
    "        result_tes_pos[1].get_feature_names(), result_tes_pos[0].coef_[0]\n",
    "    )    \n",
    "}"
   ]
  },
  {
   "cell_type": "code",
   "execution_count": 76,
   "metadata": {},
   "outputs": [
    {
     "name": "stdout",
     "output_type": "stream",
     "text": [
      "('optimisticvalue', 5.237980426137993)\n",
      "('buy', 3.254523656833232)\n",
      "('hold', 3.2134451255218317)\n",
      "('come', 3.15356919295822)\n",
      "('good', 3.0031003014560467)\n",
      "('go', 2.4898691895762557)\n",
      "('hour', 2.3925249651576097)\n",
      "('buying', 2.1704773616104394)\n",
      "('close', 1.99301537007207)\n",
      "('ok', 1.968232448930962)\n"
     ]
    }
   ],
   "source": [
    "for best_positive in sorted(\n",
    "    feature_to_coef_tes_pos.items(), \n",
    "    key=lambda x: x[1], reverse=True, \n",
    "    )[:10]:\n",
    "    print (best_positive)"
   ]
  },
  {
   "cell_type": "code",
   "execution_count": 77,
   "metadata": {},
   "outputs": [
    {
     "name": "stdout",
     "output_type": "stream",
     "text": [
      "('sell', -3.113630611835505)\n",
      "('know', -2.558442440560808)\n",
      "('one', -2.5009558992494454)\n",
      "('yet', -2.1690605027328735)\n",
      "('need', -2.165512188969157)\n",
      "('bad', -2.0168996742788914)\n",
      "('try', -1.8843146907282229)\n",
      "('fall', -1.8818429346322458)\n",
      "('pessimisticvalue', -1.8032735692601785)\n",
      "('car', -1.7742209455915134)\n"
     ]
    }
   ],
   "source": [
    "for best_negative in sorted(\n",
    "    feature_to_coef_tes_pos.items(), \n",
    "    key=lambda x: x[1] \n",
    "    )[:10]:\n",
    "    print (best_negative)"
   ]
  },
  {
   "cell_type": "markdown",
   "metadata": {},
   "source": [
    "## Dow Jones"
   ]
  },
  {
   "cell_type": "markdown",
   "metadata": {},
   "source": [
    "Labeled to pos"
   ]
  },
  {
   "cell_type": "code",
   "execution_count": 184,
   "metadata": {},
   "outputs": [],
   "source": [
    "df_djlabeled_pos=add_label(df_dj, feature_to_coef_hl_pos)"
   ]
  },
  {
   "cell_type": "code",
   "execution_count": 185,
   "metadata": {},
   "outputs": [
    {
     "data": {
      "text/html": [
       "<div>\n",
       "<style scoped>\n",
       "    .dataframe tbody tr th:only-of-type {\n",
       "        vertical-align: middle;\n",
       "    }\n",
       "\n",
       "    .dataframe tbody tr th {\n",
       "        vertical-align: top;\n",
       "    }\n",
       "\n",
       "    .dataframe thead th {\n",
       "        text-align: right;\n",
       "    }\n",
       "</style>\n",
       "<table border=\"1\" class=\"dataframe\">\n",
       "  <thead>\n",
       "    <tr style=\"text-align: right;\">\n",
       "      <th></th>\n",
       "      <th>date</th>\n",
       "      <th>COMMENT</th>\n",
       "      <th>LABEL</th>\n",
       "      <th>COEF</th>\n",
       "    </tr>\n",
       "  </thead>\n",
       "  <tbody>\n",
       "    <tr>\n",
       "      <th>0</th>\n",
       "      <td>03-05-19</td>\n",
       "      <td>stock, market, gold, silver, one, lie, answer,...</td>\n",
       "      <td>0</td>\n",
       "      <td>-2.464765</td>\n",
       "    </tr>\n",
       "    <tr>\n",
       "      <th>1</th>\n",
       "      <td>03-05-19</td>\n",
       "      <td>company, pay, income, tax, amazon, delta, air,...</td>\n",
       "      <td>1</td>\n",
       "      <td>1.072745</td>\n",
       "    </tr>\n",
       "    <tr>\n",
       "      <th>2</th>\n",
       "      <td>03-05-19</td>\n",
       "      <td>gold, silver, interesting</td>\n",
       "      <td>0</td>\n",
       "      <td>-0.206652</td>\n",
       "    </tr>\n",
       "    <tr>\n",
       "      <th>3</th>\n",
       "      <td>03-05-19</td>\n",
       "      <td>melt, up？crazy</td>\n",
       "      <td>0</td>\n",
       "      <td>0.000000</td>\n",
       "    </tr>\n",
       "    <tr>\n",
       "      <th>4</th>\n",
       "      <td>03-05-19</td>\n",
       "      <td>crazy, money, flow, daily, show, get, yet, mar...</td>\n",
       "      <td>0</td>\n",
       "      <td>-0.467521</td>\n",
       "    </tr>\n",
       "  </tbody>\n",
       "</table>\n",
       "</div>"
      ],
      "text/plain": [
       "       date                                            COMMENT  LABEL  \\\n",
       "0  03-05-19  stock, market, gold, silver, one, lie, answer,...      0   \n",
       "1  03-05-19  company, pay, income, tax, amazon, delta, air,...      1   \n",
       "2  03-05-19                          gold, silver, interesting      0   \n",
       "3  03-05-19                                     melt, up？crazy      0   \n",
       "4  03-05-19  crazy, money, flow, daily, show, get, yet, mar...      0   \n",
       "\n",
       "       COEF  \n",
       "0 -2.464765  \n",
       "1  1.072745  \n",
       "2 -0.206652  \n",
       "3  0.000000  \n",
       "4 -0.467521  "
      ]
     },
     "execution_count": 185,
     "metadata": {},
     "output_type": "execute_result"
    }
   ],
   "source": [
    "df_djlabeled_pos.head()"
   ]
  },
  {
   "cell_type": "code",
   "execution_count": 186,
   "metadata": {},
   "outputs": [
    {
     "data": {
      "text/plain": [
       "0    7553\n",
       "1    5476\n",
       "Name: LABEL, dtype: int64"
      ]
     },
     "execution_count": 186,
     "metadata": {},
     "output_type": "execute_result"
    }
   ],
   "source": [
    "df_djlabeled_pos['LABEL'].value_counts()"
   ]
  },
  {
   "cell_type": "code",
   "execution_count": 187,
   "metadata": {},
   "outputs": [],
   "source": [
    "df_djlabeled_pos.to_excel(\"ML_Data/dj_classified_pos.xlsx\", sheet_name='Sheet_1') "
   ]
  },
  {
   "cell_type": "markdown",
   "metadata": {},
   "source": [
    "Labeled to neg"
   ]
  },
  {
   "cell_type": "code",
   "execution_count": 188,
   "metadata": {},
   "outputs": [],
   "source": [
    "df_djlabeled_neg=add_label(df_dj, feature_to_coef_hl_neg)"
   ]
  },
  {
   "cell_type": "code",
   "execution_count": 189,
   "metadata": {},
   "outputs": [
    {
     "data": {
      "text/html": [
       "<div>\n",
       "<style scoped>\n",
       "    .dataframe tbody tr th:only-of-type {\n",
       "        vertical-align: middle;\n",
       "    }\n",
       "\n",
       "    .dataframe tbody tr th {\n",
       "        vertical-align: top;\n",
       "    }\n",
       "\n",
       "    .dataframe thead th {\n",
       "        text-align: right;\n",
       "    }\n",
       "</style>\n",
       "<table border=\"1\" class=\"dataframe\">\n",
       "  <thead>\n",
       "    <tr style=\"text-align: right;\">\n",
       "      <th></th>\n",
       "      <th>date</th>\n",
       "      <th>COMMENT</th>\n",
       "      <th>LABEL</th>\n",
       "      <th>COEF</th>\n",
       "    </tr>\n",
       "  </thead>\n",
       "  <tbody>\n",
       "    <tr>\n",
       "      <th>0</th>\n",
       "      <td>03-05-19</td>\n",
       "      <td>stock, market, gold, silver, one, lie, answer,...</td>\n",
       "      <td>0</td>\n",
       "      <td>-1.375268</td>\n",
       "    </tr>\n",
       "    <tr>\n",
       "      <th>1</th>\n",
       "      <td>03-05-19</td>\n",
       "      <td>company, pay, income, tax, amazon, delta, air,...</td>\n",
       "      <td>1</td>\n",
       "      <td>0.055596</td>\n",
       "    </tr>\n",
       "    <tr>\n",
       "      <th>2</th>\n",
       "      <td>03-05-19</td>\n",
       "      <td>gold, silver, interesting</td>\n",
       "      <td>1</td>\n",
       "      <td>0.441337</td>\n",
       "    </tr>\n",
       "    <tr>\n",
       "      <th>3</th>\n",
       "      <td>03-05-19</td>\n",
       "      <td>melt, up？crazy</td>\n",
       "      <td>0</td>\n",
       "      <td>0.000000</td>\n",
       "    </tr>\n",
       "    <tr>\n",
       "      <th>4</th>\n",
       "      <td>03-05-19</td>\n",
       "      <td>crazy, money, flow, daily, show, get, yet, mar...</td>\n",
       "      <td>0</td>\n",
       "      <td>-1.416995</td>\n",
       "    </tr>\n",
       "  </tbody>\n",
       "</table>\n",
       "</div>"
      ],
      "text/plain": [
       "       date                                            COMMENT  LABEL  \\\n",
       "0  03-05-19  stock, market, gold, silver, one, lie, answer,...      0   \n",
       "1  03-05-19  company, pay, income, tax, amazon, delta, air,...      1   \n",
       "2  03-05-19                          gold, silver, interesting      1   \n",
       "3  03-05-19                                     melt, up？crazy      0   \n",
       "4  03-05-19  crazy, money, flow, daily, show, get, yet, mar...      0   \n",
       "\n",
       "       COEF  \n",
       "0 -1.375268  \n",
       "1  0.055596  \n",
       "2  0.441337  \n",
       "3  0.000000  \n",
       "4 -1.416995  "
      ]
     },
     "execution_count": 189,
     "metadata": {},
     "output_type": "execute_result"
    }
   ],
   "source": [
    "df_djlabeled_neg.head()"
   ]
  },
  {
   "cell_type": "code",
   "execution_count": 190,
   "metadata": {},
   "outputs": [
    {
     "data": {
      "text/plain": [
       "0    7329\n",
       "1    5700\n",
       "Name: LABEL, dtype: int64"
      ]
     },
     "execution_count": 190,
     "metadata": {},
     "output_type": "execute_result"
    }
   ],
   "source": [
    "df_djlabeled_neg['LABEL'].value_counts()"
   ]
  },
  {
   "cell_type": "code",
   "execution_count": 191,
   "metadata": {},
   "outputs": [],
   "source": [
    "df_djlabeled_neg.to_excel(\"ML_Data/dj_classified_neg.xlsx\", sheet_name='Sheet_1') "
   ]
  },
  {
   "cell_type": "markdown",
   "metadata": {},
   "source": [
    "Results for classifier "
   ]
  },
  {
   "cell_type": "code",
   "execution_count": null,
   "metadata": {},
   "outputs": [],
   "source": []
  },
  {
   "cell_type": "code",
   "execution_count": 80,
   "metadata": {},
   "outputs": [],
   "source": [
    "result_dj_pos=classifier(\"lr\",\"y\",\"cv\",df_djlabeled_pos)"
   ]
  },
  {
   "cell_type": "code",
   "execution_count": 81,
   "metadata": {},
   "outputs": [],
   "source": [
    "result_dj_neg=classifier(\"lr\",\"y\",\"cv\",df_djlabeled_neg)"
   ]
  },
  {
   "cell_type": "code",
   "execution_count": 91,
   "metadata": {},
   "outputs": [
    {
     "data": {
      "text/plain": [
       "('Accuracy: 0.9405218726016884', 'F1 0.9403874234070891')"
      ]
     },
     "execution_count": 91,
     "metadata": {},
     "output_type": "execute_result"
    }
   ],
   "source": [
    "result_dj_pos[2:4]"
   ]
  },
  {
   "cell_type": "code",
   "execution_count": 92,
   "metadata": {},
   "outputs": [
    {
     "data": {
      "text/plain": [
       "('Accuracy: 0.9282425172678435', 'F1 0.927937611947455')"
      ]
     },
     "execution_count": 92,
     "metadata": {},
     "output_type": "execute_result"
    }
   ],
   "source": [
    "result_dj_neg[2:4]"
   ]
  },
  {
   "cell_type": "markdown",
   "metadata": {},
   "source": [
    "### Dow jones result mapped, neutral mapped to positive"
   ]
  },
  {
   "cell_type": "code",
   "execution_count": 82,
   "metadata": {},
   "outputs": [],
   "source": [
    "feature_to_coef_dj_pos = {\n",
    "    word: coef for word, coef in zip(\n",
    "        result_dj_pos[1].get_feature_names(), result_dj_pos[0].coef_[0]\n",
    "    )    \n",
    "}"
   ]
  },
  {
   "cell_type": "code",
   "execution_count": 89,
   "metadata": {},
   "outputs": [
    {
     "name": "stdout",
     "output_type": "stream",
     "text": [
      "('optimisticvalue', 8.540239418553975)\n",
      "('come', 4.943839737513353)\n",
      "('buy', 4.5748817121086605)\n",
      "('good', 4.57241670714433)\n",
      "('hold', 4.331025666951921)\n",
      "('close', 3.8068796384917283)\n",
      "('go', 3.3586561581872085)\n",
      "('cover', 3.1961506969535924)\n",
      "('soon', 2.9161872489876695)\n",
      "('buying', 2.8956733451183583)\n"
     ]
    }
   ],
   "source": [
    "for best_positive in sorted(\n",
    "    feature_to_coef_dj_pos.items(), \n",
    "    key=lambda x: x[1], reverse=True, \n",
    "    )[:10]:\n",
    "    print (best_positive)"
   ]
  },
  {
   "cell_type": "code",
   "execution_count": 90,
   "metadata": {},
   "outputs": [
    {
     "name": "stdout",
     "output_type": "stream",
     "text": [
      "('sell', -3.113630611835505)\n",
      "('know', -2.558442440560808)\n",
      "('one', -2.5009558992494454)\n",
      "('yet', -2.1690605027328735)\n",
      "('need', -2.165512188969157)\n",
      "('bad', -2.0168996742788914)\n",
      "('try', -1.8843146907282229)\n",
      "('fall', -1.8818429346322458)\n",
      "('pessimisticvalue', -1.8032735692601785)\n",
      "('car', -1.7742209455915134)\n"
     ]
    }
   ],
   "source": [
    "for best_negative in sorted(\n",
    "    feature_to_coef_tes_pos.items(), \n",
    "    key=lambda x: x[1] \n",
    "    )[:10]:\n",
    "    print (best_negative)"
   ]
  },
  {
   "cell_type": "code",
   "execution_count": null,
   "metadata": {},
   "outputs": [],
   "source": []
  },
  {
   "cell_type": "code",
   "execution_count": null,
   "metadata": {},
   "outputs": [],
   "source": []
  },
  {
   "cell_type": "code",
   "execution_count": null,
   "metadata": {},
   "outputs": [],
   "source": []
  }
 ],
 "metadata": {
  "kernelspec": {
   "display_name": "Python 3",
   "language": "python",
   "name": "python3"
  },
  "language_info": {
   "codemirror_mode": {
    "name": "ipython",
    "version": 3
   },
   "file_extension": ".py",
   "mimetype": "text/x-python",
   "name": "python",
   "nbconvert_exporter": "python",
   "pygments_lexer": "ipython3",
   "version": "3.6.5"
  }
 },
 "nbformat": 4,
 "nbformat_minor": 2
}
