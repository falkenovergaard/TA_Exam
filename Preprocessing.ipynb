{
 "cells": [
  {
   "cell_type": "code",
   "execution_count": 116,
   "metadata": {},
   "outputs": [],
   "source": [
    "import pandas as pd\n",
    "import re\n",
    "import numpy as np"
   ]
  },
  {
   "cell_type": "code",
   "execution_count": 117,
   "metadata": {},
   "outputs": [],
   "source": [
    "df_bc = pd.read_csv('data/comments/bitcoin.csv')\n",
    "df_dj = pd.read_csv('data/comments/dj.csv')\n",
    "df_ts = pd.read_csv('data/comments/tesla.csv')"
   ]
  },
  {
   "cell_type": "code",
   "execution_count": 118,
   "metadata": {},
   "outputs": [],
   "source": [
    "from dateutil import parser\n",
    "from datetime import date\n",
    "import re\n",
    "\n",
    "def convert_date(date_string):\n",
    "    \n",
    "    if 'ago' in str(date_string):\n",
    "        today = date.today()\n",
    "        return today.strftime(\"%d-%m-%y\")\n",
    "    \n",
    "    if 'nan' in str(date_string):\n",
    "        return\n",
    "    \n",
    "    dt = parser.parse(date_string)  \n",
    "    return dt.strftime(\"%d-%m-%y\")\n",
    "\n",
    "def convert(df):\n",
    "    df.drop(['Unnamed: 0'], axis=1, inplace=True)\n",
    "    df['date'] = df['date'].apply(lambda x: convert_date(x))\n",
    "    \n",
    "    return df\n",
    "    "
   ]
  },
  {
   "cell_type": "code",
   "execution_count": 119,
   "metadata": {},
   "outputs": [],
   "source": [
    "df_bc = convert(df_bc)\n",
    "df_dj = convert(df_dj)\n",
    "df_ts = convert(df_ts)"
   ]
  },
  {
   "cell_type": "code",
   "execution_count": 120,
   "metadata": {},
   "outputs": [],
   "source": [
    "del df_ts['+/-']"
   ]
  },
  {
   "cell_type": "code",
   "execution_count": 121,
   "metadata": {},
   "outputs": [],
   "source": [
    "df_bc = df_bc.dropna(subset=['comment'])\n",
    "df_dj = df_dj.dropna(subset=['comment'])\n",
    "df_ts = df_ts.dropna(subset=['comment'])"
   ]
  },
  {
   "cell_type": "code",
   "execution_count": 122,
   "metadata": {},
   "outputs": [],
   "source": [
    "df_bcp = pd.read_excel('data/price/BTC.xlsx')\n",
    "df_djp = pd.read_excel('data/price/DJI.xlsx')\n",
    "df_tsp = pd.read_excel('data/price/TSLA.xlsx')"
   ]
  },
  {
   "cell_type": "code",
   "execution_count": null,
   "metadata": {},
   "outputs": [],
   "source": []
  },
  {
   "cell_type": "code",
   "execution_count": null,
   "metadata": {},
   "outputs": [],
   "source": []
  },
  {
   "cell_type": "code",
   "execution_count": 123,
   "metadata": {},
   "outputs": [],
   "source": [
    "df_bc_merged = df_bcp.set_index('Date').join(df_bc.set_index('date'))\n",
    "df_dj_merged = df_djp.set_index('Date').join(df_dj.set_index('date'))\n",
    "df_ts_merged = df_tsp.set_index('Date').join(df_ts.set_index('date'))"
   ]
  },
  {
   "cell_type": "code",
   "execution_count": null,
   "metadata": {},
   "outputs": [],
   "source": []
  },
  {
   "cell_type": "code",
   "execution_count": null,
   "metadata": {},
   "outputs": [],
   "source": []
  },
  {
   "cell_type": "code",
   "execution_count": null,
   "metadata": {},
   "outputs": [],
   "source": []
  },
  {
   "cell_type": "code",
   "execution_count": 124,
   "metadata": {},
   "outputs": [],
   "source": [
    "df_bc_merged = df_bc_merged.dropna(subset=['comment'])\n",
    "df_dj_merged = df_dj_merged.dropna(subset=['comment'])\n",
    "df_ts_merged = df_ts_merged.dropna(subset=['comment'])"
   ]
  },
  {
   "cell_type": "code",
   "execution_count": 125,
   "metadata": {},
   "outputs": [
    {
     "data": {
      "text/html": [
       "<div>\n",
       "<style scoped>\n",
       "    .dataframe tbody tr th:only-of-type {\n",
       "        vertical-align: middle;\n",
       "    }\n",
       "\n",
       "    .dataframe tbody tr th {\n",
       "        vertical-align: top;\n",
       "    }\n",
       "\n",
       "    .dataframe thead th {\n",
       "        text-align: right;\n",
       "    }\n",
       "</style>\n",
       "<table border=\"1\" class=\"dataframe\">\n",
       "  <thead>\n",
       "    <tr style=\"text-align: right;\">\n",
       "      <th></th>\n",
       "      <th>High</th>\n",
       "      <th>Low</th>\n",
       "      <th>Upper Bound</th>\n",
       "      <th>Lower Bound</th>\n",
       "      <th>comment</th>\n",
       "    </tr>\n",
       "  </thead>\n",
       "  <tbody>\n",
       "    <tr>\n",
       "      <th>01-01-18</th>\n",
       "      <td>13921.530273</td>\n",
       "      <td>12877.669922</td>\n",
       "      <td>17401.912841</td>\n",
       "      <td>9658.252441</td>\n",
       "      <td>Drop now to 8600\\r\\n</td>\n",
       "    </tr>\n",
       "    <tr>\n",
       "      <th>01-01-18</th>\n",
       "      <td>13921.530273</td>\n",
       "      <td>12877.669922</td>\n",
       "      <td>17401.912841</td>\n",
       "      <td>9658.252441</td>\n",
       "      <td>If a panic kicks in, there is no support forge...</td>\n",
       "    </tr>\n",
       "    <tr>\n",
       "      <th>01-01-18</th>\n",
       "      <td>13921.530273</td>\n",
       "      <td>12877.669922</td>\n",
       "      <td>17401.912841</td>\n",
       "      <td>9658.252441</td>\n",
       "      <td>Let me tell you the truth. We have strong supp...</td>\n",
       "    </tr>\n",
       "    <tr>\n",
       "      <th>01-01-18</th>\n",
       "      <td>13921.530273</td>\n",
       "      <td>12877.669922</td>\n",
       "      <td>17401.912841</td>\n",
       "      <td>9658.252441</td>\n",
       "      <td>The Kumar Oscillator never fails...\\r\\n</td>\n",
       "    </tr>\n",
       "    <tr>\n",
       "      <th>01-01-18</th>\n",
       "      <td>13921.530273</td>\n",
       "      <td>12877.669922</td>\n",
       "      <td>17401.912841</td>\n",
       "      <td>9658.252441</td>\n",
       "      <td>Get out while it’s not too crowded, the exit w...</td>\n",
       "    </tr>\n",
       "  </tbody>\n",
       "</table>\n",
       "</div>"
      ],
      "text/plain": [
       "                  High           Low   Upper Bound  Lower Bound  \\\n",
       "01-01-18  13921.530273  12877.669922  17401.912841  9658.252441   \n",
       "01-01-18  13921.530273  12877.669922  17401.912841  9658.252441   \n",
       "01-01-18  13921.530273  12877.669922  17401.912841  9658.252441   \n",
       "01-01-18  13921.530273  12877.669922  17401.912841  9658.252441   \n",
       "01-01-18  13921.530273  12877.669922  17401.912841  9658.252441   \n",
       "\n",
       "                                                    comment  \n",
       "01-01-18                               Drop now to 8600\\r\\n  \n",
       "01-01-18  If a panic kicks in, there is no support forge...  \n",
       "01-01-18  Let me tell you the truth. We have strong supp...  \n",
       "01-01-18            The Kumar Oscillator never fails...\\r\\n  \n",
       "01-01-18  Get out while it’s not too crowded, the exit w...  "
      ]
     },
     "execution_count": 125,
     "metadata": {},
     "output_type": "execute_result"
    }
   ],
   "source": [
    "df_bc_merged.head()"
   ]
  },
  {
   "cell_type": "code",
   "execution_count": null,
   "metadata": {},
   "outputs": [],
   "source": []
  },
  {
   "cell_type": "code",
   "execution_count": 126,
   "metadata": {},
   "outputs": [],
   "source": [
    "\n",
    "def add_placeholder(row):\n",
    "    regex = r\"\\b[0-9]{3,}\\b\"\n",
    "    if re.findall(regex,row['comment']):\n",
    "        predictions_list = re.findall(regex,row['comment'])\n",
    "        \n",
    "        for prediction in predictions_list:    \n",
    "            predictionVal = float(prediction.replace('$', ''))\n",
    "    \n",
    "            if predictionVal < row['Upper Bound'] and predictionVal > row['High']:\n",
    "                return row['comment'].replace(prediction,'[OPTIMISTIC VALUE]')\n",
    "            elif predictionVal > row['Lower Bound'] and predictionVal < row['Low']:\n",
    "                return row['comment'].replace(prediction,'[PESSIMISTIC VALUE]')\n",
    "            \n",
    "    return row['comment']\n",
    "\n",
    "def placeholder(df):\n",
    "    df['updated_comment'] = df.apply(lambda x: add_placeholder(x), axis=1)\n",
    "    \n",
    "    return df"
   ]
  },
  {
   "cell_type": "code",
   "execution_count": 127,
   "metadata": {},
   "outputs": [],
   "source": [
    "df_bc_merged = placeholder(df_bc_merged)\n",
    "df_dj_merged = placeholder(df_dj_merged)\n",
    "df_ts_merged = placeholder(df_ts_merged)"
   ]
  },
  {
   "cell_type": "code",
   "execution_count": 128,
   "metadata": {},
   "outputs": [
    {
     "data": {
      "text/html": [
       "<div>\n",
       "<style scoped>\n",
       "    .dataframe tbody tr th:only-of-type {\n",
       "        vertical-align: middle;\n",
       "    }\n",
       "\n",
       "    .dataframe tbody tr th {\n",
       "        vertical-align: top;\n",
       "    }\n",
       "\n",
       "    .dataframe thead th {\n",
       "        text-align: right;\n",
       "    }\n",
       "</style>\n",
       "<table border=\"1\" class=\"dataframe\">\n",
       "  <thead>\n",
       "    <tr style=\"text-align: right;\">\n",
       "      <th></th>\n",
       "      <th>High</th>\n",
       "      <th>Low</th>\n",
       "      <th>Upper Bound</th>\n",
       "      <th>Lower Bound</th>\n",
       "      <th>comment</th>\n",
       "      <th>updated_comment</th>\n",
       "    </tr>\n",
       "  </thead>\n",
       "  <tbody>\n",
       "    <tr>\n",
       "      <th>01-01-18</th>\n",
       "      <td>13921.530273</td>\n",
       "      <td>12877.669922</td>\n",
       "      <td>17401.912841</td>\n",
       "      <td>9658.252441</td>\n",
       "      <td>Drop now to 8600\\r\\n</td>\n",
       "      <td>Drop now to 8600\\r\\n</td>\n",
       "    </tr>\n",
       "    <tr>\n",
       "      <th>01-01-18</th>\n",
       "      <td>13921.530273</td>\n",
       "      <td>12877.669922</td>\n",
       "      <td>17401.912841</td>\n",
       "      <td>9658.252441</td>\n",
       "      <td>If a panic kicks in, there is no support forge...</td>\n",
       "      <td>If a panic kicks in, there is no support forge...</td>\n",
       "    </tr>\n",
       "    <tr>\n",
       "      <th>01-01-18</th>\n",
       "      <td>13921.530273</td>\n",
       "      <td>12877.669922</td>\n",
       "      <td>17401.912841</td>\n",
       "      <td>9658.252441</td>\n",
       "      <td>Let me tell you the truth. We have strong supp...</td>\n",
       "      <td>Let me tell you the truth. We have strong supp...</td>\n",
       "    </tr>\n",
       "    <tr>\n",
       "      <th>01-01-18</th>\n",
       "      <td>13921.530273</td>\n",
       "      <td>12877.669922</td>\n",
       "      <td>17401.912841</td>\n",
       "      <td>9658.252441</td>\n",
       "      <td>The Kumar Oscillator never fails...\\r\\n</td>\n",
       "      <td>The Kumar Oscillator never fails...\\r\\n</td>\n",
       "    </tr>\n",
       "    <tr>\n",
       "      <th>01-01-18</th>\n",
       "      <td>13921.530273</td>\n",
       "      <td>12877.669922</td>\n",
       "      <td>17401.912841</td>\n",
       "      <td>9658.252441</td>\n",
       "      <td>Get out while it’s not too crowded, the exit w...</td>\n",
       "      <td>Get out while it’s not too crowded, the exit w...</td>\n",
       "    </tr>\n",
       "  </tbody>\n",
       "</table>\n",
       "</div>"
      ],
      "text/plain": [
       "                  High           Low   Upper Bound  Lower Bound  \\\n",
       "01-01-18  13921.530273  12877.669922  17401.912841  9658.252441   \n",
       "01-01-18  13921.530273  12877.669922  17401.912841  9658.252441   \n",
       "01-01-18  13921.530273  12877.669922  17401.912841  9658.252441   \n",
       "01-01-18  13921.530273  12877.669922  17401.912841  9658.252441   \n",
       "01-01-18  13921.530273  12877.669922  17401.912841  9658.252441   \n",
       "\n",
       "                                                    comment  \\\n",
       "01-01-18                               Drop now to 8600\\r\\n   \n",
       "01-01-18  If a panic kicks in, there is no support forge...   \n",
       "01-01-18  Let me tell you the truth. We have strong supp...   \n",
       "01-01-18            The Kumar Oscillator never fails...\\r\\n   \n",
       "01-01-18  Get out while it’s not too crowded, the exit w...   \n",
       "\n",
       "                                            updated_comment  \n",
       "01-01-18                               Drop now to 8600\\r\\n  \n",
       "01-01-18  If a panic kicks in, there is no support forge...  \n",
       "01-01-18  Let me tell you the truth. We have strong supp...  \n",
       "01-01-18            The Kumar Oscillator never fails...\\r\\n  \n",
       "01-01-18  Get out while it’s not too crowded, the exit w...  "
      ]
     },
     "execution_count": 128,
     "metadata": {},
     "output_type": "execute_result"
    }
   ],
   "source": [
    "df_bc_merged.head(5)"
   ]
  },
  {
   "cell_type": "code",
   "execution_count": 130,
   "metadata": {},
   "outputs": [
    {
     "name": "stderr",
     "output_type": "stream",
     "text": [
      "/Users/morten/anaconda3/lib/python3.7/site-packages/xlsxwriter/worksheet.py:912: UserWarning: Ignoring URL 'https://invst.ly/9en6n.%20.%20I%20dont%20even%20need%20to%20draw%20lines%20on%20that%20chart%20for%20everyone%20to%20see%20what%20the%20trend%20is.%20if%20you%20see%20anything%20other%20than%20bearish%20then%20you%20are%20a%20mug.%20please%20reply%20to%20this%20post%20if%20you%20are%20a%20mug\n",
      "' with link or location/anchor > 255 characters since it exceeds Excel's limit for URLS\n",
      "  force_unicode(url))\n",
      "/Users/morten/anaconda3/lib/python3.7/site-packages/xlsxwriter/worksheet.py:912: UserWarning: Ignoring URL 'https://www.cnbc.com/2018/01/04/trump-on-dow-25000-i-guess-our-new-number-is-30000.html%20Look%20what%20is%20Trump%20said%20today,%20so%20buy%20more%20stock,%20everybody%20can%20sell%20house%20and%20your%20family%20to%20buy%20more%20stock,%20make%20more%20easy%20money.\n",
      "' with link or location/anchor > 255 characters since it exceeds Excel's limit for URLS\n",
      "  force_unicode(url))\n",
      "/Users/morten/anaconda3/lib/python3.7/site-packages/xlsxwriter/worksheet.py:912: UserWarning: Ignoring URL 'https://www.cnbc.com/2018/01/04/trump-on-dow-%5bPESSIMISTIC%20VALUE%5d-i-guess-our-new-number-is-30000.html%20Look%20what%20is%20Trump%20said%20today,%20so%20buy%20more%20stock,%20everybody%20can%20sell%20house%20and%20your%20family%20to%20buy%20more%20stock,%20make%20more%20easy%20money.\n",
      "' with link or location/anchor > 255 characters since it exceeds Excel's limit for URLS\n",
      "  force_unicode(url))\n",
      "/Users/morten/anaconda3/lib/python3.7/site-packages/xlsxwriter/worksheet.py:912: UserWarning: Ignoring URL 'https://www.bloomberg.com/news/articles/2018-05-16/tesla-strikes-lithium-supply-deal-with-australian-mine-developer%20Kidman%20Resources%20Ltd.%20will%20supply%20Tesla%20from%20a%20planned%20refinery%20in%20Western%20Australia%20for%20an%20initial%20term%20of%20three%20years,%20the%20Melbourne-based...Show%20more\n",
      "' with link or location/anchor > 255 characters since it exceeds Excel's limit for URLS\n",
      "  force_unicode(url))\n"
     ]
    }
   ],
   "source": [
    "df_bc_merged.to_excel(\"data/output/bitcoin.xlsx\", sheet_name='Sheet_1')\n",
    "df_dj_merged.to_excel(\"data/output/dowjones.xlsx\", sheet_name='Sheet_1')\n",
    "df_ts_merged.to_excel(\"data/output/tesla.xlsx\", sheet_name='Sheet_1')"
   ]
  },
  {
   "cell_type": "code",
   "execution_count": null,
   "metadata": {},
   "outputs": [],
   "source": []
  }
 ],
 "metadata": {
  "kernelspec": {
   "display_name": "Python 3",
   "language": "python",
   "name": "python3"
  },
  "language_info": {
   "codemirror_mode": {
    "name": "ipython",
    "version": 3
   },
   "file_extension": ".py",
   "mimetype": "text/x-python",
   "name": "python",
   "nbconvert_exporter": "python",
   "pygments_lexer": "ipython3",
   "version": "3.7.1"
  }
 },
 "nbformat": 4,
 "nbformat_minor": 2
}
