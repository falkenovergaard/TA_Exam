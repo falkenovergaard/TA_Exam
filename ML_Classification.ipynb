{
 "cells": [
  {
   "cell_type": "code",
   "execution_count": 235,
   "metadata": {},
   "outputs": [
    {
     "data": {
      "text/html": [
       "<div>\n",
       "<style scoped>\n",
       "    .dataframe tbody tr th:only-of-type {\n",
       "        vertical-align: middle;\n",
       "    }\n",
       "\n",
       "    .dataframe tbody tr th {\n",
       "        vertical-align: top;\n",
       "    }\n",
       "\n",
       "    .dataframe thead th {\n",
       "        text-align: right;\n",
       "    }\n",
       "</style>\n",
       "<table border=\"1\" class=\"dataframe\">\n",
       "  <thead>\n",
       "    <tr style=\"text-align: right;\">\n",
       "      <th></th>\n",
       "      <th>date</th>\n",
       "      <th>negatives</th>\n",
       "      <th>positives</th>\n",
       "      <th>ratio</th>\n",
       "      <th>negatives (t-1)</th>\n",
       "      <th>positives (t-1)</th>\n",
       "      <th>ratio (t-1)</th>\n",
       "      <th>negatives (t-2)</th>\n",
       "      <th>positives (t-2)</th>\n",
       "      <th>ratio (t-2)</th>\n",
       "      <th>label</th>\n",
       "    </tr>\n",
       "  </thead>\n",
       "  <tbody>\n",
       "    <tr>\n",
       "      <th>0</th>\n",
       "      <td>2019-05-04</td>\n",
       "      <td>21</td>\n",
       "      <td>11</td>\n",
       "      <td>0.343750</td>\n",
       "      <td>0.0</td>\n",
       "      <td>0.0</td>\n",
       "      <td>0.00000</td>\n",
       "      <td>0.0</td>\n",
       "      <td>0.0</td>\n",
       "      <td>0.00000</td>\n",
       "      <td>0</td>\n",
       "    </tr>\n",
       "    <tr>\n",
       "      <th>1</th>\n",
       "      <td>2019-05-03</td>\n",
       "      <td>43</td>\n",
       "      <td>20</td>\n",
       "      <td>0.317460</td>\n",
       "      <td>21.0</td>\n",
       "      <td>11.0</td>\n",
       "      <td>0.34375</td>\n",
       "      <td>0.0</td>\n",
       "      <td>0.0</td>\n",
       "      <td>0.00000</td>\n",
       "      <td>1</td>\n",
       "    </tr>\n",
       "    <tr>\n",
       "      <th>2</th>\n",
       "      <td>2019-05-02</td>\n",
       "      <td>39</td>\n",
       "      <td>21</td>\n",
       "      <td>0.350000</td>\n",
       "      <td>43.0</td>\n",
       "      <td>20.0</td>\n",
       "      <td>0.31746</td>\n",
       "      <td>21.0</td>\n",
       "      <td>11.0</td>\n",
       "      <td>0.34375</td>\n",
       "      <td>1</td>\n",
       "    </tr>\n",
       "    <tr>\n",
       "      <th>3</th>\n",
       "      <td>2019-05-01</td>\n",
       "      <td>18</td>\n",
       "      <td>11</td>\n",
       "      <td>0.379310</td>\n",
       "      <td>39.0</td>\n",
       "      <td>21.0</td>\n",
       "      <td>0.35000</td>\n",
       "      <td>43.0</td>\n",
       "      <td>20.0</td>\n",
       "      <td>0.31746</td>\n",
       "      <td>0</td>\n",
       "    </tr>\n",
       "    <tr>\n",
       "      <th>4</th>\n",
       "      <td>2019-04-30</td>\n",
       "      <td>18</td>\n",
       "      <td>8</td>\n",
       "      <td>0.307692</td>\n",
       "      <td>18.0</td>\n",
       "      <td>11.0</td>\n",
       "      <td>0.37931</td>\n",
       "      <td>39.0</td>\n",
       "      <td>21.0</td>\n",
       "      <td>0.35000</td>\n",
       "      <td>0</td>\n",
       "    </tr>\n",
       "  </tbody>\n",
       "</table>\n",
       "</div>"
      ],
      "text/plain": [
       "         date  negatives  positives     ratio  negatives (t-1)  \\\n",
       "0  2019-05-04         21         11  0.343750              0.0   \n",
       "1  2019-05-03         43         20  0.317460             21.0   \n",
       "2  2019-05-02         39         21  0.350000             43.0   \n",
       "3  2019-05-01         18         11  0.379310             39.0   \n",
       "4  2019-04-30         18          8  0.307692             18.0   \n",
       "\n",
       "   positives (t-1)  ratio (t-1)  negatives (t-2)  positives (t-2)  \\\n",
       "0              0.0      0.00000              0.0              0.0   \n",
       "1             11.0      0.34375              0.0              0.0   \n",
       "2             20.0      0.31746             21.0             11.0   \n",
       "3             21.0      0.35000             43.0             20.0   \n",
       "4             11.0      0.37931             39.0             21.0   \n",
       "\n",
       "   ratio (t-2)  label  \n",
       "0      0.00000      0  \n",
       "1      0.00000      1  \n",
       "2      0.34375      1  \n",
       "3      0.31746      0  \n",
       "4      0.35000      0  "
      ]
     },
     "execution_count": 235,
     "metadata": {},
     "output_type": "execute_result"
    }
   ],
   "source": [
    "import pandas as pd\n",
    "import numpy as np\n",
    "from sklearn.preprocessing import StandardScaler\n",
    "from sklearn.model_selection import train_test_split\n",
    "\n",
    "df = pd.read_csv('ML_Data/dm_ready.csv')\n",
    "df = df.drop(['Lower Bound_x', 'Lower Bound_y', 'Low_y', 'Low_x', 'Upper Bound_y', 'Lower Bound_y', 'Lower Bound_x', 'Upper Bound_x', 'Lower Bound_y', 'Upper Bound_y', 'High', 'Low', 'Upper Bound', 'Lower Bound', 'High_x', 'High_y', 'Unnamed: 0'], axis=1)\n",
    "df.head()\n"
   ]
  },
  {
   "cell_type": "code",
   "execution_count": 236,
   "metadata": {},
   "outputs": [
    {
     "name": "stdout",
     "output_type": "stream",
     "text": [
      "<class 'pandas.core.frame.DataFrame'>\n",
      "RangeIndex: 448 entries, 0 to 447\n",
      "Data columns (total 11 columns):\n",
      "date               448 non-null object\n",
      "negatives          448 non-null int64\n",
      "positives          448 non-null int64\n",
      "ratio              448 non-null float64\n",
      "negatives (t-1)    448 non-null float64\n",
      "positives (t-1)    448 non-null float64\n",
      "ratio (t-1)        448 non-null float64\n",
      "negatives (t-2)    448 non-null float64\n",
      "positives (t-2)    448 non-null float64\n",
      "ratio (t-2)        448 non-null float64\n",
      "label              448 non-null int64\n",
      "dtypes: float64(7), int64(3), object(1)\n",
      "memory usage: 38.6+ KB\n"
     ]
    }
   ],
   "source": [
    "df.info()"
   ]
  },
  {
   "cell_type": "code",
   "execution_count": 237,
   "metadata": {},
   "outputs": [],
   "source": [
    "# get test data for Aske\n",
    "#test_df = df.head(10)\n",
    "#df = df.tail(-10)\n",
    "# end getting test data"
   ]
  },
  {
   "cell_type": "code",
   "execution_count": 238,
   "metadata": {},
   "outputs": [],
   "source": [
    "\n",
    "y = df['label']\n",
    "X = df.drop(['label','date'], axis=1)\n",
    "X = X.values\n",
    "\n",
    "# scale the data\n",
    "scaler = StandardScaler()\n",
    "X = scaler.fit_transform(X)\n",
    "\n",
    "\n"
   ]
  },
  {
   "cell_type": "code",
   "execution_count": null,
   "metadata": {},
   "outputs": [],
   "source": []
  },
  {
   "cell_type": "code",
   "execution_count": null,
   "metadata": {},
   "outputs": [],
   "source": []
  },
  {
   "cell_type": "markdown",
   "metadata": {},
   "source": [
    "## Split data"
   ]
  },
  {
   "cell_type": "code",
   "execution_count": 239,
   "metadata": {},
   "outputs": [],
   "source": [
    "\n",
    "#X_train, X_test, y_train, y_test = train_test_split(X, y, test_size=0.2, random_state=0, stratify=y)\n",
    "X_train, X_test, y_train, y_test = train_test_split(X, y, test_size=0.2, random_state=0)"
   ]
  },
  {
   "cell_type": "markdown",
   "metadata": {},
   "source": [
    "# Logistic Regression"
   ]
  },
  {
   "cell_type": "code",
   "execution_count": 232,
   "metadata": {},
   "outputs": [
    {
     "name": "stdout",
     "output_type": "stream",
     "text": [
      "0.4888888888888889\n"
     ]
    }
   ],
   "source": [
    "'''from sklearn.linear_model import LogisticRegression\n",
    "\n",
    "lr = LogisticRegression(random_state=0, solver='lbfgs')\n",
    "lr.fit(X_train, y_train)\n",
    "lr.predict(X_test)\n",
    "\n",
    "score = lr.score(X_test, y_test)\n",
    "print(score)'''"
   ]
  },
  {
   "cell_type": "markdown",
   "metadata": {},
   "source": [
    "# Support Vector Machine"
   ]
  },
  {
   "cell_type": "code",
   "execution_count": 240,
   "metadata": {},
   "outputs": [
    {
     "name": "stdout",
     "output_type": "stream",
     "text": [
      "0.5333333333333333\n"
     ]
    }
   ],
   "source": [
    "from sklearn import svm\n",
    "\n",
    "svm = svm.SVC(gamma = 8, C = 2)\n",
    "svm.fit(X_train, y_train)\n",
    "svm.predict(X_test)\n",
    "\n",
    "score = svm.score(X_test, y_test)\n",
    "print(score)"
   ]
  },
  {
   "cell_type": "markdown",
   "metadata": {},
   "source": [
    "# Naive bayes"
   ]
  },
  {
   "cell_type": "code",
   "execution_count": 241,
   "metadata": {},
   "outputs": [
    {
     "name": "stdout",
     "output_type": "stream",
     "text": [
      "0.4888888888888889\n"
     ]
    }
   ],
   "source": [
    "from sklearn.naive_bayes import GaussianNB\n",
    "nb = GaussianNB()\n",
    "nb.fit(X_train, y_train)\n",
    "nb.predict(X_test)\n",
    "\n",
    "score = nb.score(X_test, y_test)\n",
    "print(score)"
   ]
  },
  {
   "cell_type": "markdown",
   "metadata": {},
   "source": [
    "# Random forrest"
   ]
  },
  {
   "cell_type": "code",
   "execution_count": 248,
   "metadata": {},
   "outputs": [
    {
     "name": "stdout",
     "output_type": "stream",
     "text": [
      "0.4235294117647059\n"
     ]
    }
   ],
   "source": [
    "from sklearn.ensemble import RandomForestClassifier\n",
    "from sklearn.metrics import f1_score\n",
    "\n",
    "rf = RandomForestClassifier(max_depth = 5, n_estimators = 11, random_state = 1)\n",
    "rf.fit(X_train, y_train)\n",
    "yPredRf = rf.predict(X_test)\n",
    "\n",
    "score = f1_score(yPredRf, y_test)\n",
    "print(score)"
   ]
  },
  {
   "cell_type": "markdown",
   "metadata": {},
   "source": [
    "# Output"
   ]
  },
  {
   "cell_type": "code",
   "execution_count": 25,
   "metadata": {},
   "outputs": [],
   "source": [
    "new_test_df = pd.DataFrame({'date':test_df['date'].values, 'label':pred})"
   ]
  },
  {
   "cell_type": "code",
   "execution_count": 15,
   "metadata": {},
   "outputs": [],
   "source": [
    "new_test_df.to_csv('ML_Data/new_test_df.csv')"
   ]
  },
  {
   "cell_type": "code",
   "execution_count": null,
   "metadata": {},
   "outputs": [],
   "source": []
  },
  {
   "cell_type": "code",
   "execution_count": null,
   "metadata": {},
   "outputs": [],
   "source": []
  }
 ],
 "metadata": {
  "kernelspec": {
   "display_name": "Python 3",
   "language": "python",
   "name": "python3"
  },
  "language_info": {
   "codemirror_mode": {
    "name": "ipython",
    "version": 3
   },
   "file_extension": ".py",
   "mimetype": "text/x-python",
   "name": "python",
   "nbconvert_exporter": "python",
   "pygments_lexer": "ipython3",
   "version": "3.7.1"
  }
 },
 "nbformat": 4,
 "nbformat_minor": 2
}
